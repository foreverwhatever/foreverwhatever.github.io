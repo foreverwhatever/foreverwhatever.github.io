{
 "cells": [
  {
   "cell_type": "markdown",
   "metadata": {},
   "source": [
    "# foreverwhatever\n",
    "\n",
    "`foreverwhatever.github.io` is Tony Fast's personal journal of computational documents."
   ]
  },
  {
   "cell_type": "code",
   "execution_count": 13,
   "metadata": {},
   "outputs": [
    {
     "data": {
      "text/markdown": [
       "    %%bash\n",
       "    jupyter nbconvert --to markdown readme.ipynb\n",
       "    python -m nbd --ext ipynb --dir whatever --theme readable --ignore Copy"
      ],
      "text/plain": [
       "<IPython.core.display.Markdown object>"
      ]
     },
     "metadata": {},
     "output_type": "display_data"
    },
    {
     "name": "stdout",
     "output_type": "stream",
     "text": [
      "docs/whatever/2017-07-02-Sierpinski triangle in Bokeh.ipynb.html\n",
      "docs/whatever/2017-06-24-Front-Matter-Preprocessor.ipynb.html\n",
      "docs/whatever/gridplot.ipynb.html\n",
      "docs/readme.ipynb.html\n",
      "docs/whatever/2017-06-25-Preprocessor.ipynb.html\n",
      "docs/setup.ipynb.html\n",
      "docs/whatever/2017-06-28-Add-Cells-With-Code.ipynb.html\n",
      "docs/whatever/2017-07-06-The-Alphabet-Cipher.ipynb.html\n",
      "docs/whatever/2017-06-29-GridPlot-In-Bokeh.ipynb.html\n",
      "docs/whatever/2017-07-20-Spinning-Pie.ipynb.html\n",
      "docs/whatever/2017-07-16-JSON-patch-Jupyter-Notebooks.ipynb.html\n"
     ]
    },
    {
     "name": "stderr",
     "output_type": "stream",
     "text": [
      "[NbConvertApp] Converting notebook readme.ipynb to markdown\n",
      "[NbConvertApp] Writing 894 bytes to readme.md\n"
     ]
    }
   ],
   "source": [
    "    %%bash\n",
    "    jupyter nbconvert --to markdown readme.ipynb\n",
    "    python -m nbd --ext ipynb --dir whatever --theme readable --ignore Copy"
   ]
  }
 ],
 "metadata": {
  "anaconda-cloud": {},
  "kernelspec": {
   "display_name": "Python 3",
   "language": "python",
   "name": "python3"
  },
  "language_info": {
   "codemirror_mode": {
    "name": "ipython",
    "version": 3
   },
   "file_extension": ".py",
   "mimetype": "text/x-python",
   "name": "python",
   "nbconvert_exporter": "python",
   "pygments_lexer": "ipython3",
   "version": "3.5.3"
  }
 },
 "nbformat": 4,
 "nbformat_minor": 2
}
