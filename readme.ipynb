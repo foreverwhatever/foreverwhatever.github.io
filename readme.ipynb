{
 "cells": [
  {
   "cell_type": "markdown",
   "metadata": {},
   "source": [
    "`foreverwhatever.github.io` is Tony Fast's personal journal of computational documents."
   ]
  },
  {
   "cell_type": "code",
   "execution_count": 12,
   "metadata": {},
   "outputs": [
    {
     "data": {
      "text/markdown": [
       "    %%bash\n",
       "    python -m nbd --to . --ext ipynb --dir whatever --drop-input --theme readable --ignore Copy"
      ],
      "text/plain": [
       "<IPython.core.display.Markdown object>"
      ]
     },
     "metadata": {},
     "output_type": "display_data"
    },
    {
     "name": "stdout",
     "output_type": "stream",
     "text": [
      "whatever/2017-06-28-Add-Cells-With-Code.ipynb.html\n",
      "whatever/2017-07-06-The-Alphabet-Cipher.ipynb.html\n",
      "whatever/2017-07-02-Sierpinski triangle in Bokeh.ipynb.html\n",
      "whatever/2017-06-24-Front-Matter-Preprocessor.ipynb.html\n",
      "whatever/2017-07-16-JSON-patch-Jupyter-Notebooks.ipynb.html\n",
      "whatever/gridplot.ipynb.html\n",
      "whatever/2017-07-20-Spinning-Pie.ipynb.html\n",
      "whatever/2017-06-25-Preprocessor.ipynb.html\n",
      "readme.ipynb.html\n",
      "setup.ipynb.html\n",
      "whatever/2017-06-29-GridPlot-In-Bokeh.ipynb.html\n"
     ]
    }
   ],
   "source": [
    "    %%bash\n",
    "    python -m nbd --to . --ext ipynb --dir whatever --drop-input --theme readable --ignore Copy"
   ]
  }
 ],
 "metadata": {
  "anaconda-cloud": {},
  "kernelspec": {
   "display_name": "Python 3",
   "language": "python",
   "name": "python3"
  },
  "language_info": {
   "codemirror_mode": {
    "name": "ipython",
    "version": 3
   },
   "file_extension": ".py",
   "mimetype": "text/x-python",
   "name": "python",
   "nbconvert_exporter": "python",
   "pygments_lexer": "ipython3",
   "version": "3.5.3"
  }
 },
 "nbformat": 4,
 "nbformat_minor": 2
}
