{
 "cells": [
  {
   "cell_type": "markdown",
   "metadata": {},
   "source": [
    "`foreverwhatever.github.io` is Tony Fast's personal journal of computational documents."
   ]
  },
  {
   "cell_type": "code",
   "execution_count": 150,
   "metadata": {},
   "outputs": [
    {
     "data": {
      "text/markdown": [
       "        %load_ext literacy.template"
      ],
      "text/plain": [
       "<IPython.core.display.Markdown object>"
      ]
     },
     "metadata": {},
     "output_type": "display_data"
    },
    {
     "name": "stdout",
     "output_type": "stream",
     "text": [
      "The literacy.template extension is already loaded. To reload it, use:\n",
      "  %reload_ext literacy.template\n"
     ]
    }
   ],
   "source": [
    "        %load_ext literacy.template"
   ]
  },
  {
   "cell_type": "code",
   "execution_count": 150,
   "metadata": {},
   "outputs": [
    {
     "data": {
      "text/markdown": [
       "## The __build__ branch\n",
       "\n",
       "The __build__ branch uses __travis-ci__ to transpile notebooks to a jekyll site on the __master__ \n",
       "branch.  When __master__ updates, the standard github pages __jekyll__ build is used.\n",
       "\n",
       "### A collection of notebooks\n",
       "\n",
       "Create a collection of ___notebooks__. It folder is the source of __markdown__, __json__, and\n",
       "__python__ copies of the collection."
      ],
      "text/plain": [
       "<IPython.core.display.Markdown object>"
      ]
     },
     "metadata": {},
     "output_type": "display_data"
    }
   ],
   "source": [
    "## The __build__ branch\n",
    "\n",
    "The __build__ branch uses __travis-ci__ to transpile notebooks to a jekyll site on the __master__ \n",
    "branch.  When __master__ updates, the standard github pages __jekyll__ build is used.\n",
    "\n",
    "### A collection of notebooks\n",
    "\n",
    "Create a collection of ___notebooks__. It folder is the source of __markdown__, __json__, and\n",
    "__python__ copies of the collection."
   ]
  },
  {
   "cell_type": "code",
   "execution_count": 187,
   "metadata": {},
   "outputs": [
    {
     "data": {
      "text/markdown": [
       "### Python\n",
       "\n",
       "The python __nbconvert__ configuration is *_layouts/python.py*.  The module is in a _non_-__Jekyll__ namespace;\n",
       "I personally chose __whatever__.\n",
       "        \n",
       "            !jupyter nbconvert --config _layouts/python.py --output-dir=whatever _notebooks/*.ipynb"
      ],
      "text/plain": [
       "<IPython.core.display.Markdown object>"
      ]
     },
     "metadata": {},
     "output_type": "display_data"
    },
    {
     "name": "stdout",
     "output_type": "stream",
     "text": [
      "[NbConvertApp] Converting notebook _notebooks/2017-01-01-triangles.ipynb to python\n",
      "[NbConvertApp] Writing 521 bytes to whatever/2017-01-01-triangles.py\n",
      "[NbConvertApp] Converting notebook _notebooks/2017-06-24-Front-Matter-Preprocessor.ipynb to python\n",
      "[NbConvertApp] Writing 1373 bytes to whatever/2017-06-24-Front-Matter-Preprocessor.py\n",
      "[NbConvertApp] Converting notebook _notebooks/2017-06-25-Prepro.ipynb to python\n",
      "[NbConvertApp] Writing 1575 bytes to whatever/2017-06-25-Prepro.py\n",
      "[NbConvertApp] Converting notebook _notebooks/dummy.ipynb to python\n",
      "[NbConvertApp] Writing 521 bytes to whatever/dummy.py\n"
     ]
    }
   ],
   "source": [
    "### Python\n",
    "\n",
    "The python __nbconvert__ configuration is *_layouts/python.py*.  The module is in a _non_-__Jekyll__ namespace;\n",
    "I personally chose __whatever__.\n",
    "        \n",
    "            !jupyter nbconvert --config _layouts/python.py --output-dir=whatever _notebooks/*.ipynb"
   ]
  },
  {
   "cell_type": "code",
   "execution_count": 186,
   "metadata": {},
   "outputs": [
    {
     "data": {
      "text/markdown": [
       "### Markdown\n",
       "\n",
       "The markdown __nbconvert__ configuration is *_layouts/markdown.py*\n",
       "        \n",
       "    !jupyter nbconvert --to markdown --config _layouts/markdown.py readme.ipynb\n",
       "\n",
       "* Notebooks beginning with __Numbers__ are inferred as ___posts__\n",
       "\n",
       "        !jupyter nbconvert --to markdown --config _layouts/markdown.py --output-dir _posts _notebooks/[0-9]*.ipynb\n",
       "    \n",
       "* Notebooks beginning with __Letters__ are inferred as ___docs__\n",
       "    \n",
       "        !jupyter nbconvert --to markdown --config _layouts/markdown.py --output-dir _docs _notebooks/[a-z,A-Z]*.ipynb\n",
       "        "
      ],
      "text/plain": [
       "<IPython.core.display.Markdown object>"
      ]
     },
     "metadata": {},
     "output_type": "display_data"
    },
    {
     "name": "stdout",
     "output_type": "stream",
     "text": [
      "[NbConvertApp] Converting notebook readme.ipynb to markdown\n",
      "[NbConvertApp] Writing 6214 bytes to readme.md\n",
      "[NbConvertApp] Converting notebook _notebooks/2017-01-01-triangles.ipynb to markdown\n",
      "[NbConvertApp] Writing 1227 bytes to _posts/2017-01-01-triangles.md\n",
      "[NbConvertApp] Converting notebook _notebooks/2017-06-24-Front-Matter-Preprocessor.ipynb to markdown\n",
      "[NbConvertApp] Writing 5259 bytes to _posts/2017-06-24-Front-Matter-Preprocessor.md\n",
      "[NbConvertApp] Converting notebook _notebooks/dummy.ipynb to markdown\n",
      "[NbConvertApp] Writing 1182 bytes to _docs/dummy.md\n"
     ]
    }
   ],
   "source": [
    "### Markdown\n",
    "\n",
    "The markdown __nbconvert__ configuration is *_layouts/markdown.py*\n",
    "        \n",
    "    !jupyter nbconvert --to markdown --config _layouts/markdown.py readme.ipynb\n",
    "\n",
    "* Notebooks beginning with __Numbers__ are inferred as ___posts__\n",
    "\n",
    "        !jupyter nbconvert --to markdown --config _layouts/markdown.py --output-dir _posts _notebooks/[0-9]*.ipynb\n",
    "    \n",
    "* Notebooks beginning with __Letters__ are inferred as ___docs__\n",
    "    \n",
    "        !jupyter nbconvert --to markdown --config _layouts/markdown.py --output-dir _docs _notebooks/[a-z,A-Z]*.ipynb\n",
    "        "
   ]
  },
  {
   "cell_type": "code",
   "execution_count": 147,
   "metadata": {},
   "outputs": [
    {
     "data": {
      "text/markdown": [
       "### Data\n",
       "\n",
       "The data __nbconvert__ configuration is *_layouts/data.py*\n",
       "\n",
       "            !jupyter nbconvert --to notebook --config _layouts/data.py _notebooks/*.ipynb"
      ],
      "text/plain": [
       "<IPython.core.display.Markdown object>"
      ]
     },
     "metadata": {},
     "output_type": "display_data"
    },
    {
     "name": "stdout",
     "output_type": "stream",
     "text": [
      "[NbConvertApp] Converting notebook _notebooks/2017-01-01-triangles.ipynb to notebook\r\n",
      "[NbConvertApp] Writing 1628 bytes to _data/2017-01-01-triangles.json\r\n",
      "[NbConvertApp] Converting notebook _notebooks/dummy.ipynb to notebook\r\n",
      "[NbConvertApp] Writing 1628 bytes to _data/dummy.json\r\n"
     ]
    }
   ],
   "source": [
    "### Data\n",
    "\n",
    "The data __nbconvert__ configuration is *_layouts/data.py*\n",
    "\n",
    "            !jupyter nbconvert --to notebook --config _layouts/data.py _notebooks/*.ipynb"
   ]
  }
 ],
 "metadata": {
  "anaconda-cloud": {},
  "kernelspec": {
   "display_name": "Python 3",
   "language": "python",
   "name": "python3"
  },
  "language_info": {
   "codemirror_mode": {
    "name": "ipython",
    "version": 3
   },
   "file_extension": ".py",
   "mimetype": "text/x-python",
   "name": "python",
   "nbconvert_exporter": "python",
   "pygments_lexer": "ipython3",
   "version": "3.5.3"
  }
 },
 "nbformat": 4,
 "nbformat_minor": 1
}
