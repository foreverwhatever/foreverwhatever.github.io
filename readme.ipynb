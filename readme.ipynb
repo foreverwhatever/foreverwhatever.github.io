{
 "cells": [
  {
   "cell_type": "markdown",
   "metadata": {},
   "source": [
    "`foreverwhatever.github.io` is Tony Fast's personal journal of computational documents."
   ]
  },
  {
   "cell_type": "code",
   "execution_count": 1,
   "metadata": {
    "collapsed": true
   },
   "outputs": [],
   "source": [
    "        %load_ext literacy.template"
   ]
  },
  {
   "cell_type": "code",
   "execution_count": 86,
   "metadata": {},
   "outputs": [
    {
     "data": {
      "text/markdown": [
       "## The __build__ branch\n",
       "\n",
       "The __build__ branch uses __travis-ci__ to transpile notebooks to a jekyll site on the __master__ \n",
       "branch.  When __master__ updates, the standard github pages __jekyll__ build is used.\n",
       "\n",
       "### A collection of notebooks\n",
       "\n",
       "Create a collection of ___notebooks__. It folder is the source of __markdown__, __json__, and\n",
       "__python__ copies of the collection."
      ],
      "text/plain": [
       "<IPython.core.display.Markdown object>"
      ]
     },
     "metadata": {},
     "output_type": "display_data"
    }
   ],
   "source": [
    "## The __build__ branch\n",
    "\n",
    "The __build__ branch uses __travis-ci__ to transpile notebooks to a jekyll site on the __master__ \n",
    "branch.  When __master__ updates, the standard github pages __jekyll__ build is used.\n",
    "\n",
    "### A collection of notebooks\n",
    "\n",
    "Create a collection of ___notebooks__. It folder is the source of __markdown__, __json__, and\n",
    "__python__ copies of the collection."
   ]
  },
  {
   "cell_type": "code",
   "execution_count": 97,
   "metadata": {},
   "outputs": [
    {
     "data": {
      "text/markdown": [
       "### Markdown\n",
       "\n",
       "The markdown `import nbconvert` configuration is `\"_layouts/markdown.py\"`\n",
       "\n",
       "* Notebooks beginning with __Numbers__ are inferred as ___posts__\n",
       "\n",
       "        !jupyter nbconvert --config _layouts/markdown.py --output-dir _posts _notebooks/[0-9]*.ipynb\n",
       "    \n",
       "* Notebooks beginning with __Letters__ are inferred as ___pages__\n",
       "    \n",
       "        !jupyter nbconvert --config _layouts/markdown.py --output-dir _pages _notebooks/[a-z,A-Z]*.ipynb\n",
       "        "
      ],
      "text/plain": [
       "<IPython.core.display.Markdown object>"
      ]
     },
     "metadata": {},
     "output_type": "display_data"
    },
    {
     "data": {
      "text/plain": [
       "'_layouts/markdown.py'"
      ]
     },
     "execution_count": 95,
     "metadata": {},
     "output_type": "execute_result"
    },
    {
     "name": "stdout",
     "output_type": "stream",
     "text": [
      "[NbConvertApp] Converting notebook _notebooks/2017-01-01-triangles.ipynb to markdown\n",
      "[NbConvertApp] Writing 911 bytes to _posts/2017-01-01-triangles.md\n",
      "[NbConvertApp] Converting notebook _notebooks/dummy.ipynb to markdown\n",
      "[NbConvertApp] Writing 896 bytes to _pages/dummy.md\n"
     ]
    }
   ],
   "source": [
    "### Markdown\n",
    "\n",
    "The markdown `import nbconvert` configuration is `\"_layouts/markdown.py\"`\n",
    "\n",
    "* Notebooks beginning with __Numbers__ are inferred as ___posts__\n",
    "\n",
    "        !jupyter nbconvert --config _layouts/markdown.py --output-dir _posts _notebooks/[0-9]*.ipynb\n",
    "        !jupyter nbconvert --config _layouts/markdown.py readme.ipynb\n",
    "    \n",
    "* Notebooks beginning with __Letters__ are inferred as ___pages__\n",
    "    \n",
    "        !jupyter nbconvert --config _layouts/markdown.py --output-dir _pages _notebooks/[a-z,A-Z]*.ipynb\n",
    "        "
   ]
  },
  {
   "cell_type": "code",
   "execution_count": 139,
   "metadata": {},
   "outputs": [
    {
     "data": {
      "text/markdown": [
       "### Python\n",
       "\n",
       "The python `import nbconvert` configuration is `\"_layouts/python.py\"`.  The module is in a _non_-__Jekyll__ namespace;\n",
       "I personally chose __whatever__.\n",
       "        \n",
       "            !jupyter nbconvert --config _layouts/python.py --output-dir=whatever _notebooks/*.ipynb"
      ],
      "text/plain": [
       "<IPython.core.display.Markdown object>"
      ]
     },
     "metadata": {},
     "output_type": "display_data"
    },
    {
     "data": {
      "text/plain": [
       "'_layouts/python.py'"
      ]
     },
     "execution_count": 138,
     "metadata": {},
     "output_type": "execute_result"
    },
    {
     "name": "stdout",
     "output_type": "stream",
     "text": [
      "[NbConvertApp] Converting notebook _notebooks/2017-01-01-triangles.ipynb to python\r\n",
      "[NbConvertApp] Writing 315 bytes to whatever/2017-01-01-triangles.py\r\n",
      "[NbConvertApp] Converting notebook _notebooks/dummy.ipynb to python\r\n",
      "[NbConvertApp] Writing 315 bytes to whatever/dummy.py\r\n"
     ]
    }
   ],
   "source": [
    "### Python\n",
    "\n",
    "The python `import nbconvert` configuration is `\"_layouts/python.py\"`.  The module is in a _non_-__Jekyll__ namespace;\n",
    "I personally chose __whatever__.\n",
    "        \n",
    "            !jupyter nbconvert --config _layouts/python.py --output-dir=whatever _notebooks/*.ipynb"
   ]
  },
  {
   "cell_type": "code",
   "execution_count": 136,
   "metadata": {},
   "outputs": [
    {
     "data": {
      "text/markdown": [
       "### Data\n",
       "\n",
       "The data `import nbconvert` configuration is `\"_layouts/data.py\"`.  \n",
       "\n",
       "            !jupyter nbconvert --to notebook --config _layouts/data.py _notebooks/*.ipynb"
      ],
      "text/plain": [
       "<IPython.core.display.Markdown object>"
      ]
     },
     "metadata": {},
     "output_type": "display_data"
    },
    {
     "data": {
      "text/plain": [
       "'_layouts/data.py'"
      ]
     },
     "execution_count": 135,
     "metadata": {},
     "output_type": "execute_result"
    },
    {
     "name": "stdout",
     "output_type": "stream",
     "text": [
      "[NbConvertApp] Converting notebook _notebooks/2017-01-01-triangles.ipynb to notebook\r\n",
      "[NbConvertApp] Writing 1628 bytes to _data/2017-01-01-triangles.json\r\n",
      "[NbConvertApp] Converting notebook _notebooks/dummy.ipynb to notebook\r\n",
      "[NbConvertApp] Writing 1628 bytes to _data/dummy.json\r\n"
     ]
    }
   ],
   "source": [
    "### Data\n",
    "\n",
    "The data `import nbconvert` configuration is `\"_layouts/data.py\"`.  \n",
    "\n",
    "            !jupyter nbconvert --to notebook --config _layouts/data.py _notebooks/*.ipynb"
   ]
  },
  {
   "cell_type": "code",
   "execution_count": null,
   "metadata": {
    "collapsed": true
   },
   "outputs": [],
   "source": []
  }
 ],
 "metadata": {
  "anaconda-cloud": {},
  "kernelspec": {
   "display_name": "Python 3",
   "language": "python",
   "name": "python3"
  },
  "language_info": {
   "codemirror_mode": {
    "name": "ipython",
    "version": 3
   },
   "file_extension": ".py",
   "mimetype": "text/x-python",
   "name": "python",
   "nbconvert_exporter": "python",
   "pygments_lexer": "ipython3",
   "version": "3.5.3"
  }
 },
 "nbformat": 4,
 "nbformat_minor": 1
}
