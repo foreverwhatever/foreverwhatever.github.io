{
 "cells": [
  {
   "cell_type": "markdown",
   "metadata": {},
   "source": [
    "`foreverwhatever.github.io` is Tony Fast's personal journal of computational documents."
   ]
  },
  {
   "cell_type": "code",
   "execution_count": 2,
   "metadata": {
    "collapsed": true
   },
   "outputs": [],
   "source": [
    "        %load_ext literacy"
   ]
  },
  {
   "cell_type": "code",
   "execution_count": 2,
   "metadata": {},
   "outputs": [
    {
     "data": {
      "text/markdown": [
       "## The __build__ branch\n",
       "\n",
       "The __build__ branch uses __travis-ci__ to transpile notebooks to a jekyll site on the __master__ \n",
       "branch.  When __master__ updates, the standard github pages __jekyll__ build is used.\n",
       "\n",
       "### A collection of notebooks\n",
       "\n",
       "Create a collection of ___notebooks__. It folder is the source of __markdown__, __json__, and\n",
       "__python__ copies of the collection."
      ],
      "text/plain": [
       "<IPython.core.display.Markdown object>"
      ]
     },
     "metadata": {},
     "output_type": "display_data"
    }
   ],
   "source": [
    "## The __build__ branch\n",
    "\n",
    "The __build__ branch uses __travis-ci__ to transpile notebooks to a jekyll site on the __master__ \n",
    "branch.  When __master__ updates, the standard github pages __jekyll__ build is used.\n",
    "\n",
    "### A collection of notebooks\n",
    "\n",
    "Create a collection of ___notebooks__. It folder is the source of __markdown__, __json__, and\n",
    "__python__ copies of the collection."
   ]
  },
  {
   "cell_type": "code",
   "execution_count": 5,
   "metadata": {},
   "outputs": [
    {
     "data": {
      "text/markdown": [
       "### Markdown\n",
       "\n",
       "The markdown __nbconvert__ configuration is *_layouts/markdown.py*\n",
       "        \n",
       "    !jupyter nbconvert --to markdown --config _layouts/markdown.py readme.ipynb\n",
       "\n",
       "* Notebooks beginning with __Numbers__ are inferred as ___posts__\n",
       "\n",
       "        !jupyter nbconvert --to markdown --config _layouts/markdown.py --output-dir _posts whatever/[0-9]*.ipynb\n",
       "    \n",
       "* Notebooks beginning with __Letters__ are inferred as ___docs__\n",
       "    \n",
       "        !jupyter nbconvert --to markdown --config _layouts/markdown.py --output-dir _docs whatever/[a-z,A-Z]*.ipynb\n",
       "        "
      ],
      "text/plain": [
       "<IPython.core.display.Markdown object>"
      ]
     },
     "metadata": {},
     "output_type": "display_data"
    },
    {
     "name": "stdout",
     "output_type": "stream",
     "text": [
      "[NbConvertApp] Converting notebook readme.ipynb to markdown\n",
      "[NbConvertApp] Writing 4607 bytes to readme.md\n",
      "[NbConvertApp] Converting notebook whatever/2017-06-24-Front-Matter-Preprocessor.ipynb to markdown\n",
      "[NbConvertApp] Writing 6797 bytes to _posts/2017-06-24-Front-Matter-Preprocessor.md\n",
      "[NbConvertApp] Converting notebook whatever/2017-06-25-Preprocessor.ipynb to markdown\n",
      "[NbConvertApp] Writing 5568 bytes to _posts/2017-06-25-Preprocessor.md\n",
      "[NbConvertApp] Converting notebook whatever/2017-06-28-Add-Cells-With-Code.ipynb to markdown\n",
      "[NbConvertApp] Writing 3583 bytes to _posts/2017-06-28-Add-Cells-With-Code.md\n",
      "[NbConvertApp] Converting notebook whatever/2017-06-29-GridPlot-In-Bokeh.ipynb to markdown\n",
      "[NbConvertApp] Writing 116587 bytes to _posts/2017-06-29-GridPlot-In-Bokeh.md\n",
      "[NbConvertApp] WARNING | pattern 'whatever/[a-z,A-Z]*.ipynb' matched no files\n",
      "This application is used to convert notebook files (*.ipynb) to various other\n",
      "formats.\n",
      "\n",
      "WARNING: THE COMMANDLINE INTERFACE MAY CHANGE IN FUTURE RELEASES.\n",
      "\n",
      "Options\n",
      "-------\n",
      "\n",
      "Arguments that take values are actually convenience aliases to full\n",
      "Configurables, whose aliases are listed on the help line. For more information\n",
      "on full configurables, see '--help-all'.\n",
      "\n",
      "--stdin\n",
      "    read a single notebook file from stdin. Write the resulting notebook with default basename 'notebook.*'\n",
      "--debug\n",
      "    set log level to logging.DEBUG (maximize logging output)\n",
      "--allow-errors\n",
      "    Continue notebook execution even if one of the cells throws an error and include the error message in the cell output (the default behaviour is to abort conversion). This flag is only relevant if '--execute' was specified, too.\n",
      "-y\n",
      "    Answer yes to any questions instead of prompting.\n",
      "--no-prompt\n",
      "    Exclude input and output prompts from converted document.\n",
      "--generate-config\n",
      "    generate default config file\n",
      "--inplace\n",
      "    Run nbconvert in place, overwriting the existing notebook (only \n",
      "    relevant when converting to notebook format)\n",
      "--stdout\n",
      "    Write notebook output to stdout instead of files.\n",
      "--execute\n",
      "    Execute the notebook prior to export.\n",
      "--log-level=<Enum> (Application.log_level)\n",
      "    Default: 30\n",
      "    Choices: (0, 10, 20, 30, 40, 50, 'DEBUG', 'INFO', 'WARN', 'ERROR', 'CRITICAL')\n",
      "    Set the log level by value or name.\n",
      "--reveal-prefix=<Unicode> (SlidesExporter.reveal_url_prefix)\n",
      "    Default: ''\n",
      "    The URL prefix for reveal.js. This can be a a relative URL for a local copy\n",
      "    of reveal.js, or point to a CDN.\n",
      "    For speaker notes to work, a local reveal.js prefix must be used.\n",
      "--nbformat=<Enum> (NotebookExporter.nbformat_version)\n",
      "    Default: 4\n",
      "    Choices: [1, 2, 3, 4]\n",
      "    The nbformat version to write. Use this to downgrade notebooks.\n",
      "--writer=<DottedObjectName> (NbConvertApp.writer_class)\n",
      "    Default: 'FilesWriter'\n",
      "    Writer class used to write the  results of the conversion\n",
      "--output=<Unicode> (NbConvertApp.output_base)\n",
      "    Default: ''\n",
      "    overwrite base name use for output files. can only be used when converting\n",
      "    one notebook at a time.\n",
      "--to=<Unicode> (NbConvertApp.export_format)\n",
      "    Default: 'html'\n",
      "    The export format to be used, either one of the built-in formats, or a\n",
      "    dotted object name that represents the import path for an `Exporter` class\n",
      "--template=<Unicode> (TemplateExporter.template_file)\n",
      "    Default: ''\n",
      "    Name of the template file to use\n",
      "--post=<DottedOrNone> (NbConvertApp.postprocessor_class)\n",
      "    Default: ''\n",
      "    PostProcessor class used to write the results of the conversion\n",
      "--output-dir=<Unicode> (FilesWriter.build_directory)\n",
      "    Default: ''\n",
      "    Directory to write output(s) to. Defaults to output to the directory of each\n",
      "    notebook. To recover previous default behaviour (outputting to the current\n",
      "    working directory) use . as the flag value.\n",
      "--config=<Unicode> (JupyterApp.config_file)\n",
      "    Default: ''\n",
      "    Full path of a config file.\n",
      "\n",
      "To see all available configurables, use `--help-all`\n",
      "\n",
      "Examples\n",
      "--------\n",
      "\n",
      "    The simplest way to use nbconvert is\n",
      "    \n",
      "    > jupyter nbconvert mynotebook.ipynb\n",
      "    \n",
      "    which will convert mynotebook.ipynb to the default format (probably HTML).\n",
      "    \n",
      "    You can specify the export format with `--to`.\n",
      "    Options include ['asciidoc', 'custom', 'html', 'latex', 'markdown', 'notebook', 'pdf', 'python', 'rst', 'script', 'slides']\n",
      "    \n",
      "    > jupyter nbconvert --to latex mynotebook.ipynb\n",
      "    \n",
      "    Both HTML and LaTeX support multiple output templates. LaTeX includes\n",
      "    'base', 'article' and 'report'.  HTML includes 'basic' and 'full'. You\n",
      "    can specify the flavor of the format used.\n",
      "    \n",
      "    > jupyter nbconvert --to html --template basic mynotebook.ipynb\n",
      "    \n",
      "    You can also pipe the output to stdout, rather than a file\n",
      "    \n",
      "    > jupyter nbconvert mynotebook.ipynb --stdout\n",
      "    \n",
      "    PDF is generated via latex\n",
      "    \n",
      "    > jupyter nbconvert mynotebook.ipynb --to pdf\n",
      "    \n",
      "    You can get (and serve) a Reveal.js-powered slideshow\n",
      "    \n",
      "    > jupyter nbconvert myslides.ipynb --to slides --post serve\n",
      "    \n",
      "    Multiple notebooks can be given at the command line in a couple of \n",
      "    different ways:\n",
      "    \n",
      "    > jupyter nbconvert notebook*.ipynb\n",
      "    > jupyter nbconvert notebook1.ipynb notebook2.ipynb\n",
      "    \n",
      "    or you can specify the notebooks list in a config file, containing::\n",
      "    \n",
      "        c.NbConvertApp.notebooks = [\"my_notebook.ipynb\"]\n",
      "    \n",
      "    > jupyter nbconvert --config mycfg.py\n",
      "\n"
     ]
    }
   ],
   "source": [
    "### Markdown\n",
    "\n",
    "The markdown __nbconvert__ configuration is *_layouts/markdown.py*\n",
    "        \n",
    "    !jupyter nbconvert --to markdown --config _layouts/markdown.py readme.ipynb\n",
    "\n",
    "* Notebooks beginning with __Numbers__ are inferred as ___posts__\n",
    "\n",
    "        !jupyter nbconvert --to html --config _layouts/markdown.py --output-dir _posts whatever/[0-9]*.ipynb\n",
    "    \n",
    "* Notebooks beginning with __Letters__ are inferred as ___docs__\n",
    "    \n",
    "        !jupyter nbconvert --to markdown --config _layouts/markdown.py --output-dir _docs whatever/[a-z,A-Z]*.ipynb\n",
    "        "
   ]
  },
  {
   "cell_type": "code",
   "execution_count": 6,
   "metadata": {},
   "outputs": [
    {
     "data": {
      "text/markdown": [
       "### Data\n",
       "\n",
       "The data __nbconvert__ configuration is *_layouts/data.py*\n",
       "\n",
       "            # !jupyter nbconvert --to notebook --config _layouts/data.py _whatever/*.ipynb"
      ],
      "text/plain": [
       "<IPython.core.display.Markdown object>"
      ]
     },
     "metadata": {},
     "output_type": "display_data"
    }
   ],
   "source": [
    "### Data\n",
    "\n",
    "The data __nbconvert__ configuration is *_layouts/data.py*\n",
    "\n",
    "        # !jupyter nbconvert --to notebook --config _layouts/data.py _whatever/*.ipynb"
   ]
  }
 ],
 "metadata": {
  "anaconda-cloud": {},
  "kernelspec": {
   "display_name": "Python 3",
   "language": "python",
   "name": "python3"
  },
  "language_info": {
   "codemirror_mode": {
    "name": "ipython",
    "version": 3
   },
   "file_extension": ".py",
   "mimetype": "text/x-python",
   "name": "python",
   "nbconvert_exporter": "python",
   "pygments_lexer": "ipython3",
   "version": "3.5.3"
  }
 },
 "nbformat": 4,
 "nbformat_minor": 1
}
