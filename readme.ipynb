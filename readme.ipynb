{
 "cells": [
  {
   "cell_type": "markdown",
   "metadata": {},
   "source": [
    "`foreverwhatever.github.io` is Tony Fast's personal journal of computational documents."
   ]
  },
  {
   "cell_type": "code",
   "execution_count": 1,
   "metadata": {
    "collapsed": true
   },
   "outputs": [],
   "source": [
    "    %load_ext literacy"
   ]
  },
  {
   "cell_type": "code",
   "execution_count": 1,
   "metadata": {},
   "outputs": [
    {
     "data": {
      "text/markdown": [
       "## The __build__ branch\n",
       "\n",
       "The __build__ branch uses __travis-ci__ to transpile notebooks to a jekyll site on the __master__ \n",
       "branch.  When __master__ updates, the standard github pages __jekyll__ build is used.\n",
       "\n",
       "### A collection of notebooks\n",
       "\n",
       "Create a collection of ___notebooks__. It folder is the source of __markdown__, __json__, and\n",
       "__python__ copies of the collection."
      ],
      "text/plain": [
       "<IPython.core.display.Markdown object>"
      ]
     },
     "metadata": {},
     "output_type": "display_data"
    }
   ],
   "source": [
    "## The __build__ branch\n",
    "\n",
    "The __build__ branch uses __travis-ci__ to transpile notebooks to a jekyll site on the __master__ \n",
    "branch.  When __master__ updates, the standard github pages __jekyll__ build is used.\n",
    "\n",
    "### A collection of notebooks\n",
    "\n",
    "Create a collection of ___notebooks__. It folder is the source of __markdown__, __json__, and\n",
    "\n",
    "__python__ copies of the collection."
   ]
  },
  {
   "cell_type": "code",
<<<<<<< Updated upstream
   "execution_count": 5,
=======
   "execution_count": 10,
>>>>>>> Stashed changes
   "metadata": {},
   "outputs": [
    {
     "data": {
      "text/markdown": [
<<<<<<< Updated upstream
       "### Markdown\n",
       "\n",
       "* The markdown __nbconvert__ configuration is *_layouts/markdown.py*\n",
       "        \n",
       "        !jupyter nbconvert --to markdown --config _layouts/markdown.py readme.ipynb\n",
       "\n",
       "* Notebooks beginning with __Numbers__ are inferred as ___posts__\n",
       "\n",
       "        !jupyter nbconvert --to markdown --config _layouts/markdown.py --output-dir _posts whatever/[0-9]*.ipynb\n",
       "    \n",
       "* Notebooks beginning with __Letters__ are inferred as ___docs__\n",
       "    \n",
       "        # !jupyter nbconvert --to markdown --config _layouts/markdown.py --output-dir _docs whatever/[a-z,A-Z]*.ipynb\n",
       "        "
=======
       "    %%bash\n",
       "    python -m nbd --ext ipynb --dir whatever --drop-input --theme united --ignore Copy"
>>>>>>> Stashed changes
      ],
      "text/plain": [
       "<IPython.core.display.Markdown object>"
      ]
     },
     "metadata": {},
     "output_type": "display_data"
    },
    {
     "name": "stdout",
     "output_type": "stream",
     "text": [
<<<<<<< Updated upstream
      "[NbConvertApp] Converting notebook readme.ipynb to markdown\r\n",
      "[NbConvertApp] Writing 2191 bytes to readme.md\r\n",
      "[NbConvertApp] Converting notebook whatever/2017-06-24-Front-Matter-Preprocessor.ipynb to markdown\r\n",
      "[NbConvertApp] Writing 12045 bytes to _posts/2017-06-24-Front-Matter-Preprocessor.md\r\n",
      "[NbConvertApp] Converting notebook whatever/2017-06-25-Preprocessor.ipynb to markdown\r\n",
      "[NbConvertApp] Writing 3693 bytes to _posts/2017-06-25-Preprocessor.md\r\n",
      "[NbConvertApp] Converting notebook whatever/2017-06-28-Add-Cells-With-Code.ipynb to markdown\r\n",
      "[NbConvertApp] Writing 773 bytes to _posts/2017-06-28-Add-Cells-With-Code.md\r\n",
      "[NbConvertApp] Converting notebook whatever/2017-06-29-GridPlot-In-Bokeh.ipynb to markdown\r\n",
      "[NbConvertApp] Writing 123163 bytes to _posts/2017-06-29-GridPlot-In-Bokeh.md\r\n",
      "[NbConvertApp] Converting notebook whatever/2017-07-02-Sierpinski triangle in Bokeh.ipynb to markdown\r\n",
      "[NbConvertApp] Writing 2227292 bytes to _posts/2017-07-02-Sierpinski triangle in Bokeh.md\r\n"
=======
      "docs/whatever/2017-07-02-Sierpinski triangle in Bokeh.ipynb.html\n",
      "docs/setup.ipynb.html\n",
      "docs/whatever/2017-06-28-Add-Cells-With-Code.ipynb.html\n",
      "docs/whatever/2017-07-16-JSON-patch-Jupyter-Notebooks.ipynb.html\n",
      "docs/whatever/2017-06-29-GridPlot-In-Bokeh.ipynb.html\n",
      "docs/whatever/2017-06-24-Front-Matter-Preprocessor.ipynb.html\n",
      "docs/whatever/2017-07-20-Spinning-Pie.ipynb.html\n",
      "docs/whatever/2017-06-25-Preprocessor.ipynb.html\n",
      "docs/readme.ipynb.html\n",
      "docs/index.ipynb.html\n",
      "docs/whatever/2017-07-06-The-Alphabet-Cipher.ipynb.html\n",
      "docs/whatever/gridplot.ipynb.html\n"
>>>>>>> Stashed changes
     ]
    }
   ],
   "source": [
<<<<<<< Updated upstream
    "### Markdown\n",
    "\n",
    "* The markdown __nbconvert__ configuration is *_layouts/markdown.py*\n",
    "        \n",
    "        !jupyter nbconvert --to markdown --config _layouts/markdown.py readme.ipynb\n",
    "\n",
    "* Notebooks beginning with __Numbers__ are inferred as ___posts__\n",
    "\n",
    "        !jupyter nbconvert --to markdown --config _layouts/markdown.py --output-dir _posts whatever/[0-9]*.ipynb\n",
    "    \n",
    "* Notebooks beginning with __Letters__ are inferred as ___docs__\n",
    "    \n",
    "        !jupyter nbconvert --to markdown --config _layouts/markdown.py --output-dir _docs whatever/[a-z,A-Z]*.ipynb\n",
    "        "
   ]
  },
  {
   "cell_type": "code",
   "execution_count": null,
   "metadata": {},
   "outputs": [],
   "source": []
=======
    "    %%bash\n",
    "    python -m nbd --ext ipynb --dir whatever --drop-input --theme united --ignore Copy"
   ]
>>>>>>> Stashed changes
  }
 ],
 "metadata": {
  "anaconda-cloud": {},
  "kernelspec": {
   "display_name": "Python 3",
   "language": "python",
   "name": "python3"
  },
  "language_info": {
   "codemirror_mode": {
    "name": "ipython",
    "version": 3
   },
   "file_extension": ".py",
   "mimetype": "text/x-python",
   "name": "python",
   "nbconvert_exporter": "python",
   "pygments_lexer": "ipython3",
   "version": "3.5.3"
  }
 },
 "nbformat": 4,
 "nbformat_minor": 2
}
