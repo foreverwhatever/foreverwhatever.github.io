{
 "cells": [
  {
   "cell_type": "markdown",
   "metadata": {},
   "source": [
    "`foreverwhatever.github.io` is Tony Fast's personal journal of computational documents."
   ]
  },
  {
   "cell_type": "code",
   "execution_count": 1,
   "metadata": {
    "collapsed": true
   },
   "outputs": [],
   "source": [
    "    %load_ext literacy"
   ]
  },
  {
   "cell_type": "code",
   "execution_count": 1,
   "metadata": {},
   "outputs": [
    {
     "data": {
      "text/markdown": [
       "## The __build__ branch\n",
       "\n",
       "The __build__ branch uses __travis-ci__ to transpile notebooks to a jekyll site on the __master__ \n",
       "branch.  When __master__ updates, the standard github pages __jekyll__ build is used.\n",
       "\n",
       "### A collection of notebooks\n",
       "\n",
       "Create a collection of ___notebooks__. It folder is the source of __markdown__, __json__, and\n",
       "__python__ copies of the collection."
      ],
      "text/plain": [
       "<IPython.core.display.Markdown object>"
      ]
     },
     "metadata": {},
     "output_type": "display_data"
    }
   ],
   "source": [
    "## The __build__ branch\n",
    "\n",
    "The __build__ branch uses __travis-ci__ to transpile notebooks to a jekyll site on the __master__ \n",
    "branch.  When __master__ updates, the standard github pages __jekyll__ build is used.\n",
    "\n",
    "### A collection of notebooks\n",
    "\n",
    "Create a collection of ___notebooks__. It folder is the source of __markdown__, __json__, and\n",
    "\n",
    "__python__ copies of the collection."
   ]
  },
  {
   "cell_type": "code",
   "execution_count": 10,
   "metadata": {},
   "outputs": [
    {
     "data": {
      "text/markdown": [
       "    %%bash\n",
       "    python -m nbd --ext ipynb --dir whatever --drop-input --theme united --ignore Copy"
      ],
      "text/plain": [
       "<IPython.core.display.Markdown object>"
      ]
     },
     "metadata": {},
     "output_type": "display_data"
    },
    {
     "name": "stdout",
     "output_type": "stream",
     "text": [
      "docs/whatever/2017-07-02-Sierpinski triangle in Bokeh.ipynb.html\n",
      "docs/setup.ipynb.html\n",
      "docs/whatever/2017-06-28-Add-Cells-With-Code.ipynb.html\n",
      "docs/whatever/2017-07-16-JSON-patch-Jupyter-Notebooks.ipynb.html\n",
      "docs/whatever/2017-06-29-GridPlot-In-Bokeh.ipynb.html\n",
      "docs/whatever/2017-06-24-Front-Matter-Preprocessor.ipynb.html\n",
      "docs/whatever/2017-07-20-Spinning-Pie.ipynb.html\n",
      "docs/whatever/2017-06-25-Preprocessor.ipynb.html\n",
      "docs/readme.ipynb.html\n",
      "docs/index.ipynb.html\n",
      "docs/whatever/2017-07-06-The-Alphabet-Cipher.ipynb.html\n",
      "docs/whatever/gridplot.ipynb.html\n"
     ]
    }
   ],
   "source": [
    "    %%bash\n",
    "    python -m nbd --to . --ext ipynb --dir whatever --drop-input --theme united --ignore Copy"
   ]
  }
 ],
 "metadata": {
  "anaconda-cloud": {},
  "kernelspec": {
   "display_name": "Python 3",
   "language": "python",
   "name": "python3"
  },
  "language_info": {
   "codemirror_mode": {
    "name": "ipython",
    "version": 3
   },
   "file_extension": ".py",
   "mimetype": "text/x-python",
   "name": "python",
   "nbconvert_exporter": "python",
   "pygments_lexer": "ipython3",
   "version": "3.5.3"
  }
 },
 "nbformat": 4,
 "nbformat_minor": 2
}
