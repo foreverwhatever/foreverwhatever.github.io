{
 "cells": [
  {
   "cell_type": "markdown",
   "metadata": {},
   "source": [
    "# ~~`importing notebooks`~~\n",
    "\n",
    "---\n",
    "\n",
    "To build the foundation of the `𝓕orever𝓦hatever.github.io` blog I need to be able to import\n",
    "notebooks & blog posts as valid `py🐍hon`.  There are a few implementations and details from:\n",
    "\n",
    "* [Custom FileExtension Path-Based Importers in Python](http://brandonio21.com/2016/10/custom-fileextension-path-based-importers-in-python/)\n",
    "* [Importing Jupyter Notebooks as Modules](http://jupyter-notebook.readthedocs.io/en/latest/examples/Notebook/Importing%20Notebooks.html)\n",
    "* [import system](https://docs.python.org/3/reference/import.html)\n",
    "* [`importlib`](https://docs.python.org/3/library/importlib.html)\n",
    "* PEPs: [302](https://www.python.org/dev/peps/pep-0302/), [420](https://www.python.org/dev/peps/pep-0420/), [451](https://www.python.org/dev/peps/pep-0451/)\n",
    "\n",
    "---\n",
    "\n",
    "> In this `post`, we will use the [`🐍` import system](https://docs.python.org/3/reference/import.html) to load notebooks - and posts - from jupyter notebooks."
   ]
  },
  {
   "cell_type": "markdown",
   "metadata": {},
   "source": [
    "The attribute `post` - assigned below - will verify our imports 👉 If we can access `post` then the notebook has been __import__ed."
   ]
  },
  {
   "cell_type": "code",
   "execution_count": 1,
   "metadata": {
    "collapsed": true
   },
   "outputs": [],
   "source": [
    "        post = \"2017-05-08-imports\""
   ]
  },
  {
   "cell_type": "markdown",
   "metadata": {},
   "source": [
    "\n",
    "\n",
    "---\n",
    "\n",
    "<center class='h3'>👉👇</center>"
   ]
  },
  {
   "cell_type": "markdown",
   "metadata": {},
   "source": [
    "Natively, `IPython` cannot import notebooks"
   ]
  },
  {
   "cell_type": "code",
   "execution_count": 2,
   "metadata": {},
   "outputs": [
    {
     "name": "stdout",
     "output_type": "stream",
     "text": [
      "🚫No module named 'whatever.2017-05-08-imports'🚫\n"
     ]
    }
   ],
   "source": [
    "        try: __import__('whatever.'+post)\n",
    "        except ImportError as e: print(\"\"\"🚫{}🚫\"\"\".format(e))"
   ]
  },
  {
   "cell_type": "code",
   "execution_count": 3,
   "metadata": {
    "collapsed": true
   },
   "outputs": [],
   "source": [
    "        import whatever\n",
    "        assert not hasattr(getattr(whatever, post), 'post')"
   ]
  },
  {
   "cell_type": "markdown",
   "metadata": {},
   "source": [
    "## `__name__ == '__main__'` <small>controlling expressions</small>"
   ]
  },
  {
   "cell_type": "code",
   "execution_count": 4,
   "metadata": {
    "collapsed": true
   },
   "outputs": [],
   "source": [
    "        o = __name__ == '__main__'"
   ]
  },
  {
   "cell_type": "markdown",
   "metadata": {},
   "source": [
    "One of __main__ differences between an interactive notebook & a notebook Module is the `__name__` attribute.  An interactive notebook will"
   ]
  },
  {
   "cell_type": "code",
   "execution_count": 5,
   "metadata": {
    "collapsed": true
   },
   "outputs": [],
   "source": [
    "        if o: assert o"
   ]
  },
  {
   "cell_type": "markdown",
   "metadata": {},
   "source": [
    "and the notebook module has the __name__"
   ]
  },
  {
   "cell_type": "code",
   "execution_count": 6,
   "metadata": {},
   "outputs": [
    {
     "data": {
      "text/plain": [
       "'2017-05-08-imports'"
      ]
     },
     "execution_count": 6,
     "metadata": {},
     "output_type": "execute_result"
    }
   ],
   "source": [
    "        getattr(whatever, post).__name__ or post"
   ]
  },
  {
   "cell_type": "markdown",
   "metadata": {},
   "source": [
    "> `o` is an expressive symbol for suppressing statements that may cause recursion in the imports.  `assert`ions, block expressions, and inline expressions are respectively controlled with\n",
    "\n",
    "> \n",
    " * `if o: assert something`\n",
    " * ```if o: \n",
    "    do_something```\n",
    " * `o and do_something`"
   ]
  },
  {
   "cell_type": "markdown",
   "metadata": {},
   "source": [
    "## `forever.ipynb`\n",
    "\n",
    "`forever.ipynb` contains an `ipython` extension that will __import__ `ipynb` files"
   ]
  },
  {
   "cell_type": "code",
   "execution_count": 7,
   "metadata": {},
   "outputs": [
    {
     "name": "stdout",
     "output_type": "stream",
     "text": [
      "<module '2017-05-08-imports' from './2017-05-08-imports.ipynb'>\n",
      "<module '2017-05-08-imports' from './2017-05-08-imports.ipynb'>\n",
      "<module 'whatever' from '/Users/tonyfast/foreverwhatever.github.io/whatever/__init__.py'>\n"
     ]
    }
   ],
   "source": [
    "        %reload_ext forever.ipynb\n",
    "        o and print(__import__('whatever.'+post))        "
   ]
  },
  {
   "cell_type": "code",
   "execution_count": 8,
   "metadata": {
    "collapsed": true
   },
   "outputs": [],
   "source": [
    "        if o: assert getattr(__import__('whatever.'+post), post).post == post"
   ]
  },
  {
   "cell_type": "markdown",
   "metadata": {},
   "source": [
    "## the import `extension`\n",
    "\n",
    "> [Naturally, then, each Importer has two components, a finder and a loader](http://brandonio21.com/2016/10/custom-fileextension-path-based-importers-in-python/)\n",
    "\n",
    "The `finder` and `loader` are created"
   ]
  },
  {
   "cell_type": "code",
   "execution_count": 9,
   "metadata": {
    "collapsed": true
   },
   "outputs": [],
   "source": [
    "        from forever.ipynb import NotebookFinder, NotebookLoader"
   ]
  },
  {
   "cell_type": "markdown",
   "metadata": {},
   "source": [
    "## packaging a post"
   ]
  },
  {
   "cell_type": "markdown",
   "metadata": {},
   "source": [
    "`jekyll` `_post` files do not have valid `python` import names - `YYYY-MM-DD-Post` - therefore we defer to the `__builtin__` function `__import__` because\n",
    "\n",
    "> `__import__` resembles markdown 👉  __import__(\"foo\")\n",
    "\n",
    "#### it __imports__ stuff \n",
    "        "
   ]
  },
  {
   "cell_type": "code",
   "execution_count": 10,
   "metadata": {},
   "outputs": [
    {
     "data": {
      "text/plain": [
       "<module 'whatever' from '/Users/tonyfast/foreverwhatever.github.io/whatever/__init__.py'>"
      ]
     },
     "execution_count": 10,
     "metadata": {},
     "output_type": "execute_result"
    }
   ],
   "source": [
    "    reload = __import__('importlib').reload\n",
    "    reload(whatever)"
   ]
  },
  {
   "cell_type": "markdown",
   "metadata": {},
   "source": [
    "#### [dotted imports](#forever.notebook)\n",
    "    \n",
    "            __import__('whatever.2017-05-08-imports')\n",
    "            \n",
    "#### local imports"
   ]
  },
  {
   "cell_type": "code",
   "execution_count": 11,
   "metadata": {},
   "outputs": [
    {
     "name": "stdout",
     "output_type": "stream",
     "text": [
      "<module '2017-05-08-imports' from './2017-05-08-imports.ipynb'>\n"
     ]
    }
   ],
   "source": [
    "        print(__import__(post))\n",
    "        if o: \n",
    "            assert __import__(post).post == post\n",
    "            # * The recently `reload`ed `whatever.post` remains unloaded\n",
    "            assert hasattr(whatever, post) and not hasattr(getattr(whatever, post), 'post')"
   ]
  },
  {
   "cell_type": "markdown",
   "metadata": {},
   "source": [
    "#### namespace imports"
   ]
  },
  {
   "cell_type": "code",
   "execution_count": 12,
   "metadata": {
    "collapsed": true
   },
   "outputs": [],
   "source": [
    "        if o: assert __import__(post, fromlist=['whatever']).post == post"
   ]
  },
  {
   "cell_type": "markdown",
   "metadata": {},
   "source": [
    "#### object imports"
   ]
  },
  {
   "cell_type": "code",
   "execution_count": 13,
   "metadata": {
    "collapsed": true
   },
   "outputs": [],
   "source": [
    "        if o: assert __import__(post, whatever).post == post"
   ]
  },
  {
   "cell_type": "markdown",
   "metadata": {},
   "source": [
    "## Importer"
   ]
  },
  {
   "cell_type": "markdown",
   "metadata": {},
   "source": [
    "The __Finder__ class will"
   ]
  },
  {
   "cell_type": "code",
   "execution_count": 14,
   "metadata": {},
   "outputs": [
    {
     "data": {
      "text/plain": [
       "'Search paths for files matching `<name>.ipynb`.\\n        '"
      ]
     },
     "execution_count": 14,
     "metadata": {},
     "output_type": "execute_result"
    }
   ],
   "source": [
    "        o and NotebookFinder.find_spec.__doc__"
   ]
  },
  {
   "cell_type": "markdown",
   "metadata": {},
   "source": [
    "The __Loader__ subclasses `SourceFileLoader`"
   ]
  },
  {
   "cell_type": "code",
   "execution_count": 15,
   "metadata": {},
   "outputs": [
    {
     "data": {
      "text/plain": [
       "_frozen_importlib_external.SourceFileLoader"
      ]
     },
     "execution_count": 15,
     "metadata": {},
     "output_type": "execute_result"
    }
   ],
   "source": [
    "        NotebookLoader.__mro__[1]"
   ]
  },
  {
   "cell_type": "markdown",
   "metadata": {},
   "source": [
    "overloading the `get_code` method to execute `nbconvert` before initializing the `Module`"
   ]
  },
  {
   "cell_type": "code",
   "execution_count": 16,
   "metadata": {},
   "outputs": [
    {
     "name": "stdout",
     "output_type": "stream",
     "text": [
      "    def get_code(self, path):\n",
      "        with open(self.path, 'r') as f:\n",
      "            nb = nbformat.read(f, 4)\n",
      "        return export(get_exporter('script'), nb)[0].encode('utf-8')\n",
      "\n"
     ]
    }
   ],
   "source": [
    "        o and print(__import__('inspect').getsource(NotebookLoader.get_code))"
   ]
  },
  {
   "cell_type": "markdown",
   "metadata": {},
   "source": [
    "> Subclassing `SourceFileLoader` and a [suggested modfication](https://docs.python.org/3/library/importlib.html#importlib.abc.InspectLoader.get_code) allows us to take advantage of the entire `python` standard import system.  This opinion avoids writing `load_spec` methods and handling caching."
   ]
  },
  {
   "cell_type": "code",
   "execution_count": 17,
   "metadata": {},
   "outputs": [
    {
     "name": "stdout",
     "output_type": "stream",
     "text": [
      "<module '2017-05-08-imports' from './2017-05-08-imports.ipynb'>\n"
     ]
    },
    {
     "data": {
      "text/plain": [
       "'2017-05-08-imports✌️'"
      ]
     },
     "execution_count": 17,
     "metadata": {},
     "output_type": "execute_result"
    }
   ],
   "source": [
    "        nb = __import__(post)\n",
    "        if not o: post2 = post+'✌️'\n",
    "        o and reload(nb) and nb.post2"
   ]
  }
 ],
 "metadata": {
  "kernelspec": {
   "display_name": "Python 3",
   "language": "python",
   "name": "python3"
  },
  "language_info": {
   "codemirror_mode": {
    "name": "ipython",
    "version": 3
   },
   "file_extension": ".py",
   "mimetype": "text/x-python",
   "name": "python",
   "nbconvert_exporter": "python",
   "pygments_lexer": "ipython3",
   "version": "3.5.3"
  }
 },
 "nbformat": 4,
 "nbformat_minor": 2
}
