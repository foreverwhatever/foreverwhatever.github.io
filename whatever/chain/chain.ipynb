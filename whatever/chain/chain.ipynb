{
 "cells": [
  {
   "cell_type": "code",
   "execution_count": 1,
   "metadata": {
    "collapsed": true
   },
   "outputs": [],
   "source": [
    "import collections\n",
    "from future import builtins\n",
    "from toolz.curried import *\n",
    "import toolz.curried\n",
    "from toolz.functoolz import Compose\n",
    "\n",
    "__all__ = ['Chain', 'chain']"
   ]
  },
  {
   "cell_type": "code",
   "execution_count": 1,
   "metadata": {
    "collapsed": false
   },
   "outputs": [
    {
     "ename": "NameError",
     "evalue": "name 'toolz' is not defined",
     "output_type": "error",
     "traceback": [
      "\u001b[0;31m---------------------------------------------------------------------------\u001b[0m",
      "\u001b[0;31mNameError\u001b[0m                                 Traceback (most recent call last)",
      "\u001b[0;32m<ipython-input-1-6d1f9a881f30>\u001b[0m in \u001b[0;36m<module>\u001b[0;34m()\u001b[0m\n\u001b[0;32m----> 1\u001b[0;31m \u001b[0;32mclass\u001b[0m \u001b[0mNamespace\u001b[0m\u001b[0;34m(\u001b[0m\u001b[0mobject\u001b[0m\u001b[0;34m)\u001b[0m\u001b[0;34m:\u001b[0m\u001b[0;34m\u001b[0m\u001b[0m\n\u001b[0m\u001b[1;32m      2\u001b[0m     imports = (\n\u001b[1;32m      3\u001b[0m         \u001b[0mtoolz\u001b[0m\u001b[0;34m.\u001b[0m\u001b[0mcurried\u001b[0m\u001b[0;34m,\u001b[0m\u001b[0;34m\u001b[0m\u001b[0m\n\u001b[1;32m      4\u001b[0m         \u001b[0moperator\u001b[0m\u001b[0;34m,\u001b[0m\u001b[0;34m\u001b[0m\u001b[0m\n\u001b[1;32m      5\u001b[0m         \u001b[0mbuiltins\u001b[0m\u001b[0;34m,\u001b[0m\u001b[0;34m\u001b[0m\u001b[0m\n",
      "\u001b[0;32m<ipython-input-1-6d1f9a881f30>\u001b[0m in \u001b[0;36mNamespace\u001b[0;34m()\u001b[0m\n\u001b[1;32m      1\u001b[0m \u001b[0;32mclass\u001b[0m \u001b[0mNamespace\u001b[0m\u001b[0;34m(\u001b[0m\u001b[0mobject\u001b[0m\u001b[0;34m)\u001b[0m\u001b[0;34m:\u001b[0m\u001b[0;34m\u001b[0m\u001b[0m\n\u001b[1;32m      2\u001b[0m     imports = (\n\u001b[0;32m----> 3\u001b[0;31m         \u001b[0mtoolz\u001b[0m\u001b[0;34m.\u001b[0m\u001b[0mcurried\u001b[0m\u001b[0;34m,\u001b[0m\u001b[0;34m\u001b[0m\u001b[0m\n\u001b[0m\u001b[1;32m      4\u001b[0m         \u001b[0moperator\u001b[0m\u001b[0;34m,\u001b[0m\u001b[0;34m\u001b[0m\u001b[0m\n\u001b[1;32m      5\u001b[0m         \u001b[0mbuiltins\u001b[0m\u001b[0;34m,\u001b[0m\u001b[0;34m\u001b[0m\u001b[0m\n",
      "\u001b[0;31mNameError\u001b[0m: name 'toolz' is not defined"
     ]
    }
   ],
   "source": [
    "class Namespace(object):\n",
    "    imports = (\n",
    "        toolz.curried,\n",
    "        operator,\n",
    "        builtins,\n",
    "    )\n",
    "    \n",
    "    @property\n",
    "    def namespace(self):\n",
    "        return pipe(\n",
    "            self.imports,\n",
    "            reversed,\n",
    "            map(\n",
    "                lambda x: \n",
    "                x if isinstance(x, dict) \n",
    "                else vars(x)\n",
    "            ), \n",
    "            lambda x: merge(*x),\n",
    "            keyfilter(compose(str.islower, first))\n",
    "        )"
   ]
  },
  {
   "cell_type": "code",
   "execution_count": 37,
   "metadata": {
    "collapsed": false
   },
   "outputs": [],
   "source": [
    "class Chain(Namespace):    \n",
    "    \n",
    "    def __init__(self, *args, **kwargs):\n",
    "        self.tokens = list()\n",
    "        self.args = args\n",
    "        self.kwargs = kwargs\n",
    "        \n",
    "    def __getattr__(self, attr):        \n",
    "        if isinstance(attr, str):\n",
    "            try:\n",
    "                attr = super(Chain, self).namespace[attr]\n",
    "            except AttributeError:\n",
    "                raise AttributeError(attr)\n",
    "            \n",
    "        \n",
    "        if callable(attr) or first(attr) is not '_':\n",
    "            self.tokens.append(\n",
    "                [attr, tuple(), dict(),]\n",
    "            )\n",
    "        \n",
    "        return self\n",
    "    \n",
    "    @staticmethod\n",
    "    def _token_to_function(token):\n",
    "        func, args, kwargs = token\n",
    "        if args or kwargs:\n",
    "            return partial(func, *args, **kwargs)\n",
    "        return func\n",
    "        \n",
    "    @property\n",
    "    def funcs(self):\n",
    "        return pipe(\n",
    "            self.tokens, \n",
    "            map(self._token_to_function),\n",
    "            tuple,\n",
    "        )\n",
    "       \n",
    "    def __call__(self, *args, **kwargs):\n",
    "        self.tokens[-1][1:] = args, kwargs\n",
    "        return self\n",
    "    \n",
    "    def __dir__(self):\n",
    "        return dict.keys(self.namespace)\n",
    "\n",
    "    def compute(self, *args, **kwargs):\n",
    "        if not(args or kwargs):\n",
    "            args = self.args\n",
    "            kwargs = self.kwargs\n",
    "        return self.compose(*args, **kwargs)\n",
    "    \n",
    "    def copy(self):\n",
    "        value = self.__class__(*self.args, **self.kwargs)\n",
    "        value.tokens = self.tokens.copy()\n",
    "        return value\n",
    "    \n",
    "    @property\n",
    "    def compose(self):\n",
    "        return pipe(\n",
    "            self.funcs,\n",
    "            tuple,\n",
    "            reversed,\n",
    "            lambda x: compose(*x),\n",
    "        )\n",
    "            \n",
    "Chain.__getitem__ = Chain.__getattr__\n"
   ]
  },
  {
   "cell_type": "code",
   "execution_count": 56,
   "metadata": {
    "collapsed": false
   },
   "outputs": [],
   "source": [
    "class chain(Chain):\n",
    "    \"\"\"Add a repr method that computes the value\n",
    "    based on the chain args and kwargs.  They can \n",
    "    be overridden in the compute attribute.\"\"\"\n",
    "    def __repr__(self):\n",
    "        value = None\n",
    "        try:\n",
    "            value = self.compute()\n",
    "        except: pass\n",
    "        \n",
    "        if value is not None:\n",
    "            try:\n",
    "                return str(value)\n",
    "            except: pass\n",
    "        \n",
    "        return self.compose.__repr__()"
   ]
  }
 ],
 "metadata": {
  "anaconda-cloud": {
   "environment": null,
   "url": "https://anaconda.org/tonyfast/untitled38"
  },
  "kernelspec": {
   "display_name": "Python [default]",
   "language": "python",
   "name": "python3"
  },
  "language_info": {
   "codemirror_mode": {
    "name": "ipython",
    "version": 3
   },
   "file_extension": ".py",
   "mimetype": "text/x-python",
   "name": "python",
   "nbconvert_exporter": "python",
   "pygments_lexer": "ipython3",
   "version": "3.5.2"
  }
 },
 "nbformat": 4,
 "nbformat_minor": 1
}
