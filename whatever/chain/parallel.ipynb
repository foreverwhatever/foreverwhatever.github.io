{
 "cells": [
  {
   "cell_type": "code",
   "execution_count": 1,
   "metadata": {
    "collapsed": true
   },
   "outputs": [],
   "source": [
    "try:\n",
    "    from .sugar import SugarChain\n",
    "except:\n",
    "    from sugar import SugarChain\n",
    "import joblib\n",
    "from toolz.curried import *"
   ]
  },
  {
   "cell_type": "code",
   "execution_count": 58,
   "metadata": {
    "collapsed": true
   },
   "outputs": [],
   "source": [
    "@curry\n",
    "def parallelize(func, args, n_jobs=4):\n",
    "    \"\"\"Parallelize an operation with joblib.\"\"\"\n",
    "    return joblib.Parallel(n_jobs=n_jobs)(\n",
    "        joblib.delayed(func)(arg) for arg in args\n",
    "    )"
   ]
  },
  {
   "cell_type": "code",
   "execution_count": 60,
   "metadata": {
    "collapsed": false
   },
   "outputs": [],
   "source": [
    "class pchain(SugarChain):\n",
    "    \"\"\"A Parallelized chain.\"\"\"\n",
    "    def __init__(self, *args, **kwargs):\n",
    "        n_jobs = 4\n",
    "        if 'n_jobs' in kwargs: \n",
    "            n_jobs = kwargs['n_jobs']\n",
    "            kwargs = dissoc(kwargs, 'n_jobs')\n",
    "            \n",
    "        self.n_jobs = n_jobs\n",
    "        super(pchain, self).__init__(*args, **kwargs)\n",
    "    \n",
    "    def __mul__(self, value):\n",
    "        return self[parallelize(value, n_jobs=self.n_jobs)]"
   ]
  }
 ],
 "metadata": {
  "anaconda-cloud": {
   "environment": null,
   "url": "https://anaconda.org/tonyfast/untitled38"
  },
  "kernelspec": {
   "display_name": "Python [default]",
   "language": "python",
   "name": "python3"
  },
  "language_info": {
   "codemirror_mode": {
    "name": "ipython",
    "version": 3
   },
   "file_extension": ".py",
   "mimetype": "text/x-python",
   "name": "python",
   "nbconvert_exporter": "python",
   "pygments_lexer": "ipython3",
   "version": "3.5.2"
  }
 },
 "nbformat": 4,
 "nbformat_minor": 1
}
