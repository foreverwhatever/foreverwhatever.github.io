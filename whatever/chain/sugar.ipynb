{
 "cells": [
  {
   "cell_type": "code",
   "execution_count": 1,
   "metadata": {
    "collapsed": true
   },
   "outputs": [],
   "source": [
    "try:\n",
    "    from .chain import chain\n",
    "except:\n",
    "    from chain import chain\n",
    "\n",
    "import collections\n",
    "from toolz.curried import *"
   ]
  },
  {
   "cell_type": "code",
   "execution_count": 57,
   "metadata": {
    "collapsed": true
   },
   "outputs": [],
   "source": [
    "class Sugar:\n",
    "    def __add__(self, value):\n",
    "        \"\"\"Filter values\n",
    "        chain(5).range + flip(operator.gt)(2)\n",
    "        \"\"\"\n",
    "        return self.filter(value)\n",
    "\n",
    "    def __gt__(self, value):\n",
    "        \"\"\"Execute a chain.\n",
    "        chain(5).range > identity = range(5)\n",
    "        \"\"\"\n",
    "        if value is compose:\n",
    "            return self.compute\n",
    "        return self[value].copy()\n",
    "    \n",
    "    def __mul__(self, value):\n",
    "        \"\"\"Map a function.\n",
    "        chain(5).range + flip(operator.mul)(2)\n",
    "        \"\"\"\n",
    "        return self.map(value)\n",
    "    \n",
    "    def __or__(self, value):\n",
    "        \"\"\"Pipe functions together.\n",
    "        chain(5).range | list | len\n",
    "        \"\"\"\n",
    "        return self[value]\n"
   ]
  },
  {
   "cell_type": "code",
   "execution_count": 59,
   "metadata": {
    "collapsed": true
   },
   "outputs": [],
   "source": [
    "class SugarChain(chain, Sugar):\n",
    "    def __getitem__(self, value):\n",
    "        if isinstance(value, dict):\n",
    "            return super(SugarChain, self).__getattr__(\n",
    "                lambda x: valmap(lambda f: f(x) if callable(f) else f, value)\n",
    "            )\n",
    "\n",
    "        if not isinstance(value, str) and isinstance(value, collections.Iterable):\n",
    "            return super(SugarChain, self).__getattr__(\n",
    "                compose(type(value), juxt(*value))\n",
    "            )\n",
    "        \n",
    "        return super(SugarChain, self).__getattr__(value)"
   ]
  },
  {
   "cell_type": "code",
   "execution_count": null,
   "metadata": {
    "collapsed": true
   },
   "outputs": [],
   "source": [
    "class sweet(SugarChain):\n",
    "    pass"
   ]
  },
  {
   "cell_type": "code",
   "execution_count": 60,
   "metadata": {
    "collapsed": false
   },
   "outputs": [],
   "source": [
    "class _x(SugarChain):\n",
    "    \"\"\"Shorthand\"\"\"\n",
    "    @property\n",
    "    def _(self): return self.compute\n",
    "\n",
    "class __x(SugarChain):\n",
    "    \"\"\"Shorthand\"\"\"\n",
    "    @property\n",
    "    def __(self): return self.compute"
   ]
  }
 ],
 "metadata": {
  "anaconda-cloud": {
   "environment": null,
   "url": "https://anaconda.org/tonyfast/untitled38"
  },
  "kernelspec": {
   "display_name": "Python [default]",
   "language": "python",
   "name": "python3"
  },
  "language_info": {
   "codemirror_mode": {
    "name": "ipython",
    "version": 3
   },
   "file_extension": ".py",
   "mimetype": "text/x-python",
   "name": "python",
   "nbconvert_exporter": "python",
   "pygments_lexer": "ipython3",
   "version": "3.5.2"
  }
 },
 "nbformat": 4,
 "nbformat_minor": 1
}
