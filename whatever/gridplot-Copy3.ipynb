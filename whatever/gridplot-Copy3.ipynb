{
 "cells": [
  {
   "cell_type": "markdown",
   "metadata": {},
   "source": [
    "Visual models are best for people, numerical models are for machines.  Bokeh's visual interactions and static embedding make it the best candidate for data science.  Interacting with information allows the viewer to draw their own unique insights; static visualizations will only tell the creator's story.\n",
    "\n",
    "This notebook designs a Object Oriented/Functional API for interactive grid plots in Bokeh; this extends a [previous post](https://foreverwhatever.github.io/2017/06/29/GridPlot-In-Bokeh.html)."
   ]
  },
  {
   "cell_type": "code",
   "execution_count": 1,
   "metadata": {
    "collapsed": true
   },
   "outputs": [],
   "source": [
    "    import pandas as pd\n",
    "    from bokeh import plotting, models, layouts, resources\n",
    "    from operator import gt, lt, eq\n",
    "    from functools import wraps\n",
    "    from coffeetools import coffee\n",
    "    plotting.output_notebook()\n",
    "\n",
    "    import collections"
   ]
  },
  {
   "cell_type": "code",
   "execution_count": 4,
   "metadata": {
    "collapsed": true
   },
   "outputs": [],
   "source": [
    "    df = pd.util.testing.makeDataFrame().reset_index(drop=True)"
   ]
  },
  {
   "cell_type": "code",
   "execution_count": 28,
   "metadata": {
    "collapsed": true
   },
   "outputs": [],
   "source": [
    "    class DeepChainMap(collections.ChainMap):\n",
    "        def __setitem__(self, key, value):\n",
    "            for mapping in self.maps:\n",
    "                if key in mapping:\n",
    "                    mapping[key] = value\n",
    "                    return\n",
    "            self.maps[0][key] = value\n",
    "\n",
    "        def __delitem__(self, key):\n",
    "            for mapping in self.maps:\n",
    "                if key in mapping:\n",
    "                    del mapping[key]\n",
    "                    return\n",
    "            raise KeyError(key)"
   ]
  },
  {
   "cell_type": "code",
   "execution_count": 44,
   "metadata": {
    "collapsed": true
   },
   "outputs": [],
   "source": [
    "    def create_sources(df, agg=pd.Series.describe):\n",
    "        return DeepChainMap(\n",
    "            {None: df}\n",
    "        ).new_child(\n",
    "            {None: df.pipe(plotting.ColumnDataSource)}\n",
    "        ).new_child(\n",
    "            {_: df[_].pipe(agg) for _ in df.columns})"
   ]
  },
  {
   "cell_type": "code",
   "execution_count": 45,
   "metadata": {},
   "outputs": [
    {
     "data": {
      "text/html": [
       "<div style=\"display: table;\"><div style=\"display: table-row;\"><div style=\"display: table-cell;\"><b title=\"bokeh.models.sources.ColumnDataSource\">ColumnDataSource</b>(</div><div style=\"display: table-cell;\">id&nbsp;=&nbsp;'903a0161-e14e-49c7-b21e-ab8d2fb8cfe8', <span id=\"3424cec3-79f1-43eb-affa-e56b9e183665\" style=\"cursor: pointer;\">&hellip;)</span></div></div><div class=\"2e0046a8-b160-4406-a478-69a2c84c6730\" style=\"display: none;\"><div style=\"display: table-cell;\"></div><div style=\"display: table-cell;\">callback&nbsp;=&nbsp;None,</div></div><div class=\"2e0046a8-b160-4406-a478-69a2c84c6730\" style=\"display: none;\"><div style=\"display: table-cell;\"></div><div style=\"display: table-cell;\">column_names&nbsp;=&nbsp;['C', 'D', 'B', 'A', 'index'],</div></div><div class=\"2e0046a8-b160-4406-a478-69a2c84c6730\" style=\"display: none;\"><div style=\"display: table-cell;\"></div><div style=\"display: table-cell;\">data&nbsp;=&nbsp;{'C': {'shape': (30,), 'dtype': 'float64', '__ndarray__': 'OR/1jq0r0z9yzjsQaO/0P5fKx/Nn8OQ/JF8jSegD9D9MusZUJBq8P1TeQLy3gNa/u6boR1Wx4r+fDIFT3Bj5vz2iHlotm+i/nZs0YRU3yb9MBBymafL2v8LSo8c1p/G/Kya0b7k/0D8MOV/19bnFP44+Qze1dfC/KfSvpTBa5L/F1zk/PAvwvwjFEqVvTOO/InfHnI4G4L8T4eTjBigEQER8oIc7hPA/KlHWxGIGs79rmgJ1MTPQv1/fZ1bK3PA/hx4S7VlD+T+OFfL4MkTpPzQFGD6AQvS/EUEC94ag479UTb0xv0X4v6zlECQPHfM/'}, 'D': {'shape': (30,), 'dtype': 'float64', '__ndarray__': 'mM0k9PG02j9t30acYSbjv5PDA4FUL+K/ya+FFbNU6D8GPEvH4gfyP6jr+v2AE/+/c1zBatRRxL/GeQ/icla8v5gdMMk/Fuy/qz9dp8Ds0r8wsf5CZWPvv8ohrHIJEQFAkJG/mkvo5z/M0niK+Ga+v2VWu10T6dW/QHk2l6+o2b8vOOAL13vmv/JAOf9ioPQ/x1ax7d6K4b+6HBE6ZZDSv3o8BkkDHck/KlTVv9Ya2787ARBblsbyv92Z0l63YgPADhmM4Vyl3j+PwuDPZ7jkP6N0uMmWPu+/sQMGCun/17+5FaxeVtHNv3UwByQYqdo/'}, 'B': {'shape': (30,), 'dtype': 'float64', '__ndarray__': 'bY+l8ajZ0z9H4dz+8Pq1PyYssZQdIOe/4k0Yk1PW+b+RA9xWK4/Kv/Oo/ElKX/s/1xbk0kxe3b+QKyf3Oi/YPw5+a7O5x9m/NIrZ7Ija1T9vmTWRCQn0PzB4Hw5e0ue/fFXGWiju+r9s/VHGhijwvwUU7AVIJfG/cAjMX77VyT8f3yP/t2TiPwsuUyrKsOY/eddwHqvQtr9fZskpkmrhvwAxId4X/au/BgUTVIxb9r/frsWSB57lvyVnezZ6js8/vCGRfNh817+EUYbmj6DEPzjhS/NtCYU/zQkFvwEhxL/NYJjXi93iP/GiXhLGhuo/'}, 'A': {'shape': (30,), 'dtype': 'float64', '__ndarray__': 'LNxQkl1m9j/mM7laPgz1P6t9/mzhk7W/cWXpPjruyL84qInmQEzxv7/NeVDoIdY/fG0rmu5N/L8PX9oUTQ3zv3fE3cZZHsk/yA4QTvt24z9WxPmQhPHpP8OfuIL1Hdg/tiA8S2rntL+nZaCNpkjpP8Pi4hYKNwDAiDtt39335T/V/d5ngR3hP6Y/Awc+hd0/N9W6J3kooD8q9mF44xn5vwbQ0L60D+0/MSgm2XTP5b98YIrxrAToP37ABbnU9a0/WtnF9KxV5r9PJkWrt0ztPy/wzeFdgvi/4NbbXrT8979F5aNEUJntv5JoYamakP6/'}, 'index': [0, 1, 2, 3, 4, 5, 6, 7, 8, 9, 10, 11, 12, 13, 14, 15, 16, 17, 18, 19, 20, 21, 22, 23, 24, 25, 26, 27, 28, 29]},</div></div><div class=\"2e0046a8-b160-4406-a478-69a2c84c6730\" style=\"display: none;\"><div style=\"display: table-cell;\"></div><div style=\"display: table-cell;\">js_event_callbacks&nbsp;=&nbsp;{},</div></div><div class=\"2e0046a8-b160-4406-a478-69a2c84c6730\" style=\"display: none;\"><div style=\"display: table-cell;\"></div><div style=\"display: table-cell;\">js_property_callbacks&nbsp;=&nbsp;{},</div></div><div class=\"2e0046a8-b160-4406-a478-69a2c84c6730\" style=\"display: none;\"><div style=\"display: table-cell;\"></div><div style=\"display: table-cell;\">name&nbsp;=&nbsp;None,</div></div><div class=\"2e0046a8-b160-4406-a478-69a2c84c6730\" style=\"display: none;\"><div style=\"display: table-cell;\"></div><div style=\"display: table-cell;\">selected&nbsp;=&nbsp;{'1d': {'indices': []}, '2d': {'indices': {}}, '0d': {'indices': [], 'glyph': None}},</div></div><div class=\"2e0046a8-b160-4406-a478-69a2c84c6730\" style=\"display: none;\"><div style=\"display: table-cell;\"></div><div style=\"display: table-cell;\">subscribed_events&nbsp;=&nbsp;[],</div></div><div class=\"2e0046a8-b160-4406-a478-69a2c84c6730\" style=\"display: none;\"><div style=\"display: table-cell;\"></div><div style=\"display: table-cell;\">tags&nbsp;=&nbsp;[])</div></div></div>\n",
       "<script>\n",
       "(function() {\n",
       "  var expanded = false;\n",
       "  var ellipsis = document.getElementById(\"3424cec3-79f1-43eb-affa-e56b9e183665\");\n",
       "  ellipsis.addEventListener(\"click\", function() {\n",
       "    var rows = document.getElementsByClassName(\"2e0046a8-b160-4406-a478-69a2c84c6730\");\n",
       "    for (var i = 0; i < rows.length; i++) {\n",
       "      var el = rows[i];\n",
       "      el.style.display = expanded ? \"none\" : \"table-row\";\n",
       "    }\n",
       "    ellipsis.innerHTML = expanded ? \"&hellip;)\" : \"&lsaquo;&lsaquo;&lsaquo;\";\n",
       "    expanded = !expanded;\n",
       "  });\n",
       "})();\n",
       "</script>\n"
      ],
      "text/plain": [
       "ColumnDataSource(id='903a0161-e14e-49c7-b21e-ab8d2fb8cfe8', ...)"
      ]
     },
     "execution_count": 45,
     "metadata": {},
     "output_type": "execute_result"
    }
   ],
   "source": [
    "    create_sources(df)[None]"
   ]
  },
  {
   "cell_type": "code",
   "execution_count": 46,
   "metadata": {},
   "outputs": [
    {
     "ename": "SyntaxError",
     "evalue": "unexpected EOF while parsing (<ipython-input-46-98293e82d216>, line 8)",
     "output_type": "error",
     "traceback": [
      "\u001b[0;36m  File \u001b[0;32m\"<ipython-input-46-98293e82d216>\"\u001b[0;36m, line \u001b[0;32m8\u001b[0m\n\u001b[0;31m    \u001b[0m\n\u001b[0m    ^\u001b[0m\n\u001b[0;31mSyntaxError\u001b[0m\u001b[0;31m:\u001b[0m unexpected EOF while parsing\n"
     ]
    }
   ],
   "source": [
    "    class Plots(object):\n",
    "        def __init__(self, df, features=None):\n",
    "            self.sources = create_sources(df)\n",
    "            self.features = features or list(df.columns)\n",
    "            self.figures = collections.defaultdict(plotting.Figure)\n",
    "            \n",
    "        "
   ]
  },
  {
   "cell_type": "markdown",
   "metadata": {},
   "source": [
    "* Every figure is a collection of figures.  \n",
    "* A single figure is one row and column.\n",
    "* Every Glyph requires a data source to exist first.\n",
    "  * Use __getitem__ method to access data source.  \n",
    "* Apply glyphs to a data source.  The data source will append glyph to figures because on some iterables.\n",
    "    "
   ]
  },
  {
   "cell_type": "code",
   "execution_count": null,
   "metadata": {},
   "outputs": [],
   "source": [
    "    def bintrue(a, b):\n",
    "        return True"
   ]
  },
  {
   "cell_type": "code",
   "execution_count": null,
   "metadata": {},
   "outputs": [],
   "source": [
    "    from operator import eq, lt, gt"
   ]
  },
  {
   "cell_type": "code",
   "execution_count": null,
   "metadata": {},
   "outputs": [],
   "source": [
    "    def replaceRowCol(obj, **kwargs):\n",
    "        if isinstance(obj, str):\n",
    "            obj = obj.format(**kwargs)\n",
    "        if isinstance(obj, dict):\n",
    "            obj = {k: replaceRowCol(v, **kwargs) for k, v in obj.items()} \n",
    "        return obj"
   ]
  },
  {
   "cell_type": "code",
   "execution_count": null,
   "metadata": {},
   "outputs": [],
   "source": [
    "    class Missing:\n",
    "        def __missing__(self, key):\n",
    "            self[key] = self.default()\n",
    "            return self[key]\n",
    "\n",
    "    class Iter:\n",
    "        def __init__(self, sources=None, rows=None, columns=None, figures=None, glyph=None):\n",
    "            if isinstance(sources, plotting.ColumnDataSource):\n",
    "                sources = {None: sources}\n",
    "            self.sources, self.figures = sources or Sources(), figures or Figures()\n",
    "            self.rows, self.columns, self.glyph = rows, columns or rows, glyph\n",
    "            rows and [self.figures[r][c] for r, c in self]\n",
    "            \n",
    "        def __iter__(self):\n",
    "            for i, row in enumerate(self.rows or self.figures):\n",
    "                for j, col in enumerate(self.columns or self.figures[row]):\n",
    "                    \n",
    "                    if self.cmp(i, j):\n",
    "                        yield row, col\n",
    "            \n",
    "        def __call__(self, **kwargs):\n",
    "            for source in self.sources.values():\n",
    "                for row, col in self:\n",
    "                    self.figures[row][col].add_glyph(\n",
    "                        source, self.glyph(**replaceRowCol(kwargs, row=row, col=col)))\n",
    "            return self\n",
    "                        \n",
    "        def __getattr__(self, attr):\n",
    "            self.glyph = getattr(models, attr)\n",
    "            return self\n",
    "        \n",
    "    class Diagonal(Iter):\n",
    "        cmp = staticmethod(eq)\n",
    "        \n",
    "    class Upper(Iter):\n",
    "        cmp = staticmethod(lt)\n",
    "\n",
    "    class Lower(Iter):\n",
    "        cmp = staticmethod(gt)\n",
    "\n",
    "    class All(Iter):\n",
    "        cmp = staticmethod(bintrue)"
   ]
  },
  {
   "cell_type": "code",
   "execution_count": null,
   "metadata": {},
   "outputs": [],
   "source": [
    "    from collections import ChainMap"
   ]
  },
  {
   "cell_type": "code",
   "execution_count": null,
   "metadata": {
    "collapsed": true
   },
   "outputs": [],
   "source": [
    "    "
   ]
  },
  {
   "cell_type": "code",
   "execution_count": null,
   "metadata": {
    "collapsed": true
   },
   "outputs": [],
   "source": [
    "    class Explore(object):\n",
    "        class __init__"
   ]
  },
  {
   "cell_type": "markdown",
   "metadata": {},
   "source": [
    "* __figures__\n",
    "\n",
    "    The keys are rows and columns.\n",
    "   \n",
    "   \n",
    "* There are multiple datasources to support categorical data and the diagonals.\n"
   ]
  },
  {
   "cell_type": "code",
   "execution_count": null,
   "metadata": {
    "collapsed": true
   },
   "outputs": [],
   "source": [
    "    "
   ]
  },
  {
   "cell_type": "code",
   "execution_count": null,
   "metadata": {},
   "outputs": [],
   "source": [
    "    class Row(collections.OrderedDict, Missing):\n",
    "        default = staticmethod(lambda **kwargs: plotting.Figure(\n",
    "            **kwargs, width=200, height=200\n",
    "        ))\n",
    "\n",
    "    class Figures(collections.OrderedDict, Missing):\n",
    "        default = staticmethod(Row)\n",
    "\n",
    "    class Sources(collections.OrderedDict, Missing):\n",
    "        default = staticmethod(models.ColumnDataSource)\n",
    "        \n",
    "    class Grid(All):\n",
    "        def __getitem__(self, key=None, cls=All):\n",
    "            return cls(self.sources[key], self.rows, self.columns, self.figures)\n",
    "        \n",
    "        @property\n",
    "        def diagonal(self):\n",
    "            return self.__getitem__(cls=Diagonal)\n",
    "\n",
    "        @property\n",
    "        def upper(self):\n",
    "            return self.__getitem__(cls=Upper)\n",
    "\n",
    "        @property\n",
    "        def lower(self):\n",
    "            return self.__getitem__(cls=Lower)\n",
    "\n",
    "        @property\n",
    "        def all(self):\n",
    "            return self.__getitem__(cls=All)\n",
    "\n",
    "        @property\n",
    "        def _figures(self):\n",
    "            [self.figures[r][c] for r, c in self]\n",
    "            return \n",
    "        \n",
    "        def show(self):\n",
    "            return layouts.gridplot(self._figures, ncols=len(self.figures))"
   ]
  },
  {
   "cell_type": "code",
   "execution_count": null,
   "metadata": {},
   "outputs": [],
   "source": [
    "    df = pd.util.testing.makeDataFrame().reset_index(drop=True)"
   ]
  },
  {
   "cell_type": "code",
   "execution_count": null,
   "metadata": {},
   "outputs": [],
   "source": [
    "    g = Grid(df.pipe(plotting.ColumnDataSource), ['A', 'B', 'C'])\n",
    "\n",
    "    g.upper.Circle(x='{row}', y='{col}')\n",
    "    g.lower.X(x='{row}', y='{col}')\n",
    "\n",
    "    plotting.show(g.show())"
   ]
  },
  {
   "cell_type": "code",
   "execution_count": null,
   "metadata": {
    "collapsed": true
   },
   "outputs": [],
   "source": []
  },
  {
   "cell_type": "code",
   "execution_count": null,
   "metadata": {
    "collapsed": true
   },
   "outputs": [],
   "source": []
  }
 ],
 "metadata": {
  "kernelspec": {
   "display_name": "Python 3",
   "language": "python",
   "name": "python3"
  },
  "language_info": {
   "codemirror_mode": {
    "name": "ipython",
    "version": 3
   },
   "file_extension": ".py",
   "mimetype": "text/x-python",
   "name": "python",
   "nbconvert_exporter": "python",
   "pygments_lexer": "ipython3",
   "version": "3.5.3"
  }
 },
 "nbformat": 4,
 "nbformat_minor": 2
}
