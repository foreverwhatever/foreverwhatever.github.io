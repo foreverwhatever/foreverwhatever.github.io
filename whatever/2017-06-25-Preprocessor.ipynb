{
 "cells": [
  {
   "cell_type": "markdown",
   "metadata": {},
   "source": [
    "# A decorator to create nbconvert preprocessors.\n",
    "\n",
    "This notebook makes it easier to create preprocessors for __nbconvert__.  These should work on an existing exporter.\n",
    "\n",
    "* https://github.com/jupyter/nbconvert-examples/blob/master/custom_preprocessor/cheese_preprocessor.py\n",
    "* http://python-3-patterns-idioms-test.readthedocs.io/en/latest/PythonDecorators.html#function-decorators"
   ]
  },
  {
   "cell_type": "code",
   "execution_count": 1,
   "metadata": {
    "collapsed": true
   },
   "outputs": [],
   "source": [
    "    from IPython import get_ipython"
   ]
  },
  {
   "cell_type": "code",
   "execution_count": 2,
   "metadata": {
    "collapsed": true
   },
   "outputs": [],
   "source": [
    "    o = __name__ == '__main__'\n",
    "    if o:\n",
    "        %load_ext literacy.template"
   ]
  },
  {
   "cell_type": "code",
   "execution_count": 3,
   "metadata": {},
   "outputs": [
    {
     "data": {
      "text/markdown": [
       "* There is a decorator that does that following\n",
       "\n",
       " * Let's make a simple cell `from nbconvert.preprocessors import Preprocessor` that appends the cell index to the cell metadata."
      ],
      "text/plain": [
       "<IPython.core.display.Markdown object>"
      ]
     },
     "metadata": {},
     "output_type": "display_data"
    }
   ],
   "source": [
    "* There is a decorator that does that following\n",
    "\n",
    " * Let's make a simple cell `from nbconvert.preprocessors import Preprocessor` that appends the cell index to the cell metadata.\n"
   ]
  },
  {
   "cell_type": "code",
   "execution_count": 4,
   "metadata": {},
   "outputs": [
    {
     "data": {
      "text/markdown": [
       "The basic structure of __SomeNewPreProcessor__ is:\n",
       "\n",
       "    class SomeNewPreProcessor(Preprocessor): \n",
       "        def preprocess(self, nb, resources={}):\n",
       "            return nb, resources\n",
       "\n",
       "        def preprocess_cell(self, nb, resources, index):\n",
       "            return nb, resources"
      ],
      "text/plain": [
       "<IPython.core.display.Markdown object>"
      ]
     },
     "metadata": {},
     "output_type": "display_data"
    }
   ],
   "source": [
    "The basic structure of __SomeNewPreProcessor__ is:\n",
    "\n",
    "    class SomeNewPreProcessor(Preprocessor): \n",
    "        def preprocess(self, nb, resources={}):\n",
    "            return nb, resources\n",
    "\n",
    "        def preprocess_cell(self, nb, resources, index):\n",
    "            return nb, resources"
   ]
  },
  {
   "cell_type": "code",
   "execution_count": 5,
   "metadata": {},
   "outputs": [
    {
     "data": {
      "text/markdown": [
       "    import typing"
      ],
      "text/plain": [
       "<IPython.core.display.Markdown object>"
      ]
     },
     "metadata": {},
     "output_type": "display_data"
    }
   ],
   "source": [
    "    import typing"
   ]
  },
  {
   "cell_type": "code",
   "execution_count": 6,
   "metadata": {},
   "outputs": [
    {
     "data": {
      "text/markdown": [
       "## The *@preprocess_cell* decorator\n",
       "        \n",
       "    def preprocess_cell(f: typing.Callable[[__import__(\"nbformat\").NotebookNode, dict, int], Preprocessor]):\n",
       "        return type(f.__name__, (Preprocessor, ), {\"preprocess_cell\": f})"
      ],
      "text/plain": [
       "<IPython.core.display.Markdown object>"
      ]
     },
     "metadata": {},
     "output_type": "display_data"
    }
   ],
   "source": [
    "## The *@preprocess_cell* decorator\n",
    "        \n",
    "    def preprocess_cell(f: typing.Callable[[__import__(\"nbformat\").NotebookNode, dict, int], Preprocessor]):\n",
    "        return type(f.__name__, (Preprocessor, ), {\"preprocess_cell\": f})"
   ]
  },
  {
   "cell_type": "code",
   "execution_count": 7,
   "metadata": {},
   "outputs": [
    {
     "data": {
      "text/markdown": [
       "### The *NumberCell* example 🚀\n",
       "--- \n",
       "Append the cell index to the cell metadata.\n",
       "\n",
       "    @preprocess_cell\n",
       "    def NumberCell(self, cell, resources, index):\n",
       "        cell['metadata'].update(index=index)\n",
       "        return cell, resources"
      ],
      "text/plain": [
       "<IPython.core.display.Markdown object>"
      ]
     },
     "metadata": {},
     "output_type": "display_data"
    }
   ],
   "source": [
    "### The *NumberCell* example 🚀\n",
    "--- \n",
    "Append the cell index to the cell metadata.\n",
    "\n",
    "    @preprocess_cell\n",
    "    def NumberCell(self, cell, resources, index):\n",
    "        cell['metadata'].update(index=index)\n",
    "        return cell, resources"
   ]
  },
  {
   "cell_type": "code",
   "execution_count": 9,
   "metadata": {},
   "outputs": [
    {
     "data": {
      "text/markdown": [
       "## Test `NumberCell;`\n",
       "\n",
       "    from nbconvert import export, get_exporter\n",
       "\n",
       "    exporter = get_exporter('notebook')(config={\n",
       "        'Exporter': {'preprocessors': [NumberCell]}})\n",
       "\n",
       "    #         print(exporter.from_filename('2017-06-25-Prepro.ipynb')[0])\n",
       "    \n",
       "---"
      ],
      "text/plain": [
       "<IPython.core.display.Markdown object>"
      ]
     },
     "metadata": {},
     "output_type": "display_data"
    }
   ],
   "source": [
    "## Test `NumberCell;`\n",
    "\n",
    "    from nbconvert import export, get_exporter\n",
    "\n",
    "    exporter = get_exporter('notebook')(config={\n",
    "        'Exporter': {'preprocessors': [NumberCell]}})\n",
    "\n",
    "    #         print(exporter.from_filename('2017-06-25-Prepro.ipynb')[0])\n",
    "    \n",
    "---"
   ]
  },
  {
   "cell_type": "markdown",
   "metadata": {},
   "source": [
    "# Lets make a config file\n",
    "\n",
    "> <del>The code is commented out so the conversion works.</del>"
   ]
  },
  {
   "cell_type": "code",
   "execution_count": 10,
   "metadata": {},
   "outputs": [
    {
     "data": {
      "text/markdown": [
       "    #     %%file number.py\n",
       "    #     c.Exporter.preprocessors = ['whatever.2017-06-25-Preprocessor.NumberCell']"
      ],
      "text/plain": [
       "<IPython.core.display.Markdown object>"
      ]
     },
     "metadata": {},
     "output_type": "display_data"
    }
   ],
   "source": [
    "    #     %%file number.py\n",
    "    #     c.Exporter.preprocessors = ['whatever.2017-06-25-Preprocessor.NumberCell']"
   ]
  },
  {
   "cell_type": "code",
   "execution_count": 11,
   "metadata": {},
   "outputs": [
    {
     "data": {
      "text/markdown": [
       "    if o: \n",
       "        !jupyter nbconvert --to notebook --config number.py 2017-06-25-Preprocessor.ipynb"
      ],
      "text/plain": [
       "<IPython.core.display.Markdown object>"
      ]
     },
     "metadata": {},
     "output_type": "display_data"
    },
    {
     "name": "stdout",
     "output_type": "stream",
     "text": [
      "[NbConvertApp] Converting notebook 2017-06-25-Preprocessor.ipynb to notebook\r\n",
      "[NbConvertApp] Writing 8091 bytes to 2017-06-25-Preprocessor.nbconvert.ipynb\r\n"
     ]
    }
   ],
   "source": [
    "    if o: \n",
    "        !jupyter nbconvert --to notebook --config number.py 2017-06-25-Preprocessor.ipynb"
   ]
  }
 ],
 "metadata": {
  "description": "A decorator to easily make nbconvert preprocessors.",
  "kernelspec": {
   "display_name": "Python 3",
   "language": "python",
   "name": "python3"
  },
  "language_info": {
   "codemirror_mode": {
    "name": "ipython",
    "version": 3
   },
   "file_extension": ".py",
   "mimetype": "text/x-python",
   "name": "python",
   "nbconvert_exporter": "python",
   "pygments_lexer": "ipython3",
   "version": "3.5.3"
  },
  "layout": "post"
 },
 "nbformat": 4,
 "nbformat_minor": 2
}
