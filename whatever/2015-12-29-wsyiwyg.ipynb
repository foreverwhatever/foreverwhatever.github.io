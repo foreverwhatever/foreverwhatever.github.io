{
 "cells": [
  {
   "cell_type": "markdown",
   "metadata": {
    "collapsed": true
   },
   "source": [
    "        {% raw %}"
   ]
  },
  {
   "cell_type": "markdown",
   "metadata": {},
   "source": [
    "# development"
   ]
  },
  {
   "cell_type": "code",
   "execution_count": 15,
   "metadata": {
    "collapsed": true
   },
   "outputs": [],
   "source": [
    "        import random; from IPython import display; o = __name__ == '__main__'"
   ]
  },
  {
   "cell_type": "markdown",
   "metadata": {},
   "source": [
    "## conversion"
   ]
  },
  {
   "cell_type": "code",
   "execution_count": 16,
   "metadata": {},
   "outputs": [
    {
     "name": "stdout",
     "output_type": "stream",
     "text": [
      "[NbConvertApp] Converting notebook 2015-12-28-jekyll-and-jupyter.ipynb to markdown\n",
      "[NbConvertApp] Writing 10459 bytes to ../_posts/2015-12-28-jekyll-and-jupyter.md\n",
      "\n",
      "real\t0m0.909s\n",
      "user\t0m0.819s\n",
      "sys\t0m0.072s\n"
     ]
    }
   ],
   "source": [
    "        !time jupyter nbconvert --config ../_layouts/markdown.py --output-dir ../_posts --template ../_layouts/jekyll.md.tpl 2015-12-28-jekyll-and-jupyter.ipynb"
   ]
  },
  {
   "cell_type": "markdown",
   "metadata": {},
   "source": [
    "## `watchdog`\n",
    "\n",
    "        "
   ]
  },
  {
   "cell_type": "code",
   "execution_count": 17,
   "metadata": {},
   "outputs": [
    {
     "name": "stdout",
     "output_type": "stream",
     "text": [
      "Overwriting tricks.yml\n"
     ]
    }
   ],
   "source": [
    "        %%file tricks.yml\n",
    "        tricks:\n",
    "        - watchdog.tricks.ShellCommandTrick:\n",
    "            patterns: ['*.ipynb']\n",
    "            ignore_patterns: [\"*~*.ipynb\",  \"*-checkpoint.ipynb\"]\n",
    "            shell_command: >\n",
    "                jupyter nbconvert \n",
    "                --config ../_layouts/markdown.py --template ../_layouts/jekyll.md.tpl \n",
    "                --output-dir ../_posts  \"${watch_src_path}\""
   ]
  },
  {
   "cell_type": "markdown",
   "metadata": {},
   "source": [
    "        {% endraw %}"
   ]
  },
  {
   "cell_type": "markdown",
   "metadata": {},
   "source": [
    "## services\n",
    "\n",
    "The services automatically ⓵ convert `notebook`s to `front matter/markdown`  & ⓶ compile and serve the static `jekyll` site.\n",
    "\n",
    "⓵ __convert `notebooks` to `markdown`__ Run `watchdog`'s `watchmedo` scripts that runs `tricks.yml`.  `watchdog` runs in a separate thread and does not interrupt any notebook services directly.  `post_save_hook` approaches can cause some lag in the `notebook` experience.\n",
    "\n",
    "⓶ __serve `jekyll`__ - watch for incremental changes to `_posts` and `_pages`.  each page updates after `watchdog` transformed a `notebook`"
   ]
  },
  {
   "cell_type": "markdown",
   "metadata": {},
   "source": [
    "> ### in `notebook` mode\n",
    "\n",
    "Open __<del>2</del>__ terminals "
   ]
  },
  {
   "cell_type": "code",
   "execution_count": 18,
   "metadata": {
    "collapsed": true
   },
   "outputs": [],
   "source": [
    "        terminal = lambda alias: display.IFrame(\n",
    "            \"http://localhost:8888/terminals/{}\".format(alias or random.randint()), width=900, height=350)"
   ]
  },
  {
   "cell_type": "markdown",
   "metadata": {},
   "source": [
    "to observe the conversions with the following `commands`"
   ]
  },
  {
   "cell_type": "code",
   "execution_count": 19,
   "metadata": {
    "collapsed": true
   },
   "outputs": [],
   "source": [
    "        commands = \"\"\"watchmedo tricks-from tricks.yml\n",
    "        jekyll serve -wit\"\"\""
   ]
  },
  {
   "cell_type": "markdown",
   "metadata": {},
   "source": [
    "---"
   ]
  },
  {
   "cell_type": "code",
   "execution_count": 20,
   "metadata": {
    "collapsed": true
   },
   "outputs": [],
   "source": [
    "        def comment(data: display.display):\n",
    "            \"\"\"print comment tags around display objects to suppress jekyll rendering.\"\"\"\n",
    "            print(\"{\"+\"% comment %}\")\n",
    "            try:\n",
    "                display.display(*data)\n",
    "            except:\n",
    "                display.display(data)\n",
    "            print(\"{\"+\"% endcomment %}\")\n",
    "            return data"
   ]
  },
  {
   "cell_type": "markdown",
   "metadata": {},
   "source": [
    "---"
   ]
  },
  {
   "cell_type": "code",
   "execution_count": 21,
   "metadata": {
    "scrolled": false
   },
   "outputs": [
    {
     "name": "stdout",
     "output_type": "stream",
     "text": [
      "{% comment %}\n"
     ]
    },
    {
     "data": {
      "text/html": [
       "\n",
       "        <iframe\n",
       "            width=\"900\"\n",
       "            height=\"350\"\n",
       "            src=\"http://localhost:8888/terminals/watchmedo\"\n",
       "            frameborder=\"0\"\n",
       "            allowfullscreen\n",
       "        ></iframe>\n",
       "        "
      ],
      "text/plain": [
       "<IPython.lib.display.IFrame at 0x112ea5358>"
      ]
     },
     "metadata": {},
     "output_type": "display_data"
    },
    {
     "data": {
      "text/html": [
       "\n",
       "        <iframe\n",
       "            width=\"900\"\n",
       "            height=\"350\"\n",
       "            src=\"http://localhost:8888/terminals/jekyll\"\n",
       "            frameborder=\"0\"\n",
       "            allowfullscreen\n",
       "        ></iframe>\n",
       "        "
      ],
      "text/plain": [
       "<IPython.lib.display.IFrame at 0x112ea53c8>"
      ]
     },
     "metadata": {},
     "output_type": "display_data"
    },
    {
     "name": "stdout",
     "output_type": "stream",
     "text": [
      "{% endcomment %}\n"
     ]
    }
   ],
   "source": [
    "        True and o and comment([\n",
    "            terminal(alias=line.strip().split(' ', 1)[0]) for line in commands.splitlines()]);"
   ]
  },
  {
   "cell_type": "markdown",
   "metadata": {},
   "source": [
    "List running processes"
   ]
  },
  {
   "cell_type": "code",
   "execution_count": 22,
   "metadata": {},
   "outputs": [
    {
     "name": "stdout",
     "output_type": "stream",
     "text": [
      "{% comment %}\n"
     ]
    },
    {
     "data": {
      "text/html": [
       "\n",
       "        <iframe\n",
       "            width=\"900\"\n",
       "            height=\"400\"\n",
       "            src=\"http://localhost:8888/tree#running\"\n",
       "            frameborder=\"0\"\n",
       "            allowfullscreen\n",
       "        ></iframe>\n",
       "        "
      ],
      "text/plain": [
       "<IPython.lib.display.IFrame at 0x112e91ba8>"
      ]
     },
     "metadata": {},
     "output_type": "display_data"
    },
    {
     "name": "stdout",
     "output_type": "stream",
     "text": [
      "{% endcomment %}\n"
     ]
    }
   ],
   "source": [
    "        True and o and comment(display.IFrame(\"http://localhost:8888/tree#running\", width=900, height=400));"
   ]
  },
  {
   "cell_type": "markdown",
   "metadata": {},
   "source": [
    "> a video clip of the real time rendering."
   ]
  }
 ],
 "metadata": {
  "description": "live preview blogging",
  "kernelspec": {
   "display_name": "Python 3",
   "language": "python",
   "name": "python3"
  },
  "language_info": {
   "codemirror_mode": {
    "name": "ipython",
    "version": 3
   },
   "file_extension": ".py",
   "mimetype": "text/x-python",
   "name": "python",
   "nbconvert_exporter": "python",
   "pygments_lexer": "ipython3",
   "version": "3.5.3"
  },
  "title": "interactive development"
 },
 "nbformat": 4,
 "nbformat_minor": 2
}
