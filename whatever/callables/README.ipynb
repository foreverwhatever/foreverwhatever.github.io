{
 "cells": [
  {
   "cell_type": "code",
   "execution_count": 1,
   "metadata": {
    "collapsed": true
   },
   "outputs": [],
   "source": [
    "import whatever.callables"
   ]
  },
  {
   "cell_type": "code",
   "execution_count": 2,
   "metadata": {
    "collapsed": false
   },
   "outputs": [
    {
     "data": {
      "text/plain": [
       "['Dispatch', 'DictCallable', 'TupleCallable', 'ListCallable', 'SetCallable']"
      ]
     },
     "execution_count": 2,
     "metadata": {},
     "output_type": "execute_result"
    }
   ],
   "source": [
    "whatever.callables.__all__"
   ]
  },
  {
   "cell_type": "markdown",
   "metadata": {},
   "source": [
    "# `callables`\n",
    "\n",
    "What if python objects were callable?\n",
    "\n",
    "|Object| Action|\n",
    "|---|---|\n",
    "|Dispatch|Multiple Dispatch Dictionary|\n",
    "|DictCallable|Callable Dictionary|\n",
    "|TupleCallable|Callable Tuple|\n",
    "|ListCallable|Callable List|\n",
    "|SetCallable|Callable Set that transform to a dictionary|"
   ]
  },
  {
   "cell_type": "markdown",
   "metadata": {},
   "source": [
    "## `dispatch`"
   ]
  },
  {
   "cell_type": "code",
   "execution_count": 3,
   "metadata": {
    "collapsed": false
   },
   "outputs": [],
   "source": [
    "dispatcher = whatever.callables.Dispatch((\n",
    "    (str, str.upper),\n",
    "    ((int, float), lambda x: x*10)\n",
    "))"
   ]
  },
  {
   "cell_type": "code",
   "execution_count": 4,
   "metadata": {
    "collapsed": false
   },
   "outputs": [
    {
     "name": "stdout",
     "output_type": "stream",
     "text": [
      "DISPATCH 🚬 420\n"
     ]
    }
   ],
   "source": [
    "print(dispatcher('dispatch 🚬'), dispatcher(42))"
   ]
  },
  {
   "cell_type": "markdown",
   "metadata": {},
   "source": [
    "# `SetCallable`\n",
    "\n",
    "Transforms a set of functions into a dictionary, the keys correspond to a function.\n",
    "\n",
    "This is influenced by `coffee☕️script` object interpolation ."
   ]
  },
  {
   "cell_type": "code",
   "execution_count": 6,
   "metadata": {
    "collapsed": false
   },
   "outputs": [],
   "source": [
    "reverse = lambda x: x[::-1]\n",
    "result = whatever.callables.SetCallable({\n",
    "        str.upper, len, reverse\n",
    "    })('test')"
   ]
  },
  {
   "cell_type": "code",
   "execution_count": 7,
   "metadata": {
    "collapsed": false
   },
   "outputs": [
    {
     "data": {
      "text/plain": [
       "'tset'"
      ]
     },
     "execution_count": 7,
     "metadata": {},
     "output_type": "execute_result"
    }
   ],
   "source": [
    "result[reverse]"
   ]
  }
 ],
 "metadata": {
  "anaconda-cloud": {},
  "kernelspec": {
   "display_name": "Python [default]",
   "language": "python",
   "name": "python3"
  },
  "language_info": {
   "codemirror_mode": {
    "name": "ipython",
    "version": 3
   },
   "file_extension": ".py",
   "mimetype": "text/x-python",
   "name": "python",
   "nbconvert_exporter": "python",
   "pygments_lexer": "ipython3",
   "version": "3.5.2"
  }
 },
 "nbformat": 4,
 "nbformat_minor": 1
}
