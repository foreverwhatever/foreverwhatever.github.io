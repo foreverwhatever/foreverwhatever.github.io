{
 "cells": [
  {
   "cell_type": "code",
   "execution_count": 1,
   "metadata": {
    "collapsed": true
   },
   "outputs": [],
   "source": [
    "from collections import OrderedDict\n",
    "from toolz.curried import flip, juxt, map, partial, pipe, valmap\n",
    "from types import LambdaType\n",
    "from typing import Iterable, Any\n",
    "\n",
    "__all__ = [\n",
    "    'Dispatch', 'DictCallable', 'TupleCallable', 'ListCallable', 'SetCallable'\n",
    "]"
   ]
  },
  {
   "cell_type": "code",
   "execution_count": 2,
   "metadata": {
    "collapsed": true
   },
   "outputs": [],
   "source": [
    "class DictCallable(OrderedDict):\n",
    "    def __call__(self, *args, **kwargs):\n",
    "        return valmap(\n",
    "            lambda x: \n",
    "            x(*args, **kwargs) \n",
    "            if callable(x) \n",
    "            else x, \n",
    "            self\n",
    "        )"
   ]
  },
  {
   "cell_type": "code",
   "execution_count": 24,
   "metadata": {
    "collapsed": false
   },
   "outputs": [],
   "source": [
    "class Condictional(OrderedDict):\n",
    "    \"\"\"First key to satisfy the key condition executes.\n",
    "    \"\"\"\n",
    "    def _condition(self, function, *args, **kwargs)->bool:\n",
    "        return function(*args, **kwargs)\n",
    "\n",
    "    def __init__(self, *args, default=None, key=bool, **kwargs):\n",
    "        super().__init__(*args, **kwargs)\n",
    "        self.default = default\n",
    "        self.key = key\n",
    "\n",
    "    def __call__(self, *args, **kwargs):\n",
    "        for key, value in self.items():\n",
    "            if self._condition(key, *args, **kwargs):\n",
    "                if callable(value):\n",
    "                    return value(*args, **kwargs)\n",
    "                return value\n",
    "        if self.default:\n",
    "            return self.default(*args, **kwargs)\n",
    "        raise KeyError(\n",
    "            \"No conditions satisfied for types: \" + args.__str__())"
   ]
  },
  {
   "cell_type": "code",
   "execution_count": 28,
   "metadata": {
    "collapsed": false
   },
   "outputs": [
    {
     "data": {
      "text/plain": [
       "20"
      ]
     },
     "execution_count": 28,
     "metadata": {},
     "output_type": "execute_result"
    }
   ],
   "source": [
    "# Condictional({\n",
    "#         lambda x: x>30: 20,\n",
    "#         lambda x: x<100: lambda x: x *2,\n",
    "#     })(31)"
   ]
  },
  {
   "cell_type": "code",
   "execution_count": 14,
   "metadata": {
    "collapsed": false
   },
   "outputs": [],
   "source": [
    "class Dispatch(Condictional):\n",
    "    \"\"\"An object that provides multiple dispatch when it is called.\n",
    "    \"\"\"\n",
    "    def _condition(self, types, *args, **kwargs)->bool:\n",
    "        if not isinstance(types, Iterable):\n",
    "            types = tuple([types])\n",
    "        return pipe(\n",
    "            zip(args, types),\n",
    "            map(lambda arg: isinstance(*arg)),\n",
    "            all\n",
    "        )"
   ]
  },
  {
   "cell_type": "code",
   "execution_count": 20,
   "metadata": {
    "collapsed": true
   },
   "outputs": [],
   "source": [
    "class SetCallable(set):\n",
    "    def __call__(self, *args, **kwargs):\n",
    "#         if pipe(self, map(\n",
    "#                 partial(flip(isinstance), LambdaType)\n",
    "#         ), any):\n",
    "#             raise TypeError(\"Cannot interpolate a LambdaType.\")\n",
    "        values = map(lambda x: x(*args, **kwargs), self)\n",
    "        return dict(zip(self, list(values)))"
   ]
  },
  {
   "cell_type": "code",
   "execution_count": 22,
   "metadata": {
    "collapsed": false
   },
   "outputs": [
    {
     "data": {
      "text/plain": [
       "'TEST'"
      ]
     },
     "execution_count": 22,
     "metadata": {},
     "output_type": "execute_result"
    }
   ],
   "source": [
    "# SetCallable({str.upper, len})('test')[str.upper]"
   ]
  },
  {
   "cell_type": "code",
   "execution_count": null,
   "metadata": {
    "collapsed": true
   },
   "outputs": [],
   "source": [
    "class TupleCallable(tuple):\n",
    "    def __call__(self, *args, **kwargs):\n",
    "        return juxt(*self)(\n",
    "            *args, **kwargs\n",
    "        )"
   ]
  },
  {
   "cell_type": "code",
   "execution_count": 5,
   "metadata": {
    "collapsed": true
   },
   "outputs": [],
   "source": [
    "class ListCallable(list):\n",
    "    def __call__(self, *args, **kwargs):\n",
    "        return list(juxt(*self)(\n",
    "            *args, **kwargs\n",
    "        ))"
   ]
  }
 ],
 "metadata": {
  "anaconda-cloud": {
   "environment": null,
   "summary": "Iterable functions",
   "url": "https://anaconda.org/tonyfast/callables"
  },
  "kernelspec": {
   "display_name": "Python [default]",
   "language": "python",
   "name": "python3"
  },
  "language_info": {
   "codemirror_mode": {
    "name": "ipython",
    "version": 3
   },
   "file_extension": ".py",
   "mimetype": "text/x-python",
   "name": "python",
   "nbconvert_exporter": "python",
   "pygments_lexer": "ipython3",
   "version": "3.5.2"
  }
 },
 "nbformat": 4,
 "nbformat_minor": 0
}
