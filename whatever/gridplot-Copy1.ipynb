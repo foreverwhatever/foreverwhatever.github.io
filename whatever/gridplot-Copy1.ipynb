{
 "cells": [
  {
   "cell_type": "markdown",
   "metadata": {},
   "source": [
    "Visual models are best for people, numerical models are for machines.  Bokeh's visual interactions and static embedding make it the best candidate for data science.  Interacting with information allows the viewer to draw their own unique insights; static visualizations will only tell the creator's story.\n",
    "\n",
    "This notebook designs a Object Oriented/Functional API for interactive grid plots in Bokeh; this extends a [previous post](https://foreverwhatever.github.io/2017/06/29/GridPlot-In-Bokeh.html)."
   ]
  },
  {
   "cell_type": "code",
   "execution_count": 3,
   "metadata": {},
   "outputs": [
    {
     "name": "stdout",
     "output_type": "stream",
     "text": [
      "Automatic calling is: Smart\n"
     ]
    }
   ],
   "source": [
    "    %reload_ext literacy.literate\n",
    "    %autocall 1"
   ]
  },
  {
   "cell_type": "code",
   "execution_count": 4,
   "metadata": {},
   "outputs": [
    {
     "data": {
      "text/markdown": [
       "    import pandas as pd\n",
       "    from bokeh import plotting, models, layouts, resources\n",
       "    from operator import gt, lt, eq\n",
       "    from functools import wraps\n",
       "    from coffeetools import coffee\n",
       "    plotting.output_notebook()\n",
       "\n",
       "    import collections"
      ],
      "text/plain": [
       "<IPython.core.display.Markdown object>"
      ]
     },
     "metadata": {},
     "output_type": "display_data"
    },
    {
     "data": {
      "text/html": [
       "\n",
       "    <div class=\"bk-root\">\n",
       "        <a href=\"http://bokeh.pydata.org\" target=\"_blank\" class=\"bk-logo bk-logo-small bk-logo-notebook\"></a>\n",
       "        <span id=\"04205584-172f-416c-8ae9-09f5929feb2f\">Loading BokehJS ...</span>\n",
       "    </div>"
      ]
     },
     "metadata": {},
     "output_type": "display_data"
    },
    {
     "data": {
      "application/javascript": [
       "\n",
       "(function(global) {\n",
       "  function now() {\n",
       "    return new Date();\n",
       "  }\n",
       "\n",
       "  var force = true;\n",
       "\n",
       "  if (typeof (window._bokeh_onload_callbacks) === \"undefined\" || force === true) {\n",
       "    window._bokeh_onload_callbacks = [];\n",
       "    window._bokeh_is_loading = undefined;\n",
       "  }\n",
       "\n",
       "\n",
       "  \n",
       "  if (typeof (window._bokeh_timeout) === \"undefined\" || force === true) {\n",
       "    window._bokeh_timeout = Date.now() + 5000;\n",
       "    window._bokeh_failed_load = false;\n",
       "  }\n",
       "\n",
       "  var NB_LOAD_WARNING = {'data': {'text/html':\n",
       "     \"<div style='background-color: #fdd'>\\n\"+\n",
       "     \"<p>\\n\"+\n",
       "     \"BokehJS does not appear to have successfully loaded. If loading BokehJS from CDN, this \\n\"+\n",
       "     \"may be due to a slow or bad network connection. Possible fixes:\\n\"+\n",
       "     \"</p>\\n\"+\n",
       "     \"<ul>\\n\"+\n",
       "     \"<li>re-rerun `output_notebook()` to attempt to load from CDN again, or</li>\\n\"+\n",
       "     \"<li>use INLINE resources instead, as so:</li>\\n\"+\n",
       "     \"</ul>\\n\"+\n",
       "     \"<code>\\n\"+\n",
       "     \"from bokeh.resources import INLINE\\n\"+\n",
       "     \"output_notebook(resources=INLINE)\\n\"+\n",
       "     \"</code>\\n\"+\n",
       "     \"</div>\"}};\n",
       "\n",
       "  function display_loaded() {\n",
       "    if (window.Bokeh !== undefined) {\n",
       "      var el = document.getElementById(\"04205584-172f-416c-8ae9-09f5929feb2f\");\n",
       "      el.textContent = \"BokehJS \" + Bokeh.version + \" successfully loaded.\";\n",
       "    } else if (Date.now() < window._bokeh_timeout) {\n",
       "      setTimeout(display_loaded, 100)\n",
       "    }\n",
       "  }\n",
       "\n",
       "  function run_callbacks() {\n",
       "    window._bokeh_onload_callbacks.forEach(function(callback) { callback() });\n",
       "    delete window._bokeh_onload_callbacks\n",
       "    console.info(\"Bokeh: all callbacks have finished\");\n",
       "  }\n",
       "\n",
       "  function load_libs(js_urls, callback) {\n",
       "    window._bokeh_onload_callbacks.push(callback);\n",
       "    if (window._bokeh_is_loading > 0) {\n",
       "      console.log(\"Bokeh: BokehJS is being loaded, scheduling callback at\", now());\n",
       "      return null;\n",
       "    }\n",
       "    if (js_urls == null || js_urls.length === 0) {\n",
       "      run_callbacks();\n",
       "      return null;\n",
       "    }\n",
       "    console.log(\"Bokeh: BokehJS not loaded, scheduling load and callback at\", now());\n",
       "    window._bokeh_is_loading = js_urls.length;\n",
       "    for (var i = 0; i < js_urls.length; i++) {\n",
       "      var url = js_urls[i];\n",
       "      var s = document.createElement('script');\n",
       "      s.src = url;\n",
       "      s.async = false;\n",
       "      s.onreadystatechange = s.onload = function() {\n",
       "        window._bokeh_is_loading--;\n",
       "        if (window._bokeh_is_loading === 0) {\n",
       "          console.log(\"Bokeh: all BokehJS libraries loaded\");\n",
       "          run_callbacks()\n",
       "        }\n",
       "      };\n",
       "      s.onerror = function() {\n",
       "        console.warn(\"failed to load library \" + url);\n",
       "      };\n",
       "      console.log(\"Bokeh: injecting script tag for BokehJS library: \", url);\n",
       "      document.getElementsByTagName(\"head\")[0].appendChild(s);\n",
       "    }\n",
       "  };var element = document.getElementById(\"04205584-172f-416c-8ae9-09f5929feb2f\");\n",
       "  if (element == null) {\n",
       "    console.log(\"Bokeh: ERROR: autoload.js configured with elementid '04205584-172f-416c-8ae9-09f5929feb2f' but no matching script tag was found. \")\n",
       "    return false;\n",
       "  }\n",
       "\n",
       "  var js_urls = [\"https://cdn.pydata.org/bokeh/release/bokeh-0.12.5.min.js\", \"https://cdn.pydata.org/bokeh/release/bokeh-widgets-0.12.5.min.js\"];\n",
       "\n",
       "  var inline_js = [\n",
       "    function(Bokeh) {\n",
       "      Bokeh.set_log_level(\"info\");\n",
       "    },\n",
       "    \n",
       "    function(Bokeh) {\n",
       "      \n",
       "    },\n",
       "    \n",
       "    function(Bokeh) {\n",
       "      \n",
       "      document.getElementById(\"04205584-172f-416c-8ae9-09f5929feb2f\").textContent = \"BokehJS is loading...\";\n",
       "    },\n",
       "    function(Bokeh) {\n",
       "      console.log(\"Bokeh: injecting CSS: https://cdn.pydata.org/bokeh/release/bokeh-0.12.5.min.css\");\n",
       "      Bokeh.embed.inject_css(\"https://cdn.pydata.org/bokeh/release/bokeh-0.12.5.min.css\");\n",
       "      console.log(\"Bokeh: injecting CSS: https://cdn.pydata.org/bokeh/release/bokeh-widgets-0.12.5.min.css\");\n",
       "      Bokeh.embed.inject_css(\"https://cdn.pydata.org/bokeh/release/bokeh-widgets-0.12.5.min.css\");\n",
       "    }\n",
       "  ];\n",
       "\n",
       "  function run_inline_js() {\n",
       "    \n",
       "    if ((window.Bokeh !== undefined) || (force === true)) {\n",
       "      for (var i = 0; i < inline_js.length; i++) {\n",
       "        inline_js[i](window.Bokeh);\n",
       "      }if (force === true) {\n",
       "        display_loaded();\n",
       "      }} else if (Date.now() < window._bokeh_timeout) {\n",
       "      setTimeout(run_inline_js, 100);\n",
       "    } else if (!window._bokeh_failed_load) {\n",
       "      console.log(\"Bokeh: BokehJS failed to load within specified timeout.\");\n",
       "      window._bokeh_failed_load = true;\n",
       "    } else if (force !== true) {\n",
       "      var cell = $(document.getElementById(\"04205584-172f-416c-8ae9-09f5929feb2f\")).parents('.cell').data().cell;\n",
       "      cell.output_area.append_execute_result(NB_LOAD_WARNING)\n",
       "    }\n",
       "\n",
       "  }\n",
       "\n",
       "  if (window._bokeh_is_loading === 0) {\n",
       "    console.log(\"Bokeh: BokehJS loaded, going straight to plotting\");\n",
       "    run_inline_js();\n",
       "  } else {\n",
       "    load_libs(js_urls, function() {\n",
       "      console.log(\"Bokeh: BokehJS plotting callback run at\", now());\n",
       "      run_inline_js();\n",
       "    });\n",
       "  }\n",
       "}(this));"
      ]
     },
     "metadata": {},
     "output_type": "display_data"
    }
   ],
   "source": [
    "    import pandas as pd\n",
    "    from bokeh import plotting, models, layouts, resources\n",
    "    from operator import gt, lt, eq\n",
    "    from functools import wraps\n",
    "    from coffeetools import coffee\n",
    "    plotting.output_notebook()\n",
    "\n",
    "    import collections"
   ]
  },
  {
   "cell_type": "code",
   "execution_count": 5,
   "metadata": {},
   "outputs": [
    {
     "data": {
      "text/markdown": [
       "    from fidget import *"
      ],
      "text/plain": [
       "<IPython.core.display.Markdown object>"
      ]
     },
     "metadata": {},
     "output_type": "display_data"
    }
   ],
   "source": [
    "    from fidget import *"
   ]
  },
  {
   "cell_type": "markdown",
   "metadata": {},
   "source": [
    "* Every figure is a collection of figures.  \n",
    "* A single figure is one row and column.\n",
    "* Every Glyph requires a data source to exist first.\n",
    "  * Use __getitem__ method to access data source.  \n",
    "* Apply glyphs to a data source.  The data source will append glyph to figures because on some iterables.\n",
    "    "
   ]
  },
  {
   "cell_type": "code",
   "execution_count": 6,
   "metadata": {},
   "outputs": [
    {
     "data": {
      "text/markdown": [
       "    def bintrue(a, b):\n",
       "        return True"
      ],
      "text/plain": [
       "<IPython.core.display.Markdown object>"
      ]
     },
     "metadata": {},
     "output_type": "display_data"
    }
   ],
   "source": [
    "    def bintrue(a, b):\n",
    "        return True"
   ]
  },
  {
   "cell_type": "code",
   "execution_count": 7,
   "metadata": {},
   "outputs": [
    {
     "data": {
      "text/markdown": [
       "    from operator import eq, lt, gt"
      ],
      "text/plain": [
       "<IPython.core.display.Markdown object>"
      ]
     },
     "metadata": {},
     "output_type": "display_data"
    }
   ],
   "source": [
    "    from operator import eq, lt, gt"
   ]
  },
  {
   "cell_type": "code",
   "execution_count": 195,
   "metadata": {},
   "outputs": [
    {
     "data": {
      "text/markdown": [
       "    def replaceRowCol(obj, **kwargs):\n",
       "        if isinstance(obj, str):\n",
       "            obj = obj.format(**kwargs)\n",
       "        if isinstance(obj, dict):\n",
       "            obj = {k: replaceRowCol(v, **kwargs) for k, v in obj.items()} \n",
       "        return obj"
      ],
      "text/plain": [
       "<IPython.core.display.Markdown object>"
      ]
     },
     "metadata": {},
     "output_type": "display_data"
    }
   ],
   "source": [
    "    def replaceRowCol(obj, **kwargs):\n",
    "        if isinstance(obj, str):\n",
    "            obj = obj.format(**kwargs)\n",
    "        if isinstance(obj, dict):\n",
    "            obj = {k: replaceRowCol(v, **kwargs) for k, v in obj.items()} \n",
    "        return obj"
   ]
  },
  {
   "cell_type": "code",
   "execution_count": 196,
   "metadata": {},
   "outputs": [
    {
     "data": {
      "text/markdown": [
       "    class Missing:\n",
       "        def __missing__(self, key):\n",
       "            self[key] = self.default()\n",
       "            return self[key]\n",
       "\n",
       "    class Iter:\n",
       "        def __init__(self, sources=None, rows=None, columns=None, figures=None, glyph=None):\n",
       "            if isinstance(sources, plotting.ColumnDataSource):\n",
       "                sources = {None: sources}\n",
       "            self.sources, self.figures = sources or Sources(), figures or Figures()\n",
       "            self.rows, self.columns, self.glyph = rows, columns or rows, glyph\n",
       "            rows and [self.figures[r][c] for r, c in self]\n",
       "            \n",
       "        def __iter__(self):\n",
       "            for i, row in enumerate(self.rows or self.figures):\n",
       "                for j, col in enumerate(self.columns or self.figures[row]):\n",
       "                    \n",
       "                    if self.cmp(i, j):\n",
       "                        yield row, col\n",
       "            \n",
       "        def __call__(self, **kwargs):\n",
       "            for source in self.sources.values():\n",
       "                for row, col in self:\n",
       "                    self.figures[row][col].add_glyph(\n",
       "                        source, self.glyph(**replaceRowCol(kwargs, row=row, col=col)))\n",
       "            return self\n",
       "                        \n",
       "        def __getattr__(self, attr):\n",
       "            self.glyph = getattr(models, attr)\n",
       "            return self\n",
       "        \n",
       "    class Diagonal(Iter):\n",
       "        cmp = staticmethod(eq)\n",
       "        \n",
       "    class Upper(Iter):\n",
       "        cmp = staticmethod(lt)\n",
       "\n",
       "    class Lower(Iter):\n",
       "        cmp = staticmethod(gt)\n",
       "\n",
       "    class All(Iter):\n",
       "        cmp = staticmethod(bintrue)"
      ],
      "text/plain": [
       "<IPython.core.display.Markdown object>"
      ]
     },
     "metadata": {},
     "output_type": "display_data"
    }
   ],
   "source": [
    "    class Missing:\n",
    "        def __missing__(self, key):\n",
    "            self[key] = self.default()\n",
    "            return self[key]\n",
    "\n",
    "    class Iter:\n",
    "        def __init__(self, sources=None, rows=None, columns=None, figures=None, glyph=None):\n",
    "            if isinstance(sources, plotting.ColumnDataSource):\n",
    "                sources = {None: sources}\n",
    "            self.sources, self.figures = sources or Sources(), figures or Figures()\n",
    "            self.rows, self.columns, self.glyph = rows, columns or rows, glyph\n",
    "            rows and [self.figures[r][c] for r, c in self]\n",
    "            \n",
    "        def __iter__(self):\n",
    "            for i, row in enumerate(self.rows or self.figures):\n",
    "                for j, col in enumerate(self.columns or self.figures[row]):\n",
    "                    \n",
    "                    if self.cmp(i, j):\n",
    "                        yield row, col\n",
    "            \n",
    "        def __call__(self, **kwargs):\n",
    "            for source in self.sources.values():\n",
    "                for row, col in self:\n",
    "                    self.figures[row][col].add_glyph(\n",
    "                        source, self.glyph(**replaceRowCol(kwargs, row=row, col=col)))\n",
    "            return self\n",
    "                        \n",
    "        def __getattr__(self, attr):\n",
    "            self.glyph = getattr(models, attr)\n",
    "            return self\n",
    "        \n",
    "    class Diagonal(Iter):\n",
    "        cmp = staticmethod(eq)\n",
    "        \n",
    "    class Upper(Iter):\n",
    "        cmp = staticmethod(lt)\n",
    "\n",
    "    class Lower(Iter):\n",
    "        cmp = staticmethod(gt)\n",
    "\n",
    "    class All(Iter):\n",
    "        cmp = staticmethod(bintrue)"
   ]
  },
  {
   "cell_type": "code",
   "execution_count": 201,
   "metadata": {},
   "outputs": [
    {
     "data": {
      "text/markdown": [
       "    from collections import ChainMap"
      ],
      "text/plain": [
       "<IPython.core.display.Markdown object>"
      ]
     },
     "metadata": {},
     "output_type": "display_data"
    }
   ],
   "source": [
    "    from collections import ChainMap"
   ]
  },
  {
   "cell_type": "code",
   "execution_count": null,
   "metadata": {
    "collapsed": true
   },
   "outputs": [],
   "source": [
    "    "
   ]
  },
  {
   "cell_type": "code",
   "execution_count": null,
   "metadata": {
    "collapsed": true
   },
   "outputs": [],
   "source": [
    "    class Explore(object):\n",
    "        class __init__"
   ]
  },
  {
   "cell_type": "markdown",
   "metadata": {},
   "source": [
    "* __figures__\n",
    "\n",
    "    The keys are rows and columns.\n",
    "   \n",
    "   \n",
    "* There are multiple datasources to support categorical data and the diagonals.\n"
   ]
  },
  {
   "cell_type": "code",
   "execution_count": null,
   "metadata": {
    "collapsed": true
   },
   "outputs": [],
   "source": [
    "    "
   ]
  },
  {
   "cell_type": "code",
   "execution_count": 198,
   "metadata": {},
   "outputs": [
    {
     "data": {
      "text/markdown": [
       "    class Row(collections.OrderedDict, Missing):\n",
       "        default = staticmethod(lambda **kwargs: plotting.Figure(\n",
       "            **kwargs, width=200, height=200\n",
       "        ))\n",
       "\n",
       "    class Figures(collections.OrderedDict, Missing):\n",
       "        default = staticmethod(Row)\n",
       "\n",
       "    class Sources(collections.OrderedDict, Missing):\n",
       "        default = staticmethod(models.ColumnDataSource)\n",
       "        \n",
       "    class Grid(All):\n",
       "        def __getitem__(self, key=None, cls=All):\n",
       "            key = key or tuple(self.sources.keys())\n",
       "            if not isinstance(key, tuple):\n",
       "                key = key,\n",
       "            return cls({\n",
       "                _: self.sources[_] for _ in key\n",
       "            }, self.rows, self.columns, self.figures)\n",
       "        \n",
       "        @property\n",
       "        def diagonal(self):\n",
       "            return self.__getitem__(cls=Diagonal)\n",
       "\n",
       "        @property\n",
       "        def upper(self):\n",
       "            return self.__getitem__(cls=Upper)\n",
       "\n",
       "        @property\n",
       "        def lower(self):\n",
       "            return self.__getitem__(cls=Lower)\n",
       "\n",
       "        @property\n",
       "        def all(self):\n",
       "            return self.__getitem__(cls=All)\n",
       "\n",
       "        @property\n",
       "        def _figures(self):\n",
       "            return [self.figures[r][c] for r, c in self]\n",
       "        \n",
       "        def show(self):\n",
       "            return layouts.gridplot(self._figures, ncols=len(self.figures))"
      ],
      "text/plain": [
       "<IPython.core.display.Markdown object>"
      ]
     },
     "metadata": {},
     "output_type": "display_data"
    }
   ],
   "source": [
    "    class Row(collections.OrderedDict, Missing):\n",
    "        default = staticmethod(lambda **kwargs: plotting.Figure(\n",
    "            **kwargs, width=200, height=200\n",
    "        ))\n",
    "\n",
    "    class Figures(collections.OrderedDict, Missing):\n",
    "        default = staticmethod(Row)\n",
    "\n",
    "    class Sources(collections.OrderedDict, Missing):\n",
    "        default = staticmethod(models.ColumnDataSource)\n",
    "        \n",
    "    class Grid(All):\n",
    "        def __getitem__(self, key=None, cls=All):\n",
    "            return cls(self.sources[key], self.rows, self.columns, self.figures)\n",
    "        \n",
    "        @property\n",
    "        def diagonal(self):\n",
    "            return self.__getitem__(cls=Diagonal)\n",
    "\n",
    "        @property\n",
    "        def upper(self):\n",
    "            return self.__getitem__(cls=Upper)\n",
    "\n",
    "        @property\n",
    "        def lower(self):\n",
    "            return self.__getitem__(cls=Lower)\n",
    "\n",
    "        @property\n",
    "        def all(self):\n",
    "            return self.__getitem__(cls=All)\n",
    "\n",
    "        @property\n",
    "        def _figures(self):\n",
    "            [self.figures[r][c] for r, c in self]\n",
    "            return \n",
    "        \n",
    "        def show(self):\n",
    "            return layouts.gridplot(self._figures, ncols=len(self.figures))"
   ]
  },
  {
   "cell_type": "code",
   "execution_count": 199,
   "metadata": {},
   "outputs": [
    {
     "data": {
      "text/markdown": [
       "    df = pd.util.testing.makeDataFrame().reset_index(drop=True)"
      ],
      "text/plain": [
       "<IPython.core.display.Markdown object>"
      ]
     },
     "metadata": {},
     "output_type": "display_data"
    }
   ],
   "source": [
    "    df = pd.util.testing.makeDataFrame().reset_index(drop=True)"
   ]
  },
  {
   "cell_type": "code",
   "execution_count": 200,
   "metadata": {},
   "outputs": [
    {
     "data": {
      "text/markdown": [
       "    g = Grid(df.pipe(plotting.ColumnDataSource), ['A', 'B', 'C'])\n",
       "\n",
       "    g.upper.Circle(x='{row}', y='{col}')\n",
       "    g.lower.X(x='{row}', y='{col}')\n",
       "\n",
       "    plotting.show(g.show())"
      ],
      "text/plain": [
       "<IPython.core.display.Markdown object>"
      ]
     },
     "metadata": {},
     "output_type": "display_data"
    },
    {
     "data": {
      "text/html": [
       "\n",
       "\n",
       "    <div class=\"bk-root\">\n",
       "        <div class=\"bk-plotdiv\" id=\"31489f3d-02e5-47fb-aca2-51ed15d5b1cc\"></div>\n",
       "    </div>\n",
       "<script type=\"text/javascript\">\n",
       "  \n",
       "  (function(global) {\n",
       "    function now() {\n",
       "      return new Date();\n",
       "    }\n",
       "  \n",
       "    var force = false;\n",
       "  \n",
       "    if (typeof (window._bokeh_onload_callbacks) === \"undefined\" || force === true) {\n",
       "      window._bokeh_onload_callbacks = [];\n",
       "      window._bokeh_is_loading = undefined;\n",
       "    }\n",
       "  \n",
       "  \n",
       "    \n",
       "    if (typeof (window._bokeh_timeout) === \"undefined\" || force === true) {\n",
       "      window._bokeh_timeout = Date.now() + 0;\n",
       "      window._bokeh_failed_load = false;\n",
       "    }\n",
       "  \n",
       "    var NB_LOAD_WARNING = {'data': {'text/html':\n",
       "       \"<div style='background-color: #fdd'>\\n\"+\n",
       "       \"<p>\\n\"+\n",
       "       \"BokehJS does not appear to have successfully loaded. If loading BokehJS from CDN, this \\n\"+\n",
       "       \"may be due to a slow or bad network connection. Possible fixes:\\n\"+\n",
       "       \"</p>\\n\"+\n",
       "       \"<ul>\\n\"+\n",
       "       \"<li>re-rerun `output_notebook()` to attempt to load from CDN again, or</li>\\n\"+\n",
       "       \"<li>use INLINE resources instead, as so:</li>\\n\"+\n",
       "       \"</ul>\\n\"+\n",
       "       \"<code>\\n\"+\n",
       "       \"from bokeh.resources import INLINE\\n\"+\n",
       "       \"output_notebook(resources=INLINE)\\n\"+\n",
       "       \"</code>\\n\"+\n",
       "       \"</div>\"}};\n",
       "  \n",
       "    function display_loaded() {\n",
       "      if (window.Bokeh !== undefined) {\n",
       "        var el = document.getElementById(\"31489f3d-02e5-47fb-aca2-51ed15d5b1cc\");\n",
       "        el.textContent = \"BokehJS \" + Bokeh.version + \" successfully loaded.\";\n",
       "      } else if (Date.now() < window._bokeh_timeout) {\n",
       "        setTimeout(display_loaded, 100)\n",
       "      }\n",
       "    }\n",
       "  \n",
       "    function run_callbacks() {\n",
       "      window._bokeh_onload_callbacks.forEach(function(callback) { callback() });\n",
       "      delete window._bokeh_onload_callbacks\n",
       "      console.info(\"Bokeh: all callbacks have finished\");\n",
       "    }\n",
       "  \n",
       "    function load_libs(js_urls, callback) {\n",
       "      window._bokeh_onload_callbacks.push(callback);\n",
       "      if (window._bokeh_is_loading > 0) {\n",
       "        console.log(\"Bokeh: BokehJS is being loaded, scheduling callback at\", now());\n",
       "        return null;\n",
       "      }\n",
       "      if (js_urls == null || js_urls.length === 0) {\n",
       "        run_callbacks();\n",
       "        return null;\n",
       "      }\n",
       "      console.log(\"Bokeh: BokehJS not loaded, scheduling load and callback at\", now());\n",
       "      window._bokeh_is_loading = js_urls.length;\n",
       "      for (var i = 0; i < js_urls.length; i++) {\n",
       "        var url = js_urls[i];\n",
       "        var s = document.createElement('script');\n",
       "        s.src = url;\n",
       "        s.async = false;\n",
       "        s.onreadystatechange = s.onload = function() {\n",
       "          window._bokeh_is_loading--;\n",
       "          if (window._bokeh_is_loading === 0) {\n",
       "            console.log(\"Bokeh: all BokehJS libraries loaded\");\n",
       "            run_callbacks()\n",
       "          }\n",
       "        };\n",
       "        s.onerror = function() {\n",
       "          console.warn(\"failed to load library \" + url);\n",
       "        };\n",
       "        console.log(\"Bokeh: injecting script tag for BokehJS library: \", url);\n",
       "        document.getElementsByTagName(\"head\")[0].appendChild(s);\n",
       "      }\n",
       "    };var element = document.getElementById(\"31489f3d-02e5-47fb-aca2-51ed15d5b1cc\");\n",
       "    if (element == null) {\n",
       "      console.log(\"Bokeh: ERROR: autoload.js configured with elementid '31489f3d-02e5-47fb-aca2-51ed15d5b1cc' but no matching script tag was found. \")\n",
       "      return false;\n",
       "    }\n",
       "  \n",
       "    var js_urls = [];\n",
       "  \n",
       "    var inline_js = [\n",
       "      function(Bokeh) {\n",
       "        (function() {\n",
       "          var fn = function() {\n",
       "            var docs_json = {\"660edf3d-9d70-4ec7-a292-2f6217b3898f\":{\"roots\":{\"references\":[{\"attributes\":{\"plot\":null,\"text\":\"\"},\"id\":\"a2098397-70d0-44f7-91cb-02349c3d9536\",\"type\":\"Title\"},{\"attributes\":{\"data_source\":{\"id\":\"3affed2b-a031-419c-8d5c-7ec66dd1d574\",\"type\":\"ColumnDataSource\"},\"glyph\":{\"id\":\"e16602d6-14e2-4ae2-9f71-1bda5be72a99\",\"type\":\"X\"},\"hover_glyph\":null,\"muted_glyph\":null},\"id\":\"173dfabf-d6c8-40e8-b59d-2b0e70052b33\",\"type\":\"GlyphRenderer\"},{\"attributes\":{\"formatter\":{\"id\":\"146be68e-bfad-4db7-b399-df49fdf71060\",\"type\":\"BasicTickFormatter\"},\"plot\":{\"id\":\"68154171-499f-416f-81b3-096f5eb91f00\",\"subtype\":\"Figure\",\"type\":\"Plot\"},\"ticker\":{\"id\":\"b22dfe8d-879a-4b7b-addb-e6fae5611e4f\",\"type\":\"BasicTicker\"}},\"id\":\"4dc31a27-d5f4-4a95-801d-45a45600d78a\",\"type\":\"LinearAxis\"},{\"attributes\":{\"plot\":{\"id\":\"2f8e4220-7b91-45a5-9cfa-6ff39f847700\",\"subtype\":\"Figure\",\"type\":\"Plot\"}},\"id\":\"765a24f2-0e8c-4ad9-b7aa-86f067403e19\",\"type\":\"SaveTool\"},{\"attributes\":{\"callback\":null},\"id\":\"42e554a8-ccc1-4a53-b601-97f7d726e8eb\",\"type\":\"DataRange1d\"},{\"attributes\":{\"overlay\":{\"id\":\"8b0a0ae4-2b01-44a8-a835-bd1efe5f5595\",\"type\":\"BoxAnnotation\"},\"plot\":{\"id\":\"55792501-be75-4655-bda7-f798b37d3e34\",\"subtype\":\"Figure\",\"type\":\"Plot\"}},\"id\":\"23925806-60a0-4d71-a948-570882a5948b\",\"type\":\"BoxZoomTool\"},{\"attributes\":{\"children\":[{\"id\":\"7e819d3e-edb1-495c-bcfb-dabf5c19bce9\",\"subtype\":\"Figure\",\"type\":\"Plot\"},{\"id\":\"e2b43d1b-91e9-42cb-aceb-e44bb7c51d5a\",\"subtype\":\"Figure\",\"type\":\"Plot\"},{\"id\":\"1666fb96-a911-4fb5-bbe4-a9d0f893d199\",\"subtype\":\"Figure\",\"type\":\"Plot\"}]},\"id\":\"5b8855ae-02df-47c4-99f3-48c2308020a4\",\"type\":\"Row\"},{\"attributes\":{\"callback\":null},\"id\":\"938d1660-9743-4306-8bc3-08bca3731b30\",\"type\":\"DataRange1d\"},{\"attributes\":{\"overlay\":{\"id\":\"7a57079a-c06b-4ace-9e9c-75809c5ca8cb\",\"type\":\"BoxAnnotation\"},\"plot\":{\"id\":\"3ed431a5-ce69-4f65-a55f-f415dbee0ea2\",\"subtype\":\"Figure\",\"type\":\"Plot\"}},\"id\":\"94228b0f-e873-4895-b5d0-1bdb1d2ce2ac\",\"type\":\"BoxZoomTool\"},{\"attributes\":{\"plot\":{\"id\":\"1666fb96-a911-4fb5-bbe4-a9d0f893d199\",\"subtype\":\"Figure\",\"type\":\"Plot\"}},\"id\":\"9ea1c5b9-5030-4f9b-8139-71b762c9a196\",\"type\":\"PanTool\"},{\"attributes\":{\"plot\":{\"id\":\"3ed431a5-ce69-4f65-a55f-f415dbee0ea2\",\"subtype\":\"Figure\",\"type\":\"Plot\"}},\"id\":\"0b9692f9-ae58-48fe-be40-46e9e5df5611\",\"type\":\"ResetTool\"},{\"attributes\":{},\"id\":\"61a7f468-39ac-46cf-bfc8-09f053e88120\",\"type\":\"BasicTicker\"},{\"attributes\":{\"plot\":{\"id\":\"8c4c26ab-4ba0-404f-9305-78bb0650f1ad\",\"subtype\":\"Figure\",\"type\":\"Plot\"}},\"id\":\"9108eff7-c748-434b-9bb0-fac5e2da8bec\",\"type\":\"WheelZoomTool\"},{\"attributes\":{\"x\":{\"field\":\"B\"},\"y\":{\"field\":\"C\"}},\"id\":\"f47473a6-f51d-4c88-ac66-29d74d1da8b4\",\"type\":\"Circle\"},{\"attributes\":{\"active_drag\":\"auto\",\"active_scroll\":\"auto\",\"active_tap\":\"auto\",\"tools\":[{\"id\":\"5578514f-36f3-4301-9f29-6714aab92902\",\"type\":\"PanTool\"},{\"id\":\"92b96cd7-07a5-41f8-8042-933accf68c2f\",\"type\":\"WheelZoomTool\"},{\"id\":\"e26a20f7-e345-4b79-95bd-446dc6089962\",\"type\":\"BoxZoomTool\"},{\"id\":\"7df8684c-69fc-4754-88ab-ee0a08f3ef2c\",\"type\":\"SaveTool\"},{\"id\":\"161933ba-aa3a-4b27-a010-75766192d445\",\"type\":\"ResetTool\"},{\"id\":\"93d1a62e-e136-4eb8-97bb-414fe27b32e9\",\"type\":\"HelpTool\"}]},\"id\":\"c962dec4-7968-496d-8790-8f0795b72a8d\",\"type\":\"Toolbar\"},{\"attributes\":{},\"id\":\"740cdeb1-f10a-4282-bcfc-f672bb377df9\",\"type\":\"BasicTicker\"},{\"attributes\":{\"plot\":{\"id\":\"68154171-499f-416f-81b3-096f5eb91f00\",\"subtype\":\"Figure\",\"type\":\"Plot\"}},\"id\":\"9debac97-f18b-4ae9-88e4-09e5347dd5fd\",\"type\":\"HelpTool\"},{\"attributes\":{\"plot\":{\"id\":\"8c4c26ab-4ba0-404f-9305-78bb0650f1ad\",\"subtype\":\"Figure\",\"type\":\"Plot\"}},\"id\":\"19c1dcb2-c1aa-48c6-9b9a-e45b215912c2\",\"type\":\"PanTool\"},{\"attributes\":{\"active_drag\":\"auto\",\"active_scroll\":\"auto\",\"active_tap\":\"auto\",\"tools\":[{\"id\":\"9ea1c5b9-5030-4f9b-8139-71b762c9a196\",\"type\":\"PanTool\"},{\"id\":\"95cfb21a-5452-4f44-a095-e5483607a20a\",\"type\":\"WheelZoomTool\"},{\"id\":\"9f2e86fd-1ad4-4b51-9b93-d98c2a84faa8\",\"type\":\"BoxZoomTool\"},{\"id\":\"02e05395-1bb1-4cff-b176-60fa24fea589\",\"type\":\"SaveTool\"},{\"id\":\"42a2b822-3cb4-49d3-93ed-48f84cae9730\",\"type\":\"ResetTool\"},{\"id\":\"21d59a5c-7eff-46bc-bd65-85eca63849e8\",\"type\":\"HelpTool\"}]},\"id\":\"c1b6495e-d636-4d2b-943f-04f973f6eeaf\",\"type\":\"Toolbar\"},{\"attributes\":{\"callback\":null},\"id\":\"c16dcd18-5013-4a68-a110-d2a0cc7bc163\",\"type\":\"DataRange1d\"},{\"attributes\":{\"plot\":null,\"text\":\"\"},\"id\":\"333e69f4-4b63-4d0b-ad0f-6ea75f58d928\",\"type\":\"Title\"},{\"attributes\":{\"plot\":{\"id\":\"7e819d3e-edb1-495c-bcfb-dabf5c19bce9\",\"subtype\":\"Figure\",\"type\":\"Plot\"},\"ticker\":{\"id\":\"740cdeb1-f10a-4282-bcfc-f672bb377df9\",\"type\":\"BasicTicker\"}},\"id\":\"eec15eb8-d8d8-4ae7-8cb1-f0b8aba5764d\",\"type\":\"Grid\"},{\"attributes\":{},\"id\":\"729bf6a2-0f50-43e9-8c6d-968f17087cfe\",\"type\":\"BasicTickFormatter\"},{\"attributes\":{\"overlay\":{\"id\":\"94e9a0bc-bc60-4694-8e39-4bf14fbb5d4a\",\"type\":\"BoxAnnotation\"},\"plot\":{\"id\":\"8c4c26ab-4ba0-404f-9305-78bb0650f1ad\",\"subtype\":\"Figure\",\"type\":\"Plot\"}},\"id\":\"88b7a00d-31ec-4692-831a-aeb149f89c48\",\"type\":\"BoxZoomTool\"},{\"attributes\":{},\"id\":\"d196fefa-890d-4045-9194-2877c52a9b88\",\"type\":\"BasicTicker\"},{\"attributes\":{\"callback\":null},\"id\":\"5694f27a-6587-4fa2-9e62-54eac814bd4d\",\"type\":\"DataRange1d\"},{\"attributes\":{\"plot\":{\"id\":\"55792501-be75-4655-bda7-f798b37d3e34\",\"subtype\":\"Figure\",\"type\":\"Plot\"}},\"id\":\"76db9c8e-42f5-49be-a719-b98a32e87d75\",\"type\":\"SaveTool\"},{\"attributes\":{},\"id\":\"0cb41272-f30a-4839-9f97-93c59043d147\",\"type\":\"ToolEvents\"},{\"attributes\":{},\"id\":\"c603cc5a-100b-4650-a7b2-67391f74bf8d\",\"type\":\"ToolEvents\"},{\"attributes\":{},\"id\":\"059c592c-3cb0-4295-9ac8-5ad338d84479\",\"type\":\"BasicTicker\"},{\"attributes\":{\"bottom_units\":\"screen\",\"fill_alpha\":{\"value\":0.5},\"fill_color\":{\"value\":\"lightgrey\"},\"left_units\":\"screen\",\"level\":\"overlay\",\"line_alpha\":{\"value\":1.0},\"line_color\":{\"value\":\"black\"},\"line_dash\":[4,4],\"line_width\":{\"value\":2},\"plot\":null,\"render_mode\":\"css\",\"right_units\":\"screen\",\"top_units\":\"screen\"},\"id\":\"aceedfb7-0b6b-4181-9ea7-6290fb9bf184\",\"type\":\"BoxAnnotation\"},{\"attributes\":{\"formatter\":{\"id\":\"1fffdd6e-2c7f-4b8b-99d0-4589a7132908\",\"type\":\"BasicTickFormatter\"},\"plot\":{\"id\":\"7e819d3e-edb1-495c-bcfb-dabf5c19bce9\",\"subtype\":\"Figure\",\"type\":\"Plot\"},\"ticker\":{\"id\":\"740cdeb1-f10a-4282-bcfc-f672bb377df9\",\"type\":\"BasicTicker\"}},\"id\":\"c3a12aa6-f018-4f4d-8798-1476f0697eb8\",\"type\":\"LinearAxis\"},{\"attributes\":{\"plot\":{\"id\":\"8c4c26ab-4ba0-404f-9305-78bb0650f1ad\",\"subtype\":\"Figure\",\"type\":\"Plot\"}},\"id\":\"59128007-413a-46da-9851-52f7c920aad6\",\"type\":\"ResetTool\"},{\"attributes\":{},\"id\":\"eb2473b0-5b01-4734-8cfe-e168dfd11229\",\"type\":\"BasicTicker\"},{\"attributes\":{},\"id\":\"fe671969-a758-4581-8363-af49a2c494eb\",\"type\":\"BasicTickFormatter\"},{\"attributes\":{\"below\":[{\"id\":\"b90e53b0-7c5d-4bde-9f3a-8a2f0e3da6ab\",\"type\":\"LinearAxis\"}],\"left\":[{\"id\":\"3a5c3aad-3523-41b9-96ae-5b8032a8420c\",\"type\":\"LinearAxis\"}],\"plot_height\":200,\"plot_width\":200,\"renderers\":[{\"id\":\"b90e53b0-7c5d-4bde-9f3a-8a2f0e3da6ab\",\"type\":\"LinearAxis\"},{\"id\":\"31a087c6-709e-4a55-a6d6-d998656f8312\",\"type\":\"Grid\"},{\"id\":\"3a5c3aad-3523-41b9-96ae-5b8032a8420c\",\"type\":\"LinearAxis\"},{\"id\":\"4920046b-620c-40d1-923c-bf809043b2da\",\"type\":\"Grid\"},{\"id\":\"aceedfb7-0b6b-4181-9ea7-6290fb9bf184\",\"type\":\"BoxAnnotation\"},{\"id\":\"76278f75-4f07-40b8-92b3-30f62e3fe502\",\"type\":\"GlyphRenderer\"}],\"title\":{\"id\":\"e49d1d6f-2909-4f11-aa6f-2d0ac52b0d8b\",\"type\":\"Title\"},\"tool_events\":{\"id\":\"ca3a8285-3d71-4d4c-9b19-8130b33b7cf3\",\"type\":\"ToolEvents\"},\"toolbar\":{\"id\":\"19df9219-e68c-42df-a5c6-535f3f12b767\",\"type\":\"Toolbar\"},\"toolbar_location\":null,\"x_range\":{\"id\":\"f5b53428-1694-4880-bb45-12a2e6a8fb40\",\"type\":\"DataRange1d\"},\"y_range\":{\"id\":\"50b8f98f-eb73-4f3b-96ed-6603413c72c2\",\"type\":\"DataRange1d\"}},\"id\":\"2f8e4220-7b91-45a5-9cfa-6ff39f847700\",\"subtype\":\"Figure\",\"type\":\"Plot\"},{\"attributes\":{\"dimension\":1,\"plot\":{\"id\":\"8c4c26ab-4ba0-404f-9305-78bb0650f1ad\",\"subtype\":\"Figure\",\"type\":\"Plot\"},\"ticker\":{\"id\":\"94d090dc-5b10-42c7-b590-52783611bf5f\",\"type\":\"BasicTicker\"}},\"id\":\"84766345-44a7-48a9-ae7b-0aa3e864a343\",\"type\":\"Grid\"},{\"attributes\":{},\"id\":\"0676aea5-dfa7-446d-a740-6428d67b4f01\",\"type\":\"ToolEvents\"},{\"attributes\":{},\"id\":\"6e6d292b-3e2b-4808-b01e-40b20a11b6e5\",\"type\":\"BasicTickFormatter\"},{\"attributes\":{\"formatter\":{\"id\":\"b851d760-359b-4e2c-9fb4-d3f6261fe603\",\"type\":\"BasicTickFormatter\"},\"plot\":{\"id\":\"55792501-be75-4655-bda7-f798b37d3e34\",\"subtype\":\"Figure\",\"type\":\"Plot\"},\"ticker\":{\"id\":\"6b30ae34-87de-44e5-92de-06500928e90b\",\"type\":\"BasicTicker\"}},\"id\":\"202be03b-11df-45d9-a4c3-d8ff94543fc6\",\"type\":\"LinearAxis\"},{\"attributes\":{\"plot\":{\"id\":\"3ed431a5-ce69-4f65-a55f-f415dbee0ea2\",\"subtype\":\"Figure\",\"type\":\"Plot\"}},\"id\":\"7b692c1b-9a27-42a1-a0c2-58241dd96e58\",\"type\":\"WheelZoomTool\"},{\"attributes\":{\"active_drag\":\"auto\",\"active_scroll\":\"auto\",\"active_tap\":\"auto\",\"tools\":[{\"id\":\"ca0e07a9-a75e-441a-8837-dd2ff8566b8c\",\"type\":\"PanTool\"},{\"id\":\"2e2c67a3-57fb-4fac-918a-4d902c3e634e\",\"type\":\"WheelZoomTool\"},{\"id\":\"800356b9-2c34-45c0-8571-097e0636b8e6\",\"type\":\"BoxZoomTool\"},{\"id\":\"0923212c-dce0-4e51-8884-4aff39c83e3e\",\"type\":\"SaveTool\"},{\"id\":\"0adacb9e-2890-49c0-a758-b28bd91b872e\",\"type\":\"ResetTool\"},{\"id\":\"9debac97-f18b-4ae9-88e4-09e5347dd5fd\",\"type\":\"HelpTool\"}]},\"id\":\"e0b7ed40-6177-49c7-9c01-462c00d2b401\",\"type\":\"Toolbar\"},{\"attributes\":{\"below\":[{\"id\":\"f43f17d8-814a-43e0-a04e-13fa50872172\",\"type\":\"LinearAxis\"}],\"left\":[{\"id\":\"664be796-7784-4df6-8cd4-0b4400394055\",\"type\":\"LinearAxis\"}],\"plot_height\":200,\"plot_width\":200,\"renderers\":[{\"id\":\"f43f17d8-814a-43e0-a04e-13fa50872172\",\"type\":\"LinearAxis\"},{\"id\":\"2662059c-7c98-4b55-a154-d05ee68e6085\",\"type\":\"Grid\"},{\"id\":\"664be796-7784-4df6-8cd4-0b4400394055\",\"type\":\"LinearAxis\"},{\"id\":\"a8a02f19-29a7-42b6-b378-8dc84272dc43\",\"type\":\"Grid\"},{\"id\":\"ceb19fa1-3366-4f8c-bc97-2b671bfe3440\",\"type\":\"BoxAnnotation\"}],\"title\":{\"id\":\"55583c84-f061-4944-877e-33ec156c87dc\",\"type\":\"Title\"},\"tool_events\":{\"id\":\"e85c2552-a3d0-457a-b13a-b095ccfd2596\",\"type\":\"ToolEvents\"},\"toolbar\":{\"id\":\"c1b6495e-d636-4d2b-943f-04f973f6eeaf\",\"type\":\"Toolbar\"},\"toolbar_location\":null,\"x_range\":{\"id\":\"b3606081-de7c-4a16-8647-a0a18bdbf7d9\",\"type\":\"DataRange1d\"},\"y_range\":{\"id\":\"42e554a8-ccc1-4a53-b601-97f7d726e8eb\",\"type\":\"DataRange1d\"}},\"id\":\"1666fb96-a911-4fb5-bbe4-a9d0f893d199\",\"subtype\":\"Figure\",\"type\":\"Plot\"},{\"attributes\":{},\"id\":\"e3787906-b72d-4412-89f0-ddd41e33993f\",\"type\":\"BasicTicker\"},{\"attributes\":{\"plot\":{\"id\":\"2f8e4220-7b91-45a5-9cfa-6ff39f847700\",\"subtype\":\"Figure\",\"type\":\"Plot\"}},\"id\":\"e735d393-67d6-465d-9af9-4b5062a03b03\",\"type\":\"HelpTool\"},{\"attributes\":{\"callback\":null},\"id\":\"c99aa6e4-a5b0-4bf0-97d8-df2207c584b3\",\"type\":\"DataRange1d\"},{\"attributes\":{\"plot\":{\"id\":\"7e819d3e-edb1-495c-bcfb-dabf5c19bce9\",\"subtype\":\"Figure\",\"type\":\"Plot\"}},\"id\":\"7dffe1ff-8568-4ce4-aa84-bf0e478950fa\",\"type\":\"SaveTool\"},{\"attributes\":{\"callback\":null},\"id\":\"82ef64c2-9b0a-47d2-97cd-359a7a05351f\",\"type\":\"DataRange1d\"},{\"attributes\":{\"plot\":{\"id\":\"0bb2e9e1-2cc6-4dc8-bace-7aa6bb914286\",\"subtype\":\"Figure\",\"type\":\"Plot\"}},\"id\":\"49a63a18-d320-43b5-82b3-ea9c0087c9eb\",\"type\":\"HelpTool\"},{\"attributes\":{},\"id\":\"1fffdd6e-2c7f-4b8b-99d0-4589a7132908\",\"type\":\"BasicTickFormatter\"},{\"attributes\":{\"bottom_units\":\"screen\",\"fill_alpha\":{\"value\":0.5},\"fill_color\":{\"value\":\"lightgrey\"},\"left_units\":\"screen\",\"level\":\"overlay\",\"line_alpha\":{\"value\":1.0},\"line_color\":{\"value\":\"black\"},\"line_dash\":[4,4],\"line_width\":{\"value\":2},\"plot\":null,\"render_mode\":\"css\",\"right_units\":\"screen\",\"top_units\":\"screen\"},\"id\":\"94e9a0bc-bc60-4694-8e39-4bf14fbb5d4a\",\"type\":\"BoxAnnotation\"},{\"attributes\":{},\"id\":\"a2dee4c2-a389-479a-848d-25473e8ea99d\",\"type\":\"BasicTicker\"},{\"attributes\":{},\"id\":\"d8202a16-289c-4d43-8eaa-a3319d8d7021\",\"type\":\"BasicTicker\"},{\"attributes\":{\"plot\":{\"id\":\"e2b43d1b-91e9-42cb-aceb-e44bb7c51d5a\",\"subtype\":\"Figure\",\"type\":\"Plot\"}},\"id\":\"161933ba-aa3a-4b27-a010-75766192d445\",\"type\":\"ResetTool\"},{\"attributes\":{\"x\":{\"field\":\"A\"},\"y\":{\"field\":\"B\"}},\"id\":\"6732caa2-8de6-4728-ac79-d4078fc90bb4\",\"type\":\"Circle\"},{\"attributes\":{\"active_drag\":\"auto\",\"active_scroll\":\"auto\",\"active_tap\":\"auto\",\"tools\":[{\"id\":\"ed8032a4-f16e-4422-8500-bf0bd36f0e2b\",\"type\":\"PanTool\"},{\"id\":\"0c06d4ea-5467-4dff-af52-e75db8667ce8\",\"type\":\"WheelZoomTool\"},{\"id\":\"23925806-60a0-4d71-a948-570882a5948b\",\"type\":\"BoxZoomTool\"},{\"id\":\"76db9c8e-42f5-49be-a719-b98a32e87d75\",\"type\":\"SaveTool\"},{\"id\":\"1887e20b-e822-4a04-80ef-7ee1b22da872\",\"type\":\"ResetTool\"},{\"id\":\"c6ab5fac-8e49-4e47-89e8-3f9bbb072f28\",\"type\":\"HelpTool\"}]},\"id\":\"6871ee61-3468-41bb-b703-ac0242bd8a19\",\"type\":\"Toolbar\"},{\"attributes\":{\"overlay\":{\"id\":\"c607d044-9a7a-4581-9c4a-04e81f0f67c1\",\"type\":\"BoxAnnotation\"},\"plot\":{\"id\":\"68154171-499f-416f-81b3-096f5eb91f00\",\"subtype\":\"Figure\",\"type\":\"Plot\"}},\"id\":\"800356b9-2c34-45c0-8571-097e0636b8e6\",\"type\":\"BoxZoomTool\"},{\"attributes\":{\"plot\":{\"id\":\"8c4c26ab-4ba0-404f-9305-78bb0650f1ad\",\"subtype\":\"Figure\",\"type\":\"Plot\"}},\"id\":\"36a71e36-e707-40a8-a2cf-c2a4bc67c450\",\"type\":\"SaveTool\"},{\"attributes\":{\"plot\":{\"id\":\"2f8e4220-7b91-45a5-9cfa-6ff39f847700\",\"subtype\":\"Figure\",\"type\":\"Plot\"}},\"id\":\"cdcdb252-6223-46fe-ae27-47df40b953d9\",\"type\":\"WheelZoomTool\"},{\"attributes\":{\"callback\":null,\"column_names\":[\"B\",\"A\",\"index\",\"C\",\"D\"],\"data\":{\"A\":{\"__ndarray__\":\"nvUOYrNZ4D9zeD16SJfwP/QCl6Uotr6/r059Hd+y+L+l/+hccz35PzTUsvdUOLE/GcVyzUnN57+LhrW7fajnvxdYyMb/Xu2/rapkVezC6j9SjsvnfV/IvzAvs8w2cOW/GCAZICgu7D+yGvNpUzD9P/gOKo5AGOU/SHWIpzYj4z9Sn4mtSOXhvxg/BTzmOp0/Sh8h8WJJ279ogA+K33Hlv61Ly7kn1eC/vfHk65otib+aLg0erazzv20WxUnYQ+g/OZ68dTiv9792v7gXKinjvz+fvRdpf/C/nc30d47Y8z/WhOxqSojCP7CpgidY8eS/\",\"dtype\":\"float64\",\"shape\":[30]},\"B\":{\"__ndarray__\":\"yzrH0TAe4L98PzpZa2zpv39aGs4kvOK/Fb/2Bplh5j8AJ3L69Lbav9972ix4JvI/GpiTJDbD5j+48qp0N9LBv51b7JXsjOY/0ildsxSr4b8LliZ2Jt7jP3cgb15bF98/esn7y7jkx78LyAGorWH3vwjqCn0UY8G/qCE/tBJU4L9jX8ffKGn2P5EOBB9CBqw/XNGf/+fP0T+Fa2A+RJzlPyK6uqK29d2/ad5a6hg+7r8B52VPDtz1P2/udAHOMP8/13XYPcCUwL9UOOwEQinhP2vZayA0jdk/FFSwmw0C6r/ERB7i2zb3v4ddbMU3p+0/\",\"dtype\":\"float64\",\"shape\":[30]},\"C\":{\"__ndarray__\":\"0DjvbNyCxb8QZ/u1kNLuv4Kx/0lRqeC/ymhYVXB95L//reKzi4u/v9P4K7tzZOS/mZJ3hDeK6z/faJnRrzbxv+S2IrKv+uk/Qi91z+N99z/Tx00EafrxP0pox/qtE/+/Er4nI9X95D/u1kOdtyC5v0OS6FIda+S/2ee6fe8k0b/PWOoAcOXgvztzG1qi39G/LG9LAwao8b89tZ2Sqt3wPzS4N6xw//C/jjyZg2Qo3787UIrA1Az1v2Vo2iGvBvI/MungdMjGub91y0tTDCoCQMvcdQMOTaY/8YRIAiQ097/b7/pnNCTlP/eeukTzRsA/\",\"dtype\":\"float64\",\"shape\":[30]},\"D\":{\"__ndarray__\":\"aOlTcrg0wT9pL1sc8Nbnv6QvcE18jf+/gXelUM4S2j9AJyUMiyq3v0L/3Wrom/i/rqvrF54m+r/wXz0OYbn8P9rV/zBx0c0/Bcy+kkm97r/VvmkLmqbtvz0wABbkCM0/zqWrWBkB4D+bnfXGX6DhvyqymZfRQp2/y3Qv0+dT8L+nkUCvvMblP4IjjyTdBW2/u02uwYKO8j8AH3n/aDT3v8taWqWOGPQ/UkznyBJLrD+w3oKV/s25v+oizO38h9U/qm3ux6OR4D+EVBa6cncIQKTvA2wIkvK/64fUczvg1b/hiKhYE1nkPwn2LXbTNve/\",\"dtype\":\"float64\",\"shape\":[30]},\"index\":[0,1,2,3,4,5,6,7,8,9,10,11,12,13,14,15,16,17,18,19,20,21,22,23,24,25,26,27,28,29]}},\"id\":\"3affed2b-a031-419c-8d5c-7ec66dd1d574\",\"type\":\"ColumnDataSource\"},{\"attributes\":{\"data_source\":{\"id\":\"3affed2b-a031-419c-8d5c-7ec66dd1d574\",\"type\":\"ColumnDataSource\"},\"glyph\":{\"id\":\"6745ab53-cb70-4c1b-9d1a-142c2eca5337\",\"type\":\"X\"},\"hover_glyph\":null,\"muted_glyph\":null},\"id\":\"62be9692-01f4-4c1a-8a31-13ab738c74dd\",\"type\":\"GlyphRenderer\"},{\"attributes\":{},\"id\":\"8b92f708-5a01-4997-8418-f4269fdb5aaa\",\"type\":\"BasicTicker\"},{\"attributes\":{},\"id\":\"e1ce6d36-05ed-46d2-b1e9-e5b449e0f09a\",\"type\":\"BasicTicker\"},{\"attributes\":{\"plot\":{\"id\":\"0bb2e9e1-2cc6-4dc8-bace-7aa6bb914286\",\"subtype\":\"Figure\",\"type\":\"Plot\"}},\"id\":\"efda6cf4-ceed-4686-ac0b-e2674439c1b4\",\"type\":\"WheelZoomTool\"},{\"attributes\":{\"callback\":null},\"id\":\"275d0ec4-5c90-4224-bf1a-ac5e7bb36516\",\"type\":\"DataRange1d\"},{\"attributes\":{\"plot\":null,\"text\":\"\"},\"id\":\"e49d1d6f-2909-4f11-aa6f-2d0ac52b0d8b\",\"type\":\"Title\"},{\"attributes\":{\"plot\":{\"id\":\"7e819d3e-edb1-495c-bcfb-dabf5c19bce9\",\"subtype\":\"Figure\",\"type\":\"Plot\"}},\"id\":\"5a72b6ce-1f8e-46f0-bbd9-e3096fdcbcf3\",\"type\":\"WheelZoomTool\"},{\"attributes\":{\"plot\":{\"id\":\"e2b43d1b-91e9-42cb-aceb-e44bb7c51d5a\",\"subtype\":\"Figure\",\"type\":\"Plot\"},\"ticker\":{\"id\":\"8b92f708-5a01-4997-8418-f4269fdb5aaa\",\"type\":\"BasicTicker\"}},\"id\":\"a525217a-9718-4876-82ed-f5f6bca333af\",\"type\":\"Grid\"},{\"attributes\":{\"formatter\":{\"id\":\"cb5d0fa5-e01c-47d8-aced-6e5a13e04d8b\",\"type\":\"BasicTickFormatter\"},\"plot\":{\"id\":\"1666fb96-a911-4fb5-bbe4-a9d0f893d199\",\"subtype\":\"Figure\",\"type\":\"Plot\"},\"ticker\":{\"id\":\"e1ce6d36-05ed-46d2-b1e9-e5b449e0f09a\",\"type\":\"BasicTicker\"}},\"id\":\"664be796-7784-4df6-8cd4-0b4400394055\",\"type\":\"LinearAxis\"},{\"attributes\":{\"plot\":null,\"text\":\"\"},\"id\":\"7b4a9edf-508f-46ec-a7dc-0f2a2aa64c8f\",\"type\":\"Title\"},{\"attributes\":{\"plot\":{\"id\":\"55792501-be75-4655-bda7-f798b37d3e34\",\"subtype\":\"Figure\",\"type\":\"Plot\"}},\"id\":\"0c06d4ea-5467-4dff-af52-e75db8667ce8\",\"type\":\"WheelZoomTool\"},{\"attributes\":{\"bottom_units\":\"screen\",\"fill_alpha\":{\"value\":0.5},\"fill_color\":{\"value\":\"lightgrey\"},\"left_units\":\"screen\",\"level\":\"overlay\",\"line_alpha\":{\"value\":1.0},\"line_color\":{\"value\":\"black\"},\"line_dash\":[4,4],\"line_width\":{\"value\":2},\"plot\":null,\"render_mode\":\"css\",\"right_units\":\"screen\",\"top_units\":\"screen\"},\"id\":\"8b0a0ae4-2b01-44a8-a835-bd1efe5f5595\",\"type\":\"BoxAnnotation\"},{\"attributes\":{},\"id\":\"b22dfe8d-879a-4b7b-addb-e6fae5611e4f\",\"type\":\"BasicTicker\"},{\"attributes\":{},\"id\":\"a6388db5-b2a2-4e49-8444-4e45e05006fb\",\"type\":\"ToolEvents\"},{\"attributes\":{},\"id\":\"6b30ae34-87de-44e5-92de-06500928e90b\",\"type\":\"BasicTicker\"},{\"attributes\":{\"dimension\":1,\"plot\":{\"id\":\"68154171-499f-416f-81b3-096f5eb91f00\",\"subtype\":\"Figure\",\"type\":\"Plot\"},\"ticker\":{\"id\":\"b22dfe8d-879a-4b7b-addb-e6fae5611e4f\",\"type\":\"BasicTicker\"}},\"id\":\"e2451e91-16be-4aa4-bff9-645f5d9d59de\",\"type\":\"Grid\"},{\"attributes\":{\"plot\":{\"id\":\"55792501-be75-4655-bda7-f798b37d3e34\",\"subtype\":\"Figure\",\"type\":\"Plot\"}},\"id\":\"1887e20b-e822-4a04-80ef-7ee1b22da872\",\"type\":\"ResetTool\"},{\"attributes\":{\"active_drag\":\"auto\",\"active_scroll\":\"auto\",\"active_tap\":\"auto\",\"tools\":[{\"id\":\"c4c092f5-551f-4638-8de0-1558f2b17650\",\"type\":\"PanTool\"},{\"id\":\"5a72b6ce-1f8e-46f0-bbd9-e3096fdcbcf3\",\"type\":\"WheelZoomTool\"},{\"id\":\"6c0bdf1a-0753-446e-8d7f-07d0f5a73abf\",\"type\":\"BoxZoomTool\"},{\"id\":\"7dffe1ff-8568-4ce4-aa84-bf0e478950fa\",\"type\":\"SaveTool\"},{\"id\":\"8c839b33-984c-4377-922c-cd6c1442054d\",\"type\":\"ResetTool\"},{\"id\":\"d8e3dc2b-f46b-4124-8915-0eef7cfa9cb4\",\"type\":\"HelpTool\"}]},\"id\":\"b4292448-8df7-464e-a213-f8b1fa124cac\",\"type\":\"Toolbar\"},{\"attributes\":{\"plot\":{\"id\":\"e2b43d1b-91e9-42cb-aceb-e44bb7c51d5a\",\"subtype\":\"Figure\",\"type\":\"Plot\"}},\"id\":\"92b96cd7-07a5-41f8-8042-933accf68c2f\",\"type\":\"WheelZoomTool\"},{\"attributes\":{\"plot\":null,\"text\":\"\"},\"id\":\"965d1871-2415-45a2-8e9a-f03ba68cd449\",\"type\":\"Title\"},{\"attributes\":{\"plot\":{\"id\":\"0bb2e9e1-2cc6-4dc8-bace-7aa6bb914286\",\"subtype\":\"Figure\",\"type\":\"Plot\"}},\"id\":\"e9cb101d-7bfd-4b6f-b023-5f7c1b1b0dde\",\"type\":\"ResetTool\"},{\"attributes\":{},\"id\":\"ba9fd70d-9ca7-4102-908d-282d4bd4d07a\",\"type\":\"BasicTickFormatter\"},{\"attributes\":{},\"id\":\"146be68e-bfad-4db7-b399-df49fdf71060\",\"type\":\"BasicTickFormatter\"},{\"attributes\":{\"plot\":null,\"text\":\"\"},\"id\":\"dd93790c-e671-4725-bfa7-6bb1ff8cda4c\",\"type\":\"Title\"},{\"attributes\":{},\"id\":\"03dc5e5f-ba7e-445d-8b80-ac5d9537388b\",\"type\":\"ToolEvents\"},{\"attributes\":{\"plot\":{\"id\":\"e2b43d1b-91e9-42cb-aceb-e44bb7c51d5a\",\"subtype\":\"Figure\",\"type\":\"Plot\"}},\"id\":\"5578514f-36f3-4301-9f29-6714aab92902\",\"type\":\"PanTool\"},{\"attributes\":{\"below\":[{\"id\":\"8d80e5a5-d805-4e88-a662-dc7e177811ba\",\"type\":\"LinearAxis\"}],\"left\":[{\"id\":\"0f212f89-3270-4bcb-a419-5a7e35646132\",\"type\":\"LinearAxis\"}],\"plot_height\":200,\"plot_width\":200,\"renderers\":[{\"id\":\"8d80e5a5-d805-4e88-a662-dc7e177811ba\",\"type\":\"LinearAxis\"},{\"id\":\"a525217a-9718-4876-82ed-f5f6bca333af\",\"type\":\"Grid\"},{\"id\":\"0f212f89-3270-4bcb-a419-5a7e35646132\",\"type\":\"LinearAxis\"},{\"id\":\"5cbc4403-87f6-440d-b9b7-bb9406e9a33b\",\"type\":\"Grid\"},{\"id\":\"ab29cf30-4b82-414d-9a14-f9287295913b\",\"type\":\"BoxAnnotation\"},{\"id\":\"173dfabf-d6c8-40e8-b59d-2b0e70052b33\",\"type\":\"GlyphRenderer\"}],\"title\":{\"id\":\"e2af9a2b-91fb-43ab-99f0-0e7834e3f00e\",\"type\":\"Title\"},\"tool_events\":{\"id\":\"9d09b75e-adfa-42a8-bf34-fb6306e29383\",\"type\":\"ToolEvents\"},\"toolbar\":{\"id\":\"c962dec4-7968-496d-8790-8f0795b72a8d\",\"type\":\"Toolbar\"},\"toolbar_location\":null,\"x_range\":{\"id\":\"f37251b7-7a38-4f22-94d9-36b153435389\",\"type\":\"DataRange1d\"},\"y_range\":{\"id\":\"c99aa6e4-a5b0-4bf0-97d8-df2207c584b3\",\"type\":\"DataRange1d\"}},\"id\":\"e2b43d1b-91e9-42cb-aceb-e44bb7c51d5a\",\"subtype\":\"Figure\",\"type\":\"Plot\"},{\"attributes\":{\"formatter\":{\"id\":\"6e6d292b-3e2b-4808-b01e-40b20a11b6e5\",\"type\":\"BasicTickFormatter\"},\"plot\":{\"id\":\"2f8e4220-7b91-45a5-9cfa-6ff39f847700\",\"subtype\":\"Figure\",\"type\":\"Plot\"},\"ticker\":{\"id\":\"61a7f468-39ac-46cf-bfc8-09f053e88120\",\"type\":\"BasicTicker\"}},\"id\":\"3a5c3aad-3523-41b9-96ae-5b8032a8420c\",\"type\":\"LinearAxis\"},{\"attributes\":{\"plot\":null,\"text\":\"\"},\"id\":\"0cd1d258-fc88-4c71-ae12-b6ceedb6b2ac\",\"type\":\"Title\"},{\"attributes\":{\"bottom_units\":\"screen\",\"fill_alpha\":{\"value\":0.5},\"fill_color\":{\"value\":\"lightgrey\"},\"left_units\":\"screen\",\"level\":\"overlay\",\"line_alpha\":{\"value\":1.0},\"line_color\":{\"value\":\"black\"},\"line_dash\":[4,4],\"line_width\":{\"value\":2},\"plot\":null,\"render_mode\":\"css\",\"right_units\":\"screen\",\"top_units\":\"screen\"},\"id\":\"00b6048f-4c4e-4278-9045-7a1e38cb2cb3\",\"type\":\"BoxAnnotation\"},{\"attributes\":{\"plot\":{\"id\":\"0bb2e9e1-2cc6-4dc8-bace-7aa6bb914286\",\"subtype\":\"Figure\",\"type\":\"Plot\"}},\"id\":\"30b303a2-5293-4a03-b594-6906971823b4\",\"type\":\"PanTool\"},{\"attributes\":{\"children\":[{\"id\":\"4699675c-edba-4287-8d67-152e58ee0363\",\"type\":\"ToolbarBox\"},{\"id\":\"4e33be63-ed92-4ecd-9f47-1246ad501f2f\",\"type\":\"Column\"}]},\"id\":\"f93853a3-07ca-4a0c-8f4d-4327a1b73cf0\",\"type\":\"Column\"},{\"attributes\":{},\"id\":\"7ecea961-7455-4599-9e09-e77f2c1e4bbb\",\"type\":\"BasicTicker\"},{\"attributes\":{\"callback\":null},\"id\":\"50b8f98f-eb73-4f3b-96ed-6603413c72c2\",\"type\":\"DataRange1d\"},{\"attributes\":{\"formatter\":{\"id\":\"048ab976-c59c-480e-b189-15ea1fdcd58a\",\"type\":\"BasicTickFormatter\"},\"plot\":{\"id\":\"8c4c26ab-4ba0-404f-9305-78bb0650f1ad\",\"subtype\":\"Figure\",\"type\":\"Plot\"},\"ticker\":{\"id\":\"a2dee4c2-a389-479a-848d-25473e8ea99d\",\"type\":\"BasicTicker\"}},\"id\":\"04cf78f8-445d-4ec8-b3ed-9161c650df9a\",\"type\":\"LinearAxis\"},{\"attributes\":{\"dimension\":1,\"plot\":{\"id\":\"3ed431a5-ce69-4f65-a55f-f415dbee0ea2\",\"subtype\":\"Figure\",\"type\":\"Plot\"},\"ticker\":{\"id\":\"7830f6d4-e72b-4c95-b22c-c425b5a4ae3d\",\"type\":\"BasicTicker\"}},\"id\":\"8ce582f4-c44c-4e0f-bfd4-e1f2b04678c2\",\"type\":\"Grid\"},{\"attributes\":{\"bottom_units\":\"screen\",\"fill_alpha\":{\"value\":0.5},\"fill_color\":{\"value\":\"lightgrey\"},\"left_units\":\"screen\",\"level\":\"overlay\",\"line_alpha\":{\"value\":1.0},\"line_color\":{\"value\":\"black\"},\"line_dash\":[4,4],\"line_width\":{\"value\":2},\"plot\":null,\"render_mode\":\"css\",\"right_units\":\"screen\",\"top_units\":\"screen\"},\"id\":\"ceb19fa1-3366-4f8c-bc97-2b671bfe3440\",\"type\":\"BoxAnnotation\"},{\"attributes\":{\"dimension\":1,\"plot\":{\"id\":\"0bb2e9e1-2cc6-4dc8-bace-7aa6bb914286\",\"subtype\":\"Figure\",\"type\":\"Plot\"},\"ticker\":{\"id\":\"7ecea961-7455-4599-9e09-e77f2c1e4bbb\",\"type\":\"BasicTicker\"}},\"id\":\"3c918692-3d65-4fb6-b7d8-9050daa04c0d\",\"type\":\"Grid\"},{\"attributes\":{\"plot\":{\"id\":\"68154171-499f-416f-81b3-096f5eb91f00\",\"subtype\":\"Figure\",\"type\":\"Plot\"}},\"id\":\"0923212c-dce0-4e51-8884-4aff39c83e3e\",\"type\":\"SaveTool\"},{\"attributes\":{\"below\":[{\"id\":\"29869a54-6442-4ae7-999c-d4f328b078ef\",\"type\":\"LinearAxis\"}],\"left\":[{\"id\":\"f909971a-65f0-4116-814e-16c311587166\",\"type\":\"LinearAxis\"}],\"plot_height\":200,\"plot_width\":200,\"renderers\":[{\"id\":\"29869a54-6442-4ae7-999c-d4f328b078ef\",\"type\":\"LinearAxis\"},{\"id\":\"11705b85-15d0-4143-b289-52ddada74831\",\"type\":\"Grid\"},{\"id\":\"f909971a-65f0-4116-814e-16c311587166\",\"type\":\"LinearAxis\"},{\"id\":\"8ce582f4-c44c-4e0f-bfd4-e1f2b04678c2\",\"type\":\"Grid\"},{\"id\":\"7a57079a-c06b-4ace-9e9c-75809c5ca8cb\",\"type\":\"BoxAnnotation\"},{\"id\":\"62be9692-01f4-4c1a-8a31-13ab738c74dd\",\"type\":\"GlyphRenderer\"}],\"title\":{\"id\":\"dd93790c-e671-4725-bfa7-6bb1ff8cda4c\",\"type\":\"Title\"},\"tool_events\":{\"id\":\"a6388db5-b2a2-4e49-8444-4e45e05006fb\",\"type\":\"ToolEvents\"},\"toolbar\":{\"id\":\"983de34f-8ee9-4115-94d8-faf19aadc085\",\"type\":\"Toolbar\"},\"toolbar_location\":null,\"x_range\":{\"id\":\"5694f27a-6587-4fa2-9e62-54eac814bd4d\",\"type\":\"DataRange1d\"},\"y_range\":{\"id\":\"d3cc3610-8efb-46df-aef0-3dfc2d0241fb\",\"type\":\"DataRange1d\"}},\"id\":\"3ed431a5-ce69-4f65-a55f-f415dbee0ea2\",\"subtype\":\"Figure\",\"type\":\"Plot\"},{\"attributes\":{},\"id\":\"fd84d42b-7908-4a43-85c5-692274a07ed7\",\"type\":\"BasicTickFormatter\"},{\"attributes\":{\"bottom_units\":\"screen\",\"fill_alpha\":{\"value\":0.5},\"fill_color\":{\"value\":\"lightgrey\"},\"left_units\":\"screen\",\"level\":\"overlay\",\"line_alpha\":{\"value\":1.0},\"line_color\":{\"value\":\"black\"},\"line_dash\":[4,4],\"line_width\":{\"value\":2},\"plot\":null,\"render_mode\":\"css\",\"right_units\":\"screen\",\"top_units\":\"screen\"},\"id\":\"c607d044-9a7a-4581-9c4a-04e81f0f67c1\",\"type\":\"BoxAnnotation\"},{\"attributes\":{\"formatter\":{\"id\":\"32cb5b01-9e5f-4a5d-ba5d-5632a78cc0b1\",\"type\":\"BasicTickFormatter\"},\"plot\":{\"id\":\"e2b43d1b-91e9-42cb-aceb-e44bb7c51d5a\",\"subtype\":\"Figure\",\"type\":\"Plot\"},\"ticker\":{\"id\":\"8b92f708-5a01-4997-8418-f4269fdb5aaa\",\"type\":\"BasicTicker\"}},\"id\":\"8d80e5a5-d805-4e88-a662-dc7e177811ba\",\"type\":\"LinearAxis\"},{\"attributes\":{\"formatter\":{\"id\":\"1a0f65fd-f74e-46bd-bcae-a6b5a3ddfb97\",\"type\":\"BasicTickFormatter\"},\"plot\":{\"id\":\"0bb2e9e1-2cc6-4dc8-bace-7aa6bb914286\",\"subtype\":\"Figure\",\"type\":\"Plot\"},\"ticker\":{\"id\":\"d196fefa-890d-4045-9194-2877c52a9b88\",\"type\":\"BasicTicker\"}},\"id\":\"869f5b10-9629-425e-9e7a-7043cab752b4\",\"type\":\"LinearAxis\"},{\"attributes\":{},\"id\":\"9d09b75e-adfa-42a8-bf34-fb6306e29383\",\"type\":\"ToolEvents\"},{\"attributes\":{\"plot\":{\"id\":\"2f8e4220-7b91-45a5-9cfa-6ff39f847700\",\"subtype\":\"Figure\",\"type\":\"Plot\"},\"ticker\":{\"id\":\"059c592c-3cb0-4295-9ac8-5ad338d84479\",\"type\":\"BasicTicker\"}},\"id\":\"31a087c6-709e-4a55-a6d6-d998656f8312\",\"type\":\"Grid\"},{\"attributes\":{},\"id\":\"82abfb4f-4728-4fdf-8590-2c5ece9b3762\",\"type\":\"BasicTickFormatter\"},{\"attributes\":{},\"id\":\"b851d760-359b-4e2c-9fb4-d3f6261fe603\",\"type\":\"BasicTickFormatter\"},{\"attributes\":{},\"id\":\"7830f6d4-e72b-4c95-b22c-c425b5a4ae3d\",\"type\":\"BasicTicker\"},{\"attributes\":{\"data_source\":{\"id\":\"3affed2b-a031-419c-8d5c-7ec66dd1d574\",\"type\":\"ColumnDataSource\"},\"glyph\":{\"id\":\"d881cd57-255c-41d8-8f40-e6ad477443a0\",\"type\":\"X\"},\"hover_glyph\":null,\"muted_glyph\":null},\"id\":\"2c31d4a2-e525-4945-871a-db077fae072d\",\"type\":\"GlyphRenderer\"},{\"attributes\":{\"plot\":{\"id\":\"68154171-499f-416f-81b3-096f5eb91f00\",\"subtype\":\"Figure\",\"type\":\"Plot\"}},\"id\":\"0adacb9e-2890-49c0-a758-b28bd91b872e\",\"type\":\"ResetTool\"},{\"attributes\":{\"plot\":{\"id\":\"3ed431a5-ce69-4f65-a55f-f415dbee0ea2\",\"subtype\":\"Figure\",\"type\":\"Plot\"}},\"id\":\"d7b02dab-7e60-440c-b30a-48608712a00a\",\"type\":\"HelpTool\"},{\"attributes\":{\"formatter\":{\"id\":\"77c0e012-55ae-49be-92b6-76e466d2dfbc\",\"type\":\"BasicTickFormatter\"},\"plot\":{\"id\":\"7e819d3e-edb1-495c-bcfb-dabf5c19bce9\",\"subtype\":\"Figure\",\"type\":\"Plot\"},\"ticker\":{\"id\":\"d8202a16-289c-4d43-8eaa-a3319d8d7021\",\"type\":\"BasicTicker\"}},\"id\":\"e202d5a5-d1e3-4638-b3e1-5efe61ed9031\",\"type\":\"LinearAxis\"},{\"attributes\":{\"below\":[{\"id\":\"97069e41-309e-46d4-a190-89b7c203ef3c\",\"type\":\"LinearAxis\"}],\"left\":[{\"id\":\"4dc31a27-d5f4-4a95-801d-45a45600d78a\",\"type\":\"LinearAxis\"}],\"plot_height\":200,\"plot_width\":200,\"renderers\":[{\"id\":\"97069e41-309e-46d4-a190-89b7c203ef3c\",\"type\":\"LinearAxis\"},{\"id\":\"cf9964e0-e4fd-4d51-9a4c-60de2c5fd758\",\"type\":\"Grid\"},{\"id\":\"4dc31a27-d5f4-4a95-801d-45a45600d78a\",\"type\":\"LinearAxis\"},{\"id\":\"e2451e91-16be-4aa4-bff9-645f5d9d59de\",\"type\":\"Grid\"},{\"id\":\"c607d044-9a7a-4581-9c4a-04e81f0f67c1\",\"type\":\"BoxAnnotation\"},{\"id\":\"2ac71d7f-d9bc-431b-ad8b-dea04b29bb87\",\"type\":\"GlyphRenderer\"}],\"title\":{\"id\":\"a2098397-70d0-44f7-91cb-02349c3d9536\",\"type\":\"Title\"},\"tool_events\":{\"id\":\"0676aea5-dfa7-446d-a740-6428d67b4f01\",\"type\":\"ToolEvents\"},\"toolbar\":{\"id\":\"e0b7ed40-6177-49c7-9c01-462c00d2b401\",\"type\":\"Toolbar\"},\"toolbar_location\":null,\"x_range\":{\"id\":\"c16dcd18-5013-4a68-a110-d2a0cc7bc163\",\"type\":\"DataRange1d\"},\"y_range\":{\"id\":\"938d1660-9743-4306-8bc3-08bca3731b30\",\"type\":\"DataRange1d\"}},\"id\":\"68154171-499f-416f-81b3-096f5eb91f00\",\"subtype\":\"Figure\",\"type\":\"Plot\"},{\"attributes\":{},\"id\":\"c92cd72d-5ee3-477a-a223-7119af056c17\",\"type\":\"BasicTicker\"},{\"attributes\":{\"x\":{\"field\":\"C\"},\"y\":{\"field\":\"A\"}},\"id\":\"d881cd57-255c-41d8-8f40-e6ad477443a0\",\"type\":\"X\"},{\"attributes\":{\"x\":{\"field\":\"B\"},\"y\":{\"field\":\"A\"}},\"id\":\"6745ab53-cb70-4c1b-9d1a-142c2eca5337\",\"type\":\"X\"},{\"attributes\":{\"callback\":null},\"id\":\"6cd65e5c-7b8d-4eee-9c5d-fb9121c3ed4d\",\"type\":\"DataRange1d\"},{\"attributes\":{\"formatter\":{\"id\":\"ba9fd70d-9ca7-4102-908d-282d4bd4d07a\",\"type\":\"BasicTickFormatter\"},\"plot\":{\"id\":\"8c4c26ab-4ba0-404f-9305-78bb0650f1ad\",\"subtype\":\"Figure\",\"type\":\"Plot\"},\"ticker\":{\"id\":\"94d090dc-5b10-42c7-b590-52783611bf5f\",\"type\":\"BasicTicker\"}},\"id\":\"ea1252cb-41ab-46e5-8ed7-6f0168a07748\",\"type\":\"LinearAxis\"},{\"attributes\":{\"plot\":null,\"text\":\"\"},\"id\":\"55583c84-f061-4944-877e-33ec156c87dc\",\"type\":\"Title\"},{\"attributes\":{\"callback\":null},\"id\":\"ea093e63-ee29-4937-a364-e56ba1e6aebc\",\"type\":\"DataRange1d\"},{\"attributes\":{\"formatter\":{\"id\":\"9d73d487-0dd7-4e6d-bcc4-f84e4d892b3d\",\"type\":\"BasicTickFormatter\"},\"plot\":{\"id\":\"0bb2e9e1-2cc6-4dc8-bace-7aa6bb914286\",\"subtype\":\"Figure\",\"type\":\"Plot\"},\"ticker\":{\"id\":\"7ecea961-7455-4599-9e09-e77f2c1e4bbb\",\"type\":\"BasicTicker\"}},\"id\":\"12def63d-9845-4532-91f0-5ae8bd9c409e\",\"type\":\"LinearAxis\"},{\"attributes\":{\"children\":[{\"id\":\"cfe1ef94-6e20-4729-84af-0e58992dda99\",\"type\":\"Row\"},{\"id\":\"ae9bcb32-f861-40db-b82f-6befc3b90e6c\",\"type\":\"Row\"},{\"id\":\"5b8855ae-02df-47c4-99f3-48c2308020a4\",\"type\":\"Row\"}]},\"id\":\"4e33be63-ed92-4ecd-9f47-1246ad501f2f\",\"type\":\"Column\"},{\"attributes\":{},\"id\":\"caaf99cf-a37a-40ba-9435-155522ff615e\",\"type\":\"BasicTicker\"},{\"attributes\":{\"children\":[{\"id\":\"3ed431a5-ce69-4f65-a55f-f415dbee0ea2\",\"subtype\":\"Figure\",\"type\":\"Plot\"},{\"id\":\"8c4c26ab-4ba0-404f-9305-78bb0650f1ad\",\"subtype\":\"Figure\",\"type\":\"Plot\"},{\"id\":\"0bb2e9e1-2cc6-4dc8-bace-7aa6bb914286\",\"subtype\":\"Figure\",\"type\":\"Plot\"}]},\"id\":\"ae9bcb32-f861-40db-b82f-6befc3b90e6c\",\"type\":\"Row\"},{\"attributes\":{},\"id\":\"e85c2552-a3d0-457a-b13a-b095ccfd2596\",\"type\":\"ToolEvents\"},{\"attributes\":{},\"id\":\"f0d0f98d-fd5d-4b40-ac53-6787add678f1\",\"type\":\"BasicTicker\"},{\"attributes\":{},\"id\":\"7bf944cb-9cc9-45d9-ae81-0c362a117041\",\"type\":\"ToolEvents\"},{\"attributes\":{\"bottom_units\":\"screen\",\"fill_alpha\":{\"value\":0.5},\"fill_color\":{\"value\":\"lightgrey\"},\"left_units\":\"screen\",\"level\":\"overlay\",\"line_alpha\":{\"value\":1.0},\"line_color\":{\"value\":\"black\"},\"line_dash\":[4,4],\"line_width\":{\"value\":2},\"plot\":null,\"render_mode\":\"css\",\"right_units\":\"screen\",\"top_units\":\"screen\"},\"id\":\"7a57079a-c06b-4ace-9e9c-75809c5ca8cb\",\"type\":\"BoxAnnotation\"},{\"attributes\":{\"callback\":null},\"id\":\"dd45f6b2-c384-4626-bdb8-b422ab0c4994\",\"type\":\"DataRange1d\"},{\"attributes\":{\"plot\":{\"id\":\"68154171-499f-416f-81b3-096f5eb91f00\",\"subtype\":\"Figure\",\"type\":\"Plot\"}},\"id\":\"2e2c67a3-57fb-4fac-918a-4d902c3e634e\",\"type\":\"WheelZoomTool\"},{\"attributes\":{\"plot\":{\"id\":\"1666fb96-a911-4fb5-bbe4-a9d0f893d199\",\"subtype\":\"Figure\",\"type\":\"Plot\"}},\"id\":\"95cfb21a-5452-4f44-a095-e5483607a20a\",\"type\":\"WheelZoomTool\"},{\"attributes\":{\"x\":{\"field\":\"A\"},\"y\":{\"field\":\"C\"}},\"id\":\"8f229a2f-79c8-4ae7-bc29-1821fd6bb478\",\"type\":\"Circle\"},{\"attributes\":{\"x\":{\"field\":\"C\"},\"y\":{\"field\":\"B\"}},\"id\":\"e16602d6-14e2-4ae2-9f71-1bda5be72a99\",\"type\":\"X\"},{\"attributes\":{\"plot\":{\"id\":\"7e819d3e-edb1-495c-bcfb-dabf5c19bce9\",\"subtype\":\"Figure\",\"type\":\"Plot\"}},\"id\":\"c4c092f5-551f-4638-8de0-1558f2b17650\",\"type\":\"PanTool\"},{\"attributes\":{\"active_drag\":\"auto\",\"active_scroll\":\"auto\",\"active_tap\":\"auto\",\"tools\":[{\"id\":\"19c1dcb2-c1aa-48c6-9b9a-e45b215912c2\",\"type\":\"PanTool\"},{\"id\":\"9108eff7-c748-434b-9bb0-fac5e2da8bec\",\"type\":\"WheelZoomTool\"},{\"id\":\"88b7a00d-31ec-4692-831a-aeb149f89c48\",\"type\":\"BoxZoomTool\"},{\"id\":\"36a71e36-e707-40a8-a2cf-c2a4bc67c450\",\"type\":\"SaveTool\"},{\"id\":\"59128007-413a-46da-9851-52f7c920aad6\",\"type\":\"ResetTool\"},{\"id\":\"75373722-e0b5-4c8b-94f7-ef0c065215dc\",\"type\":\"HelpTool\"}]},\"id\":\"59ec19b8-e6a8-42af-934c-22f8025508f6\",\"type\":\"Toolbar\"},{\"attributes\":{\"formatter\":{\"id\":\"729bf6a2-0f50-43e9-8c6d-968f17087cfe\",\"type\":\"BasicTickFormatter\"},\"plot\":{\"id\":\"68154171-499f-416f-81b3-096f5eb91f00\",\"subtype\":\"Figure\",\"type\":\"Plot\"},\"ticker\":{\"id\":\"caaf99cf-a37a-40ba-9435-155522ff615e\",\"type\":\"BasicTicker\"}},\"id\":\"97069e41-309e-46d4-a190-89b7c203ef3c\",\"type\":\"LinearAxis\"},{\"attributes\":{\"plot\":{\"id\":\"1666fb96-a911-4fb5-bbe4-a9d0f893d199\",\"subtype\":\"Figure\",\"type\":\"Plot\"},\"ticker\":{\"id\":\"c92cd72d-5ee3-477a-a223-7119af056c17\",\"type\":\"BasicTicker\"}},\"id\":\"2662059c-7c98-4b55-a154-d05ee68e6085\",\"type\":\"Grid\"},{\"attributes\":{\"plot\":{\"id\":\"68154171-499f-416f-81b3-096f5eb91f00\",\"subtype\":\"Figure\",\"type\":\"Plot\"},\"ticker\":{\"id\":\"caaf99cf-a37a-40ba-9435-155522ff615e\",\"type\":\"BasicTicker\"}},\"id\":\"cf9964e0-e4fd-4d51-9a4c-60de2c5fd758\",\"type\":\"Grid\"},{\"attributes\":{\"active_drag\":\"auto\",\"active_scroll\":\"auto\",\"active_tap\":\"auto\",\"tools\":[{\"id\":\"30b303a2-5293-4a03-b594-6906971823b4\",\"type\":\"PanTool\"},{\"id\":\"efda6cf4-ceed-4686-ac0b-e2674439c1b4\",\"type\":\"WheelZoomTool\"},{\"id\":\"96f7e0dc-9ec1-4549-8cea-d86a76915196\",\"type\":\"BoxZoomTool\"},{\"id\":\"7ca46bcd-d7d5-42e9-8251-312e63657114\",\"type\":\"SaveTool\"},{\"id\":\"e9cb101d-7bfd-4b6f-b023-5f7c1b1b0dde\",\"type\":\"ResetTool\"},{\"id\":\"49a63a18-d320-43b5-82b3-ea9c0087c9eb\",\"type\":\"HelpTool\"}]},\"id\":\"36deb396-54d6-4701-9e0a-05a6849d8d68\",\"type\":\"Toolbar\"},{\"attributes\":{\"below\":[{\"id\":\"202be03b-11df-45d9-a4c3-d8ff94543fc6\",\"type\":\"LinearAxis\"}],\"left\":[{\"id\":\"fbd81fae-b929-4e9f-b59e-5bbd8a6638aa\",\"type\":\"LinearAxis\"}],\"plot_height\":200,\"plot_width\":200,\"renderers\":[{\"id\":\"202be03b-11df-45d9-a4c3-d8ff94543fc6\",\"type\":\"LinearAxis\"},{\"id\":\"d4e09fdd-ea16-48f3-8e3c-b436d4072998\",\"type\":\"Grid\"},{\"id\":\"fbd81fae-b929-4e9f-b59e-5bbd8a6638aa\",\"type\":\"LinearAxis\"},{\"id\":\"9d12e6a8-cf5c-4705-8278-f751c2b7c0fb\",\"type\":\"Grid\"},{\"id\":\"8b0a0ae4-2b01-44a8-a835-bd1efe5f5595\",\"type\":\"BoxAnnotation\"}],\"title\":{\"id\":\"333e69f4-4b63-4d0b-ad0f-6ea75f58d928\",\"type\":\"Title\"},\"tool_events\":{\"id\":\"03dc5e5f-ba7e-445d-8b80-ac5d9537388b\",\"type\":\"ToolEvents\"},\"toolbar\":{\"id\":\"6871ee61-3468-41bb-b703-ac0242bd8a19\",\"type\":\"Toolbar\"},\"toolbar_location\":null,\"x_range\":{\"id\":\"6cd65e5c-7b8d-4eee-9c5d-fb9121c3ed4d\",\"type\":\"DataRange1d\"},\"y_range\":{\"id\":\"82ef64c2-9b0a-47d2-97cd-359a7a05351f\",\"type\":\"DataRange1d\"}},\"id\":\"55792501-be75-4655-bda7-f798b37d3e34\",\"subtype\":\"Figure\",\"type\":\"Plot\"},{\"attributes\":{\"bottom_units\":\"screen\",\"fill_alpha\":{\"value\":0.5},\"fill_color\":{\"value\":\"lightgrey\"},\"left_units\":\"screen\",\"level\":\"overlay\",\"line_alpha\":{\"value\":1.0},\"line_color\":{\"value\":\"black\"},\"line_dash\":[4,4],\"line_width\":{\"value\":2},\"plot\":null,\"render_mode\":\"css\",\"right_units\":\"screen\",\"top_units\":\"screen\"},\"id\":\"aeae7447-6532-4733-9ecf-705002442609\",\"type\":\"BoxAnnotation\"},{\"attributes\":{\"plot\":{\"id\":\"55792501-be75-4655-bda7-f798b37d3e34\",\"subtype\":\"Figure\",\"type\":\"Plot\"},\"ticker\":{\"id\":\"6b30ae34-87de-44e5-92de-06500928e90b\",\"type\":\"BasicTicker\"}},\"id\":\"d4e09fdd-ea16-48f3-8e3c-b436d4072998\",\"type\":\"Grid\"},{\"attributes\":{\"bottom_units\":\"screen\",\"fill_alpha\":{\"value\":0.5},\"fill_color\":{\"value\":\"lightgrey\"},\"left_units\":\"screen\",\"level\":\"overlay\",\"line_alpha\":{\"value\":1.0},\"line_color\":{\"value\":\"black\"},\"line_dash\":[4,4],\"line_width\":{\"value\":2},\"plot\":null,\"render_mode\":\"css\",\"right_units\":\"screen\",\"top_units\":\"screen\"},\"id\":\"ab29cf30-4b82-414d-9a14-f9287295913b\",\"type\":\"BoxAnnotation\"},{\"attributes\":{\"sizing_mode\":\"scale_width\",\"toolbar_location\":\"above\",\"tools\":[{\"id\":\"ed8032a4-f16e-4422-8500-bf0bd36f0e2b\",\"type\":\"PanTool\"},{\"id\":\"0c06d4ea-5467-4dff-af52-e75db8667ce8\",\"type\":\"WheelZoomTool\"},{\"id\":\"23925806-60a0-4d71-a948-570882a5948b\",\"type\":\"BoxZoomTool\"},{\"id\":\"76db9c8e-42f5-49be-a719-b98a32e87d75\",\"type\":\"SaveTool\"},{\"id\":\"1887e20b-e822-4a04-80ef-7ee1b22da872\",\"type\":\"ResetTool\"},{\"id\":\"c6ab5fac-8e49-4e47-89e8-3f9bbb072f28\",\"type\":\"HelpTool\"},{\"id\":\"b1725909-91b4-453b-9a03-ef845dc19f2d\",\"type\":\"PanTool\"},{\"id\":\"cdcdb252-6223-46fe-ae27-47df40b953d9\",\"type\":\"WheelZoomTool\"},{\"id\":\"d7f0a671-102e-40b1-8fd4-734aaa862e82\",\"type\":\"BoxZoomTool\"},{\"id\":\"765a24f2-0e8c-4ad9-b7aa-86f067403e19\",\"type\":\"SaveTool\"},{\"id\":\"dc1bff6c-59b5-4dbe-aa65-824e17e63e5c\",\"type\":\"ResetTool\"},{\"id\":\"e735d393-67d6-465d-9af9-4b5062a03b03\",\"type\":\"HelpTool\"},{\"id\":\"ca0e07a9-a75e-441a-8837-dd2ff8566b8c\",\"type\":\"PanTool\"},{\"id\":\"2e2c67a3-57fb-4fac-918a-4d902c3e634e\",\"type\":\"WheelZoomTool\"},{\"id\":\"800356b9-2c34-45c0-8571-097e0636b8e6\",\"type\":\"BoxZoomTool\"},{\"id\":\"0923212c-dce0-4e51-8884-4aff39c83e3e\",\"type\":\"SaveTool\"},{\"id\":\"0adacb9e-2890-49c0-a758-b28bd91b872e\",\"type\":\"ResetTool\"},{\"id\":\"9debac97-f18b-4ae9-88e4-09e5347dd5fd\",\"type\":\"HelpTool\"},{\"id\":\"32a5b3be-1623-4501-b329-6a23a0919f63\",\"type\":\"PanTool\"},{\"id\":\"7b692c1b-9a27-42a1-a0c2-58241dd96e58\",\"type\":\"WheelZoomTool\"},{\"id\":\"94228b0f-e873-4895-b5d0-1bdb1d2ce2ac\",\"type\":\"BoxZoomTool\"},{\"id\":\"ede2bfd3-b3ca-4bf6-bd8e-16fe5d02ab51\",\"type\":\"SaveTool\"},{\"id\":\"0b9692f9-ae58-48fe-be40-46e9e5df5611\",\"type\":\"ResetTool\"},{\"id\":\"d7b02dab-7e60-440c-b30a-48608712a00a\",\"type\":\"HelpTool\"},{\"id\":\"19c1dcb2-c1aa-48c6-9b9a-e45b215912c2\",\"type\":\"PanTool\"},{\"id\":\"9108eff7-c748-434b-9bb0-fac5e2da8bec\",\"type\":\"WheelZoomTool\"},{\"id\":\"88b7a00d-31ec-4692-831a-aeb149f89c48\",\"type\":\"BoxZoomTool\"},{\"id\":\"36a71e36-e707-40a8-a2cf-c2a4bc67c450\",\"type\":\"SaveTool\"},{\"id\":\"59128007-413a-46da-9851-52f7c920aad6\",\"type\":\"ResetTool\"},{\"id\":\"75373722-e0b5-4c8b-94f7-ef0c065215dc\",\"type\":\"HelpTool\"},{\"id\":\"30b303a2-5293-4a03-b594-6906971823b4\",\"type\":\"PanTool\"},{\"id\":\"efda6cf4-ceed-4686-ac0b-e2674439c1b4\",\"type\":\"WheelZoomTool\"},{\"id\":\"96f7e0dc-9ec1-4549-8cea-d86a76915196\",\"type\":\"BoxZoomTool\"},{\"id\":\"7ca46bcd-d7d5-42e9-8251-312e63657114\",\"type\":\"SaveTool\"},{\"id\":\"e9cb101d-7bfd-4b6f-b023-5f7c1b1b0dde\",\"type\":\"ResetTool\"},{\"id\":\"49a63a18-d320-43b5-82b3-ea9c0087c9eb\",\"type\":\"HelpTool\"},{\"id\":\"c4c092f5-551f-4638-8de0-1558f2b17650\",\"type\":\"PanTool\"},{\"id\":\"5a72b6ce-1f8e-46f0-bbd9-e3096fdcbcf3\",\"type\":\"WheelZoomTool\"},{\"id\":\"6c0bdf1a-0753-446e-8d7f-07d0f5a73abf\",\"type\":\"BoxZoomTool\"},{\"id\":\"7dffe1ff-8568-4ce4-aa84-bf0e478950fa\",\"type\":\"SaveTool\"},{\"id\":\"8c839b33-984c-4377-922c-cd6c1442054d\",\"type\":\"ResetTool\"},{\"id\":\"d8e3dc2b-f46b-4124-8915-0eef7cfa9cb4\",\"type\":\"HelpTool\"},{\"id\":\"5578514f-36f3-4301-9f29-6714aab92902\",\"type\":\"PanTool\"},{\"id\":\"92b96cd7-07a5-41f8-8042-933accf68c2f\",\"type\":\"WheelZoomTool\"},{\"id\":\"e26a20f7-e345-4b79-95bd-446dc6089962\",\"type\":\"BoxZoomTool\"},{\"id\":\"7df8684c-69fc-4754-88ab-ee0a08f3ef2c\",\"type\":\"SaveTool\"},{\"id\":\"161933ba-aa3a-4b27-a010-75766192d445\",\"type\":\"ResetTool\"},{\"id\":\"93d1a62e-e136-4eb8-97bb-414fe27b32e9\",\"type\":\"HelpTool\"},{\"id\":\"9ea1c5b9-5030-4f9b-8139-71b762c9a196\",\"type\":\"PanTool\"},{\"id\":\"95cfb21a-5452-4f44-a095-e5483607a20a\",\"type\":\"WheelZoomTool\"},{\"id\":\"9f2e86fd-1ad4-4b51-9b93-d98c2a84faa8\",\"type\":\"BoxZoomTool\"},{\"id\":\"02e05395-1bb1-4cff-b176-60fa24fea589\",\"type\":\"SaveTool\"},{\"id\":\"42a2b822-3cb4-49d3-93ed-48f84cae9730\",\"type\":\"ResetTool\"},{\"id\":\"21d59a5c-7eff-46bc-bd65-85eca63849e8\",\"type\":\"HelpTool\"}]},\"id\":\"4699675c-edba-4287-8d67-152e58ee0363\",\"type\":\"ToolbarBox\"},{\"attributes\":{\"formatter\":{\"id\":\"82abfb4f-4728-4fdf-8590-2c5ece9b3762\",\"type\":\"BasicTickFormatter\"},\"plot\":{\"id\":\"e2b43d1b-91e9-42cb-aceb-e44bb7c51d5a\",\"subtype\":\"Figure\",\"type\":\"Plot\"},\"ticker\":{\"id\":\"e3787906-b72d-4412-89f0-ddd41e33993f\",\"type\":\"BasicTicker\"}},\"id\":\"0f212f89-3270-4bcb-a419-5a7e35646132\",\"type\":\"LinearAxis\"},{\"attributes\":{\"plot\":{\"id\":\"3ed431a5-ce69-4f65-a55f-f415dbee0ea2\",\"subtype\":\"Figure\",\"type\":\"Plot\"},\"ticker\":{\"id\":\"eb2473b0-5b01-4734-8cfe-e168dfd11229\",\"type\":\"BasicTicker\"}},\"id\":\"11705b85-15d0-4143-b289-52ddada74831\",\"type\":\"Grid\"},{\"attributes\":{\"plot\":{\"id\":\"55792501-be75-4655-bda7-f798b37d3e34\",\"subtype\":\"Figure\",\"type\":\"Plot\"}},\"id\":\"c6ab5fac-8e49-4e47-89e8-3f9bbb072f28\",\"type\":\"HelpTool\"},{\"attributes\":{\"plot\":{\"id\":\"68154171-499f-416f-81b3-096f5eb91f00\",\"subtype\":\"Figure\",\"type\":\"Plot\"}},\"id\":\"ca0e07a9-a75e-441a-8837-dd2ff8566b8c\",\"type\":\"PanTool\"},{\"attributes\":{\"plot\":{\"id\":\"e2b43d1b-91e9-42cb-aceb-e44bb7c51d5a\",\"subtype\":\"Figure\",\"type\":\"Plot\"}},\"id\":\"93d1a62e-e136-4eb8-97bb-414fe27b32e9\",\"type\":\"HelpTool\"},{\"attributes\":{\"overlay\":{\"id\":\"00b6048f-4c4e-4278-9045-7a1e38cb2cb3\",\"type\":\"BoxAnnotation\"},\"plot\":{\"id\":\"7e819d3e-edb1-495c-bcfb-dabf5c19bce9\",\"subtype\":\"Figure\",\"type\":\"Plot\"}},\"id\":\"6c0bdf1a-0753-446e-8d7f-07d0f5a73abf\",\"type\":\"BoxZoomTool\"},{\"attributes\":{\"dimension\":1,\"plot\":{\"id\":\"e2b43d1b-91e9-42cb-aceb-e44bb7c51d5a\",\"subtype\":\"Figure\",\"type\":\"Plot\"},\"ticker\":{\"id\":\"e3787906-b72d-4412-89f0-ddd41e33993f\",\"type\":\"BasicTicker\"}},\"id\":\"5cbc4403-87f6-440d-b9b7-bb9406e9a33b\",\"type\":\"Grid\"},{\"attributes\":{\"dimension\":1,\"plot\":{\"id\":\"55792501-be75-4655-bda7-f798b37d3e34\",\"subtype\":\"Figure\",\"type\":\"Plot\"},\"ticker\":{\"id\":\"f0d0f98d-fd5d-4b40-ac53-6787add678f1\",\"type\":\"BasicTicker\"}},\"id\":\"9d12e6a8-cf5c-4705-8278-f751c2b7c0fb\",\"type\":\"Grid\"},{\"attributes\":{},\"id\":\"1a0f65fd-f74e-46bd-bcae-a6b5a3ddfb97\",\"type\":\"BasicTickFormatter\"},{\"attributes\":{\"dimension\":1,\"plot\":{\"id\":\"2f8e4220-7b91-45a5-9cfa-6ff39f847700\",\"subtype\":\"Figure\",\"type\":\"Plot\"},\"ticker\":{\"id\":\"61a7f468-39ac-46cf-bfc8-09f053e88120\",\"type\":\"BasicTicker\"}},\"id\":\"4920046b-620c-40d1-923c-bf809043b2da\",\"type\":\"Grid\"},{\"attributes\":{\"formatter\":{\"id\":\"eb0a16f3-b5a2-45b3-a155-381925acc0f2\",\"type\":\"BasicTickFormatter\"},\"plot\":{\"id\":\"1666fb96-a911-4fb5-bbe4-a9d0f893d199\",\"subtype\":\"Figure\",\"type\":\"Plot\"},\"ticker\":{\"id\":\"c92cd72d-5ee3-477a-a223-7119af056c17\",\"type\":\"BasicTicker\"}},\"id\":\"f43f17d8-814a-43e0-a04e-13fa50872172\",\"type\":\"LinearAxis\"},{\"attributes\":{\"plot\":{\"id\":\"1666fb96-a911-4fb5-bbe4-a9d0f893d199\",\"subtype\":\"Figure\",\"type\":\"Plot\"}},\"id\":\"42a2b822-3cb4-49d3-93ed-48f84cae9730\",\"type\":\"ResetTool\"},{\"attributes\":{\"plot\":null,\"text\":\"\"},\"id\":\"e2af9a2b-91fb-43ab-99f0-0e7834e3f00e\",\"type\":\"Title\"},{\"attributes\":{\"plot\":{\"id\":\"2f8e4220-7b91-45a5-9cfa-6ff39f847700\",\"subtype\":\"Figure\",\"type\":\"Plot\"}},\"id\":\"b1725909-91b4-453b-9a03-ef845dc19f2d\",\"type\":\"PanTool\"},{\"attributes\":{\"plot\":{\"id\":\"3ed431a5-ce69-4f65-a55f-f415dbee0ea2\",\"subtype\":\"Figure\",\"type\":\"Plot\"}},\"id\":\"32a5b3be-1623-4501-b329-6a23a0919f63\",\"type\":\"PanTool\"},{\"attributes\":{\"data_source\":{\"id\":\"3affed2b-a031-419c-8d5c-7ec66dd1d574\",\"type\":\"ColumnDataSource\"},\"glyph\":{\"id\":\"8f229a2f-79c8-4ae7-bc29-1821fd6bb478\",\"type\":\"Circle\"},\"hover_glyph\":null,\"muted_glyph\":null},\"id\":\"2ac71d7f-d9bc-431b-ad8b-dea04b29bb87\",\"type\":\"GlyphRenderer\"},{\"attributes\":{\"plot\":{\"id\":\"2f8e4220-7b91-45a5-9cfa-6ff39f847700\",\"subtype\":\"Figure\",\"type\":\"Plot\"}},\"id\":\"dc1bff6c-59b5-4dbe-aa65-824e17e63e5c\",\"type\":\"ResetTool\"},{\"attributes\":{\"callback\":null},\"id\":\"d3cc3610-8efb-46df-aef0-3dfc2d0241fb\",\"type\":\"DataRange1d\"},{\"attributes\":{},\"id\":\"94d090dc-5b10-42c7-b590-52783611bf5f\",\"type\":\"BasicTicker\"},{\"attributes\":{\"plot\":{\"id\":\"8c4c26ab-4ba0-404f-9305-78bb0650f1ad\",\"subtype\":\"Figure\",\"type\":\"Plot\"}},\"id\":\"75373722-e0b5-4c8b-94f7-ef0c065215dc\",\"type\":\"HelpTool\"},{\"attributes\":{\"plot\":{\"id\":\"7e819d3e-edb1-495c-bcfb-dabf5c19bce9\",\"subtype\":\"Figure\",\"type\":\"Plot\"}},\"id\":\"d8e3dc2b-f46b-4124-8915-0eef7cfa9cb4\",\"type\":\"HelpTool\"},{\"attributes\":{\"below\":[{\"id\":\"869f5b10-9629-425e-9e7a-7043cab752b4\",\"type\":\"LinearAxis\"}],\"left\":[{\"id\":\"12def63d-9845-4532-91f0-5ae8bd9c409e\",\"type\":\"LinearAxis\"}],\"plot_height\":200,\"plot_width\":200,\"renderers\":[{\"id\":\"869f5b10-9629-425e-9e7a-7043cab752b4\",\"type\":\"LinearAxis\"},{\"id\":\"14a1ef15-7b19-4c3e-a3ea-dc30a2debe9a\",\"type\":\"Grid\"},{\"id\":\"12def63d-9845-4532-91f0-5ae8bd9c409e\",\"type\":\"LinearAxis\"},{\"id\":\"3c918692-3d65-4fb6-b7d8-9050daa04c0d\",\"type\":\"Grid\"},{\"id\":\"aeae7447-6532-4733-9ecf-705002442609\",\"type\":\"BoxAnnotation\"},{\"id\":\"355c6291-a1ab-4c7c-91cf-2e1f0faf0f7a\",\"type\":\"GlyphRenderer\"}],\"title\":{\"id\":\"0cd1d258-fc88-4c71-ae12-b6ceedb6b2ac\",\"type\":\"Title\"},\"tool_events\":{\"id\":\"c603cc5a-100b-4650-a7b2-67391f74bf8d\",\"type\":\"ToolEvents\"},\"toolbar\":{\"id\":\"36deb396-54d6-4701-9e0a-05a6849d8d68\",\"type\":\"Toolbar\"},\"toolbar_location\":null,\"x_range\":{\"id\":\"dd45f6b2-c384-4626-bdb8-b422ab0c4994\",\"type\":\"DataRange1d\"},\"y_range\":{\"id\":\"6265271c-b32d-4fa4-9e3e-132a1c5ccbe2\",\"type\":\"DataRange1d\"}},\"id\":\"0bb2e9e1-2cc6-4dc8-bace-7aa6bb914286\",\"subtype\":\"Figure\",\"type\":\"Plot\"},{\"attributes\":{\"plot\":{\"id\":\"7e819d3e-edb1-495c-bcfb-dabf5c19bce9\",\"subtype\":\"Figure\",\"type\":\"Plot\"}},\"id\":\"8c839b33-984c-4377-922c-cd6c1442054d\",\"type\":\"ResetTool\"},{\"attributes\":{\"active_drag\":\"auto\",\"active_scroll\":\"auto\",\"active_tap\":\"auto\",\"tools\":[{\"id\":\"b1725909-91b4-453b-9a03-ef845dc19f2d\",\"type\":\"PanTool\"},{\"id\":\"cdcdb252-6223-46fe-ae27-47df40b953d9\",\"type\":\"WheelZoomTool\"},{\"id\":\"d7f0a671-102e-40b1-8fd4-734aaa862e82\",\"type\":\"BoxZoomTool\"},{\"id\":\"765a24f2-0e8c-4ad9-b7aa-86f067403e19\",\"type\":\"SaveTool\"},{\"id\":\"dc1bff6c-59b5-4dbe-aa65-824e17e63e5c\",\"type\":\"ResetTool\"},{\"id\":\"e735d393-67d6-465d-9af9-4b5062a03b03\",\"type\":\"HelpTool\"}]},\"id\":\"19df9219-e68c-42df-a5c6-535f3f12b767\",\"type\":\"Toolbar\"},{\"attributes\":{\"children\":[{\"id\":\"55792501-be75-4655-bda7-f798b37d3e34\",\"subtype\":\"Figure\",\"type\":\"Plot\"},{\"id\":\"2f8e4220-7b91-45a5-9cfa-6ff39f847700\",\"subtype\":\"Figure\",\"type\":\"Plot\"},{\"id\":\"68154171-499f-416f-81b3-096f5eb91f00\",\"subtype\":\"Figure\",\"type\":\"Plot\"}]},\"id\":\"cfe1ef94-6e20-4729-84af-0e58992dda99\",\"type\":\"Row\"},{\"attributes\":{\"callback\":null},\"id\":\"f5b53428-1694-4880-bb45-12a2e6a8fb40\",\"type\":\"DataRange1d\"},{\"attributes\":{\"below\":[{\"id\":\"04cf78f8-445d-4ec8-b3ed-9161c650df9a\",\"type\":\"LinearAxis\"}],\"left\":[{\"id\":\"ea1252cb-41ab-46e5-8ed7-6f0168a07748\",\"type\":\"LinearAxis\"}],\"plot_height\":200,\"plot_width\":200,\"renderers\":[{\"id\":\"04cf78f8-445d-4ec8-b3ed-9161c650df9a\",\"type\":\"LinearAxis\"},{\"id\":\"2253f141-1f07-4ac4-8865-a502f9c303fb\",\"type\":\"Grid\"},{\"id\":\"ea1252cb-41ab-46e5-8ed7-6f0168a07748\",\"type\":\"LinearAxis\"},{\"id\":\"84766345-44a7-48a9-ae7b-0aa3e864a343\",\"type\":\"Grid\"},{\"id\":\"94e9a0bc-bc60-4694-8e39-4bf14fbb5d4a\",\"type\":\"BoxAnnotation\"}],\"title\":{\"id\":\"965d1871-2415-45a2-8e9a-f03ba68cd449\",\"type\":\"Title\"},\"tool_events\":{\"id\":\"0cb41272-f30a-4839-9f97-93c59043d147\",\"type\":\"ToolEvents\"},\"toolbar\":{\"id\":\"59ec19b8-e6a8-42af-934c-22f8025508f6\",\"type\":\"Toolbar\"},\"toolbar_location\":null,\"x_range\":{\"id\":\"ea093e63-ee29-4937-a364-e56ba1e6aebc\",\"type\":\"DataRange1d\"},\"y_range\":{\"id\":\"cfad034c-f44a-4143-ae19-fa6b0a71a54a\",\"type\":\"DataRange1d\"}},\"id\":\"8c4c26ab-4ba0-404f-9305-78bb0650f1ad\",\"subtype\":\"Figure\",\"type\":\"Plot\"},{\"attributes\":{\"formatter\":{\"id\":\"fd84d42b-7908-4a43-85c5-692274a07ed7\",\"type\":\"BasicTickFormatter\"},\"plot\":{\"id\":\"55792501-be75-4655-bda7-f798b37d3e34\",\"subtype\":\"Figure\",\"type\":\"Plot\"},\"ticker\":{\"id\":\"f0d0f98d-fd5d-4b40-ac53-6787add678f1\",\"type\":\"BasicTicker\"}},\"id\":\"fbd81fae-b929-4e9f-b59e-5bbd8a6638aa\",\"type\":\"LinearAxis\"},{\"attributes\":{},\"id\":\"9d73d487-0dd7-4e6d-bcc4-f84e4d892b3d\",\"type\":\"BasicTickFormatter\"},{\"attributes\":{\"callback\":null},\"id\":\"cfad034c-f44a-4143-ae19-fa6b0a71a54a\",\"type\":\"DataRange1d\"},{\"attributes\":{},\"id\":\"eb0a16f3-b5a2-45b3-a155-381925acc0f2\",\"type\":\"BasicTickFormatter\"},{\"attributes\":{},\"id\":\"32cb5b01-9e5f-4a5d-ba5d-5632a78cc0b1\",\"type\":\"BasicTickFormatter\"},{\"attributes\":{\"callback\":null},\"id\":\"2e40eb61-0a1f-4c9e-b23f-279496b39d3e\",\"type\":\"DataRange1d\"},{\"attributes\":{},\"id\":\"77c0e012-55ae-49be-92b6-76e466d2dfbc\",\"type\":\"BasicTickFormatter\"},{\"attributes\":{\"data_source\":{\"id\":\"3affed2b-a031-419c-8d5c-7ec66dd1d574\",\"type\":\"ColumnDataSource\"},\"glyph\":{\"id\":\"f47473a6-f51d-4c88-ac66-29d74d1da8b4\",\"type\":\"Circle\"},\"hover_glyph\":null,\"muted_glyph\":null},\"id\":\"355c6291-a1ab-4c7c-91cf-2e1f0faf0f7a\",\"type\":\"GlyphRenderer\"},{\"attributes\":{\"formatter\":{\"id\":\"fe671969-a758-4581-8363-af49a2c494eb\",\"type\":\"BasicTickFormatter\"},\"plot\":{\"id\":\"3ed431a5-ce69-4f65-a55f-f415dbee0ea2\",\"subtype\":\"Figure\",\"type\":\"Plot\"},\"ticker\":{\"id\":\"7830f6d4-e72b-4c95-b22c-c425b5a4ae3d\",\"type\":\"BasicTicker\"}},\"id\":\"f909971a-65f0-4116-814e-16c311587166\",\"type\":\"LinearAxis\"},{\"attributes\":{\"below\":[{\"id\":\"c3a12aa6-f018-4f4d-8798-1476f0697eb8\",\"type\":\"LinearAxis\"}],\"left\":[{\"id\":\"e202d5a5-d1e3-4638-b3e1-5efe61ed9031\",\"type\":\"LinearAxis\"}],\"plot_height\":200,\"plot_width\":200,\"renderers\":[{\"id\":\"c3a12aa6-f018-4f4d-8798-1476f0697eb8\",\"type\":\"LinearAxis\"},{\"id\":\"eec15eb8-d8d8-4ae7-8cb1-f0b8aba5764d\",\"type\":\"Grid\"},{\"id\":\"e202d5a5-d1e3-4638-b3e1-5efe61ed9031\",\"type\":\"LinearAxis\"},{\"id\":\"b0aa5d2f-1645-41af-9bd0-b8c72bcaa74a\",\"type\":\"Grid\"},{\"id\":\"00b6048f-4c4e-4278-9045-7a1e38cb2cb3\",\"type\":\"BoxAnnotation\"},{\"id\":\"2c31d4a2-e525-4945-871a-db077fae072d\",\"type\":\"GlyphRenderer\"}],\"title\":{\"id\":\"7b4a9edf-508f-46ec-a7dc-0f2a2aa64c8f\",\"type\":\"Title\"},\"tool_events\":{\"id\":\"7bf944cb-9cc9-45d9-ae81-0c362a117041\",\"type\":\"ToolEvents\"},\"toolbar\":{\"id\":\"b4292448-8df7-464e-a213-f8b1fa124cac\",\"type\":\"Toolbar\"},\"toolbar_location\":null,\"x_range\":{\"id\":\"275d0ec4-5c90-4224-bf1a-ac5e7bb36516\",\"type\":\"DataRange1d\"},\"y_range\":{\"id\":\"2e40eb61-0a1f-4c9e-b23f-279496b39d3e\",\"type\":\"DataRange1d\"}},\"id\":\"7e819d3e-edb1-495c-bcfb-dabf5c19bce9\",\"subtype\":\"Figure\",\"type\":\"Plot\"},{\"attributes\":{\"active_drag\":\"auto\",\"active_scroll\":\"auto\",\"active_tap\":\"auto\",\"tools\":[{\"id\":\"32a5b3be-1623-4501-b329-6a23a0919f63\",\"type\":\"PanTool\"},{\"id\":\"7b692c1b-9a27-42a1-a0c2-58241dd96e58\",\"type\":\"WheelZoomTool\"},{\"id\":\"94228b0f-e873-4895-b5d0-1bdb1d2ce2ac\",\"type\":\"BoxZoomTool\"},{\"id\":\"ede2bfd3-b3ca-4bf6-bd8e-16fe5d02ab51\",\"type\":\"SaveTool\"},{\"id\":\"0b9692f9-ae58-48fe-be40-46e9e5df5611\",\"type\":\"ResetTool\"},{\"id\":\"d7b02dab-7e60-440c-b30a-48608712a00a\",\"type\":\"HelpTool\"}]},\"id\":\"983de34f-8ee9-4115-94d8-faf19aadc085\",\"type\":\"Toolbar\"},{\"attributes\":{\"data_source\":{\"id\":\"3affed2b-a031-419c-8d5c-7ec66dd1d574\",\"type\":\"ColumnDataSource\"},\"glyph\":{\"id\":\"6732caa2-8de6-4728-ac79-d4078fc90bb4\",\"type\":\"Circle\"},\"hover_glyph\":null,\"muted_glyph\":null},\"id\":\"76278f75-4f07-40b8-92b3-30f62e3fe502\",\"type\":\"GlyphRenderer\"},{\"attributes\":{\"plot\":{\"id\":\"55792501-be75-4655-bda7-f798b37d3e34\",\"subtype\":\"Figure\",\"type\":\"Plot\"}},\"id\":\"ed8032a4-f16e-4422-8500-bf0bd36f0e2b\",\"type\":\"PanTool\"},{\"attributes\":{\"plot\":{\"id\":\"1666fb96-a911-4fb5-bbe4-a9d0f893d199\",\"subtype\":\"Figure\",\"type\":\"Plot\"}},\"id\":\"21d59a5c-7eff-46bc-bd65-85eca63849e8\",\"type\":\"HelpTool\"},{\"attributes\":{},\"id\":\"cb5d0fa5-e01c-47d8-aced-6e5a13e04d8b\",\"type\":\"BasicTickFormatter\"},{\"attributes\":{\"overlay\":{\"id\":\"aceedfb7-0b6b-4181-9ea7-6290fb9bf184\",\"type\":\"BoxAnnotation\"},\"plot\":{\"id\":\"2f8e4220-7b91-45a5-9cfa-6ff39f847700\",\"subtype\":\"Figure\",\"type\":\"Plot\"}},\"id\":\"d7f0a671-102e-40b1-8fd4-734aaa862e82\",\"type\":\"BoxZoomTool\"},{\"attributes\":{\"plot\":{\"id\":\"8c4c26ab-4ba0-404f-9305-78bb0650f1ad\",\"subtype\":\"Figure\",\"type\":\"Plot\"},\"ticker\":{\"id\":\"a2dee4c2-a389-479a-848d-25473e8ea99d\",\"type\":\"BasicTicker\"}},\"id\":\"2253f141-1f07-4ac4-8865-a502f9c303fb\",\"type\":\"Grid\"},{\"attributes\":{\"plot\":{\"id\":\"3ed431a5-ce69-4f65-a55f-f415dbee0ea2\",\"subtype\":\"Figure\",\"type\":\"Plot\"}},\"id\":\"ede2bfd3-b3ca-4bf6-bd8e-16fe5d02ab51\",\"type\":\"SaveTool\"},{\"attributes\":{\"formatter\":{\"id\":\"40389545-a9a5-4a3d-82b5-4664d2f1906f\",\"type\":\"BasicTickFormatter\"},\"plot\":{\"id\":\"2f8e4220-7b91-45a5-9cfa-6ff39f847700\",\"subtype\":\"Figure\",\"type\":\"Plot\"},\"ticker\":{\"id\":\"059c592c-3cb0-4295-9ac8-5ad338d84479\",\"type\":\"BasicTicker\"}},\"id\":\"b90e53b0-7c5d-4bde-9f3a-8a2f0e3da6ab\",\"type\":\"LinearAxis\"},{\"attributes\":{\"plot\":{\"id\":\"0bb2e9e1-2cc6-4dc8-bace-7aa6bb914286\",\"subtype\":\"Figure\",\"type\":\"Plot\"},\"ticker\":{\"id\":\"d196fefa-890d-4045-9194-2877c52a9b88\",\"type\":\"BasicTicker\"}},\"id\":\"14a1ef15-7b19-4c3e-a3ea-dc30a2debe9a\",\"type\":\"Grid\"},{\"attributes\":{\"overlay\":{\"id\":\"ab29cf30-4b82-414d-9a14-f9287295913b\",\"type\":\"BoxAnnotation\"},\"plot\":{\"id\":\"e2b43d1b-91e9-42cb-aceb-e44bb7c51d5a\",\"subtype\":\"Figure\",\"type\":\"Plot\"}},\"id\":\"e26a20f7-e345-4b79-95bd-446dc6089962\",\"type\":\"BoxZoomTool\"},{\"attributes\":{\"plot\":{\"id\":\"e2b43d1b-91e9-42cb-aceb-e44bb7c51d5a\",\"subtype\":\"Figure\",\"type\":\"Plot\"}},\"id\":\"7df8684c-69fc-4754-88ab-ee0a08f3ef2c\",\"type\":\"SaveTool\"},{\"attributes\":{\"overlay\":{\"id\":\"ceb19fa1-3366-4f8c-bc97-2b671bfe3440\",\"type\":\"BoxAnnotation\"},\"plot\":{\"id\":\"1666fb96-a911-4fb5-bbe4-a9d0f893d199\",\"subtype\":\"Figure\",\"type\":\"Plot\"}},\"id\":\"9f2e86fd-1ad4-4b51-9b93-d98c2a84faa8\",\"type\":\"BoxZoomTool\"},{\"attributes\":{\"plot\":{\"id\":\"0bb2e9e1-2cc6-4dc8-bace-7aa6bb914286\",\"subtype\":\"Figure\",\"type\":\"Plot\"}},\"id\":\"7ca46bcd-d7d5-42e9-8251-312e63657114\",\"type\":\"SaveTool\"},{\"attributes\":{\"plot\":{\"id\":\"1666fb96-a911-4fb5-bbe4-a9d0f893d199\",\"subtype\":\"Figure\",\"type\":\"Plot\"}},\"id\":\"02e05395-1bb1-4cff-b176-60fa24fea589\",\"type\":\"SaveTool\"},{\"attributes\":{\"formatter\":{\"id\":\"e0c073b9-f55e-4c1a-a8b9-e6bc423f4265\",\"type\":\"BasicTickFormatter\"},\"plot\":{\"id\":\"3ed431a5-ce69-4f65-a55f-f415dbee0ea2\",\"subtype\":\"Figure\",\"type\":\"Plot\"},\"ticker\":{\"id\":\"eb2473b0-5b01-4734-8cfe-e168dfd11229\",\"type\":\"BasicTicker\"}},\"id\":\"29869a54-6442-4ae7-999c-d4f328b078ef\",\"type\":\"LinearAxis\"},{\"attributes\":{\"callback\":null},\"id\":\"f37251b7-7a38-4f22-94d9-36b153435389\",\"type\":\"DataRange1d\"},{\"attributes\":{},\"id\":\"048ab976-c59c-480e-b189-15ea1fdcd58a\",\"type\":\"BasicTickFormatter\"},{\"attributes\":{\"dimension\":1,\"plot\":{\"id\":\"1666fb96-a911-4fb5-bbe4-a9d0f893d199\",\"subtype\":\"Figure\",\"type\":\"Plot\"},\"ticker\":{\"id\":\"e1ce6d36-05ed-46d2-b1e9-e5b449e0f09a\",\"type\":\"BasicTicker\"}},\"id\":\"a8a02f19-29a7-42b6-b378-8dc84272dc43\",\"type\":\"Grid\"},{\"attributes\":{\"dimension\":1,\"plot\":{\"id\":\"7e819d3e-edb1-495c-bcfb-dabf5c19bce9\",\"subtype\":\"Figure\",\"type\":\"Plot\"},\"ticker\":{\"id\":\"d8202a16-289c-4d43-8eaa-a3319d8d7021\",\"type\":\"BasicTicker\"}},\"id\":\"b0aa5d2f-1645-41af-9bd0-b8c72bcaa74a\",\"type\":\"Grid\"},{\"attributes\":{\"overlay\":{\"id\":\"aeae7447-6532-4733-9ecf-705002442609\",\"type\":\"BoxAnnotation\"},\"plot\":{\"id\":\"0bb2e9e1-2cc6-4dc8-bace-7aa6bb914286\",\"subtype\":\"Figure\",\"type\":\"Plot\"}},\"id\":\"96f7e0dc-9ec1-4549-8cea-d86a76915196\",\"type\":\"BoxZoomTool\"},{\"attributes\":{\"callback\":null},\"id\":\"6265271c-b32d-4fa4-9e3e-132a1c5ccbe2\",\"type\":\"DataRange1d\"},{\"attributes\":{},\"id\":\"e0c073b9-f55e-4c1a-a8b9-e6bc423f4265\",\"type\":\"BasicTickFormatter\"},{\"attributes\":{},\"id\":\"ca3a8285-3d71-4d4c-9b19-8130b33b7cf3\",\"type\":\"ToolEvents\"},{\"attributes\":{\"callback\":null},\"id\":\"b3606081-de7c-4a16-8647-a0a18bdbf7d9\",\"type\":\"DataRange1d\"},{\"attributes\":{},\"id\":\"40389545-a9a5-4a3d-82b5-4664d2f1906f\",\"type\":\"BasicTickFormatter\"}],\"root_ids\":[\"f93853a3-07ca-4a0c-8f4d-4327a1b73cf0\"]},\"title\":\"Bokeh Application\",\"version\":\"0.12.5\"}};\n",
       "            var render_items = [{\"docid\":\"660edf3d-9d70-4ec7-a292-2f6217b3898f\",\"elementid\":\"31489f3d-02e5-47fb-aca2-51ed15d5b1cc\",\"modelid\":\"f93853a3-07ca-4a0c-8f4d-4327a1b73cf0\"}];\n",
       "            \n",
       "            Bokeh.embed.embed_items(docs_json, render_items);\n",
       "          };\n",
       "          if (document.readyState != \"loading\") fn();\n",
       "          else document.addEventListener(\"DOMContentLoaded\", fn);\n",
       "        })();\n",
       "      },\n",
       "      function(Bokeh) {\n",
       "      }\n",
       "    ];\n",
       "  \n",
       "    function run_inline_js() {\n",
       "      \n",
       "      if ((window.Bokeh !== undefined) || (force === true)) {\n",
       "        for (var i = 0; i < inline_js.length; i++) {\n",
       "          inline_js[i](window.Bokeh);\n",
       "        }if (force === true) {\n",
       "          display_loaded();\n",
       "        }} else if (Date.now() < window._bokeh_timeout) {\n",
       "        setTimeout(run_inline_js, 100);\n",
       "      } else if (!window._bokeh_failed_load) {\n",
       "        console.log(\"Bokeh: BokehJS failed to load within specified timeout.\");\n",
       "        window._bokeh_failed_load = true;\n",
       "      } else if (force !== true) {\n",
       "        var cell = $(document.getElementById(\"31489f3d-02e5-47fb-aca2-51ed15d5b1cc\")).parents('.cell').data().cell;\n",
       "        cell.output_area.append_execute_result(NB_LOAD_WARNING)\n",
       "      }\n",
       "  \n",
       "    }\n",
       "  \n",
       "    if (window._bokeh_is_loading === 0) {\n",
       "      console.log(\"Bokeh: BokehJS loaded, going straight to plotting\");\n",
       "      run_inline_js();\n",
       "    } else {\n",
       "      load_libs(js_urls, function() {\n",
       "        console.log(\"Bokeh: BokehJS plotting callback run at\", now());\n",
       "        run_inline_js();\n",
       "      });\n",
       "    }\n",
       "  }(this));\n",
       "</script>"
      ]
     },
     "metadata": {},
     "output_type": "display_data"
    }
   ],
   "source": [
    "    g = Grid(df.pipe(plotting.ColumnDataSource), ['A', 'B', 'C'])\n",
    "\n",
    "    g.upper.Circle(x='{row}', y='{col}')\n",
    "    g.lower.X(x='{row}', y='{col}')\n",
    "\n",
    "    plotting.show(g.show())"
   ]
  },
  {
   "cell_type": "code",
   "execution_count": null,
   "metadata": {
    "collapsed": true
   },
   "outputs": [],
   "source": []
  },
  {
   "cell_type": "code",
   "execution_count": null,
   "metadata": {
    "collapsed": true
   },
   "outputs": [],
   "source": []
  }
 ],
 "metadata": {
  "kernelspec": {
   "display_name": "Python 3",
   "language": "python",
   "name": "python3"
  },
  "language_info": {
   "codemirror_mode": {
    "name": "ipython",
    "version": 3
   },
   "file_extension": ".py",
   "mimetype": "text/x-python",
   "name": "python",
   "nbconvert_exporter": "python",
   "pygments_lexer": "ipython3",
   "version": "3.5.3"
  }
 },
 "nbformat": 4,
 "nbformat_minor": 2
}
