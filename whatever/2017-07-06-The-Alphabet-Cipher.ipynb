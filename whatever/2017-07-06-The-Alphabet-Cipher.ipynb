{
 "cells": [
  {
   "cell_type": "markdown",
   "metadata": {},
   "source": [
    "# The alphabet cipher challenge\n",
    "\n",
    "Created for the [pyatl jam session](https://www.meetup.com/python-atlanta/events/237560615/)\n",
    "\n",
    "Cyber dojo 👉 40A6A54C18\n",
    "\n",
    "---\n",
    "\n",
    "* https://en.wikipedia.org/wiki/The_Alphabet_Cipher\n",
    "\n",
    "This literate code document is written Markdown first; all code elements are executed as Python.\n",
    "\n",
    "        !pip install git+https://github.com/tonyfast/literacy"
   ]
  },
  {
   "cell_type": "code",
   "execution_count": 1,
   "metadata": {
    "collapsed": true
   },
   "outputs": [],
   "source": [
    "    %reload_ext literacy"
   ]
  },
  {
   "cell_type": "code",
   "execution_count": 2,
   "metadata": {},
   "outputs": [
    {
     "data": {
      "text/markdown": [
       "Create the alphabet using `range, ord and chr`.\n",
       "\n",
       "    alphabet = ''.join(map(chr, range(ord('a'), ord('z')+1)))    "
      ],
      "text/plain": [
       "<IPython.core.display.Markdown object>"
      ]
     },
     "metadata": {},
     "output_type": "display_data"
    }
   ],
   "source": [
    "Create the alphabet using `range, ord and chr`.\n",
    "\n",
    "    alphabet = ''.join(map(chr, range(ord('a'), ord('z')+1)))    "
   ]
  },
  {
   "cell_type": "code",
   "execution_count": 3,
   "metadata": {},
   "outputs": [
    {
     "data": {
      "text/markdown": [
       "Construct the alphabet cipher and call it __tabula__; this table is the mapping for the encryption.\n",
       "    \n",
       "    __tabula__ = [''.join([\n",
       "\n",
       "Shift the alphabet by the current __row__\n",
       "\n",
       "        *alphabet[i:], *alphabet[:i]\n",
       "\n",
       "The current row maps directly to the letter in an alphabet.\n",
       "        \n",
       "    ]) for i in range(26)]\n",
       "    \n",
       "    "
      ],
      "text/plain": [
       "<IPython.core.display.Markdown object>"
      ]
     },
     "metadata": {},
     "output_type": "display_data"
    }
   ],
   "source": [
    "Construct the alphabet cipher and call it __tabula__; this table is the mapping for the encryption.\n",
    "    \n",
    "    __tabula__ = [''.join([\n",
    "\n",
    "Shift the alphabet by the current __row__\n",
    "\n",
    "        *alphabet[i:], *alphabet[:i]\n",
    "\n",
    "The current row maps directly to the letter in an alphabet.\n",
    "        \n",
    "    ]) for i in range(26)]\n",
    "    \n",
    "    "
   ]
  },
  {
   "cell_type": "code",
   "execution_count": 4,
   "metadata": {},
   "outputs": [
    {
     "data": {
      "text/markdown": [
       "__`Ł = alphabet.index`__ converts a letter to an index.\n",
       "\n",
       "    "
      ],
      "text/plain": [
       "<IPython.core.display.Markdown object>"
      ]
     },
     "metadata": {},
     "output_type": "display_data"
    }
   ],
   "source": [
    "__`Ł = alphabet.index`__ converts a letter to an index.\n",
    "\n",
    "    "
   ]
  },
  {
   "cell_type": "code",
   "execution_count": 5,
   "metadata": {},
   "outputs": [
    {
     "data": {
      "text/markdown": [
       "## Solving the problem\n",
       "\n",
       "Use `key = 'vigilance'` to __encrypt__ `message = 'meetmeontuesdayeveningatseven'` with the \n",
       "__tabula__ constructed above."
      ],
      "text/plain": [
       "<IPython.core.display.Markdown object>"
      ]
     },
     "metadata": {},
     "output_type": "display_data"
    }
   ],
   "source": [
    "## Solving the problem\n",
    "\n",
    "Use `key = 'vigilance'` to __encrypt__ `message = 'meetmeontuesdayeveningatseven'` with the \n",
    "__tabula__ constructed above."
   ]
  },
  {
   "cell_type": "code",
   "execution_count": 6,
   "metadata": {},
   "outputs": [
    {
     "data": {
      "text/markdown": [
       "This cipher requires that the key and message are the same length; __regularize__ performs this task\n",
       "\n",
       "    def regularize(key, message):\n",
       "        while len(key) < len(message):\n",
       "            key += key\n",
       "        return zip(key[:len(message)], message)"
      ],
      "text/plain": [
       "<IPython.core.display.Markdown object>"
      ]
     },
     "metadata": {},
     "output_type": "display_data"
    }
   ],
   "source": [
    "This cipher requires that the key and message are the same length; __regularize__ performs this task\n",
    "\n",
    "    def regularize(key, message):\n",
    "        while len(key) < len(message):\n",
    "            key += key\n",
    "        return zip(key[:len(message)], message)"
   ]
  },
  {
   "cell_type": "code",
   "execution_count": 7,
   "metadata": {},
   "outputs": [
    {
     "data": {
      "text/markdown": [
       "    def encrypt(key, message):\n",
       "        return ''.join([\n",
       "\n",
       "            \n",
       "Look-up the <code>message</code> character's row for it's corresponding <code>key</code>; \n",
       "the value os the encrypted character\n",
       "            \n",
       "            __tabula__[Ł(_)][Ł(__)] for _, __ in regularize(key, message)])"
      ],
      "text/plain": [
       "<IPython.core.display.Markdown object>"
      ]
     },
     "metadata": {},
     "output_type": "display_data"
    }
   ],
   "source": [
    "    def encrypt(key, message):\n",
    "        return ''.join([\n",
    "\n",
    "            \n",
    "Look-up the <code>message</code> character's row for it's corresponding <code>key</code>; \n",
    "the value os the encrypted character\n",
    "            \n",
    "            __tabula__[Ł(_)][Ł(__)] for _, __ in regularize(key, message)])"
   ]
  },
  {
   "cell_type": "code",
   "execution_count": 8,
   "metadata": {},
   "outputs": [
    {
     "data": {
      "text/markdown": [
       "`secret = encrypt(key, message)`, the `secret` __encrypt__ed `message` is `secret`."
      ],
      "text/plain": [
       "<IPython.core.display.Markdown object>"
      ]
     },
     "metadata": {},
     "output_type": "display_data"
    },
    {
     "data": {
      "text/plain": [
       "'hmkbxebpxpmyllyrxiiqtoltfgzzv'"
      ]
     },
     "execution_count": 8,
     "metadata": {},
     "output_type": "execute_result"
    }
   ],
   "source": [
    "`secret = encrypt(key, message)`, the `secret` __encrypt__ed `message` is `secret`."
   ]
  },
  {
   "cell_type": "code",
   "execution_count": 9,
   "metadata": {},
   "outputs": [
    {
     "data": {
      "text/markdown": [
       "## Inverse encryption or __decrypt__ion\n",
       "\n",
       "    def decrypt(key, secret):\n",
       "        \n",
       "        return ''.join([\n",
       "            chr([\n",
       "                \n",
       "__pluck__ the __key__ letters from each row\n",
       "                \n",
       "                row[Ł(_)] for row in __tabula__\n",
       "\n",
       "and find the index of the __secret__ \n",
       "                \n",
       "            ].index(__) + ord('a')) \n",
       "            \n",
       "over each of the letters in the (key, secret) pairs\n",
       "            \n",
       "            for _, __ in regularize(key, secret)])"
      ],
      "text/plain": [
       "<IPython.core.display.Markdown object>"
      ]
     },
     "metadata": {},
     "output_type": "display_data"
    }
   ],
   "source": [
    "## Inverse encryption or __decrypt__ion\n",
    "\n",
    "    def decrypt(key, secret):\n",
    "        \n",
    "        return ''.join([\n",
    "            chr([\n",
    "                \n",
    "__pluck__ the __key__ letters from each row\n",
    "                \n",
    "                row[Ł(_)] for row in __tabula__\n",
    "\n",
    "and find the index of the __secret__ \n",
    "                \n",
    "            ].index(__) + ord('a')) \n",
    "            \n",
    "over each of the letters in the (key, secret) pairs\n",
    "            \n",
    "            for _, __ in regularize(key, secret)])"
   ]
  },
  {
   "cell_type": "code",
   "execution_count": 10,
   "metadata": {},
   "outputs": [
    {
     "data": {
      "text/markdown": [
       "    decrypt(key, secret)"
      ],
      "text/plain": [
       "<IPython.core.display.Markdown object>"
      ]
     },
     "metadata": {},
     "output_type": "display_data"
    },
    {
     "data": {
      "text/plain": [
       "'meetmeontuesdayeveningatseven'"
      ]
     },
     "execution_count": 10,
     "metadata": {},
     "output_type": "execute_result"
    }
   ],
   "source": [
    "    decrypt(key, secret)"
   ]
  },
  {
   "cell_type": "code",
   "execution_count": 11,
   "metadata": {},
   "outputs": [
    {
     "data": {
      "text/markdown": [
       "The secret puzzle is `decrypt('PYATLJAMSESSION'.lower(), 'LFAMTBTTWEAJADRTBVXWXCULCGXIBHCJAWPWSISPDGE'.lower())`"
      ],
      "text/plain": [
       "<IPython.core.display.Markdown object>"
      ]
     },
     "metadata": {},
     "output_type": "display_data"
    },
    {
     "data": {
      "text/plain": [
       "'whatistheairspeedvelocityofanunladenswallow'"
      ]
     },
     "execution_count": 11,
     "metadata": {},
     "output_type": "execute_result"
    }
   ],
   "source": [
    "The secret puzzle is `decrypt('PYATLJAMSESSION'.lower(), 'LFAMTBTTWEAJADRTBVXWXCULCGXIBHCJAWPWSISPDGE'.lower())`"
   ]
  },
  {
   "cell_type": "markdown",
   "metadata": {},
   "source": [
    "---\n",
    "\n",
    "# Example lookup\n",
    "\n",
    "\n",
    "    v i g i l a n c e v i g i l a n c e v i g i l a n c e v i\n",
    "    m e e t m e o n t u e s d a y e v e n i n g a t s e v e n\n",
    "    h m k b x e b p x p m y l l y r x i i q t o l t f g z z v"
   ]
  }
 ],
 "metadata": {
  "kernelspec": {
   "display_name": "Python 3",
   "language": "python",
   "name": "python3"
  },
  "language_info": {
   "codemirror_mode": {
    "name": "ipython",
    "version": 3
   },
   "file_extension": ".py",
   "mimetype": "text/x-python",
   "name": "python",
   "nbconvert_exporter": "python",
   "pygments_lexer": "ipython3",
   "version": "3.5.3"
  },
  "layout": "post",
  "title": "Encrypting and Decrypting 'The Alphabet Cipher`"
 },
 "nbformat": 4,
 "nbformat_minor": 2
}
