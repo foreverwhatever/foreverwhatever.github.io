{
 "cells": [
  {
   "cell_type": "code",
   "execution_count": null,
   "metadata": {
    "collapsed": true
   },
   "outputs": [],
   "source": [
    "from forever.ipynb import notebook_module\n",
    "import os, glob, sys\n",
    "directory, ext = os.path.dirname(__file__), 'ipynb'\n",
    "for file in glob.glob(os.path.sep.join([directory, os.path.extsep.join(['*', ext])])):\n",
    "    name = file.lstrip(directory).rstrip(ext).rstrip('.')\n",
    "    if all(map(str.isnumeric, name[:4])):\n",
    "        locals()[name] = notebook_module(name, file)"
   ]
  }
 ],
 "metadata": {
  "kernelspec": {
   "display_name": "Python 3",
   "language": "python",
   "name": "python3"
  },
  "language_info": {
   "codemirror_mode": {
    "name": "ipython",
    "version": 3
   },
   "file_extension": ".py",
   "mimetype": "text/x-python",
   "name": "python",
   "nbconvert_exporter": "python",
   "pygments_lexer": "ipython3",
   "version": "3.5.3"
  }
 },
 "nbformat": 4,
 "nbformat_minor": 2
}
