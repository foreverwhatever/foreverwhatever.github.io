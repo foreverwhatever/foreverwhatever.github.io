{
 "cells": [
  {
   "cell_type": "markdown",
   "metadata": {},
   "source": [
    "# <del>`fidget`</del> <small>a `pythonic` functional programming `object`</small>\n",
    "\n",
    "> ...posers juxtapose juxtapositions\n",
    "\n",
    "> composers compose compositions"
   ]
  },
  {
   "cell_type": "code",
   "execution_count": 2,
   "metadata": {},
   "outputs": [],
   "source": [
    "    from fidget import pipes as a, maps; an = the = then = a\n",
    "    from copy import copy\n",
    "    import pandas, requests, toolz"
   ]
  },
  {
   "cell_type": "code",
   "execution_count": 23,
   "metadata": {},
   "outputs": [
    {
     "data": {
      "text/plain": [
       "[['A', 'B', 'C'], ['A', 'D', 'E'], ['B', 'D', 'F'], ['C', 'E', 'F']]"
      ]
     },
     "execution_count": 23,
     "metadata": {},
     "output_type": "execute_result"
    }
   ],
   "source": [
    "    triangles = a.combinations(r=2).zip(list('ABC'))[maps.concat().list()].concatv([list('ABC')]).list()('DEF')\n",
    "    triangles"
   ]
  },
  {
   "cell_type": "code",
   "execution_count": 24,
   "metadata": {
    "collapsed": true
   },
   "outputs": [],
   "source": [
    "    positions = {\n",
    "        'A': [-1, 0], 'B': [0, 1], 'C': [1, 0],\n",
    "        'D': [-.5, .5], 'E': [0, 0], 'F': [.5, .5],\n",
    "    }"
   ]
  }
 ],
 "metadata": {
  "kernelspec": {
   "display_name": "Python 3",
   "language": "python",
   "name": "python3"
  },
  "language_info": {
   "codemirror_mode": {
    "name": "ipython",
    "version": 3
   },
   "file_extension": ".py",
   "mimetype": "text/x-python",
   "name": "python",
   "nbconvert_exporter": "python",
   "pygments_lexer": "ipython3",
   "version": "3.5.3"
  }
 },
 "nbformat": 4,
 "nbformat_minor": 2
}
