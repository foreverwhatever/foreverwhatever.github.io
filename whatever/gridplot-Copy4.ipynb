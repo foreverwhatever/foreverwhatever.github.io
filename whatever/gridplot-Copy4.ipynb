{
 "cells": [
  {
   "cell_type": "code",
   "execution_count": 1,
   "metadata": {},
   "outputs": [],
   "source": [
    "    import gridplot"
   ]
  },
  {
   "cell_type": "code",
   "execution_count": null,
   "metadata": {
    "collapsed": true
   },
   "outputs": [],
   "source": [
    "    gridplot.Plots"
   ]
  },
  {
   "cell_type": "code",
   "execution_count": 252,
   "metadata": {
    "collapsed": true
   },
   "outputs": [],
   "source": [
    "    __all__ = 'label', 'Plots'"
   ]
  },
  {
   "cell_type": "code",
   "execution_count": 253,
   "metadata": {
    "collapsed": true
   },
   "outputs": [],
   "source": [
    "    import pandas as pd\n",
    "    from bokeh import plotting, models, layouts\n",
    "    from operator import gt, lt, eq\n",
    "    from sklearn.cluster import KMeans\n",
    "    import collections, itertools, operator\n",
    "    from operator import eq, lt, gt    "
   ]
  },
  {
   "cell_type": "code",
   "execution_count": 254,
   "metadata": {
    "collapsed": true
   },
   "outputs": [],
   "source": [
    "    class DeepChainMap(collections.ChainMap):\n",
    "        def __setitem__(self, key, value):\n",
    "            for mapping in self.maps:\n",
    "                if key in mapping:\n",
    "                    mapping[key] = value\n",
    "                    return\n",
    "            self.maps[0][key] = value\n",
    "\n",
    "        def __delitem__(self, key):\n",
    "            for mapping in self.maps:\n",
    "                if key in mapping:\n",
    "                    del mapping[key]\n",
    "                    return\n",
    "            raise KeyError(key)\n",
    "            \n",
    "        def new_child(self, m=None):\n",
    "            return setattr(self, 'maps', super().new_child(m).maps) or self\n",
    "        \n",
    "        def complement(self):\n",
    "            return type(self)(*reversed(self.maps))"
   ]
  },
  {
   "cell_type": "code",
   "execution_count": 255,
   "metadata": {
    "collapsed": true
   },
   "outputs": [],
   "source": [
    "    def replaceRowCol(obj, **kwargs):\n",
    "        if isinstance(obj, str):\n",
    "            obj = obj.format(**kwargs)\n",
    "        if isinstance(obj, dict):\n",
    "            obj = {k: replaceRowCol(v, **kwargs) for k, v in obj.items()} \n",
    "        return obj"
   ]
  },
  {
   "cell_type": "code",
   "execution_count": 256,
   "metadata": {
    "collapsed": true
   },
   "outputs": [],
   "source": [
    "    class Plots(object):\n",
    "        def __init__(\n",
    "            self, sources, features=None, \n",
    "            figures=None, glyph=None, agg=pd.Series.describe, **kwargs\n",
    "        ):\n",
    "            if isinstance(sources, pd.DataFrame):\n",
    "                sources = (\n",
    "                    DeepChainMap({None: sources})\n",
    "                    .new_child({None: sources.pipe(plotting.ColumnDataSource)}))\n",
    "            self.sources = sources\n",
    "            self.features = features or list(df.columns)\n",
    "            self.figures = figures\n",
    "            self.glyph = glyph\n",
    "            self.agg = agg\n",
    "            self._prepare_diag_source(**kwargs)\n",
    "            self.figures or self.reset(**kwargs)\n",
    "            \n",
    "            \n",
    "            \n",
    "        def __getitem__(self, key, **kwargs):\n",
    "            if not isinstance(key, tuple):\n",
    "                key = key, \n",
    "            return type(self)({\n",
    "                k: self.sources[k] for k in key\n",
    "            }, self.features, self.figures, self.glyph, self.agg, **kwargs)\n",
    "            \n",
    "\n",
    "        def reset(self, **kwargs):\n",
    "            self._diag, self._upper, self._lower = {}, {}, {}\n",
    "            index = type(self.sources.complement()[None].index)\n",
    "            for cmp, object in zip([eq, gt, lt], operator.attrgetter('_diag', '_lower', '_upper')(self)):\n",
    "                for row, col in self:\n",
    "                    if cmp(*map(self.features.index, [row, col])):\n",
    "                        args = dict(width=200, height=200)\n",
    "                        if row == col and index is pd.DatetimeIndex:\n",
    "                            args.update(x_axis_type='datetime')\n",
    "                        object[(row, col)] = plotting.Figure(**{\n",
    "                            **args, **kwargs})\n",
    "                    \n",
    "            self.figures = DeepChainMap(self._diag, self._upper, self._lower)\n",
    "\n",
    "        def __iter__(self):\n",
    "            for row, col in itertools.product(*[self.features]*2):\n",
    "                yield row, col\n",
    "                \n",
    "        @property\n",
    "        def diagonal(self):\n",
    "            return Diagonal(self.sources, self.features, self._diag)\n",
    "        \n",
    "        @property\n",
    "        def upper(self):\n",
    "            return type(self)(self.sources, self.features, self._upper)\n",
    "        \n",
    "        @property\n",
    "        def lower(self):\n",
    "            return type(self)(self.sources, self.features, self._lower)\n",
    "        \n",
    "        def __getattr__(self, key):\n",
    "            return setattr(self, 'glyph', getattr(models, key)) or self\n",
    "        \n",
    "        def __call__(self, **kwargs):\n",
    "            for source in [self.sources[None]] if None in self.sources else self.sources.values():\n",
    "                for (r, c), p in self.figures.items():\n",
    "                    p.add_glyph(source, self.glyph(**replaceRowCol(kwargs, row=r, col=c)))\n",
    "            return self\n",
    "        \n",
    "        def apply(self, func):\n",
    "            for (r, c), p in self.figures.items():\n",
    "                func(p)\n",
    "            return self\n",
    "            \n",
    "        def layout(self):\n",
    "            return layouts.gridplot([self.figures[(r,c)] for r, c in self], ncols=len(self.features))\n",
    "        \n",
    "        def show(self):\n",
    "            return plotting.show(self.layout())\n",
    "        \n",
    "        def _prepare_diag_source(self, **kwargs):\n",
    "            if isinstance(self.sources, collections.ChainMap):\n",
    "                df = self.sources.complement()[None]\n",
    "                for feature in self.features:\n",
    "                    if feature not in self.sources:\n",
    "                        s = df[feature]\n",
    "                        g = s.groupby(\n",
    "                            s.index if type(df.index) is pd.CategoricalIndex\n",
    "                            else s.index\n",
    "                            if type(df.index) is pd.DatetimeIndex\n",
    "                            else s.pipe(pd.np.digitize, pd.np.linspace(s.min(), s.max(), 11))\n",
    "                        ).describe().to_frame()\n",
    "                        self.sources.new_child({\n",
    "                            feature: g[feature].unstack(-1).pipe(plotting.ColumnDataSource)})       "
   ]
  },
  {
   "cell_type": "code",
   "execution_count": 257,
   "metadata": {
    "collapsed": true
   },
   "outputs": [],
   "source": [
    "    class Diagonal(Plots):\n",
    "        def __call__(self, **kwargs):\n",
    "            for (r, c), p in self.figures.items():\n",
    "                assert r == c\n",
    "                p.add_glyph(self.sources[r], self.glyph(**replaceRowCol(kwargs, row=r, col=c)))\n",
    "            return self"
   ]
  },
  {
   "cell_type": "code",
   "execution_count": 258,
   "metadata": {
    "collapsed": true
   },
   "outputs": [],
   "source": [
    "    def label(df, model=KMeans, **kwargs):\n",
    "        if callable(model):\n",
    "            model = model()\n",
    "        model.set_params(**kwargs)\n",
    "        return df.set_index(pd.CategoricalIndex(model.fit(df).predict(df)))"
   ]
  }
 ],
 "metadata": {
  "kernelspec": {
   "display_name": "Python 3",
   "language": "python",
   "name": "python3"
  },
  "language_info": {
   "codemirror_mode": {
    "name": "ipython",
    "version": 3
   },
   "file_extension": ".py",
   "mimetype": "text/x-python",
   "name": "python",
   "nbconvert_exporter": "python",
   "pygments_lexer": "ipython3",
   "version": "3.5.3"
  }
 },
 "nbformat": 4,
 "nbformat_minor": 2
}
