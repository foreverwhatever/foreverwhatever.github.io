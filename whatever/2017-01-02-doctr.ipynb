{
 "cells": [
  {
   "cell_type": "markdown",
   "metadata": {},
   "source": [
    "# `doctr`\n",
    "\n",
    "Deploying with `nbconvert` and `jekyll`"
   ]
  },
  {
   "cell_type": "code",
   "execution_count": 1,
   "metadata": {
    "collapsed": true
   },
   "outputs": [],
   "source": [
    "%reload_ext forever.ipynb"
   ]
  },
  {
   "cell_type": "code",
   "execution_count": 2,
   "metadata": {},
   "outputs": [],
   "source": [
    "from forever.ipynb import terminal"
   ]
  },
  {
   "cell_type": "code",
   "execution_count": 3,
   "metadata": {},
   "outputs": [
    {
     "data": {
      "text/html": [
       "\n",
       "        <iframe\n",
       "            width=\"900\"\n",
       "            height=\"400\"\n",
       "            src=\"http://localhost:8888/terminals/3732\"\n",
       "            frameborder=\"0\"\n",
       "            allowfullscreen\n",
       "        ></iframe>\n",
       "        "
      ],
      "text/plain": [
       "<IPython.lib.display.IFrame at 0x1012b8400>"
      ]
     },
     "execution_count": 3,
     "metadata": {},
     "output_type": "execute_result"
    }
   ],
   "source": [
    "terminal()"
   ]
  },
  {
   "cell_type": "markdown",
   "metadata": {},
   "source": [
    "## `travis`\n",
    "\n",
    "Authenticate and log into `travis` with your `github` credentials\n",
    "https://travis-ci.org"
   ]
  },
  {
   "cell_type": "code",
   "execution_count": 7,
   "metadata": {},
   "outputs": [
    {
     "name": "stdout",
     "output_type": "stream",
     "text": [
      "Overwriting .travis.yml\n"
     ]
    }
   ],
   "source": [
    "        %%file .travis.yml\n",
    "        language: python\n",
    "        python:\n",
    "          - 3.6\n",
    "\n",
    "        script:\n",
    "              - set -e\n",
    "              - echo \"test\"\n",
    "              - pip install doctr\n",
    "              - doctr deploy .\n",
    "        env:\n",
    "            global:\n",
    "            - secure: \"QQFDyvCnpq31X3m9aRngRbI1wENkIJgkC/vcJO0m8mo3yCq4LIChi55WDrxpI7LEuGqOD\n",
    "            ZW62Kv5+mjpIgspEV/e8O5UVL9hLix9ASnSfVWK0PQte3lKJ6Lp1/3zn3MAugVuvNgik0Vr7wROzCbHEqj3fNzQ0\n",
    "            CapDSVjsMntjrgE4bGp0QtN6JokOGuKRmwyf1ZVGGVAozgJmJL2/vYQ+TYOdSHXq290xaBV9wrQ84B7y4a72aNog\n",
    "            uzPpc+zxHGIki1gyGbU8bA0NuBGW/wpfPwuUdZ7n1xk+DSKotjxpL23WjvGU09guhRvirGcXVvvQMFCdpHOwAUjF\n",
    "            qBvBhur+VWHcxB/CDrojlho9XGZTzmOB+slhRGMgD09nB+UjXJS+AtrR4mTeieg1O2fP0TPqPRAc3qmVWFwfEEvE\n",
    "            m52zmKU55yPx8eP0Bc+0ZfPDm4kHBiqSDG+lgqMT3tYxD91MQTcBOeHo1ylLIbBhcxx4FOId18USg9EOa0zVdiux\n",
    "            jpISlKXJHDgx2NIxfNDoUWORldDeoB5h4fmdDWjJ1N7Vj6vxkz16hshqqOWXZJNHHK6hSLwVY+ldakICktSBr7j7\n",
    "            aoojqFomWZX1BdnUHaKzfryq4Tkz/9nzBan3Q3/t7L7wGHs16edF83yIyfuEUGGJljiqZL9kUne0sSnPavFh9w=\""
   ]
  },
  {
   "cell_type": "code",
   "execution_count": 8,
   "metadata": {},
   "outputs": [
    {
     "name": "stdout",
     "output_type": "stream",
     "text": [
      "[master 0b045bf] Add deploy key generated from doctr & travis file\r\n",
      " 2 files changed, 20 insertions(+)\r\n",
      " create mode 100644 github_deploy_key.enc\r\n",
      " create mode 100644 whatever/.travis.yml\r\n"
     ]
    }
   ],
   "source": [
    "        !git add ../github_deploy_key.enc .travis.yml\n",
    "        !git commit -m \"Add deploy key generated from doctr & travis file\""
   ]
  },
  {
   "cell_type": "code",
   "execution_count": null,
   "metadata": {
    "collapsed": true
   },
   "outputs": [],
   "source": []
  },
  {
   "cell_type": "code",
   "execution_count": 2,
   "metadata": {},
   "outputs": [
    {
     "name": "stdout",
     "output_type": "stream",
     "text": [
      "Fetching package metadata .........\n",
      "Solving package specifications: ..........\n",
      "\n",
      "# All requested packages already installed.\n",
      "# packages in environment at /Users/tonyfast/anaconda:\n",
      "#\n",
      "doctr                     1.5.3                    py35_0    conda-forge\n"
     ]
    }
   ],
   "source": [
    "!conda install -y -c conda-forge doctr"
   ]
  },
  {
   "cell_type": "code",
   "execution_count": 3,
   "metadata": {},
   "outputs": [
    {
     "ename": "ImportError",
     "evalue": "No module named '2017-05-08-imports'",
     "output_type": "error",
     "traceback": [
      "\u001b[0;31m-----------------------------------------------------------------\u001b[0m",
      "\u001b[0;31mImportError\u001b[0m                     Traceback (most recent call last)",
      "\u001b[0;32m<ipython-input-3-d3825565910a>\u001b[0m in \u001b[0;36m<module>\u001b[0;34m()\u001b[0m\n\u001b[0;32m----> 1\u001b[0;31m \u001b[0m__import__\u001b[0m\u001b[0;34m(\u001b[0m\u001b[0;34m'2017-05-08-imports'\u001b[0m\u001b[0;34m)\u001b[0m\u001b[0;34m\u001b[0m\u001b[0m\n\u001b[0m",
      "\u001b[0;31mImportError\u001b[0m: No module named '2017-05-08-imports'"
     ]
    }
   ],
   "source": [
    "__import__('2017-05-08-imports')"
   ]
  },
  {
   "cell_type": "code",
   "execution_count": null,
   "metadata": {
    "collapsed": true
   },
   "outputs": [],
   "source": []
  }
 ],
 "metadata": {
  "kernelspec": {
   "display_name": "Python 3",
   "language": "python",
   "name": "python3"
  },
  "language_info": {
   "codemirror_mode": {
    "name": "ipython",
    "version": 3
   },
   "file_extension": ".py",
   "mimetype": "text/x-python",
   "name": "python",
   "nbconvert_exporter": "python",
   "pygments_lexer": "ipython3",
   "version": "3.5.3"
  }
 },
 "nbformat": 4,
 "nbformat_minor": 2
}
