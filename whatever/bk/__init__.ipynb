{
 "cells": [
  {
   "cell_type": "code",
   "execution_count": 6,
   "metadata": {
    "collapsed": true
   },
   "outputs": [],
   "source": [
    "import bokeh.models\n",
    "import bokeh.plotting\n",
    "import contextlib\n",
    "from toolz.curried import *"
   ]
  },
  {
   "cell_type": "code",
   "execution_count": 7,
   "metadata": {
    "collapsed": true
   },
   "outputs": [],
   "source": [
    "@contextlib.contextmanager\n",
    "def DataSource(df, **kwargs):\n",
    "    \"\"\"Minimize errant bokeh data sources.\n",
    "    \"\"\"\n",
    "    source = (\n",
    "        df\n",
    "        .rename(\n",
    "            columns=merge(\n",
    "                pipe(df.columns, map(juxt(identity, str)), dict),\n",
    "                pipe(kwargs, itemmap(reversed)),\n",
    "            )\n",
    "        )\n",
    "        .pipe(bokeh.models.ColumnDataSource)\n",
    "    )\n",
    "    yield source\n",
    "    del source"
   ]
  },
  {
   "cell_type": "code",
   "execution_count": 8,
   "metadata": {
    "collapsed": true
   },
   "outputs": [],
   "source": [
    "@contextlib.contextmanager\n",
    "def Figure(**kwargs):\n",
    "    p = bokeh.plotting.figure(**kwargs)\n",
    "    yield p\n",
    "    while p.renderers:\n",
    "        renderer = p.renderers.pop()\n",
    "        del renderer\n",
    "    del p"
   ]
  },
  {
   "cell_type": "code",
   "execution_count": 9,
   "metadata": {
    "collapsed": false
   },
   "outputs": [],
   "source": [
    "@curry\n",
    "def Join(p, source, model, **kwargs):\n",
    "    \"\"\"Join a data source and a model.\n",
    "    \"\"\"\n",
    "    return pipe(\n",
    "        source.column_names, \n",
    "        filter(operator.contains(model.properties())),\n",
    "        map(juxt(identity, identity)),\n",
    "        dict,\n",
    "        lambda x: merge(x, kwargs),\n",
    "        lambda x: p.add_glyph(source, model(**x))\n",
    "    )"
   ]
  },
  {
   "cell_type": "code",
   "execution_count": null,
   "metadata": {
    "collapsed": true
   },
   "outputs": [],
   "source": []
  }
 ],
 "metadata": {
  "anaconda-cloud": {},
  "kernelspec": {
   "display_name": "Python [default]",
   "language": "python",
   "name": "python3"
  },
  "language_info": {
   "codemirror_mode": {
    "name": "ipython",
    "version": 3
   },
   "file_extension": ".py",
   "mimetype": "text/x-python",
   "name": "python",
   "nbconvert_exporter": "python",
   "pygments_lexer": "ipython3",
   "version": "3.5.2"
  }
 },
 "nbformat": 4,
 "nbformat_minor": 1
}
