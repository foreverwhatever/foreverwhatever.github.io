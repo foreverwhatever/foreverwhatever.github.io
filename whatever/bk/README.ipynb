{
 "cells": [
  {
   "cell_type": "code",
   "execution_count": 1,
   "metadata": {
    "collapsed": true
   },
   "outputs": [],
   "source": [
    "%reload_ext autoreload\n",
    "%autoreload 2"
   ]
  },
  {
   "cell_type": "code",
   "execution_count": 20,
   "metadata": {
    "collapsed": false
   },
   "outputs": [],
   "source": [
    "\n",
    "\n",
    "from whatever.bk import DataSource, Join\n",
    "from whatever.bk.fader import sweet_fade\n",
    "import pandas"
   ]
  },
  {
   "cell_type": "code",
   "execution_count": 22,
   "metadata": {
    "collapsed": false
   },
   "outputs": [],
   "source": [
    "from whatever.nxecute import Compositions\n",
    "from whatever.nxecute.recipes import SciKit\n",
    "from sklearn import datasets, discriminant_analysis\n",
    "G = Compositions(vars(SciKit))\n",
    "DATA = G.Compose('load')().node['load']['return']\n",
    "H = G.Compose('fit')(X=DATA[0], y=DATA[1], MODEL=discriminant_analysis.LinearDiscriminantAnalysis())"
   ]
  },
  {
   "cell_type": "code",
   "execution_count": 25,
   "metadata": {
    "collapsed": false
   },
   "outputs": [],
   "source": [
    "df = pandas.DataFrame(H.node['transform']['return'], H.node['predict']['return'])"
   ]
  },
  {
   "cell_type": "code",
   "execution_count": 26,
   "metadata": {
    "collapsed": true
   },
   "outputs": [],
   "source": [
    "import bokeh.plotting"
   ]
  },
  {
   "cell_type": "code",
   "execution_count": 27,
   "metadata": {
    "collapsed": false
   },
   "outputs": [],
   "source": [
    "xx = list(df.describe().loc['std'][0]*pandas.np.array([.1, 10]))"
   ]
  },
  {
   "cell_type": "code",
   "execution_count": 18,
   "metadata": {
    "collapsed": false
   },
   "outputs": [],
   "source": [
    "props = {\n",
    "    'fill_alpha': {\n",
    "        'lim': xx,\n",
    "        'value': [.9, .1],\n",
    "    },\n",
    "}"
   ]
  },
  {
   "cell_type": "code",
   "execution_count": 19,
   "metadata": {
    "collapsed": true
   },
   "outputs": [],
   "source": [
    "with DataSource(df, x=0, y=1) as source:\n",
    "    p = bokeh.plotting.figure(responsive=True, webgl=True)\n",
    "    Glyph = Join(p, source)\n",
    "    overlay = Glyph(bokeh.models.Circle, size=40, line_alpha=0)\n",
    "    sweet_fade(p, overlay, props)\n",
    "    bokeh.plotting.save(p)"
   ]
  },
  {
   "cell_type": "code",
   "execution_count": 24,
   "metadata": {
    "collapsed": false
   },
   "outputs": [],
   "source": [
    "from whatever.bk.fader import sweet_fade\n",
    "from whatever.bk import DataSource, Figure, Join\n",
    "\n",
    "import bokeh.plotting\n",
    "\n",
    "import pandas"
   ]
  },
  {
   "cell_type": "code",
   "execution_count": 25,
   "metadata": {
    "collapsed": false
   },
   "outputs": [],
   "source": [
    "df = pandas.util.testing.makeDataFrame()\n",
    "df['size']=20"
   ]
  },
  {
   "cell_type": "code",
   "execution_count": 26,
   "metadata": {
    "collapsed": false
   },
   "outputs": [],
   "source": [
    "props = {\n",
    "    'text_alpha': {\n",
    "        'lim': [.001, 20],\n",
    "        'value': [.9, .1],\n",
    "    },\n",
    "    'text_font_size': {\n",
    "        'lim': [.001, 20],\n",
    "        'value': [40, 10],\n",
    "        'append': 'pt',\n",
    "    }\n",
    "}"
   ]
  },
  {
   "cell_type": "code",
   "execution_count": 26,
   "metadata": {
    "collapsed": false
   },
   "outputs": [],
   "source": [
    "props = {\n",
    "    'text_alpha': {\n",
    "        'lim': [.001, 20],\n",
    "        'value': [.9, .1],\n",
    "    },\n",
    "    'text_font_size': {\n",
    "        'lim': [.001, 20],\n",
    "        'value': [40, 10],\n",
    "        'append': 'pt',\n",
    "    }\n",
    "}"
   ]
  },
  {
   "cell_type": "code",
   "execution_count": 27,
   "metadata": {
    "collapsed": false
   },
   "outputs": [
    {
     "name": "stderr",
     "output_type": "stream",
     "text": [
      "WARNING://anaconda/lib/python3.5/site-packages/bokeh/core/validation/check.py:W-1000 (MISSING_RENDERERS): Plot has no renderers: Figure, ViewModel:Plot, ref _id: e210e8be-0d0d-4344-a5b6-6ff0e0daa8a3\n"
     ]
    }
   ],
   "source": [
    "with \\\n",
    "DataSource(df, x='A', y='B', text='size') as source, \\\n",
    "Figure() as p:    \n",
    "    \n",
    "    Glyph = Join(p, source)\n",
    "    \n",
    "    Glyph(bokeh.models.Circle, size='text')\n",
    "    \n",
    "    sweet_fade(p, Glyph(bokeh.models.Text), props)\n",
    "    \n",
    "    bokeh.plotting.show(p);"
   ]
  },
  {
   "cell_type": "code",
   "execution_count": 16,
   "metadata": {
    "collapsed": true
   },
   "outputs": [],
   "source": [
    "\n",
    "from sklearn import datasets\n",
    "\n",
    "G = Compositions(vars(SciKit)).Compose('load')\n",
    "\n",
    "G(ALIAS='iris')"
   ]
  },
  {
   "cell_type": "code",
   "execution_count": null,
   "metadata": {
    "collapsed": true
   },
   "outputs": [],
   "source": [
    "iris = datasets"
   ]
  },
  {
   "cell_type": "code",
   "execution_count": null,
   "metadata": {
    "collapsed": true
   },
   "outputs": [],
   "source": []
  },
  {
   "cell_type": "code",
   "execution_count": 15,
   "metadata": {
    "collapsed": false
   },
   "outputs": [],
   "source": [
    "with \\\n",
    "DataSource(df, x='A', y='B', text='size') as source, \\\n",
    "Figure() as p:    \n",
    "    \n",
    "    Glyph = Join(p, source)\n",
    "    \n",
    "    Glyph(bokeh.models.Circle, size='text')\n",
    "    \n",
    "    sweet_fade(p, Glyph(bokeh.models.Text), props)\n",
    "    \n",
    "    bokeh.plotting.show(p);"
   ]
  }
 ],
 "metadata": {
  "anaconda-cloud": {},
  "kernelspec": {
   "display_name": "Python [default]",
   "language": "python",
   "name": "python3"
  },
  "language_info": {
   "codemirror_mode": {
    "name": "ipython",
    "version": 3
   },
   "file_extension": ".py",
   "mimetype": "text/x-python",
   "name": "python",
   "nbconvert_exporter": "python",
   "pygments_lexer": "ipython3",
   "version": "3.5.2"
  }
 },
 "nbformat": 4,
 "nbformat_minor": 1
}
