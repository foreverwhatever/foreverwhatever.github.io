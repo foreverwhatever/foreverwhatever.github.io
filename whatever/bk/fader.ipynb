{
 "cells": [
  {
   "cell_type": "code",
   "execution_count": 6,
   "metadata": {
    "collapsed": true
   },
   "outputs": [],
   "source": [
    "import bokeh.plotting\n",
    "\n",
    "# from coffeetools import coffee\n",
    "import jinja2, pandas\n",
    "from toolz.curried import *\n",
    "\n",
    "__all__ = ['sweet_fade']"
   ]
  },
  {
   "cell_type": "code",
   "execution_count": 2,
   "metadata": {
    "collapsed": false
   },
   "outputs": [],
   "source": [
    "# set_prop_state = coffee.compile(\"\"\"\n",
    "# window.scrolling ?= {}\n",
    "# window.scrolling[renderer.id] ?= {}\n",
    "# \"\"\", bare=True)"
   ]
  },
  {
   "cell_type": "code",
   "execution_count": 3,
   "metadata": {
    "collapsed": false
   },
   "outputs": [],
   "source": [
    "# with open('templates/fader/globals.js.tpl', 'w') as f:\n",
    "#     pipe(\n",
    "#         interleave([set_prop_state.split('{}'), ['{}', '{{props}}']]),\n",
    "#         list, \n",
    "#         ''.join,\n",
    "#         f.write\n",
    "#     )"
   ]
  },
  {
   "cell_type": "code",
   "execution_count": 4,
   "metadata": {
    "collapsed": true
   },
   "outputs": [],
   "source": [
    "# jssource = \"\"\"\n",
    "# window.fader_callback ?= (x, y, renderer)->\n",
    "#     dx = x.end - x.start\n",
    "#     for prop, value of window.scrolling[renderer.id]\n",
    "#         t = dx/(value.lim[1]-value.lim[0])\n",
    "# #         console.log t\n",
    "#         if 0 < t < 1\n",
    "#             updated = (1-t)*value.value[0] + t*value.value[1]\n",
    "#             if value['append']?\n",
    "#                 updated += value.append\n",
    "\n",
    "# renderer.glyph.set prop, updated\"\"\""
   ]
  },
  {
   "cell_type": "code",
   "execution_count": 7,
   "metadata": {
    "collapsed": false
   },
   "outputs": [],
   "source": [
    "# with open('templates/fader/fader_callback.js', 'w') as f:\n",
    "#     pipe(\n",
    "#         coffee.compile(jssource, bare=True), \n",
    "#         f.write\n",
    "#     )"
   ]
  },
  {
   "cell_type": "code",
   "execution_count": 7,
   "metadata": {
    "collapsed": false
   },
   "outputs": [],
   "source": [
    "env = jinja2.Environment(loader=jinja2.PackageLoader('whatever.bk', 'templates/fader'))"
   ]
  },
  {
   "cell_type": "code",
   "execution_count": 10,
   "metadata": {
    "collapsed": true
   },
   "outputs": [],
   "source": [
    "call_it = \"\"\"\n",
    "fader_callback(x, y, renderer);\n",
    "\"\"\""
   ]
  },
  {
   "cell_type": "code",
   "execution_count": 11,
   "metadata": {
    "collapsed": true
   },
   "outputs": [],
   "source": [
    "def sweet_fade(p, renderer, props):\n",
    "    p.x_range.callback = bokeh.models.CustomJS(\n",
    "        args={\n",
    "            'x': p.x_range, 'y': p.y_range, \n",
    "            'renderer': renderer,\n",
    "        },\n",
    "        code='\\n'.join([\n",
    "                env.get_template('globals.js.tpl').render(props=props),\n",
    "                env.get_template('fader_callback.js').render(),\n",
    "                call_it,\n",
    "            ])\n",
    "    )"
   ]
  }
 ],
 "metadata": {
  "anaconda-cloud": {},
  "kernelspec": {
   "display_name": "Python [default]",
   "language": "python",
   "name": "python3"
  },
  "language_info": {
   "codemirror_mode": {
    "name": "ipython",
    "version": 3
   },
   "file_extension": ".py",
   "mimetype": "text/x-python",
   "name": "python",
   "nbconvert_exporter": "python",
   "pygments_lexer": "ipython3",
   "version": "3.5.2"
  }
 },
 "nbformat": 4,
 "nbformat_minor": 1
}
