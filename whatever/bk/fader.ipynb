{
 "cells": [
  {
   "cell_type": "code",
   "execution_count": 101,
   "metadata": {
    "collapsed": true
   },
   "outputs": [],
   "source": [
    "import bokeh.plotting\n",
    "\n",
    "from coffeetools import coffee\n",
    "import jinja2, pandas\n",
    "\n",
    "__all__ = ['sweet_fade']"
   ]
  },
  {
   "cell_type": "code",
   "execution_count": 74,
   "metadata": {
    "collapsed": false
   },
   "outputs": [],
   "source": [
    "set_prop_state = \"\"\"\n",
    "window.scrolling ?= {{}}\n",
    "window.scrolling[renderer.id] ?= {}\n",
    "\"\"\""
   ]
  },
  {
   "cell_type": "code",
   "execution_count": 82,
   "metadata": {
    "collapsed": true
   },
   "outputs": [],
   "source": [
    "jssource = \"\"\"\n",
    "console.log renderer.id\n",
    "dx = x.end - x.start\n",
    "for prop, value of window.scrolling[renderer.id]\n",
    "    t = dx/(value.lim[1]-value.lim[0])\n",
    "    console.log t\n",
    "    if 0 < t < 1\n",
    "        updated = (1-t)*value.value[0] + t*value.value[1]\n",
    "        if value['append']?\n",
    "            updated += value.append\n",
    "        renderer.glyph.set prop, updated\n",
    "            \n",
    "\"\"\""
   ]
  },
  {
   "cell_type": "code",
   "execution_count": 97,
   "metadata": {
    "collapsed": true
   },
   "outputs": [],
   "source": [
    "def sweet_fade(p, renderer, props):\n",
    "    p.x_range.callback = bokeh.models.CustomJS(\n",
    "        args={\n",
    "            'x': p.x_range, 'y': p.y_range, \n",
    "            'renderer': renderer,\n",
    "        },\n",
    "        code=coffee.compile(\n",
    "            '\\n'.join([\n",
    "                    set_prop_state.format(props.__str__()),\n",
    "                    jssource\n",
    "                ])\n",
    "        )\n",
    "    )"
   ]
  }
 ],
 "metadata": {
  "anaconda-cloud": {},
  "kernelspec": {
   "display_name": "Python [default]",
   "language": "python",
   "name": "python3"
  },
  "language_info": {
   "codemirror_mode": {
    "name": "ipython",
    "version": 3
   },
   "file_extension": ".py",
   "mimetype": "text/x-python",
   "name": "python",
   "nbconvert_exporter": "python",
   "pygments_lexer": "ipython3",
   "version": "3.5.2"
  }
 },
 "nbformat": 4,
 "nbformat_minor": 1
}
