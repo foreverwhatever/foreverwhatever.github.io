{
 "cells": [
  {
   "cell_type": "markdown",
   "metadata": {},
   "source": [
    "# Adding `post_save` behavior to `JupyterApp`"
   ]
  },
  {
   "cell_type": "markdown",
   "metadata": {},
   "source": [
    "> Look into your `.jupyter` directory."
   ]
  },
  {
   "cell_type": "code",
   "execution_count": null,
   "metadata": {
    "collapsed": false
   },
   "outputs": [],
   "source": [
    "%ls ~/.jupyter/"
   ]
  },
  {
   "cell_type": "markdown",
   "metadata": {},
   "source": [
    "> If `jupyter_notebook_config.py` does/doesn't exist then execute the cell below to add a `post_save` hook.\n",
    "\n",
    "__The Hook__ - Each time you save a notebook with `_nbconvert.py` in its directory.  The code will be convert to reusable python."
   ]
  },
  {
   "cell_type": "code",
   "execution_count": null,
   "metadata": {
    "collapsed": false
   },
   "outputs": [],
   "source": [
    "%%file ~/.jupyter/jupyter_notebook_config.py --append\n",
    "# %load __init__.py\n",
    "import importlib, inspect, os\n",
    "from subprocess import check_call\n",
    "\n",
    "c = get_config()\n",
    "\n",
    "def post_save(model, os_path, contents_manager):\n",
    "    \"\"\"post-save hook for converting notebooks using local config files.\"\"\"\n",
    "\n",
    "    # Only convert notebooks\n",
    "    if model['type'] != 'notebook': return\n",
    "\n",
    "    directory, fname = os.path.split(os_path)\n",
    "    \n",
    "    if os.path.isfile(os.path.join(directory, '_nbconvert.py')):\n",
    "        # Common to each call\n",
    "        call = ['jupyter','nbconvert', '--to']\n",
    "\n",
    "        # Export README's as markdown to their local directory.\n",
    "        if fname == 'README.ipynb':\n",
    "            call_md = call.copy()\n",
    "            call_md.extend(['markdown', fname])\n",
    "            check_call(call_md, cwd=directory)\n",
    "        \n",
    "        # Run nbconvert with specific config options.\n",
    "        elif not ' ' in fname:\n",
    "            call.extend(['script', '--config', '_nbconvert.py', fname])\n",
    "            check_call(call, cwd=directory)\n",
    "\n",
    "\n",
    "c.FileContentsManager.post_save_hook = post_save"
   ]
  }
 ],
 "metadata": {
  "anaconda-cloud": {
   "environment": null,
   "url": "https://anaconda.org/tonyfast/readme"
  },
  "kernelspec": {
   "display_name": "Python [default]",
   "language": "python",
   "name": "python3"
  },
  "language_info": {
   "codemirror_mode": {
    "name": "ipython",
    "version": 3
   },
   "file_extension": ".py",
   "mimetype": "text/x-python",
   "name": "python",
   "nbconvert_exporter": "python",
   "pygments_lexer": "ipython3",
   "version": "3.5.2"
  }
 },
 "nbformat": 4,
 "nbformat_minor": 1
}
