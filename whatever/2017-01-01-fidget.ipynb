{
 "cells": [
  {
   "cell_type": "markdown",
   "metadata": {},
   "source": [
    "# <del>`fidget`</del> <small>a `pythonic` functional programming `object`</small>\n",
    "\n",
    "> ...posers juxtapose juxtapositions\n",
    "\n",
    "> composers compose compositions"
   ]
  },
  {
   "cell_type": "code",
   "execution_count": 1,
   "metadata": {},
   "outputs": [],
   "source": [
    "from fidget import form, when, each, stars, flips; a = an = the = form\n",
    "from copy import copy\n",
    "import pandas, requests, toolz\n",
    "%reload_ext fidget"
   ]
  },
  {
   "cell_type": "code",
   "execution_count": 3,
   "metadata": {},
   "outputs": [
    {
     "data": {
      "text/markdown": [
       "with requests.get - form.methodcaller('json') as __request__: ...\n",
       "\n",
       "with \"https://api.github.com/users/{}\".format as __url__: ...\n",
       "\n",
       "with [form[__request__]^(str,), form[stars*__request__]^(dict,)] - form[when.bool()].first() as __dispatch__: ..."
      ],
      "text/plain": [
       "<IPython.core.display.Markdown object>"
      ]
     },
     "metadata": {},
     "output_type": "display_data"
    },
    {
     "ename": "AttributeError",
     "evalue": "__exit__",
     "output_type": "error",
     "traceback": [
      "\u001b[0;31m-----------------------------------------------------------------\u001b[0m",
      "\u001b[0;31mAttributeError\u001b[0m                  Traceback (most recent call last)",
      "\u001b[0;32m<ipython-input-3-d96dda70e8a7>\u001b[0m in \u001b[0;36m<module>\u001b[0;34m()\u001b[0m\n\u001b[1;32m      1\u001b[0m \u001b[0;32mwith\u001b[0m \u001b[0mrequests\u001b[0m\u001b[0;34m.\u001b[0m\u001b[0mget\u001b[0m \u001b[0;34m-\u001b[0m \u001b[0mform\u001b[0m\u001b[0;34m.\u001b[0m\u001b[0mmethodcaller\u001b[0m\u001b[0;34m(\u001b[0m\u001b[0;34m'json'\u001b[0m\u001b[0;34m)\u001b[0m \u001b[0;32mas\u001b[0m \u001b[0m__request__\u001b[0m\u001b[0;34m:\u001b[0m \u001b[0;34m...\u001b[0m\u001b[0;34m\u001b[0m\u001b[0m\n\u001b[1;32m      2\u001b[0m \u001b[0;34m\u001b[0m\u001b[0m\n\u001b[0;32m----> 3\u001b[0;31m \u001b[0;32mwith\u001b[0m \u001b[0;34m\"https://api.github.com/users/{}\"\u001b[0m\u001b[0;34m.\u001b[0m\u001b[0mformat\u001b[0m \u001b[0;32mas\u001b[0m \u001b[0m__url__\u001b[0m\u001b[0;34m:\u001b[0m \u001b[0;34m...\u001b[0m\u001b[0;34m\u001b[0m\u001b[0m\n\u001b[0m\u001b[1;32m      4\u001b[0m \u001b[0;34m\u001b[0m\u001b[0m\n\u001b[1;32m      5\u001b[0m \u001b[0;32mwith\u001b[0m \u001b[0;34m[\u001b[0m\u001b[0mform\u001b[0m\u001b[0;34m[\u001b[0m\u001b[0m__request__\u001b[0m\u001b[0;34m]\u001b[0m\u001b[0;34m^\u001b[0m\u001b[0;34m(\u001b[0m\u001b[0mstr\u001b[0m\u001b[0;34m,\u001b[0m\u001b[0;34m)\u001b[0m\u001b[0;34m,\u001b[0m \u001b[0mform\u001b[0m\u001b[0;34m[\u001b[0m\u001b[0mstars\u001b[0m\u001b[0;34m*\u001b[0m\u001b[0m__request__\u001b[0m\u001b[0;34m]\u001b[0m\u001b[0;34m^\u001b[0m\u001b[0;34m(\u001b[0m\u001b[0mdict\u001b[0m\u001b[0;34m,\u001b[0m\u001b[0;34m)\u001b[0m\u001b[0;34m]\u001b[0m \u001b[0;34m-\u001b[0m \u001b[0mform\u001b[0m\u001b[0;34m[\u001b[0m\u001b[0mwhen\u001b[0m\u001b[0;34m.\u001b[0m\u001b[0mbool\u001b[0m\u001b[0;34m(\u001b[0m\u001b[0;34m)\u001b[0m\u001b[0;34m]\u001b[0m\u001b[0;34m.\u001b[0m\u001b[0mfirst\u001b[0m\u001b[0;34m(\u001b[0m\u001b[0;34m)\u001b[0m \u001b[0;32mas\u001b[0m \u001b[0m__dispatch__\u001b[0m\u001b[0;34m:\u001b[0m \u001b[0;34m...\u001b[0m\u001b[0;34m\u001b[0m\u001b[0m\n",
      "\u001b[0;31mAttributeError\u001b[0m: __exit__"
     ]
    }
   ],
   "source": [
    "%%fidget\n",
    "with requests.get - form.methodcaller('json') as __request__: ...\n",
    "\n",
    "__url__ = \"https://api.github.com/users/{}\".format\n",
    "\n",
    "with [form[__request__]^(str,), form[stars*__request__]^(dict,)] - form[when.bool()].first() as __dispatch__: ..."
   ]
  },
  {
   "cell_type": "code",
   "execution_count": 2,
   "metadata": {},
   "outputs": [
    {
     "data": {
      "text/markdown": [
       "with requests.get - a.methodcaller('json') as __request__: ...\n",
       "\n",
       "with a - \"https://api.github.com/users/{}\".format as __url__: ...\n",
       "\n",
       "with [a[__request__]^(str,), then[stars*__request__]^(dict,)] - then[when.bool()].first() as __dispatch__: ...\n",
       "\n",
       "with (__url__ \n",
       "\n",
       "- __dispatch__\n",
       "- [{\n",
       "         'url':  a.get('gists_url')[flips('{')[str.split].first()]}]\n",
       "- then.mul(2).enumerate()\n",
       "- then\n",
       "\n",
       "      [each\n",
       " \n",
       " - [{\n",
       "            'params': {'page': the.first().add(1)}}, the.second()]\n",
       " - then.merge()[__dispatch__][pandas.DataFrame]\n",
       "\n",
       "        ]\n",
       "\n",
       "- list\n",
       "- pandas.concat\n",
       "\n",
       ") as __gists__: ..."
      ],
      "text/plain": [
       "<IPython.core.display.Markdown object>"
      ]
     },
     "metadata": {},
     "output_type": "display_data"
    }
   ],
   "source": [
    "with (__url__ \n",
    "\n",
    "- __dispatch__\n",
    "- [{\n",
    "         'url':  a.get('gists_url')[flips('{')[str.split].first()]}]\n",
    "- then.mul(2).enumerate()\n",
    "- then\n",
    "\n",
    "      [each\n",
    " \n",
    " - [{\n",
    "            'params': {'page': the.first().add(1)}}, the.second()]\n",
    " - then.merge()[__dispatch__][pandas.DataFrame]\n",
    "\n",
    "        ]\n",
    "\n",
    "- list\n",
    "- pandas.concat\n",
    "\n",
    ") as __gists__: ..."
   ]
  },
  {
   "cell_type": "code",
   "execution_count": 4,
   "metadata": {},
   "outputs": [
    {
     "data": {
      "text/markdown": [
       "__gists__('tonyfast').sample(2)"
      ],
      "text/plain": [
       "<IPython.core.display.Markdown object>"
      ]
     },
     "metadata": {},
     "output_type": "display_data"
    },
    {
     "data": {
      "text/html": [
       "<div>\n",
       "<table border=\"1\" class=\"dataframe\">\n",
       "  <thead>\n",
       "    <tr style=\"text-align: right;\">\n",
       "      <th></th>\n",
       "      <th>comments</th>\n",
       "      <th>comments_url</th>\n",
       "      <th>commits_url</th>\n",
       "      <th>created_at</th>\n",
       "      <th>description</th>\n",
       "      <th>files</th>\n",
       "      <th>forks_url</th>\n",
       "      <th>git_pull_url</th>\n",
       "      <th>git_push_url</th>\n",
       "      <th>html_url</th>\n",
       "      <th>id</th>\n",
       "      <th>owner</th>\n",
       "      <th>public</th>\n",
       "      <th>truncated</th>\n",
       "      <th>updated_at</th>\n",
       "      <th>url</th>\n",
       "      <th>user</th>\n",
       "    </tr>\n",
       "  </thead>\n",
       "  <tbody>\n",
       "    <tr>\n",
       "      <th>20</th>\n",
       "      <td>0</td>\n",
       "      <td>https://api.github.com/gists/4ae18a942432b96d0...</td>\n",
       "      <td>https://api.github.com/gists/4ae18a942432b96d0...</td>\n",
       "      <td>2017-04-02T16:47:07Z</td>\n",
       "      <td></td>\n",
       "      <td>{'metadata.ipynb': {'language': 'Jupyter Noteb...</td>\n",
       "      <td>https://api.github.com/gists/4ae18a942432b96d0...</td>\n",
       "      <td>https://gist.github.com/4ae18a942432b96d0aa179...</td>\n",
       "      <td>https://gist.github.com/4ae18a942432b96d0aa179...</td>\n",
       "      <td>https://gist.github.com/4ae18a942432b96d0aa179...</td>\n",
       "      <td>4ae18a942432b96d0aa17969adf4acdd</td>\n",
       "      <td>{'following_url': 'https://api.github.com/user...</td>\n",
       "      <td>True</td>\n",
       "      <td>False</td>\n",
       "      <td>2017-04-02T16:47:07Z</td>\n",
       "      <td>https://api.github.com/gists/4ae18a942432b96d0...</td>\n",
       "      <td>None</td>\n",
       "    </tr>\n",
       "    <tr>\n",
       "      <th>19</th>\n",
       "      <td>0</td>\n",
       "      <td>https://api.github.com/gists/187e1c03bdc8afad1...</td>\n",
       "      <td>https://api.github.com/gists/187e1c03bdc8afad1...</td>\n",
       "      <td>2016-11-16T19:40:00Z</td>\n",
       "      <td></td>\n",
       "      <td>{'dude.py': {'language': 'Python', 'size': 108...</td>\n",
       "      <td>https://api.github.com/gists/187e1c03bdc8afad1...</td>\n",
       "      <td>https://gist.github.com/187e1c03bdc8afad17b2c3...</td>\n",
       "      <td>https://gist.github.com/187e1c03bdc8afad17b2c3...</td>\n",
       "      <td>https://gist.github.com/187e1c03bdc8afad17b2c3...</td>\n",
       "      <td>187e1c03bdc8afad17b2c3f7e1a32392</td>\n",
       "      <td>{'following_url': 'https://api.github.com/user...</td>\n",
       "      <td>True</td>\n",
       "      <td>False</td>\n",
       "      <td>2016-11-16T19:40:01Z</td>\n",
       "      <td>https://api.github.com/gists/187e1c03bdc8afad1...</td>\n",
       "      <td>None</td>\n",
       "    </tr>\n",
       "  </tbody>\n",
       "</table>\n",
       "</div>"
      ],
      "text/plain": [
       "    comments                                       comments_url  \\\n",
       "20         0  https://api.github.com/gists/4ae18a942432b96d0...   \n",
       "19         0  https://api.github.com/gists/187e1c03bdc8afad1...   \n",
       "\n",
       "                                          commits_url            created_at  \\\n",
       "20  https://api.github.com/gists/4ae18a942432b96d0...  2017-04-02T16:47:07Z   \n",
       "19  https://api.github.com/gists/187e1c03bdc8afad1...  2016-11-16T19:40:00Z   \n",
       "\n",
       "   description                                              files  \\\n",
       "20              {'metadata.ipynb': {'language': 'Jupyter Noteb...   \n",
       "19              {'dude.py': {'language': 'Python', 'size': 108...   \n",
       "\n",
       "                                            forks_url  \\\n",
       "20  https://api.github.com/gists/4ae18a942432b96d0...   \n",
       "19  https://api.github.com/gists/187e1c03bdc8afad1...   \n",
       "\n",
       "                                         git_pull_url  \\\n",
       "20  https://gist.github.com/4ae18a942432b96d0aa179...   \n",
       "19  https://gist.github.com/187e1c03bdc8afad17b2c3...   \n",
       "\n",
       "                                         git_push_url  \\\n",
       "20  https://gist.github.com/4ae18a942432b96d0aa179...   \n",
       "19  https://gist.github.com/187e1c03bdc8afad17b2c3...   \n",
       "\n",
       "                                             html_url  \\\n",
       "20  https://gist.github.com/4ae18a942432b96d0aa179...   \n",
       "19  https://gist.github.com/187e1c03bdc8afad17b2c3...   \n",
       "\n",
       "                                  id  \\\n",
       "20  4ae18a942432b96d0aa17969adf4acdd   \n",
       "19  187e1c03bdc8afad17b2c3f7e1a32392   \n",
       "\n",
       "                                                owner public truncated  \\\n",
       "20  {'following_url': 'https://api.github.com/user...   True     False   \n",
       "19  {'following_url': 'https://api.github.com/user...   True     False   \n",
       "\n",
       "              updated_at                                                url  \\\n",
       "20  2017-04-02T16:47:07Z  https://api.github.com/gists/4ae18a942432b96d0...   \n",
       "19  2016-11-16T19:40:01Z  https://api.github.com/gists/187e1c03bdc8afad1...   \n",
       "\n",
       "    user  \n",
       "20  None  \n",
       "19  None  "
      ]
     },
     "execution_count": 4,
     "metadata": {},
     "output_type": "execute_result"
    }
   ],
   "source": [
    "%%fidget\n",
    "__gists__('tonyfast').sample(2)"
   ]
  }
 ],
 "metadata": {
  "kernelspec": {
   "display_name": "Python 3",
   "language": "python",
   "name": "python3"
  },
  "language_info": {
   "codemirror_mode": {
    "name": "ipython",
    "version": 3
   },
   "file_extension": ".py",
   "mimetype": "text/x-python",
   "name": "python",
   "nbconvert_exporter": "python",
   "pygments_lexer": "ipython3",
   "version": "3.5.3"
  }
 },
 "nbformat": 4,
 "nbformat_minor": 2
}
