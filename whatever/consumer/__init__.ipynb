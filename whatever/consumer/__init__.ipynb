{
 "cells": [
  {
   "cell_type": "code",
   "execution_count": 2,
   "metadata": {
    "collapsed": true
   },
   "outputs": [],
   "source": [
    "from itertools import zip_longest\n",
    "from IPython import get_ipython\n",
    "import networkx as nx\n",
    "from toolz.curried import *"
   ]
  },
  {
   "cell_type": "code",
   "execution_count": 3,
   "metadata": {
    "collapsed": false
   },
   "outputs": [],
   "source": [
    "_annotations_ = partial(flip(getattr), '__annotations__')\n",
    "_name_ = lambda x: x if isinstance(x, str) else x.__name__"
   ]
  },
  {
   "cell_type": "code",
   "execution_count": 9,
   "metadata": {
    "collapsed": false
   },
   "outputs": [],
   "source": [
    "def discover_annotated_functions(G, objs=get_ipython().user_ns):\n",
    "    return pipe(\n",
    "        objs,\n",
    "        keyfilter(lambda x: x[0] != '_'),\n",
    "        valfilter(\n",
    "            excepts(\n",
    "                AttributeError,\n",
    "                _annotations_,\n",
    "                lambda x: False\n",
    "            )\n",
    "        ), \n",
    "        do(G.add_nodes_from),\n",
    "        do(\n",
    "            partial(nx.set_node_attributes, G, 'func')\n",
    "        )\n",
    "    )"
   ]
  },
  {
   "cell_type": "code",
   "execution_count": 10,
   "metadata": {
    "collapsed": false
   },
   "outputs": [],
   "source": [
    "def nest_and_stringify(annotated):\n",
    "    return pipe(\n",
    "        annotated, \n",
    "        \n",
    "        valmap(\n",
    "            _annotations_\n",
    "        ), \n",
    "        valmap(\n",
    "            valfilter(callable)\n",
    "        ),\n",
    "        valmap(\n",
    "            valmap(_name_)\n",
    "        ),\n",
    "    )"
   ]
  },
  {
   "cell_type": "code",
   "execution_count": 11,
   "metadata": {
    "collapsed": false
   },
   "outputs": [],
   "source": [
    "def create_edges(G, nested_graph):\n",
    "    edges = pipe(\n",
    "        nested_graph.items(),\n",
    "        map(\n",
    "            lambda x: \n",
    "            zip_longest((first(x),), second(x).values(), fillvalue=first(x)),\n",
    "        ),\n",
    "        concat,\n",
    "        tuple,\n",
    "    )\n",
    "    G.add_edges_from(edges)\n",
    "    return G"
   ]
  },
  {
   "cell_type": "code",
   "execution_count": 12,
   "metadata": {
    "collapsed": false
   },
   "outputs": [],
   "source": [
    "def find_longest_path(start, end, G):\n",
    "    return pipe(\n",
    "        nx.all_simple_paths(G, start.__name__, end.__name__),\n",
    "        topk(1, key=len),\n",
    "        first,\n",
    "        map(compose(get('func'), G.node.__getitem__)),\n",
    "#         filter(lambda x: hasattr(x, 'func')),\n",
    "        list\n",
    "    )"
   ]
  },
  {
   "cell_type": "code",
   "execution_count": 21,
   "metadata": {
    "collapsed": true
   },
   "outputs": [],
   "source": [
    "def run(G, path):\n",
    "    for function in path:\n",
    "        params = pipe(\n",
    "            function,\n",
    "            _annotations_,\n",
    "            valmap(_name_),\n",
    "            valmap(G.node.__getitem__),\n",
    "            valmap(get('value'))\n",
    "        )\n",
    "        nx.set_node_attributes(\n",
    "            G, 'value', {\n",
    "                function.__name__: function(**params)\n",
    "            }\n",
    "        )\n",
    "    return G"
   ]
  },
  {
   "cell_type": "code",
   "execution_count": 20,
   "metadata": {
    "collapsed": false
   },
   "outputs": [],
   "source": [
    "def consume(start, end, objs=get_ipython().user_ns, **kwargs):\n",
    "    G = nx.Graph()\n",
    "    G.add_nodes_from(kwargs)\n",
    "    nx.set_node_attributes(\n",
    "        G, 'value', kwargs\n",
    "    )\n",
    "    path = pipe(\n",
    "        discover_annotated_functions(G, objs),\n",
    "        nest_and_stringify,\n",
    "        partial(create_edges, G),\n",
    "        partial(find_longest_path, start, end)\n",
    "    )\n",
    "    return run(G, path)"
   ]
  }
 ],
 "metadata": {
  "anaconda-cloud": {
   "environment": null,
   "url": "https://anaconda.org/tonyfast/untitled31"
  },
  "kernelspec": {
   "display_name": "Python [default]",
   "language": "python",
   "name": "python3"
  },
  "language_info": {
   "codemirror_mode": {
    "name": "ipython",
    "version": 3
   },
   "file_extension": ".py",
   "mimetype": "text/x-python",
   "name": "python",
   "nbconvert_exporter": "python",
   "pygments_lexer": "ipython3",
   "version": "3.5.2"
  }
 },
 "nbformat": 4,
 "nbformat_minor": 1
}
