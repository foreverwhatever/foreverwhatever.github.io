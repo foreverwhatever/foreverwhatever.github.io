{
 "cells": [
  {
   "cell_type": "markdown",
   "metadata": {},
   "source": [
    "# {{page.title}}\n",
    "\n",
    "> Undoubtedly, `jupyter` is my favorite tool for innovation. And, `jekyll` is my most trusted open source resource.  This blog post combines the `jekyll` static sites to blog with `jupyter` notebooks & create reusable code during live document development.\n",
    "\n",
    "---"
   ]
  },
  {
   "cell_type": "markdown",
   "metadata": {
    "collapsed": true
   },
   "source": [
    "        {% raw %}"
   ]
  },
  {
   "cell_type": "markdown",
   "metadata": {},
   "source": [
    "## `templates`\n",
    "\n",
    "`templates` weave variables of data with strings.  There are __<del>two</del>__ templating steps required to combine `jupyter` `notebook`s with the static site generator - `jekyll`.  The templates will\n",
    "\n",
    "❶ convert a __notebook__ to markdown with `nbconvert`;  `python` templating package `jinja2` to transforms them from `ipynb`👉`md`\n",
    "\n",
    "❷ `jekyll` will compile `liquid` before creating the static asset in `_site` - `md`👉`html`"
   ]
  },
  {
   "cell_type": "markdown",
   "metadata": {},
   "source": [
    "## ❶ the `nbconvert` template\n",
    "\n",
    "`_layouts` is the preferred `jekyll` directory for document level templates; this same directory will be used for `jinja2` templates and the `nbconvert` configuration files.\n",
    "\n",
    "`_layouts/jekyll.md.tpl` is our ❶st template, it extends [`nbconvert.templates.markdown`](https://github.com/jupyter/nbconvert/blob/master/nbconvert/templates/markdown.tpl)"
   ]
  },
  {
   "cell_type": "code",
   "execution_count": 1,
   "metadata": {},
   "outputs": [
    {
     "name": "stdout",
     "output_type": "stream",
     "text": [
      "Overwriting ../_layouts/jekyll.md.tpl\n"
     ]
    }
   ],
   "source": [
    "        %%file ../_layouts/jekyll.md.tpl\n",
    "        {% extends 'markdown.tpl' %}"
   ]
  },
  {
   "cell_type": "markdown",
   "metadata": {},
   "source": [
    "#### frontmatter & `jekyll`\n",
    "\n",
    "`jekyll` recognizes files beginning with `--- yaml: front matter ---`.  `nbconvert` will prepend the front matter and  markdownify the notebook.  The transformed file will be used by the `jekyll` server to create a static site.\n",
    "\n",
    "Structured data in the `front matter` can be reused when `jekyll` renders the document.  The `nbconvert` template will contain the `notebook` metadata to the front matter.  It is preferrable for the `front matter` to be a `yaml` formatted string because it is easy to edit. \n",
    "\n",
    "> the `json.dump` - `json.load` - `yaml.safe_load` chain stringifies the notebook `metadata`"
   ]
  },
  {
   "cell_type": "code",
   "execution_count": 2,
   "metadata": {},
   "outputs": [
    {
     "name": "stdout",
     "output_type": "stream",
     "text": [
      "Appending to ../_layouts/jekyll.md.tpl\n"
     ]
    }
   ],
   "source": [
    "        %%file ../_layouts/jekyll.md.tpl -a\n",
    "        {%- block header scoped-%}\n",
    "        ---\n",
    "        layout: post\n",
    "        {{ resources.metadata | dump | load | yaml(default_flow_style=False)}}\n",
    "        {{ nb.metadata | dump | load | yaml(default_flow_style=False)}}\n",
    "        ---\n",
    "        {{super()}}\n",
    "        {% endblock header %}"
   ]
  },
  {
   "cell_type": "markdown",
   "metadata": {},
   "source": [
    "> `layout: post` in the beginning is overridden `layout` in the notebook metadata."
   ]
  },
  {
   "cell_type": "markdown",
   "metadata": {},
   "source": [
    "###  template & outputs\n",
    "\n",
    "####  `stream`\n",
    "\n",
    "The standard python output - `stream` - should be notably separate from the inputs when we have viewers 👀 on the document.  Add horizontal rules to the `stream` block to delimit input and output cells."
   ]
  },
  {
   "cell_type": "code",
   "execution_count": 3,
   "metadata": {},
   "outputs": [
    {
     "name": "stdout",
     "output_type": "stream",
     "text": [
      "Appending to ../_layouts/jekyll.md.tpl\n"
     ]
    }
   ],
   "source": [
    "        %%file ../_layouts/jekyll.md.tpl -a\n",
    "        {% block stream %}\n",
    "        ---\n",
    "        {{ output.text | indent }}\n",
    "        ---\n",
    "        {% endblock stream %}"
   ]
  },
  {
   "cell_type": "markdown",
   "metadata": {},
   "source": [
    "#### rich outputs\n",
    "\n",
    "The standard `markdown` template will suppress rich display `block`s, unlike the `html/basic` template.  The snippet below copies the `data_*` blocks from the [`nbconvert.template.html.basic`](https://github.com/jupyter/nbconvert/blob/master/nbconvert/templates/html/basic.tpl) `template` to the `_layouts/jekyll.md.tpl`."
   ]
  },
  {
   "cell_type": "code",
   "execution_count": 4,
   "metadata": {
    "collapsed": true
   },
   "outputs": [],
   "source": [
    "        import jinja2; token = \"{% block \"\n",
    "        env = jinja2.Environment(loader=jinja2.PackageLoader('nbconvert', 'templates/html'))\n",
    "        with open('../_layouts/jekyll.md.tpl', 'a') as f:\n",
    "            f.write('\\n'.join([\n",
    "                token + block\n",
    "                for block in env.loader.get_source(env, 'basic.tpl')[0].split(token)[1:]\n",
    "                if block.startswith('data_') and not block.startswith('data_priority')\n",
    "            ]))"
   ]
  },
  {
   "cell_type": "markdown",
   "metadata": {},
   "source": [
    "> Now images and javascript will embed into `markdown`."
   ]
  },
  {
   "cell_type": "markdown",
   "metadata": {},
   "source": [
    "### configuring `nbconvert`\n",
    "\n",
    "Combining `jupyter` and `jekyll` requires a bit of customization.  `nbconvert`'s rich configuration system provides control when transforming `ipynb` files to other formats. \n",
    "\n",
    "> the `py🐍hon` configuration file for the `markdown/jekyll` hybrid is [`_layouts/markdown.py`]()."
   ]
  },
  {
   "cell_type": "markdown",
   "metadata": {},
   "source": [
    "Our configuration file exports `markdown` files to the `_posts` directory using the template `_layouts/jekyll.md.tpl`."
   ]
  },
  {
   "cell_type": "code",
   "execution_count": 5,
   "metadata": {},
   "outputs": [
    {
     "name": "stdout",
     "output_type": "stream",
     "text": [
      "Overwriting ../_layouts/markdown.py\n"
     ]
    }
   ],
   "source": [
    "        %%file ../_layouts/markdown.py\n",
    "        c.NbConvertApp.export_format = 'markdown'\n",
    "        c.FilesWriter.build_directory = '_posts'\n",
    "        c.TemplateExporter.template_file = '_layouts/jekyll.md.tpl';"
   ]
  },
  {
   "cell_type": "markdown",
   "metadata": {},
   "source": [
    "#### filters\n",
    "\n",
    "`jinja2` provides filters to manipulate `python` objects before finally becoming a string; this action is not easily reversible.  There are some native `nbconvert` filters like `indent` are used in `block stream`.  In the `front matter` we join `dump | load | yaml` to format our `front matter`.  The snippet below assigns these filters to the using their qualified `python` import path"
   ]
  },
  {
   "cell_type": "code",
   "execution_count": 6,
   "metadata": {},
   "outputs": [
    {
     "name": "stdout",
     "output_type": "stream",
     "text": [
      "Appending to ../_layouts/markdown.py\n"
     ]
    }
   ],
   "source": [
    "        %%file ../_layouts/markdown.py -a\n",
    "        c.TemplateExporter.filters = {'dump': 'json.dumps', 'load': 'json.loads', 'yaml': 'yaml.dump'};"
   ]
  },
  {
   "cell_type": "markdown",
   "metadata": {},
   "source": [
    "#### `display_priority`\n",
    "\n",
    "`nbconvert` natively decouples images from a notebook & does not template javascript.  The modification to the configuration below makes sure images are embedded as is the javascript."
   ]
  },
  {
   "cell_type": "code",
   "execution_count": 7,
   "metadata": {},
   "outputs": [
    {
     "name": "stdout",
     "output_type": "stream",
     "text": [
      "Appending to ../_layouts/markdown.py\n"
     ]
    }
   ],
   "source": [
    "        %%file ../_layouts/markdown.py -a\n",
    "        c.ExtractOutputPreprocessor.enabled=False;\n",
    "        c.NbConvertBase.display_data_priority = ['text/html', 'text/markdown', 'image/svg+xml', 'text/latex', 'image/png', 'image/jpeg', 'text/plain', 'application/javascript']"
   ]
  },
  {
   "cell_type": "markdown",
   "metadata": {},
   "source": [
    "## ❷ the `jekyll` `_layout`"
   ]
  },
  {
   "cell_type": "code",
   "execution_count": 8,
   "metadata": {
    "collapsed": true
   },
   "outputs": [],
   "source": [
    "        import bs4, nbformat, nbconvert"
   ]
  },
  {
   "cell_type": "markdown",
   "metadata": {},
   "source": [
    "`_layouts/jekyll.md.tpl` formats a notebook as `markdown`.  It is reasonable to go directly to `html`, but that may limit the ability to edit the post later on.  The alternative will nest the `markdown` into an `html` template containing all of the notebook `style`.  The `html` template will be placed in `_layouts/post.html`."
   ]
  },
  {
   "cell_type": "markdown",
   "metadata": {},
   "source": [
    "#### `post` template"
   ]
  },
  {
   "cell_type": "markdown",
   "metadata": {},
   "source": [
    "Start with this `notebook`"
   ]
  },
  {
   "cell_type": "code",
   "execution_count": 9,
   "metadata": {
    "collapsed": true
   },
   "outputs": [],
   "source": [
    "        post = '2015-12-28-jekyll-and-jupyter.ipynb'"
   ]
  },
  {
   "cell_type": "markdown",
   "metadata": {},
   "source": [
    "& convert it to a `BeautifulSoup` object with the `nbconvert.templates.html.full` template."
   ]
  },
  {
   "cell_type": "code",
   "execution_count": 10,
   "metadata": {
    "collapsed": true
   },
   "outputs": [],
   "source": [
    "        body = nbconvert.export(\n",
    "            nbconvert.get_exporter('html'), nbformat.read(post, 4))[0]\n",
    "        soup = bs4.BeautifulSoup(body, 'lxml')"
   ]
  },
  {
   "cell_type": "markdown",
   "metadata": {},
   "source": [
    "Create `div#notebook-container`"
   ]
  },
  {
   "cell_type": "code",
   "execution_count": 11,
   "metadata": {
    "collapsed": true
   },
   "outputs": [],
   "source": [
    "        div = soup.new_tag('div', id='notebook-container', **{'class': \"container\"})        "
   ]
  },
  {
   "cell_type": "markdown",
   "metadata": {},
   "source": [
    "`jekyll` places  blocks in the `_includes` directory.  For example, `_includes/disqus.html` will append `Disqus` comments to each post"
   ]
  },
  {
   "cell_type": "code",
   "execution_count": 12,
   "metadata": {
    "collapsed": true
   },
   "outputs": [],
   "source": [
    "        div.append('{'+'{content}}')\n",
    "        div.append('{'+'% include disqus.html %}')"
   ]
  },
  {
   "cell_type": "markdown",
   "metadata": {},
   "source": [
    "Replace the body of this `notebook` with `div#notebook-container` and prepend a block for navigation."
   ]
  },
  {
   "cell_type": "code",
   "execution_count": 13,
   "metadata": {
    "collapsed": true
   },
   "outputs": [],
   "source": [
    "        soup.select_one('#notebook-container').replace_with(div)\n",
    "        soup.select_one('#notebook-container').insert_before('{% include header.html %}')"
   ]
  },
  {
   "cell_type": "code",
   "execution_count": 14,
   "metadata": {
    "collapsed": true
   },
   "outputs": [],
   "source": [
    "        with open('../_layouts/post.html', 'w') as f: f.write(str(soup))"
   ]
  },
  {
   "cell_type": "markdown",
   "metadata": {},
   "source": [
    "## conversion"
   ]
  },
  {
   "cell_type": "code",
   "execution_count": null,
   "metadata": {
    "collapsed": true
   },
   "outputs": [],
   "source": [
    "        !time jupyter nbconvert --config ../_layouts/markdown.py --output-dir ../_posts --template ../_layouts/jekyll.md.tpl 2015-12-28-jekyll-and-jupyter.ipynb"
   ]
  },
  {
   "cell_type": "markdown",
   "metadata": {},
   "source": [
    "## other\n",
    "\n",
    "* __`nbconvert` command line config__ Is it possible to supply a `dict` on the command line, like `TemplateExporter.filters`?\n",
    "\n",
    "* __Why `yaml`?__ `yaml` is the easiest way to edit `json`.\n",
    "\n",
    "* __Why `jekyll` for static sites?__ `jekyll` provides predictable deployment on Github with `pages`."
   ]
  }
 ],
 "metadata": {
  "description": "live preview blogging with jupyter and jekyll.",
  "kernelspec": {
   "display_name": "Python 3",
   "language": "python",
   "name": "python3"
  },
  "language_info": {
   "codemirror_mode": {
    "name": "ipython",
    "version": 3
   },
   "file_extension": ".py",
   "mimetype": "text/x-python",
   "name": "python",
   "nbconvert_exporter": "python",
   "pygments_lexer": "ipython3",
   "version": "3.5.3"
  },
  "title": "`jupyter` & `jekyll`"
 },
 "nbformat": 4,
 "nbformat_minor": 2
}
