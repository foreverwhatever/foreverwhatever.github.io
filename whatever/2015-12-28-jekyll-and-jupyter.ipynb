{
 "cells": [
  {
   "cell_type": "markdown",
   "metadata": {},
   "source": [
    "# {{page.title}}\n",
    "\n",
    "> Undoubtedly, `jupyter` is my favorite tool for innovation. And, `jekyll` is my most trusted open source resource.  This blog post combines the `jekyll` static site & blogs with `jupyter` notebook namespaces for live document development.\n",
    "\n",
    "---"
   ]
  },
  {
   "cell_type": "markdown",
   "metadata": {
    "collapsed": true
   },
   "source": [
    "        {% raw %}"
   ]
  },
  {
   "cell_type": "markdown",
   "metadata": {},
   "source": [
    "## `templates`\n",
    "\n",
    "`templates` mix  data and strings.  There are __<del>two</del>__ templating steps required to combine `jupyter` `notebook`s with the static site generator - `jekyll`.  The templates will\n",
    "\n",
    "❶ convert a __notebook__ to markdown with `nbconvert` and `jinja2` templates - `ipynb`👉`md`\n",
    "\n",
    "❷ `jekyll` will compile `liquid` before creating the static `_site` - `md`👉`html`"
   ]
  },
  {
   "cell_type": "markdown",
   "metadata": {},
   "source": [
    "## ❶ the `nbconvert` template\n",
    "\n",
    "`_layouts` is the preferred `jekyll` directory for document level templates; this same directory will be used for `jinja2` templates and the `nbconvert` configuration files.\n",
    "\n",
    "`_layouts/jekyll.md.tpl` is our ❶st template, it extends [`nbconvert.templates.markdown`](https://github.com/jupyter/nbconvert/blob/master/nbconvert/templates/markdown.tpl)"
   ]
  },
  {
   "cell_type": "code",
   "execution_count": 1,
   "metadata": {},
   "outputs": [
    {
     "name": "stdout",
     "output_type": "stream",
     "text": [
      "Overwriting ../_layouts/jekyll.md.tpl\n"
     ]
    }
   ],
   "source": [
    "        %%file ../_layouts/jekyll.md.tpl\n",
    "        {% extends 'markdown.tpl' %}"
   ]
  },
  {
   "cell_type": "markdown",
   "metadata": {},
   "source": [
    "#### frontmatter & `jekyll`\n",
    "\n",
    "`jekyll` recognizes files beginning with `--- yaml: front matter ---`.  `nbconvert` will markdownify the notebook and prepend the front matter.  The transformed file will be used by the `jekyll` server to create a static site.\n",
    "\n",
    "\n",
    "Structured data in the `front matter` can be reused when `jekyll` renders the document.  The `nbconvert` template will prepend the `notebook` metadata to the front matter.  It is preferrable for the `front matter` to be a `yaml` formatted string because it is easy to edit. \n",
    "\n",
    "> the `json.dump` - `json.load` - `yaml.safe_load` chain stringifies the notebook `metadata`"
   ]
  },
  {
   "cell_type": "code",
   "execution_count": 2,
   "metadata": {},
   "outputs": [
    {
     "name": "stdout",
     "output_type": "stream",
     "text": [
      "Appending to ../_layouts/jekyll.md.tpl\n"
     ]
    }
   ],
   "source": [
    "        %%file ../_layouts/jekyll.md.tpl -a\n",
    "        {%- block header scoped-%}\n",
    "        ---\n",
    "        layout: post\n",
    "        {{ resources.metadata | dump | load | yaml(default_flow_style=False)}}\n",
    "        {{ nb.metadata | dump | load | yaml(default_flow_style=False)}}\n",
    "        ---\n",
    "        {{super()}}\n",
    "        {% endblock header %}"
   ]
  },
  {
   "cell_type": "markdown",
   "metadata": {},
   "source": [
    "##  outputs\n",
    "\n",
    "###  `stream`\n",
    "\n",
    "The standard python output - `stream` - should be notably separate from the inputs when we have viewers 👀 on the document.  Add horizontal rules to the `stream` block to delimit input and output cells."
   ]
  },
  {
   "cell_type": "code",
   "execution_count": 3,
   "metadata": {},
   "outputs": [
    {
     "name": "stdout",
     "output_type": "stream",
     "text": [
      "Appending to ../_layouts/jekyll.md.tpl\n"
     ]
    }
   ],
   "source": [
    "        %%file ../_layouts/jekyll.md.tpl -a\n",
    "        {% block stream %}\n",
    "        ---\n",
    "        {{ output.text | indent }}\n",
    "        ---\n",
    "        {% endblock stream %}"
   ]
  },
  {
   "cell_type": "markdown",
   "metadata": {},
   "source": [
    "### rich outputs\n",
    "\n",
    "The standard `markdown` template suppresses rich display `block`s provided by the `html` template.  The snippet below copies the `data_*` blocks from the [`nbconvert.template.html.basic`](https://github.com/jupyter/nbconvert/blob/master/nbconvert/templates/html/basic.tpl) `template` to the `_layouts/jekyll.md.tpl`."
   ]
  },
  {
   "cell_type": "code",
   "execution_count": 4,
   "metadata": {
    "collapsed": true
   },
   "outputs": [],
   "source": [
    "        import jinja2; token = \"{% block \"\n",
    "        env = jinja2.Environment(loader=jinja2.PackageLoader('nbconvert', 'templates/html'))\n",
    "        with open('../_layouts/jekyll.md.tpl', 'a') as f:\n",
    "            f.write('\\n'.join([\n",
    "                token + block\n",
    "                for block in env.loader.get_source(env, 'basic.tpl')[0].split(token)[1:]\n",
    "                if block.startswith('data_') and not block.startswith('data_priority')\n",
    "            ]))"
   ]
  },
  {
   "cell_type": "markdown",
   "metadata": {},
   "source": [
    "> Now images and javascript will embed into `markdown`."
   ]
  },
  {
   "cell_type": "markdown",
   "metadata": {},
   "source": [
    "## ❶<small>.❶</small> configuring `nbconvert`\n",
    "\n",
    "Combining `jupyter` and `jekyll` requires a bit of customization.  `nbconvert`'s rich configuration system provides control when transforming `ipynb` files to other formats.  In this pipeline, we focus on converting `ipynb` files to `markdown` for a `jekyll` blog.\n",
    "\n",
    "> the `py🐍hon` configuration file for the `markdown/jekyll` hybrid is [`_layouts/markdown.py`]()."
   ]
  },
  {
   "cell_type": "markdown",
   "metadata": {},
   "source": [
    "#### filters\n",
    "\n",
    "`jinja2` provides filters to manipulate `python` objects before finally becoming a string.  There are some native `nbconvert` filters like `indent` used in the `block stream`.  In the `front matter` we join `dump | load | yaml` to format our `front matter`.  The snippet below assigns these filters to the using their `python` import path"
   ]
  },
  {
   "cell_type": "code",
   "execution_count": 5,
   "metadata": {},
   "outputs": [
    {
     "name": "stdout",
     "output_type": "stream",
     "text": [
      "Overwriting ../_layouts/markdown.py\n"
     ]
    }
   ],
   "source": [
    "        %%file ../_layouts/markdown.py\n",
    "        c.NbConvertApp.export_format = 'markdown'\n",
    "        c.FilesWriter.build_directory = '_posts'\n",
    "        c.TemplateExporter.template_file = '_layouts/jekyll.md.tpl'\n",
    "        c.TemplateExporter.filters = {\n",
    "            'dump': 'json.dumps',\n",
    "            'load': 'json.loads',\n",
    "            'yaml': 'yaml.dump'};"
   ]
  },
  {
   "cell_type": "markdown",
   "metadata": {},
   "source": [
    "#### `display_priority`\n",
    "\n",
    "`nbconvert` natively extracts images from a notebook & does not template javascript.  The modification to the configuration below makes sure images are embedded as is the javascript."
   ]
  },
  {
   "cell_type": "code",
   "execution_count": 6,
   "metadata": {},
   "outputs": [
    {
     "name": "stdout",
     "output_type": "stream",
     "text": [
      "Appending to ../_layouts/markdown.py\n"
     ]
    }
   ],
   "source": [
    "        %%file ../_layouts/markdown.py -a\n",
    "        c.ExtractOutputPreprocessor.enabled=False;\n",
    "        c.NbConvertBase.display_data_priority = ['text/html', 'text/markdown', 'image/svg+xml', 'text/latex', 'image/png', 'image/jpeg', 'text/plain', 'application/javascript']"
   ]
  },
  {
   "cell_type": "markdown",
   "metadata": {},
   "source": [
    "## ❷ the `jekyll` `_layout`"
   ]
  },
  {
   "cell_type": "code",
   "execution_count": 7,
   "metadata": {
    "collapsed": true
   },
   "outputs": [],
   "source": [
    "        import bs4, nbformat, nbconvert"
   ]
  },
  {
   "cell_type": "markdown",
   "metadata": {},
   "source": [
    "`_layouts/jekyll.md.tpl` formats a notebook as `markdown`.  It is reasonable to go directly to `html`, but that may limit the ability to edit the post later on.  The alternative will nest the `markdown` into an `html` template containing all of the notebook `style`.  The `html` template will be placed in `_layouts/post.html`."
   ]
  },
  {
   "cell_type": "markdown",
   "metadata": {},
   "source": [
    "#### `post` template"
   ]
  },
  {
   "cell_type": "markdown",
   "metadata": {},
   "source": [
    "Start with this `notebook`"
   ]
  },
  {
   "cell_type": "code",
   "execution_count": 8,
   "metadata": {
    "collapsed": true
   },
   "outputs": [],
   "source": [
    "        post = '2015-12-28-jekyll-and-jupyter.ipynb'"
   ]
  },
  {
   "cell_type": "markdown",
   "metadata": {},
   "source": [
    "& convert it to a `BeautifulSoup` object with the `nbconvert.templates.html.full` template."
   ]
  },
  {
   "cell_type": "code",
   "execution_count": 9,
   "metadata": {
    "collapsed": true
   },
   "outputs": [],
   "source": [
    "        body = nbconvert.export(\n",
    "            nbconvert.get_exporter('html'), nbformat.read(post, 4))[0]\n",
    "        soup = bs4.BeautifulSoup(body, 'lxml')"
   ]
  },
  {
   "cell_type": "markdown",
   "metadata": {},
   "source": [
    "Create `div#notebook-container`"
   ]
  },
  {
   "cell_type": "code",
   "execution_count": 10,
   "metadata": {
    "collapsed": true
   },
   "outputs": [],
   "source": [
    "        div = soup.new_tag('div', id='notebook-container', **{'class': \"container\"})        "
   ]
  },
  {
   "cell_type": "markdown",
   "metadata": {},
   "source": []
  },
  {
   "cell_type": "markdown",
   "metadata": {},
   "source": [
    "`jekyll` places  blocks in the `_includes` directory.  For example, `_includes/disqus.html` will append `Disqus` comments to each post"
   ]
  },
  {
   "cell_type": "code",
   "execution_count": 11,
   "metadata": {
    "collapsed": true
   },
   "outputs": [],
   "source": [
    "        div.append('{'+'{content}}')\n",
    "        div.append('{'+'% include disqus.html %}')"
   ]
  },
  {
   "cell_type": "markdown",
   "metadata": {},
   "source": [
    "Replace the body of this `notebook` with `div#notebook-container`"
   ]
  },
  {
   "cell_type": "code",
   "execution_count": 12,
   "metadata": {
    "collapsed": true
   },
   "outputs": [],
   "source": [
    "        soup.select_one('#notebook-container').replace_with(div);"
   ]
  },
  {
   "cell_type": "markdown",
   "metadata": {},
   "source": [
    "Prepend a `block` for navigation & save the template."
   ]
  },
  {
   "cell_type": "code",
   "execution_count": 13,
   "metadata": {
    "collapsed": true
   },
   "outputs": [],
   "source": [
    "        soup.select_one('#notebook-container').insert_before('{% include header.html %}')\n",
    "        with open('../_layouts/post.html', 'w') as f: f.write(str(soup))"
   ]
  },
  {
   "cell_type": "markdown",
   "metadata": {},
   "source": [
    "# development"
   ]
  },
  {
   "cell_type": "code",
   "execution_count": 14,
   "metadata": {
    "collapsed": true
   },
   "outputs": [],
   "source": [
    "        import random; from IPython import display; o = __name__ == '__main__'"
   ]
  },
  {
   "cell_type": "markdown",
   "metadata": {},
   "source": [
    "## conversion"
   ]
  },
  {
   "cell_type": "code",
   "execution_count": 15,
   "metadata": {},
   "outputs": [
    {
     "name": "stdout",
     "output_type": "stream",
     "text": [
      "[NbConvertApp] Converting notebook 2015-12-28-jekyll-and-jupyter.ipynb to markdown\n",
      "[NbConvertApp] Writing 11751 bytes to ../_posts/2015-12-28-jekyll-and-jupyter.md\n",
      "\n",
      "real\t0m0.901s\n",
      "user\t0m0.815s\n",
      "sys\t0m0.068s\n"
     ]
    }
   ],
   "source": [
    "        !time jupyter nbconvert --config ../_layouts/markdown.py --output-dir ../_posts --template ../_layouts/jekyll.md.tpl 2015-12-28-jekyll-and-jupyter.ipynb"
   ]
  },
  {
   "cell_type": "markdown",
   "metadata": {},
   "source": [
    "## `watchdog`\n",
    "\n",
    "        "
   ]
  },
  {
   "cell_type": "code",
   "execution_count": 16,
   "metadata": {},
   "outputs": [
    {
     "name": "stdout",
     "output_type": "stream",
     "text": [
      "Overwriting tricks.yml\n"
     ]
    }
   ],
   "source": [
    "        %%file tricks.yml\n",
    "        tricks:\n",
    "        - watchdog.tricks.ShellCommandTrick:\n",
    "            patterns: ['*.ipynb']\n",
    "            ignore_patterns: [\"*~*.ipynb\",  \"*-checkpoint.ipynb\"]\n",
    "            shell_command: >\n",
    "                jupyter nbconvert \n",
    "                --config ../_layouts/markdown.py --template ../_layouts/jekyll.md.tpl \n",
    "                --output-dir ../_posts  \"${watch_src_path}\""
   ]
  },
  {
   "cell_type": "markdown",
   "metadata": {},
   "source": [
    "        {% endraw %}"
   ]
  },
  {
   "cell_type": "markdown",
   "metadata": {},
   "source": [
    "## services\n",
    "\n",
    "The services automatically ⓵ convert `notebook`s to `front matter/markdown`  & ⓶ compile and serve the static `jekyll` site.\n",
    "\n",
    "⓵ __convert `notebooks` to `markdown`__ Run `watchdog`'s `watchmedo` scripts that runs `tricks.yml`.  `watchdog` runs in a separate thread and does not interrupt any notebook services directly.  `post_save_hook` approaches can cause some lag in the `notebook` experience.\n",
    "\n",
    "⓶ __serve `jekyll`__ - watch for incremental changes to `_posts` and `_pages`.  each page updates after `watchdog` transformed a `notebook`"
   ]
  },
  {
   "cell_type": "markdown",
   "metadata": {},
   "source": [
    "> ### in `notebook` mode\n",
    "\n",
    "Open __<del>2</del>__ terminals "
   ]
  },
  {
   "cell_type": "code",
   "execution_count": 17,
   "metadata": {
    "collapsed": true
   },
   "outputs": [],
   "source": [
    "        terminal = lambda alias: display.IFrame(\n",
    "            \"http://localhost:8888/terminals/{}\".format(alias or random.randint()), width=900, height=350)"
   ]
  },
  {
   "cell_type": "markdown",
   "metadata": {},
   "source": [
    "to observe the conversions with the following `commands`"
   ]
  },
  {
   "cell_type": "code",
   "execution_count": 18,
   "metadata": {
    "collapsed": true
   },
   "outputs": [],
   "source": [
    "        commands = \"\"\"watchmedo tricks-from tricks.yml\n",
    "        jekyll serve -wit\"\"\""
   ]
  },
  {
   "cell_type": "markdown",
   "metadata": {},
   "source": [
    "---"
   ]
  },
  {
   "cell_type": "code",
   "execution_count": 19,
   "metadata": {
    "collapsed": true
   },
   "outputs": [],
   "source": [
    "        def comment(data: display.display):\n",
    "            \"\"\"print comment tags around display objects to suppress jekyll rendering.\"\"\"\n",
    "            print(\"{\"+\"% comment %}\")\n",
    "            try:\n",
    "                display.display(*data)\n",
    "            except:\n",
    "                display.display(data)\n",
    "            print(\"{\"+\"% endcomment %}\")\n",
    "            return data"
   ]
  },
  {
   "cell_type": "markdown",
   "metadata": {},
   "source": [
    "---"
   ]
  },
  {
   "cell_type": "code",
   "execution_count": 20,
   "metadata": {
    "scrolled": false
   },
   "outputs": [
    {
     "name": "stdout",
     "output_type": "stream",
     "text": [
      "{% comment %}\n"
     ]
    },
    {
     "data": {
      "text/html": [
       "\n",
       "        <iframe\n",
       "            width=\"900\"\n",
       "            height=\"350\"\n",
       "            src=\"http://localhost:8888/terminals/watchmedo\"\n",
       "            frameborder=\"0\"\n",
       "            allowfullscreen\n",
       "        ></iframe>\n",
       "        "
      ],
      "text/plain": [
       "<IPython.lib.display.IFrame at 0x111fed588>"
      ]
     },
     "metadata": {},
     "output_type": "display_data"
    },
    {
     "data": {
      "text/html": [
       "\n",
       "        <iframe\n",
       "            width=\"900\"\n",
       "            height=\"350\"\n",
       "            src=\"http://localhost:8888/terminals/jekyll\"\n",
       "            frameborder=\"0\"\n",
       "            allowfullscreen\n",
       "        ></iframe>\n",
       "        "
      ],
      "text/plain": [
       "<IPython.lib.display.IFrame at 0x111fed5f8>"
      ]
     },
     "metadata": {},
     "output_type": "display_data"
    },
    {
     "name": "stdout",
     "output_type": "stream",
     "text": [
      "{% endcomment %}\n"
     ]
    }
   ],
   "source": [
    "        True and o and comment([\n",
    "            terminal(alias=line.strip().split(' ', 1)[0]) for line in commands.splitlines()]);"
   ]
  },
  {
   "cell_type": "markdown",
   "metadata": {},
   "source": [
    "List running processes"
   ]
  },
  {
   "cell_type": "code",
   "execution_count": 21,
   "metadata": {},
   "outputs": [
    {
     "name": "stdout",
     "output_type": "stream",
     "text": [
      "{% comment %}\n"
     ]
    },
    {
     "data": {
      "text/html": [
       "\n",
       "        <iframe\n",
       "            width=\"900\"\n",
       "            height=\"400\"\n",
       "            src=\"http://localhost:8888/tree#running\"\n",
       "            frameborder=\"0\"\n",
       "            allowfullscreen\n",
       "        ></iframe>\n",
       "        "
      ],
      "text/plain": [
       "<IPython.lib.display.IFrame at 0x111fdbef0>"
      ]
     },
     "metadata": {},
     "output_type": "display_data"
    },
    {
     "name": "stdout",
     "output_type": "stream",
     "text": [
      "{% endcomment %}\n"
     ]
    }
   ],
   "source": [
    "        True and o and comment(display.IFrame(\"http://localhost:8888/tree#running\", width=900, height=400));"
   ]
  },
  {
   "cell_type": "markdown",
   "metadata": {},
   "source": [
    "> a video clip of the real time rendering."
   ]
  },
  {
   "cell_type": "code",
   "execution_count": 22,
   "metadata": {},
   "outputs": [
    {
     "data": {
      "text/html": [
       "\n",
       "        <iframe\n",
       "            width=\"800\"\n",
       "            height=\"500\"\n",
       "            src=\"https://drive.google.com/file/d/0By1jFTVZ0ljbSk96dkpJUElHck0/preview\"\n",
       "            frameborder=\"0\"\n",
       "            allowfullscreen\n",
       "        ></iframe>\n",
       "        "
      ],
      "text/plain": [
       "<IPython.lib.display.IFrame at 0x11000ea20>"
      ]
     },
     "execution_count": 22,
     "metadata": {},
     "output_type": "execute_result"
    }
   ],
   "source": [
    "        display.IFrame(\"https://drive.google.com/file/d/0By1jFTVZ0ljbSk96dkpJUElHck0/preview\", width=800, height=500)"
   ]
  },
  {
   "cell_type": "markdown",
   "metadata": {},
   "source": [
    "## other\n",
    "\n",
    "* __`nbconvert` command line config__ Is it possible to supply a `dict` on the command line, like `TemplateExporter.filters`?\n",
    "\n",
    "* __Why `yaml`?__ `yaml` is the easiest way to edit `json`.\n",
    "\n",
    "* __Why `jekyll` for static sites?__ `jekyll` provides predictable deployment on Github with `pages`.\n",
    "\n",
    "* __Use `doctr` for integration__"
   ]
  }
 ],
 "metadata": {
  "description": "live preview blogging with jupyter and jekyll.",
  "kernelspec": {
   "display_name": "Python 3",
   "language": "python",
   "name": "python3"
  },
  "language_info": {
   "codemirror_mode": {
    "name": "ipython",
    "version": 3
   },
   "file_extension": ".py",
   "mimetype": "text/x-python",
   "name": "python",
   "nbconvert_exporter": "python",
   "pygments_lexer": "ipython3",
   "version": "3.5.3"
  },
  "title": "`jupyter` & `jekyll`"
 },
 "nbformat": 4,
 "nbformat_minor": 2
}
