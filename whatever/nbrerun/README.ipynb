{
 "cells": [
  {
   "cell_type": "markdown",
   "metadata": {},
   "source": [
    "# `nbrerun`\n",
    "\n",
    "Create derived notebooks an existing notebook by replacing string tokens and executing the notebook.\n",
    "\n",
    "## Usage\n",
    "\n",
    "* Requires a running notebook.\n",
    "* Create a `yaml` or `json` file with `files` and `globals` keys\n",
    "* Run the `luigi` command line task \n"
   ]
  },
  {
   "cell_type": "code",
   "execution_count": null,
   "metadata": {
    "collapsed": false
   },
   "outputs": [],
   "source": [
    "%%file replacements.yaml\n",
    "globals: {}\n",
    "files:\n",
    "    'digits.ipynb':\n",
    "        '_iris': '_digits'\n",
    "    'diabetes.ipynb':\n",
    "        '_iris': '_diabetes'        "
   ]
  },
  {
   "cell_type": "code",
   "execution_count": null,
   "metadata": {
    "collapsed": false
   },
   "outputs": [],
   "source": [
    "!rm -rf demo\n",
    "!mkdir demo\n",
    "!luigi \\\n",
    "--module whatever.nbrerun BulkReplaceAndExecute \\\n",
    "--notebook parent.ipynb \\\n",
    "--execute \\\n",
    "--output-dir demo \\\n",
    "--workers 2 \\\n",
    "--local-scheduler  "
   ]
  }
 ],
 "metadata": {
  "anaconda-cloud": {},
  "kernelspec": {
   "display_name": "Python [default]",
   "language": "python",
   "name": "python3"
  },
  "language_info": {
   "codemirror_mode": {
    "name": "ipython",
    "version": 3
   },
   "file_extension": ".py",
   "mimetype": "text/x-python",
   "name": "python",
   "nbconvert_exporter": "python",
   "pygments_lexer": "ipython3",
   "version": "3.5.2"
  }
 },
 "nbformat": 4,
 "nbformat_minor": 1
}
