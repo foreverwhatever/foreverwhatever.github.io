{
 "cells": [
  {
   "cell_type": "markdown",
   "metadata": {},
   "source": [
    "# Using `luigi` to Autogenerate Executed Notebooks"
   ]
  },
  {
   "cell_type": "code",
   "execution_count": 11,
   "metadata": {
    "collapsed": true
   },
   "outputs": [],
   "source": [
    "import luigi\n",
    "from luigi.util import inherits, requires\n",
    "from toolz.curried import merge\n",
    "import nbconvert, nbformat, os, yaml"
   ]
  },
  {
   "cell_type": "code",
   "execution_count": 5,
   "metadata": {
    "collapsed": true
   },
   "outputs": [],
   "source": [
    "class TheReplacements(luigi.ExternalTask):\n",
    "    \"\"\"Load a replacement file.\n",
    "    \"\"\"\n",
    "    replacements = luigi.Parameter('replacements.yaml')\n",
    "    \n",
    "    def output(self):\n",
    "        return luigi.LocalTarget(self.replacements)"
   ]
  },
  {
   "cell_type": "code",
   "execution_count": 6,
   "metadata": {
    "collapsed": true
   },
   "outputs": [],
   "source": [
    "class TheNotebook(luigi.ExternalTask):\n",
    "    \"\"\"Load a notebook\n",
    "    \"\"\"\n",
    "    notebook = luigi.Parameter()\n",
    "    \n",
    "    def output(self):\n",
    "        return luigi.LocalTarget(self.notebook)"
   ]
  },
  {
   "cell_type": "code",
   "execution_count": 7,
   "metadata": {
    "collapsed": true
   },
   "outputs": [],
   "source": [
    "@requires(TheNotebook)\n",
    "class DerivedNotebook(luigi.Task):\n",
    "    \"\"\"Make a copy of a notebook\"\"\"\n",
    "    target_name = luigi.Parameter()\n",
    "    \n",
    "    def run(self):\n",
    "        with self.input().open('r') as inp:\n",
    "            nb = nbformat.read(inp, 4)\n",
    "        with self.output().open('w') as out:\n",
    "            nbformat.write(nb, out)\n",
    "    \n",
    "    def output(self):\n",
    "        return luigi.LocalTarget(self.target_name)"
   ]
  },
  {
   "cell_type": "code",
   "execution_count": 8,
   "metadata": {
    "collapsed": false
   },
   "outputs": [],
   "source": [
    "@requires(DerivedNotebook)\n",
    "class ReplaceAndExecute(luigi.Task):\n",
    "    \"\"\"Replace a notebook using specific keys are execute it.\n",
    "    \"\"\"\n",
    "    replacement = luigi.DictParameter()\n",
    "\n",
    "    def run(self):\n",
    "        with self.input().open('r') as f:\n",
    "            nb = nbformat.read(f, 4)\n",
    "            \n",
    "        for cell in nb['cells']:\n",
    "            for token, replacement in self.replacement.items():\n",
    "                cell['source'] = cell['source'].replace(\n",
    "                    token, replacement\n",
    "                )\n",
    "            if 'outputs' in cell:\n",
    "                cell['outputs'] = []\n",
    "                \n",
    "        with self.output().open('w') as f:\n",
    "            nbformat.write(nb, f)\n",
    "    \n",
    "    def output(self):\n",
    "        return luigi.LocalTarget(self.target_name)            "
   ]
  },
  {
   "cell_type": "code",
   "execution_count": 9,
   "metadata": {
    "collapsed": false
   },
   "outputs": [],
   "source": [
    "@requires(ReplaceAndExecute)\n",
    "class Executor(luigi.Task):\n",
    "    \"\"\"Logic to execute a notebook during the task\n",
    "    \"\"\"\n",
    "    execute = luigi.BoolParameter()\n",
    "    def run(self):\n",
    "        if self.execute:\n",
    "            with self.input().open('r') as inp:\n",
    "                nb = nbformat.read(inp, 4)\n",
    "            ep = nbconvert.preprocessors.ExecutePreprocessor()\n",
    "            ep.preprocess(nb, {})\n",
    "            with self.output().open('w') as out:\n",
    "                nbformat.write(nb, out)\n",
    "    \n",
    "    def output(self):\n",
    "        return luigi.LocalTarget(self.target_name)            "
   ]
  },
  {
   "cell_type": "code",
   "execution_count": 10,
   "metadata": {
    "collapsed": false
   },
   "outputs": [],
   "source": [
    "@inherits(TheNotebook)\n",
    "class BulkReplaceAndExecute(luigi.Task):\n",
    "    execute = luigi.BoolParameter()\n",
    "    output_dir = luigi.Parameter('.')\n",
    "    replacements = luigi.Parameter('replacements.yaml')\n",
    "    \n",
    "    def requires(self):\n",
    "        return TheReplacements(self.replacements)\n",
    "    \n",
    "    def run(self):\n",
    "        with self.input().open('r') as f:\n",
    "            replacements = yaml.safe_load(f)\n",
    "        \n",
    "        for target_name, replacement in replacements['files'].items():\n",
    "            \n",
    "            yield self.clone(\n",
    "                Executor,\n",
    "                notebook=self.notebook, \n",
    "                replacement=merge(\n",
    "                    self.replacements['globals']\n",
    "                    if 'globals' in self.replacements\n",
    "                    else {}\n",
    "                    , replacement\n",
    "                ),\n",
    "                target_name=os.path.join(self.output_dir, target_name),\n",
    "                execute=self.execute,\n",
    "            )"
   ]
  }
 ],
 "metadata": {
  "anaconda-cloud": {
   "environment": null,
   "url": "https://anaconda.org/tonyfast/__init__"
  },
  "kernelspec": {
   "display_name": "Python [default]",
   "language": "python",
   "name": "python3"
  },
  "language_info": {
   "codemirror_mode": {
    "name": "ipython",
    "version": 3
   },
   "file_extension": ".py",
   "mimetype": "text/x-python",
   "name": "python",
   "nbconvert_exporter": "python",
   "pygments_lexer": "ipython3",
   "version": "3.5.2"
  }
 },
 "nbformat": 4,
 "nbformat_minor": 1
}
