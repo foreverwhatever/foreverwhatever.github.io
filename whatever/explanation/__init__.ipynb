{
 "cells": [
  {
   "cell_type": "code",
   "execution_count": 23,
   "metadata": {
    "collapsed": true
   },
   "outputs": [],
   "source": [
    "from toolz.curried import *\n",
    "import pandas, sklearn.tree\n",
    "__all__ = ['Describer', 'nx_tree']"
   ]
  },
  {
   "cell_type": "code",
   "execution_count": 24,
   "metadata": {
    "collapsed": true
   },
   "outputs": [],
   "source": [
    "def nx_tree(clf):\n",
    "    \"\"\"\n",
    "    Describe a decision tree using the sklearn view.\n",
    "    http://scikit-learn.org/stable/modules/tree.html#classification\n",
    "    \n",
    "    IPython.display.Image(nx_tree(clf).create_png())  \n",
    "    \n",
    "    \"\"\"\n",
    "    import pydotplus\n",
    "    dot_data = sklearn.tree.export_graphviz(\n",
    "        clf,\n",
    "        out_file=None, #'described_features.dot', \n",
    "        class_names=clf.classes_.astype(str),\n",
    "    #     feature_names=None,\n",
    "        filled=True, rounded=True,  \n",
    "        special_characters=True,\n",
    "    )\n",
    "    return pydotplus.graph_from_dot_data(dot_data)  \n",
    "    "
   ]
  },
  {
   "cell_type": "code",
   "execution_count": 26,
   "metadata": {
    "collapsed": false
   },
   "outputs": [],
   "source": [
    "class Describer(sklearn.tree.DecisionTreeClassifier):\n",
    "    \"\"\"\n",
    "    Adds an attribute treeframe_ that is a dataframe of the decision properties.\n",
    "    \"\"\"\n",
    "    def tree_to_dataframe(self):\n",
    "        attr = {}\n",
    "        for attr_name in dir(self.tree_):\n",
    "            tree_attr = getattr(self.tree_, attr_name)\n",
    "            if hasattr(tree_attr, 'shape') and tree_attr.shape[0] == len(self.tree_.feature):\n",
    "                attr[attr_name] = tree_attr.tolist()\n",
    "        self.treeframe_ = pandas.DataFrame(attr)\n",
    "        self.treeframe_.index= self.treeframe_.index.rename('source')\n",
    "\n",
    "        self.treeframe_.value = self.treeframe_.value.apply(first)\n",
    "\n",
    "        assert not (\n",
    "            self.treeframe_\n",
    "            .children_left\n",
    "            .isin(self.treeframe_.children_right)\n",
    "            [self.treeframe_.children_left>-1]\n",
    "            .any()\n",
    "        )\n",
    "        return self\n",
    "    \n",
    "    def discover_common_paths(self, X, y):\n",
    "        paths = self.decision_path(X).tocoo()\n",
    "        \n",
    "\n",
    "        common_paths = pipe(\n",
    "            zip(paths.row, paths.col),\n",
    "            groupby(first),\n",
    "            valmap(map(second)),\n",
    "            valmap(tuple),\n",
    "            pandas.Series,\n",
    "        ).groupby(y).apply(\n",
    "            lambda s: s.value_counts().iloc[[0]].index[0]\n",
    "        )\n",
    "    \n",
    "        ordered_tree = (\n",
    "            self.treeframe_\n",
    "            .loc[\n",
    "                pipe(\n",
    "                    common_paths.tolist(), concat, list\n",
    "                )\n",
    "            ].copy()\n",
    "        )\n",
    "\n",
    "        ordered_tree['condition'] = ''\n",
    "        ordered_tree['condition'] += (\n",
    "            pandas.Index(\n",
    "                ordered_tree\n",
    "                .index\n",
    "                .isin(ordered_tree.children_right)\n",
    "                \n",
    "            ).map(['','>'].__getitem__)\n",
    "        )\n",
    "        ordered_tree['condition'] += (\n",
    "            pandas.Index(\n",
    "                ordered_tree\n",
    "                .index\n",
    "                .isin(ordered_tree.children_left)\n",
    "            ).map(['','<'].__getitem__)\n",
    "        )\n",
    "        \n",
    "        ordered_tree['class'] = (ordered_tree.index==0).cumsum() - 1\n",
    "\n",
    "        ordered_tree['class'] = ordered_tree['class'].apply(\n",
    "            common_paths.index.__getitem__\n",
    "        )\n",
    "                \n",
    "        return ordered_tree \n",
    "    \n",
    "    def why(self, X, y):\n",
    "        paths = (\n",
    "            self\n",
    "            .fit(X, y)\n",
    "            .tree_to_dataframe()\n",
    "            .discover_common_paths(X, y)\n",
    "        )\n",
    "        paths = pandas.concat([\n",
    "            paths['feature'].iloc[:-1].reset_index(drop=True), \n",
    "            paths.iloc[1:]['condition'].reset_index(drop=True),\n",
    "            paths['threshold'].iloc[:-1].reset_index(drop=True), \n",
    "            paths.iloc[1:]['class'].reset_index(drop=True),\n",
    "        ], axis=1).set_index('class')\n",
    "        return paths[paths.condition != '']"
   ]
  },
  {
   "cell_type": "code",
   "execution_count": null,
   "metadata": {
    "collapsed": true
   },
   "outputs": [],
   "source": []
  }
 ],
 "metadata": {
  "anaconda-cloud": {},
  "kernelspec": {
   "display_name": "Python [default]",
   "language": "python",
   "name": "python3"
  },
  "language_info": {
   "codemirror_mode": {
    "name": "ipython",
    "version": 3
   },
   "file_extension": ".py",
   "mimetype": "text/x-python",
   "name": "python",
   "nbconvert_exporter": "python",
   "pygments_lexer": "ipython3",
   "version": "3.5.2"
  }
 },
 "nbformat": 4,
 "nbformat_minor": 1
}
