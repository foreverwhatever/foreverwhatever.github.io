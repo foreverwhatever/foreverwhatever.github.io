{
 "cells": [
  {
   "cell_type": "markdown",
   "metadata": {},
   "source": [
    "        {% raw %}"
   ]
  },
  {
   "cell_type": "markdown",
   "metadata": {},
   "source": [
    "# `jekyll` & `jupyter`\n",
    "---\n",
    "\n",
    "---"
   ]
  },
  {
   "cell_type": "markdown",
   "metadata": {},
   "source": [
    "__<del>Two</del>__ templating steps are necessary to use `jekyll` a blogging engine for `notebook`s \n",
    "\n",
    "1. convert a __notebook__ to markdown with `nbconvert` and `jinja2` templates\n",
    "2. `jekyll` will compile `liquid` before creating the static `_site`.\n",
    "\n",
    "> In this `post`, we establish the conversion pipeline to blog notebooks. "
   ]
  },
  {
   "cell_type": "markdown",
   "metadata": {},
   "source": [
    "## Configuring `nbconvert`\n",
    "\n",
    "`nbconvert` transforms `ipynb` files to other formats; the configuration system provides flexibility the conversion.  "
   ]
  },
  {
   "cell_type": "code",
   "execution_count": 66,
   "metadata": {},
   "outputs": [
    {
     "name": "stdout",
     "output_type": "stream",
     "text": [
      "Overwriting ../_layouts/markdown.py\n"
     ]
    }
   ],
   "source": [
    "        %%file ../_layouts/markdown.py\n",
    "        c.ExtractOutputPreprocessor.enabled=False"
   ]
  },
  {
   "cell_type": "markdown",
   "metadata": {},
   "source": [
    "## 1. the `nbconvert` template\n",
    "\n",
    "This template converts a notebook to `markdown` that may be ingested by `jekyll`.  We will call this template `jekyll.md.tpl` and place it in `_layouts`, the preferred directory for `jekyll` layouts.  `jekyll.md.tpl` extends the current [`nbconvert.templates.markdown`](https://github.com/jupyter/nbconvert/blob/master/nbconvert/templates/markdown.tpl) template"
   ]
  },
  {
   "cell_type": "code",
   "execution_count": 71,
   "metadata": {},
   "outputs": [
    {
     "name": "stdout",
     "output_type": "stream",
     "text": [
      "Overwriting ../_layouts/jekyll.md.tpl\n"
     ]
    }
   ],
   "source": [
    "        %%file ../_layouts/jekyll.md.tpl\n",
    "        {% extends 'markdown.tpl' %}"
   ]
  },
  {
   "cell_type": "markdown",
   "metadata": {},
   "source": [
    "### frontmatter\n",
    "\n",
    "`jekyll` recognizes files with `--- front matter ---`.  `nbconvert` will transform markdownify the notebook and preprend the front matter.  The transformed file will be used by the `jekyll` server to create a static site.\n",
    "\n",
    "> This template adds the notebook metadata to the front matter."
   ]
  },
  {
   "cell_type": "code",
   "execution_count": 72,
   "metadata": {},
   "outputs": [
    {
     "name": "stdout",
     "output_type": "stream",
     "text": [
      "Appending to ../_layouts/jekyll.md.tpl\n"
     ]
    }
   ],
   "source": [
    "        %%file ../_layouts/jekyll.md.tpl -a\n",
    "        {%- block header scoped-%}\n",
    "        ---\n",
    "        layout: post\n",
    "        {{ resources.metadata | dump | load | yaml(default_flow_style=False)}}\n",
    "        ---\n",
    "        {{super()}}\n",
    "        {% endblock header %}"
   ]
  },
  {
   "cell_type": "code",
   "execution_count": 66,
   "metadata": {},
   "outputs": [
    {
     "name": "stdout",
     "output_type": "stream",
     "text": [
      "Overwriting ../_layouts/markdown.py\n"
     ]
    }
   ],
   "source": [
    "        %%file ../_layouts/markdown.py -a\n",
    "        c.TemplateExporter.filters = {\n",
    "            'dump': 'json.dumps',\n",
    "            'load': 'json.loads',\n",
    "            'yaml': 'yaml.dump'}"
   ]
  },
  {
   "cell_type": "markdown",
   "metadata": {},
   "source": [
    "### javascript\n",
    "\n",
    "It is necessary to place `javascript` into the markdown files; I commonly use `bokeh` and `coffeescript` in notebook.  The `data_javascript` block is not defined for the `nbconvert.template.markdown`, but it is in `nbconvert.template.html.basic`.  With some [copy🍝](https://github.com/jupyter/nbconvert/blob/master/nbconvert/templates/html/basic.tpl#L212) we add `javascript` this to the template"
   ]
  },
  {
   "cell_type": "code",
   "execution_count": 73,
   "metadata": {},
   "outputs": [
    {
     "name": "stdout",
     "output_type": "stream",
     "text": [
      "Appending to ../_layouts/jekyll.md.tpl\n"
     ]
    }
   ],
   "source": [
    "        %%file ../_layouts/jekyll.md.tpl -a\n",
    "        {%- block data_javascript scoped %}\n",
    "        {% set div_id = uuid4() %}\n",
    "        <div id=\"{{ div_id }}\"></div>\n",
    "        <div class=\"output_subarea output_javascript {{ extra_class }}\">\n",
    "        <script type=\"text/javascript\">\n",
    "        var element = $('#{{ div_id }}');\n",
    "        {{ output.data['application/javascript'] }}\n",
    "        </script>\n",
    "        </div>\n",
    "        {%- endblock -%}"
   ]
  },
  {
   "cell_type": "code",
   "execution_count": 66,
   "metadata": {},
   "outputs": [
    {
     "name": "stdout",
     "output_type": "stream",
     "text": [
      "Overwriting ../_layouts/markdown.py\n"
     ]
    }
   ],
   "source": [
    "        %%file ../_layouts/markdown.py -a\n",
    "        c.NbConvertBase.display_data_priority = ['text/html', 'text/markdown', 'image/svg+xml', 'text/latex', 'image/png', 'image/jpeg', 'text/plain', 'application/javascript']"
   ]
  },
  {
   "cell_type": "markdown",
   "metadata": {},
   "source": [
    "### `stream` output\n",
    "\n",
    "Standard python output - `stream` - should be notably separate from inputs.  Add horizontal rules to separate the `stream` output"
   ]
  },
  {
   "cell_type": "code",
   "execution_count": 74,
   "metadata": {},
   "outputs": [
    {
     "name": "stdout",
     "output_type": "stream",
     "text": [
      "Appending to ../_layouts/jekyll.md.tpl\n"
     ]
    }
   ],
   "source": [
    "        %%file ../_layouts/jekyll.md.tpl -a\n",
    "        {% block stream %}\n",
    "        ---\n",
    "        {{ output.text | indent }}\n",
    "        ---\n",
    "        {% endblock stream %}\n",
    "        "
   ]
  },
  {
   "cell_type": "markdown",
   "metadata": {},
   "source": [
    "## `nbconvert` configuration\n",
    "\n"
   ]
  },
  {
   "cell_type": "markdown",
   "metadata": {},
   "source": [
    "## the `jekyll` `_layout`"
   ]
  },
  {
   "cell_type": "code",
   "execution_count": 64,
   "metadata": {
    "collapsed": true
   },
   "outputs": [],
   "source": [
    "        post = '2015-12-27-template.ipynb'"
   ]
  },
  {
   "cell_type": "code",
   "execution_count": 65,
   "metadata": {
    "collapsed": true
   },
   "outputs": [],
   "source": [
    "        from plumbum import local, FG\n",
    "        from bs4 import BeautifulSoup\n",
    "        import nbformat, nbconvert"
   ]
  },
  {
   "cell_type": "code",
   "execution_count": null,
   "metadata": {
    "collapsed": true
   },
   "outputs": [],
   "source": [
    "        body = nbconvert.export(\n",
    "            nbconvert.get_exporter('html'), nbformat.read(post, 4))[0]\n",
    "        soup = BeautifulSoup(body, 'lxml')\n",
    "        div = soup.new_tag('div', id='notebook-container', **{'class': \"container\"})        "
   ]
  },
  {
   "cell_type": "markdown",
   "metadata": {},
   "source": [
    "### customization"
   ]
  },
  {
   "cell_type": "code",
   "execution_count": 96,
   "metadata": {
    "collapsed": true
   },
   "outputs": [],
   "source": [
    "        div.append('{{content}}')\n",
    "        div.append('{% include disqus.html %}')\n",
    "        soup.select_one('#notebook-container').replace_with(div)\n",
    "        soup.select_one('#notebook-container').insert_before('{% include header.html %}')\n",
    "        pass"
   ]
  },
  {
   "cell_type": "code",
   "execution_count": 97,
   "metadata": {
    "collapsed": true
   },
   "outputs": [],
   "source": [
    "#         with open('../_layouts/post.html', 'w') as f:\n",
    "#             f.write(str(soup))"
   ]
  },
  {
   "cell_type": "markdown",
   "metadata": {},
   "source": [
    "        {% endraw %}"
   ]
  }
 ],
 "metadata": {
  "kernelspec": {
   "display_name": "Python 3",
   "language": "python",
   "name": "python3"
  },
  "language_info": {
   "codemirror_mode": {
    "name": "ipython",
    "version": 3
   },
   "file_extension": ".py",
   "mimetype": "text/x-python",
   "name": "python",
   "nbconvert_exporter": "python",
   "pygments_lexer": "ipython3",
   "version": "3.5.3"
  }
 },
 "nbformat": 4,
 "nbformat_minor": 2
}
