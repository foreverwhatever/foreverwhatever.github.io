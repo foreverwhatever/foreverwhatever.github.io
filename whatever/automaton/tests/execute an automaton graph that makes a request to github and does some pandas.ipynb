{
 "cells": [
  {
   "cell_type": "code",
   "execution_count": 6,
   "metadata": {
    "collapsed": false
   },
   "outputs": [],
   "source": [
    "import pandas, requests\n",
    "from toolz.curried import memoize\n",
    "from whatever.automaton import build"
   ]
  },
  {
   "cell_type": "code",
   "execution_count": 47,
   "metadata": {
    "collapsed": true
   },
   "outputs": [],
   "source": [
    "responses = []"
   ]
  },
  {
   "cell_type": "code",
   "execution_count": 46,
   "metadata": {
    "collapsed": true
   },
   "outputs": [],
   "source": [
    "def compose_repo_events_url(project: 'PROJECT'):\n",
    "    return \"\"\"https://api.github.com/repos/{}/events\"\"\".format(project)"
   ]
  },
  {
   "cell_type": "code",
   "execution_count": 48,
   "metadata": {
    "collapsed": true
   },
   "outputs": [],
   "source": [
    "def make_paginated_requests(url: compose_repo_events_url, pages: 'PAGES'):\n",
    "    responses.extend([\n",
    "        requests.get(url, params={'page': page+1}) \n",
    "        for page in range(pages)\n",
    "    ])"
   ]
  },
  {
   "cell_type": "code",
   "execution_count": 49,
   "metadata": {
    "collapsed": true
   },
   "outputs": [],
   "source": [
    "def convert_to_a_dataframe(_: make_paginated_requests):\n",
    "    return pandas.concat(list(map(lambda x: pandas.DataFrame(x.json()), responses)))"
   ]
  },
  {
   "cell_type": "code",
   "execution_count": 50,
   "metadata": {
    "collapsed": false
   },
   "outputs": [],
   "source": [
    "F = build(compose_repo_events_url, convert_to_a_dataframe)"
   ]
  },
  {
   "cell_type": "code",
   "execution_count": 55,
   "metadata": {
    "collapsed": false
   },
   "outputs": [],
   "source": [
    "G = F(PROJECT='jupyter/notebook', PAGES=2)"
   ]
  },
  {
   "cell_type": "code",
   "execution_count": 60,
   "metadata": {
    "collapsed": false
   },
   "outputs": [
    {
     "data": {
      "text/html": [
       "<div>\n",
       "<table border=\"1\" class=\"dataframe\">\n",
       "  <thead>\n",
       "    <tr style=\"text-align: right;\">\n",
       "      <th></th>\n",
       "      <th>id</th>\n",
       "      <th>org</th>\n",
       "      <th>payload</th>\n",
       "      <th>public</th>\n",
       "    </tr>\n",
       "  </thead>\n",
       "  <tbody>\n",
       "    <tr>\n",
       "      <th>14</th>\n",
       "      <td>4892840309</td>\n",
       "      <td>{'url': 'https://api.github.com/orgs/jupyter',...</td>\n",
       "      <td>{'issue': {'state': 'open', 'user': {'follower...</td>\n",
       "      <td>True</td>\n",
       "    </tr>\n",
       "    <tr>\n",
       "      <th>12</th>\n",
       "      <td>4893343029</td>\n",
       "      <td>{'url': 'https://api.github.com/orgs/jupyter',...</td>\n",
       "      <td>{'comment': {'diff_hunk': '@@ -595,6 +597,22 @...</td>\n",
       "      <td>True</td>\n",
       "    </tr>\n",
       "  </tbody>\n",
       "</table>\n",
       "</div>"
      ],
      "text/plain": [
       "            id                                                org  \\\n",
       "14  4892840309  {'url': 'https://api.github.com/orgs/jupyter',...   \n",
       "12  4893343029  {'url': 'https://api.github.com/orgs/jupyter',...   \n",
       "\n",
       "                                              payload public  \n",
       "14  {'issue': {'state': 'open', 'user': {'follower...   True  \n",
       "12  {'comment': {'diff_hunk': '@@ -595,6 +597,22 @...   True  "
      ]
     },
     "execution_count": 60,
     "metadata": {},
     "output_type": "execute_result"
    }
   ],
   "source": [
    "G.node[convert_to_a_dataframe.__name__]['value'].sample(2).ix[:, 2:-2]"
   ]
  }
 ],
 "metadata": {
  "anaconda-cloud": {},
  "kernelspec": {
   "display_name": "Python [default]",
   "language": "python",
   "name": "python3"
  },
  "language_info": {
   "codemirror_mode": {
    "name": "ipython",
    "version": 3
   },
   "file_extension": ".py",
   "mimetype": "text/x-python",
   "name": "python",
   "nbconvert_exporter": "python",
   "pygments_lexer": "ipython3",
   "version": "3.5.2"
  }
 },
 "nbformat": 4,
 "nbformat_minor": 1
}
