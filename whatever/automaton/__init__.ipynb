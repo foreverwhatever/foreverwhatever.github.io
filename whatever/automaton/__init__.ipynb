{
 "cells": [
  {
   "cell_type": "markdown",
   "metadata": {},
   "source": [
    "Use `networkx` to compose function dependency graphs using function annotations.\n",
    "\n",
    "* Parameters must be immutable during each computation.\n",
    "* Each computation should be pure."
   ]
  },
  {
   "cell_type": "code",
   "execution_count": 9,
   "metadata": {
    "collapsed": true
   },
   "outputs": [],
   "source": [
    "from itertools import zip_longest\n",
    "from IPython import get_ipython\n",
    "import networkx as nx\n",
    "from toolz.curried import *\n",
    "\n",
    "__all__ = ['build']"
   ]
  },
  {
   "cell_type": "code",
   "execution_count": 10,
   "metadata": {
    "collapsed": false
   },
   "outputs": [],
   "source": [
    "_annotations_ = partial(flip(getattr), '__annotations__')\n",
    "_name_ = lambda x: x if isinstance(x, str) else x.__name__"
   ]
  },
  {
   "cell_type": "code",
   "execution_count": 11,
   "metadata": {
    "collapsed": false
   },
   "outputs": [],
   "source": [
    "def discover_annotated_functions(G, objs=get_ipython().user_ns):\n",
    "    \"\"\"Discover non-private annotated functions.\n",
    "    \"\"\"\n",
    "    return pipe(\n",
    "        objs,\n",
    "        keyfilter(lambda x: x[0] != '_'),\n",
    "        valfilter(\n",
    "            excepts(\n",
    "                AttributeError,\n",
    "                _annotations_,\n",
    "                lambda x: False\n",
    "            )\n",
    "        ), \n",
    "        do(G.add_nodes_from),\n",
    "        do(\n",
    "            partial(nx.set_node_attributes, G, 'func')\n",
    "        )\n",
    "    )"
   ]
  },
  {
   "cell_type": "code",
   "execution_count": 12,
   "metadata": {
    "collapsed": false
   },
   "outputs": [],
   "source": [
    "def nest_and_stringify(annotated):\n",
    "    \"\"\"Stringify function names in a graph like data structure.\n",
    "    \"\"\"\n",
    "    return pipe(\n",
    "        annotated, \n",
    "        \n",
    "        valmap(\n",
    "            _annotations_\n",
    "        ), \n",
    "        valmap(\n",
    "            valfilter(callable)\n",
    "        ),\n",
    "        valmap(\n",
    "            valmap(_name_)\n",
    "        ),\n",
    "    )"
   ]
  },
  {
   "cell_type": "code",
   "execution_count": 13,
   "metadata": {
    "collapsed": false
   },
   "outputs": [],
   "source": [
    "def create_edges(G, nested_graph):\n",
    "    \"\"\"Add the graph edges based on the annotations.\n",
    "    \"\"\"\n",
    "    edges = pipe(\n",
    "        nested_graph.items(),\n",
    "        map(\n",
    "            lambda x: \n",
    "            zip_longest((first(x),), second(x).values(), fillvalue=first(x)),\n",
    "        ),\n",
    "        concat,\n",
    "        tuple,\n",
    "    )\n",
    "    G.add_edges_from(edges)\n",
    "    return G"
   ]
  },
  {
   "cell_type": "code",
   "execution_count": 1,
   "metadata": {
    "collapsed": false
   },
   "outputs": [],
   "source": [
    "def find_longest_path(start, end, G):\n",
    "    \"\"\"Find the longest path of functions.\n",
    "    \"\"\"\n",
    "    return list(nx.all_simple_paths(G, start.__name__, end.__name__))"
   ]
  },
  {
   "cell_type": "code",
   "execution_count": 7,
   "metadata": {
    "collapsed": true
   },
   "outputs": [],
   "source": [
    "def run(G, paths, **kwargs):\n",
    "    \"\"\"Iterate through the path and execute the function.\n",
    "    \"\"\"\n",
    "    G.add_nodes_from(kwargs)\n",
    "    nx.set_node_attributes(G, 'value', None)\n",
    "    nx.set_node_attributes(G, 'value', kwargs)\n",
    "    for path in paths:\n",
    "        for function in path:\n",
    "            if G.node[function]['value'] is None:\n",
    "                params = pipe(\n",
    "                    G.node[function]['func'],\n",
    "                    _annotations_,\n",
    "                    valmap(_name_),\n",
    "                    valmap(G.node.__getitem__),\n",
    "                    valmap(get('value'))\n",
    "                )\n",
    "                if not any(map(lambda x: x is None, params.values())):\n",
    "                    nx.set_node_attributes(\n",
    "                        G, 'value', {\n",
    "                            function: G.node[function]['func'](**params)\n",
    "                        }\n",
    "                    )\n",
    "    return G"
   ]
  },
  {
   "cell_type": "code",
   "execution_count": 8,
   "metadata": {
    "collapsed": false
   },
   "outputs": [],
   "source": [
    "def build(start, end, objs=get_ipython().user_ns, G=nx.Graph()):\n",
    "    \"\"\"Build a higher order function from the\n",
    "    objects in `objs` that begins start and terminates at end.  The\n",
    "    resulting function computes all nodes along the longest path\n",
    "    storing the values in the networkx graph..\n",
    "    \"\"\"\n",
    "    path = pipe(\n",
    "        discover_annotated_functions(G, objs),\n",
    "        nest_and_stringify,\n",
    "        partial(create_edges, G),\n",
    "        partial(find_longest_path, start, end)\n",
    "    )\n",
    "    return partial(run, G, path)"
   ]
  },
  {
   "cell_type": "code",
   "execution_count": null,
   "metadata": {
    "collapsed": true
   },
   "outputs": [],
   "source": []
  }
 ],
 "metadata": {
  "anaconda-cloud": {
   "environment": null,
   "url": "https://anaconda.org/tonyfast/untitled31"
  },
  "kernelspec": {
   "display_name": "Python [default]",
   "language": "python",
   "name": "python3"
  },
  "language_info": {
   "codemirror_mode": {
    "name": "ipython",
    "version": 3
   },
   "file_extension": ".py",
   "mimetype": "text/x-python",
   "name": "python",
   "nbconvert_exporter": "python",
   "pygments_lexer": "ipython3",
   "version": "3.5.2"
  }
 },
 "nbformat": 4,
 "nbformat_minor": 1
}
