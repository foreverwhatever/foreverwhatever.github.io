{
 "cells": [
  {
   "cell_type": "code",
   "execution_count": 1,
   "metadata": {
    "collapsed": true
   },
   "outputs": [],
   "source": [
    "    from setuptools import find_packages, Command, setup, Distribution # noqa: E402, F401s\n",
    "    import os"
   ]
  },
  {
   "cell_type": "markdown",
   "metadata": {},
   "source": [
    "Base class for no-arg commands"
   ]
  },
  {
   "cell_type": "code",
   "execution_count": 2,
   "metadata": {
    "collapsed": true
   },
   "outputs": [],
   "source": [
    "    class CommandBase(Command):\n",
    "        user_options = []\n",
    "        def initialize_options(self): pass\n",
    "        def finalize_options(self): pass"
   ]
  },
  {
   "cell_type": "markdown",
   "metadata": {},
   "source": [
    "Conversion rules for all of the notebooks\n",
    "\n",
    "        from setuptools import  Distribution\n",
    "        Convert(Distribution()).run()\n",
    "\n",
    "* Convert notebook to python code on master\n",
    "* Format python code\n",
    "* Convert to notebook to Markdown post on master\n",
    "* Convert index.html\n",
    "* Convert setup"
   ]
  },
  {
   "cell_type": "code",
   "execution_count": 19,
   "metadata": {},
   "outputs": [
    {
     "name": "stdout",
     "output_type": "stream",
     "text": [
      "[NbConvertApp] Converting notebook setup.ipynb to python\n",
      "[NbConvertApp] Writing 1621 bytes to setup.py\n",
      "[NbConvertApp] Converting notebook _data/2017-01-01-triangles.ipynb to python\n",
      "[NbConvertApp] Writing 521 bytes to whatever/2017-01-01-triangles.py\n",
      "[NbConvertApp] Converting notebook _data/2017-01-01-triangles.ipynb to markdown\n",
      "[NbConvertApp] Writing 1021 bytes to _posts/2017-01-01-triangles.md\n",
      "Conversion complete\n"
     ]
    }
   ],
   "source": [
    "    class Convert(CommandBase):\n",
    "        def run(self):\n",
    "            !ipython readme.py\n",
    "            !yapf -i -r .\n",
    "            !echo \"Conversion complete\""
   ]
  },
  {
   "cell_type": "markdown",
   "metadata": {},
   "source": [
    "Watcher to convert notebooks to python."
   ]
  },
  {
   "cell_type": "code",
   "execution_count": 5,
   "metadata": {
    "collapsed": true
   },
   "outputs": [],
   "source": [
    "    class Watch(CommandBase):\n",
    "        def run(self):\n",
    "            try:\n",
    "                !watchmedo tricks-from tricks.yml\n",
    "            except KeyboardInterrupt:\n",
    "                pass"
   ]
  },
  {
   "cell_type": "code",
   "execution_count": null,
   "metadata": {
    "collapsed": true
   },
   "outputs": [],
   "source": [
    "    setup(\n",
    "        name=\"forever-whatever\",\n",
    "        version=\"0.0.0\",\n",
    "        packages=find_packages(),\n",
    "        cmdclass={'watch': Watch, 'convert': Convert}\n",
    "    )"
   ]
  },
  {
   "cell_type": "markdown",
   "metadata": {},
   "source": [
    "    !jupyter nbconvert --config _layouts/python.py  setup.ipynb readme.ipynb"
   ]
  },
  {
   "cell_type": "markdown",
   "metadata": {},
   "source": [
    "__*fin*__"
   ]
  }
 ],
 "metadata": {
  "kernelspec": {
   "display_name": "Python 3",
   "language": "python",
   "name": "python3"
  },
  "language_info": {
   "codemirror_mode": {
    "name": "ipython",
    "version": 3
   },
   "file_extension": ".py",
   "mimetype": "text/x-python",
   "name": "python",
   "nbconvert_exporter": "python",
   "pygments_lexer": "ipython3",
   "version": "3.5.3"
  },
  "nbconvert": {
   "script": {}
  }
 },
 "nbformat": 4,
 "nbformat_minor": 2
}
