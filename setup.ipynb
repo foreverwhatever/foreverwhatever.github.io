{
 "cells": [
  {
   "cell_type": "code",
   "execution_count": 1,
   "metadata": {
    "collapsed": true
   },
   "outputs": [],
   "source": [
    "    from plumbum import local, FG # noqa: E402\n",
    "    from setuptools import find_packages, Command, setup, Distribution # noqa: E402, F401s\n",
    "    import os"
   ]
  },
  {
   "cell_type": "markdown",
   "metadata": {},
   "source": [
    "Base class for no-arg commands"
   ]
  },
  {
   "cell_type": "code",
   "execution_count": 2,
   "metadata": {
    "collapsed": true
   },
   "outputs": [],
   "source": [
    "    class CommandBase(Command):\n",
    "        user_options = []\n",
    "        def initialize_options(self): pass\n",
    "        def finalize_options(self): pass"
   ]
  },
  {
   "cell_type": "markdown",
   "metadata": {},
   "source": [
    "Conversion rules for all of the notebooks\n",
    "\n",
    "        from setuptools import  Distribution\n",
    "        Convert(Distribution()).run()"
   ]
  },
  {
   "cell_type": "code",
   "execution_count": 3,
   "metadata": {
    "collapsed": true
   },
   "outputs": [],
   "source": [
    "    class Convert(CommandBase):\n",
    "        def run(self):\n",
    "            convert = local['jupyter']['nbconvert']['--config']['config.py']\n",
    "            convert['--to']['script']['--template']['_layouts/docify.tpl']['setup.ipynb']['_posts/__init__.ipynb']['_pages/*.ipynb'] & FG\n",
    "            convert['--to']['markdown']['--template']['_layouts/jekyll.md.tpl']['_posts/*.ipynb']['_pages/*.ipynb'] & FG \n",
    "            convert['--to']['html']['--template']['_layouts/jekyll.html.tpl']['index.ipynb'] & FG \n",
    "            local['yapf']['-i']['-r']['_pages'] & FG\n",
    "            local['echo'][\"Conversion complete\"] & FG\n",
    "            pass"
   ]
  },
  {
   "cell_type": "code",
   "execution_count": 4,
   "metadata": {
    "collapsed": true
   },
   "outputs": [],
   "source": [
    "    from setuptools import  Distribution"
   ]
  },
  {
   "cell_type": "markdown",
   "metadata": {},
   "source": [
    "Watcher to convert notebooks to python."
   ]
  },
  {
   "cell_type": "code",
   "execution_count": 5,
   "metadata": {
    "collapsed": true
   },
   "outputs": [],
   "source": [
    "    class Watch(CommandBase):\n",
    "        def run(self):\n",
    "            try:\n",
    "                local['watchmedo']['tricks-from']['tricks.yml'] & FG\n",
    "            except KeyboardInterrupt:\n",
    "                pass"
   ]
  },
  {
   "cell_type": "code",
   "execution_count": 12,
   "metadata": {},
   "outputs": [
    {
     "name": "stdout",
     "output_type": "stream",
     "text": [
      "[NbConvertApp] Converting notebook setup.ipynb to python\r\n",
      "[NbConvertApp] Writing 1590 bytes to setup.py\r\n"
     ]
    }
   ],
   "source": [
    "!jupyter nbconvert --to python --config _layouts/config.py --template _layouts/docify.tpl setup.ipynb && yapf -i setup.py"
   ]
  },
  {
   "cell_type": "code",
   "execution_count": null,
   "metadata": {
    "collapsed": true
   },
   "outputs": [],
   "source": [
    "    setup(\n",
    "        name=\"forever-whatever\",\n",
    "        version=\"0.0.0\",\n",
    "        packages=find_packages(),\n",
    "        cmdclass={'watch': Watch, 'convert': Convert}\n",
    "    )"
   ]
  },
  {
   "cell_type": "markdown",
   "metadata": {},
   "source": [
    "__*fin*__"
   ]
  },
  {
   "cell_type": "markdown",
   "metadata": {},
   "source": []
  }
 ],
 "metadata": {
  "kernelspec": {
   "display_name": "Python 3",
   "language": "python",
   "name": "python3"
  },
  "language_info": {
   "codemirror_mode": {
    "name": "ipython",
    "version": 3
   },
   "file_extension": ".py",
   "mimetype": "text/x-python",
   "name": "python",
   "nbconvert_exporter": "python",
   "pygments_lexer": "ipython3",
   "version": "3.5.3"
  },
  "nbconvert": {
   "script": {}
  }
 },
 "nbformat": 4,
 "nbformat_minor": 2
}
