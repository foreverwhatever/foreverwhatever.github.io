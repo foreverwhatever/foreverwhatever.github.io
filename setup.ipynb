{
 "cells": [
  {
   "cell_type": "code",
   "execution_count": 6,
   "metadata": {
    "collapsed": true
   },
   "outputs": [],
   "source": [
    "    from setuptools import find_packages, Command, setup, Distribution # noqa: E402, F401s\n",
    "    import os"
   ]
  },
  {
   "cell_type": "markdown",
   "metadata": {},
   "source": [
    "Base class for no-arg commands"
   ]
  },
  {
   "cell_type": "code",
   "execution_count": 7,
   "metadata": {
    "collapsed": true
   },
   "outputs": [],
   "source": [
    "    class CommandBase(Command):\n",
    "        user_options = []\n",
    "        def initialize_options(self): pass\n",
    "        def finalize_options(self): pass"
   ]
  },
  {
   "cell_type": "markdown",
   "metadata": {},
   "source": [
    "Conversion rules for all of the notebooks\n",
    "\n",
    "        from setuptools import  Distribution\n",
    "        Convert(Distribution()).run()\n",
    "\n",
    "* Convert notebook to python code on master\n",
    "* Format python code\n",
    "* Convert to notebook to Markdown post on master\n",
    "* Convert index.html\n",
    "* Convert setup"
   ]
  },
  {
   "cell_type": "code",
   "execution_count": 10,
   "metadata": {
    "collapsed": true
   },
   "outputs": [],
   "source": [
    "    class Readme(CommandBase):\n",
    "        def run(self):\n",
    "            %load_ext literacy\n",
    "            import readme\n",
    "            !echo \"Conversion complete\""
   ]
  },
  {
   "cell_type": "markdown",
   "metadata": {},
   "source": [
    "Watcher to convert notebooks to python."
   ]
  },
  {
   "cell_type": "code",
   "execution_count": null,
   "metadata": {},
   "outputs": [],
   "source": [
    "    setup(\n",
    "        name=\"forever-whatever\",\n",
    "        version=\"0.0.0\",\n",
    "        packages=find_packages(),\n",
    "        cmdclass={'readme': Readme}\n",
    "    )"
   ]
  },
  {
   "cell_type": "markdown",
   "metadata": {},
   "source": [
    "    !jupyter nbconvert --config _layouts/python.py  setup.ipynb"
   ]
  },
  {
   "cell_type": "markdown",
   "metadata": {},
   "source": [
    "__*fin*__"
   ]
  }
 ],
 "metadata": {
  "kernelspec": {
   "display_name": "Python 3",
   "language": "python",
   "name": "python3"
  },
  "language_info": {
   "codemirror_mode": {
    "name": "ipython",
    "version": 3
   },
   "file_extension": ".py",
   "mimetype": "text/x-python",
   "name": "python",
   "nbconvert_exporter": "python",
   "pygments_lexer": "ipython3",
   "version": "3.5.3"
  },
  "nbconvert": {
   "script": {}
  }
 },
 "nbformat": 4,
 "nbformat_minor": 2
}
