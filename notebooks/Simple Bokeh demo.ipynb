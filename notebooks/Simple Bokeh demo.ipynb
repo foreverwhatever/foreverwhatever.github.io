{
 "cells": [
  {
   "cell_type": "code",
   "execution_count": 20,
   "metadata": {
    "collapsed": false
   },
   "outputs": [],
   "source": [
    "from whatever.bk import DataSource, Figure, Join\n",
    "from whatever.bk.fader import sweet_fade\n",
    "from whatever.boilerplate.sklearn import load\n",
    "\n",
    "import bokeh.io\n",
    "import bokeh.models\n",
    "import pandas\n",
    "from toolz.curried import *"
   ]
  },
  {
   "cell_type": "code",
   "execution_count": 2,
   "metadata": {
    "collapsed": false
   },
   "outputs": [],
   "source": [
    "X, y, data = load('iris');\n",
    "df = pandas.DataFrame(X, y)"
   ]
  },
  {
   "cell_type": "code",
   "execution_count": 3,
   "metadata": {
    "collapsed": false
   },
   "outputs": [],
   "source": [
    "import sklearn.discriminant_analysis\n",
    "transformed = pandas.DataFrame(\n",
    "    sklearn.discriminant_analysis\n",
    "    .LinearDiscriminantAnalysis()\n",
    "    .fit_transform(X, y),\n",
    "    index=y, columns=['x', 'y']\n",
    ")"
   ]
  },
  {
   "cell_type": "code",
   "execution_count": 15,
   "metadata": {
    "collapsed": false
   },
   "outputs": [],
   "source": [
    "props = {\n",
    "    'text_alpha': {\n",
    "        'lim': [.1 * transformed['x'].max(), 10*transformed['x'].min()],\n",
    "        'value': [.9, .1],\n",
    "    },\n",
    "}"
   ]
  },
  {
   "cell_type": "code",
   "execution_count": 16,
   "metadata": {
    "collapsed": true
   },
   "outputs": [],
   "source": [
    "centers = transformed.groupby(df.index).mean()"
   ]
  },
  {
   "cell_type": "code",
   "execution_count": 22,
   "metadata": {
    "collapsed": false
   },
   "outputs": [],
   "source": [
    "with \\\n",
    "Figure(webgl=True, responsive=True) as figure, \\\n",
    "DataSource(transformed, x=0, y=1) as source, \\\n",
    "DataSource(centers, x=0, y=1) as center:\n",
    "    source.add(\n",
    "        transformed.index\n",
    "        .map(['red', 'green', 'blue'].__getitem__),\n",
    "        'fill_color'\n",
    "    )\n",
    "    Glyph = Join(figure, source)\n",
    "    Glyph(\n",
    "        bokeh.models.Circle, size=20, \n",
    "        fill_alpha=.6, line_alpha=0\n",
    "    )\n",
    "\n",
    "    center.add(\n",
    "        centers.index.map(\n",
    "            compose(str.upper, data['target_names'].__getitem__)\n",
    "        ),\n",
    "        'text'\n",
    "    )\n",
    "\n",
    "    sweet_fade(\n",
    "        figure, Join(figure, center, bokeh.models.Text), props\n",
    "    )\n",
    "    \n",
    "    bokeh.io.save(figure)"
   ]
  },
  {
   "cell_type": "code",
   "execution_count": null,
   "metadata": {
    "collapsed": true
   },
   "outputs": [],
   "source": []
  }
 ],
 "metadata": {
  "anaconda-cloud": {},
  "kernelspec": {
   "display_name": "Python [default]",
   "language": "python",
   "name": "python3"
  },
  "language_info": {
   "codemirror_mode": {
    "name": "ipython",
    "version": 3
   },
   "file_extension": ".py",
   "mimetype": "text/x-python",
   "name": "python",
   "nbconvert_exporter": "python",
   "pygments_lexer": "ipython3",
   "version": "3.5.2"
  }
 },
 "nbformat": 4,
 "nbformat_minor": 1
}
