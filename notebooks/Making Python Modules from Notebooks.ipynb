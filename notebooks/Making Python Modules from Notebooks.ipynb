{
 "cells": [
  {
   "cell_type": "markdown",
   "metadata": {},
   "source": [
    "# Install This Blog\n",
    "\n",
    "The repository hosting this blog can be installed as a python module.\n",
    "\n",
    "`pip install git+https://github.com/foreverwhatever/foreverwhatever.github.io`\n",
    "\n"
   ]
  },
  {
   "cell_type": "markdown",
   "metadata": {},
   "source": [
    "## `_nbconvert.py`\n",
    "\n",
    "`_nbconvert.py` is a `nbconvert` configuration file.  This file will be used to recognize a set of rules for converting Jupyter notebook in a local direcory.  Each time a notebook is saved it is converted into a python module based on the configurations in `_nbconvert.py`; this behavior is ignored if `_nbconvert.py` is missing.\n",
    "\n",
    "This behavior is activated by the snippet below.  Append this `python` code to `~/.jupyter/jupyter_notebook_config.py` to turn on the `post_save` behavior."
   ]
  },
  {
   "cell_type": "code",
   "execution_count": null,
   "metadata": {
    "collapsed": false
   },
   "outputs": [],
   "source": [
    "# %%file ~/.jupyter/jupyter_notebook_config.py --append\n",
    "# %load __init__.py\n",
    "import importlib, inspect, os\n",
    "from subprocess import check_call\n",
    "\n",
    "c = get_config()\n",
    "\n",
    "def post_save(model, os_path, contents_manager):\n",
    "    \"\"\"post-save hook for converting notebooks using local config files.\"\"\"\n",
    "\n",
    "    # Only convert notebooks\n",
    "    if model['type'] != 'notebook': return\n",
    "\n",
    "    directory, fname = os.path.split(os_path)\n",
    "\n",
    "    # Common to each call\n",
    "    call = ['jupyter','nbconvert', '--to']\n",
    "\n",
    "    # Export README's as markdown to their local directory.\n",
    "    if fname == 'README.ipynb':\n",
    "        call_md = call.copy()\n",
    "        call_md.extend(['markdown', fname])\n",
    "        check_call(call_md, cwd=directory)\n",
    "\n",
    "    # Run nbconvert with specific config options.\n",
    "    if os.path.isfile(os.path.join(directory, '_nbconvert.py')) \\\n",
    "    and not ' ' in fname:\n",
    "        call.extend(['script', '--config', '_nbconvert.py', fname])\n",
    "        check_call(call, cwd=directory)\n",
    "\n",
    "\n",
    "c.FileContentsManager.post_save_hook = post_save"
   ]
  },
  {
   "cell_type": "code",
   "execution_count": null,
   "metadata": {
    "collapsed": true
   },
   "outputs": [],
   "source": []
  }
 ],
 "metadata": {
  "kernelspec": {
   "display_name": "Python [conda root]",
   "language": "python",
   "name": "conda-root-py"
  },
  "language_info": {
   "codemirror_mode": {
    "name": "ipython",
    "version": 3
   },
   "file_extension": ".py",
   "mimetype": "text/x-python",
   "name": "python",
   "nbconvert_exporter": "python",
   "pygments_lexer": "ipython3",
   "version": "3.5.2"
  }
 },
 "nbformat": 4,
 "nbformat_minor": 1
}
