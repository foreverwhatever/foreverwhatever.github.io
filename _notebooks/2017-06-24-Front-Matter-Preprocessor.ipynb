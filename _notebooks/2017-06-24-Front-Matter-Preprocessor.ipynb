{
 "cells": [
  {
   "cell_type": "markdown",
   "metadata": {},
   "source": [
    "# Front Matter `nbconvert` preprocessor\n",
    "\n",
    "Append *metadata* and *resources* as front matter to a notebook; insert a markdown cell at the beginning of notebook."
   ]
  },
  {
   "cell_type": "code",
   "execution_count": 1,
   "metadata": {},
   "outputs": [],
   "source": [
    "    o = __name__ == '__main__'\n",
    "    if o:\n",
    "        %reload_ext literacy.template"
   ]
  },
  {
   "cell_type": "code",
   "execution_count": 2,
   "metadata": {},
   "outputs": [
    {
     "data": {
      "text/markdown": [
       "<code>safe</code> will make sure all Mapping objects are pure python __dict__\n",
       "\n",
       "    def safe(object):\n",
       "        if hasattr(object, 'items'):\n",
       "            object = dict(object)\n",
       "            for key, value in object.items():\n",
       "                object.update({key: safe(value)})\n",
       "        return object"
      ],
      "text/plain": [
       "<IPython.core.display.Markdown object>"
      ]
     },
     "metadata": {},
     "output_type": "display_data"
    }
   ],
   "source": [
    "<code>safe</code> will make sure all Mapping objects are pure python __dict__\n",
    "\n",
    "    def safe(object):\n",
    "        if hasattr(object, 'items'):\n",
    "            object = dict(object)\n",
    "            for key, value in object.items():\n",
    "                object.update({key: safe(value)})\n",
    "        return object"
   ]
  },
  {
   "cell_type": "code",
   "execution_count": 3,
   "metadata": {},
   "outputs": [
    {
     "data": {
      "text/markdown": [
       "<code>FrontMatter</code> appends the notebook metadata as a markdown cell at the beginning of the ntoebook.\n",
       "\n",
       "    class FrontMatter(__import__('nbconvert').preprocessors.Preprocessor):\n",
       "        def preprocess(self, nb, resources={}):\n",
       "            source = __import__('yaml').safe_dump(\n",
       "                safe({**resources, **nb['metadata']}), default_flow_style=False)\n",
       "            nb['cells'].insert(\n",
       "                0, __import__('nbformat').v4.new_markdown_cell(\"\"\"---\\n{}\\n---\\n\"\"\".format(source))\n",
       "            )\n",
       "            return nb, resources"
      ],
      "text/plain": [
       "<IPython.core.display.Markdown object>"
      ]
     },
     "metadata": {},
     "output_type": "display_data"
    }
   ],
   "source": [
    "<code>FrontMatter</code> appends the notebook metadata as a markdown cell at the beginning of the ntoebook.\n",
    "\n",
    "    class FrontMatter(__import__('nbconvert').preprocessors.Preprocessor):\n",
    "        def preprocess(self, nb, resources={}):\n",
    "            source = __import__('yaml').safe_dump(\n",
    "                safe({**resources, **nb['metadata']}), default_flow_style=False)\n",
    "            nb['cells'].insert(\n",
    "                0, __import__('nbformat').v4.new_markdown_cell(\"\"\"---\\n{}\\n---\\n\"\"\".format(source))\n",
    "            )\n",
    "            return nb, resources"
   ]
  },
  {
   "cell_type": "code",
   "execution_count": 4,
   "metadata": {},
   "outputs": [
    {
     "data": {
      "text/markdown": [
       "        exporter = __import__('nbconvert').get_exporter('markdown')(\n",
       "            config={'TemplateExporter': {'preprocessors': ['literacy.preprocessors.Dedent', FrontMatter]}})"
      ],
      "text/plain": [
       "<IPython.core.display.Markdown object>"
      ]
     },
     "metadata": {},
     "output_type": "display_data"
    }
   ],
   "source": [
    "        exporter = __import__('nbconvert').get_exporter('markdown')(\n",
    "            config={'TemplateExporter': {'preprocessors': ['literacy.preprocessors.Dedent', FrontMatter]}})"
   ]
  },
  {
   "cell_type": "code",
   "execution_count": 5,
   "metadata": {},
   "outputs": [
    {
     "data": {
      "text/markdown": [
       "---\n",
       "\n",
       "> The snippet below shows the composed code.\n",
       "\n",
       "<pre><code>---\n",
       "description: Notebook metadata as front matter.\n",
       "kernelspec:\n",
       "  display_name: Python 3\n",
       "  language: python\n",
       "  name: python3\n",
       "language_info:\n",
       "  codemirror_mode:\n",
       "    name: ipython\n",
       "    version: 3\n",
       "  file_extension: .py\n",
       "  mimetype: text/x-python\n",
       "  name: python\n",
       "  nbconvert_exporter: python\n",
       "  pygments_lexer: ipython3\n",
       "  version: 3.5.3\n",
       "metadata:\n",
       "  modified_date: June 28, 2017\n",
       "  name: 2017-06-24-Front-Matter-Preprocessor\n",
       "  path: ''\n",
       "output_extension: .md\n",
       "outputs: {}\n",
       "\n",
       "---\n",
       "\n",
       "\n",
       "# Front Matter `nbconvert` preprocessor\n",
       "\n",
       "Append *metadata* and *resources* as front matter to a notebook; insert a markdown cell at the beginning of notebook.\n",
       "\n",
       "\n",
       "```python\n",
       "o = __name__ == '__main__'\n",
       "if o:\n",
       "    %reload_ext literacy.template\n",
       "```\n",
       "\n",
       "\n",
       "```python\n",
       "<code>safe</code> will make sure all Mapping objects are pure python __dict__\n",
       "\n",
       "    def safe(object):\n",
       "        if hasattr(object, 'items'):\n",
       "            object = dict(object)\n",
       "            for key, value in object.items():\n",
       "                object.update({key: safe(value)})\n",
       "        return object\n",
       "```\n",
       "\n",
       "\n",
       "<code>safe</code> will make sure all Mapping objects are pure python __dict__\n",
       "\n",
       "    def safe(object):\n",
       "        if hasattr(object, 'items'):\n",
       "            object = dict(object)\n",
       "            for key, value in object.items():\n",
       "                object.update({key: safe(value)})\n",
       "        return object\n",
       "\n",
       "\n",
       "\n",
       "```python\n",
       "<code>FrontMatter</code> appends the notebook metadata as a markdown cell at the beginning of the ntoebook.\n",
       "\n",
       "    class FrontMatter(__import__('nbconvert').preprocessors.Preprocessor):\n",
       "        def preprocess(self, nb, resources={}):\n",
       "            source = __import__('yaml').safe_dump(\n",
       "                safe({**resources, **nb['metadata']}), default_flow_style=False)\n",
       "            nb['cells'].insert(\n",
       "                0, __import__('nbformat').v4.new_markdown_cell(\"\"\"---\\n{}\\n---\\n\"\"\".format(source))\n",
       "            )\n",
       "            return nb, resources\n",
       "```\n",
       "\n",
       "\n",
       "<code>FrontMatter</code> appends the notebook metadata as a markdown cell at the beginning of the ntoebook.\n",
       "\n",
       "    class FrontMatter(__import__('nbconvert').preprocessors.Preprocessor):\n",
       "        def preprocess(self, nb, resources={}):\n",
       "            source = __import__('yaml').safe_dump(\n",
       "                safe({**resources, **nb['metadata']}), default_flow_style=False)\n",
       "            nb['cells'].insert(\n",
       "                0, __import__('nbformat').v4.new_markdown_cell(\"\"\"---\\n{}\\n---\\n\"\"\".format(source))\n",
       "            )\n",
       "            return nb, resources\n",
       "\n",
       "\n",
       "\n",
       "```python\n",
       "exporter = __import__('nbconvert').get_exporter('markdown')(\n",
       "    config={'TemplateExporter': {'preprocessors': ['literacy.preprocessors.Dedent', FrontMatter]}})\n",
       "```\n",
       "\n",
       "\n",
       "        exporter = __import__('nbconvert').get_exporter('markdown')(\n",
       "            config={'TemplateExporter': {'preprocessors': ['literacy.preprocessors.Dedent', FrontMatter]}})\n",
       "\n",
       "\n",
       "\n",
       "```python\n",
       "---\n",
       "\n",
       "> The snippet below shows the composed code.\n",
       "\n",
       "<pre><code>{{o and exporter.from_filename('2017-06-24-Front-Matter-Preprocessor.ipynb')[0].lstrip()}}</code></pre>\n",
       "```\n",
       "\n",
       "__normalize__ all the values of a collection to a basic `dict` type for `yaml.safe_load` to consume.\n",
       "</code></pre>"
      ],
      "text/plain": [
       "<IPython.core.display.Markdown object>"
      ]
     },
     "metadata": {},
     "output_type": "display_data"
    }
   ],
   "source": [
    "---\n",
    "\n",
    "> The snippet below shows the composed code.\n",
    "\n",
    "<pre><code>{{o and exporter.from_filename('2017-06-24-Front-Matter-Preprocessor.ipynb')[0].lstrip()}}</code></pre>"
   ]
  },
  {
   "cell_type": "markdown",
   "metadata": {},
   "source": [
    "__normalize__ all the values of a collection to a basic `dict` type for `yaml.safe_load` to consume."
   ]
  }
 ],
 "metadata": {
  "description": "Notebook metadata as front matter.",
  "kernelspec": {
   "display_name": "Python 3",
   "language": "python",
   "name": "python3"
  },
  "language_info": {
   "codemirror_mode": {
    "name": "ipython",
    "version": 3
   },
   "file_extension": ".py",
   "mimetype": "text/x-python",
   "name": "python",
   "nbconvert_exporter": "python",
   "pygments_lexer": "ipython3",
   "version": "3.5.3"
  }
 },
 "nbformat": 4,
 "nbformat_minor": 2
}
