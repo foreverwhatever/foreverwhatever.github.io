{
 "cells": [
  {
   "cell_type": "code",
   "execution_count": null,
   "metadata": {
    "collapsed": true
   },
   "outputs": [],
   "source": [
    "import glob\n",
    "import json\n",
    "import importlib\n",
    "import inspect\n",
    "import os\n",
    "from subprocess import check_call"
   ]
  },
  {
   "cell_type": "code",
   "execution_count": null,
   "metadata": {
    "collapsed": true
   },
   "outputs": [],
   "source": [
    "default_convert_format = ['script', 'markdown', 'html']"
   ]
  },
  {
   "cell_type": "code",
   "execution_count": null,
   "metadata": {
    "collapsed": true
   },
   "outputs": [],
   "source": [
    "c = get_config()\n",
    "\n",
    "c.NotebookApp.allow_origin = '*'\n",
    "c.ExecutePreprocessor.timeout = None"
   ]
  },
  {
   "cell_type": "code",
   "execution_count": null,
   "metadata": {
    "collapsed": true
   },
   "outputs": [],
   "source": [
    "def post_save(model, os_path, contents_manager):\n",
    "    \"\"\"Automatically convert notebooks on save if files exist \n",
    "    in the working directory.\n",
    "    \n",
    "    Convert all notebooks to python scripts if there are \n",
    "    no spaces or `-` in the filename.\n",
    "    \n",
    "    %%bash\n",
    "    touch _script.py \n",
    "    \n",
    "    Suggested convention: \n",
    "    use double underscore to indicate another nbconvert format  ie. __html.py.\n",
    "    \"\"\"\n",
    "    # Only convert notebooks\n",
    "    if model['type'] != 'notebook': return\n",
    "\n",
    "    directory, fname = os.path.split(os_path)\n",
    "\n",
    "    call = ['jupyter', 'nbconvert']\n",
    "\n",
    "    for fmt in default_convert_format:\n",
    "        config_file = os.path.join(directory, '_{}.py'.format(fmt))\n",
    "        if os.path.isfile(config_file):\n",
    "            # Only convert valid names to python.\n",
    "            if fmt == 'script' and (' ' in fname or '-' in fname):\n",
    "                continue\n",
    "            call.extend(['--to', fmt])\n",
    "            call.extend(['--config', config_file])\n",
    "            call.append(fname)\n",
    "            check_call(call, cwd=directory)"
   ]
  },
  {
   "cell_type": "code",
   "execution_count": null,
   "metadata": {
    "collapsed": true
   },
   "outputs": [],
   "source": [
    "c.FileContentsManager.post_save_hook = post_save"
   ]
  }
 ],
 "metadata": {
  "anaconda-cloud": {},
  "kernelspec": {
   "display_name": "Python [default]",
   "language": "python",
   "name": "python3"
  },
  "language_info": {
   "codemirror_mode": {
    "name": "ipython",
    "version": 3
   },
   "file_extension": ".py",
   "mimetype": "text/x-python",
   "name": "python",
   "nbconvert_exporter": "python",
   "pygments_lexer": "ipython3",
   "version": "3.5.2"
  }
 },
 "nbformat": 4,
 "nbformat_minor": 0
}
