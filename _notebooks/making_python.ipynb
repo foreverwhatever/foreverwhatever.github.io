{
 "cells": [
  {
   "cell_type": "markdown",
   "metadata": {},
   "source": [
    "# Auto generation of Python from Notebooks.\n",
    "\n",
    "A recent best practice I have acquired _converts a notebook to python upon each save_.  This workflow allows for seamless development of Python modules using Jupyter Notebook or Jupyter Lab.  With some practice, it becomes possible to mature data science exploration in reusable, packaged code.\n",
    "\n",
    "## What it l👀ks like.\n",
    "\n",
    "A notebook `foo.ipynb` will be converted into `foo.py`, `foo.md`, or `foo.html` if `_script.py`, `_markdown.py`, or `_html.py` exist respectively in the working directory. \n",
    "\n",
    "* The file name conventions are chosen according to the `--to` options available by `nbconvert`.  \n",
    "* Any automatic conversion behavior is removed by either remaining or deleting the `_*.py` files.\n",
    "\n",
    "### Import the derived script\n",
    "\n",
    "This approach is `nbconvert` native.\n",
    "\n",
    "```python\n",
    "try:\n",
    "    # use local imports in python\n",
    "    from . import foo\n",
    "except:\n",
    "    # Jupyter cannot use relative imports.\n",
    "    import foo\n",
    "```\n",
    "\n",
    "For example, `foo.ipynb` will be replicated as `foo.py`.  \n",
    "\n",
    "## Alternatives\n",
    "\n",
    "## Short-comings"
   ]
  },
  {
   "cell_type": "markdown",
   "metadata": {},
   "source": [
    "# Generating `python` modules from Notebooks\n",
    "\n",
    "The Jupyter notebook is a common REPL for evaluating python code, but it is not python specifically.  Modern \n",
    "\n",
    "https://medium.com/nteract/nteract-building-on-top-of-jupyter-9cfbccdd4c1d#.jltskzfk8\n",
    "\n",
    "\n",
    "http://jupyter-notebook.readthedocs.io/en/latest/extending/savehooks.html\n",
    "\n",
    "https://github.com/ipython/ipython/issues/8009\n",
    "\n",
    "http://jupyter-notebook.readthedocs.io/en/latest/examples/Notebook/Importing%20Notebooks.html\n",
    "\n",
    "http://blog.juliusschulz.de/blog/ultimate-ipython-notebook\n",
    "\n",
    "http://protips.maxmasnick.com/ipython-notebooks-automatically-export-py-and-html\n",
    "\n",
    "https://pypi.python.org/pypi/runipy\n",
    "\n",
    "http://jupyter-notebook.readthedocs.io/en/latest/extending/savehooks.html#examples\n",
    "\n",
    "* file flags\n",
    "* nbconvert\n",
    "* autoreload\n",
    "* try catch\n",
    "* default formats - 'html', 'markdown', 'script'\n",
    "* `__init__.ipynb`\n",
    "* long files is bad"
   ]
  },
  {
   "cell_type": "code",
   "execution_count": 1,
   "metadata": {
    "collapsed": false
   },
   "outputs": [],
   "source": [
    "import shutil\n",
    "import warnings\n",
    "import whatever"
   ]
  },
  {
   "cell_type": "code",
   "execution_count": 2,
   "metadata": {
    "collapsed": true
   },
   "outputs": [],
   "source": [
    "configuration = 'jupyter_notebook_config'"
   ]
  },
  {
   "cell_type": "code",
   "execution_count": null,
   "metadata": {},
   "outputs": [],
   "source": []
  },
  {
   "cell_type": "code",
   "execution_count": 3,
   "metadata": {
    "collapsed": false
   },
   "outputs": [],
   "source": [
    "my_config = whatever.__file__.replace('__init__', configuration)\n",
    "jupyter_root = '/Users/tonyfast/.jupyter/{}.py'.format(configuration)"
   ]
  },
  {
   "cell_type": "code",
   "execution_count": 5,
   "metadata": {
    "collapsed": true
   },
   "outputs": [],
   "source": [
    "def show():\n",
    "    with open(my_config, 'r') as f: \n",
    "        print('\\n'.join(\n",
    "            map(lambda s: s.split('\\n', 2)[-1], f.read().split('# In['))\n",
    "        ))"
   ]
  },
  {
   "cell_type": "code",
   "execution_count": 6,
   "metadata": {
    "collapsed": false
   },
   "outputs": [],
   "source": [
    "if not shutil.os.path.exists(jupyter_root):\n",
    "    shutil.copyfile(my_config, jupyter_root)\n",
    "else:\n",
    "    warnings.warn(\n",
    "        \"\"\"There already is a {}.py, edit the configuration manually @ {}.\"\"\".format(configuration, jupyter_root)\n",
    "    )"
   ]
  }
 ],
 "metadata": {
  "anaconda-cloud": {},
  "description": "Export valid Python code from your Jupyter notebooks.",
  "kernelspec": {
   "display_name": "Python [default]",
   "language": "python",
   "name": "python3"
  },
  "language_info": {
   "codemirror_mode": {
    "name": "ipython",
    "version": 3
   },
   "file_extension": ".py",
   "mimetype": "text/x-python",
   "name": "python",
   "nbconvert_exporter": "python",
   "pygments_lexer": "ipython3",
   "version": "3.5.2"
  }
 },
 "nbformat": 4,
 "nbformat_minor": 1
}
