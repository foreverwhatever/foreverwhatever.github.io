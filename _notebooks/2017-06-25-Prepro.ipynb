{
 "cells": [
  {
   "cell_type": "markdown",
   "metadata": {},
   "source": [
    "This notebook makes it easier to create preprocessors for __nbconvert__.  These should work on an existing exporter."
   ]
  },
  {
   "cell_type": "code",
   "execution_count": 2,
   "metadata": {
    "collapsed": true
   },
   "outputs": [],
   "source": [
    "    %load_ext literacy.template"
   ]
  },
  {
   "cell_type": "code",
   "execution_count": 4,
   "metadata": {},
   "outputs": [
    {
     "data": {
      "text/markdown": [
       "        from nbconvert import export, get_exporter"
      ],
      "text/plain": [
       "<IPython.core.display.Markdown object>"
      ]
     },
     "metadata": {},
     "output_type": "display_data"
    }
   ],
   "source": [
    "        from nbconvert import export, get_exporter"
   ]
  },
  {
   "cell_type": "code",
   "execution_count": 15,
   "metadata": {},
   "outputs": [
    {
     "data": {
      "text/markdown": [
       "        class SomeNewPreProcessor(Preprocessor): \n",
       "            def preprocess(self, nb, resources={}):\n",
       "                return nb, resources\n",
       "            \n",
       "            def preprocess_cell(self, nb, resources, index):\n",
       "                return nb, resources"
      ],
      "text/plain": [
       "<IPython.core.display.Markdown object>"
      ]
     },
     "metadata": {},
     "output_type": "display_data"
    }
   ],
   "source": [
    "        class SomeNewPreProcessor(Preprocessor): \n",
    "            def preprocess(self, nb, resources={}):\n",
    "                return nb, resources\n",
    "            \n",
    "            def preprocess_cell(self, nb, resources, index):\n",
    "                return nb, resources"
   ]
  },
  {
   "cell_type": "code",
   "execution_count": 17,
   "metadata": {},
   "outputs": [
    {
     "data": {
      "text/markdown": [
       "\n",
       "[# PythonDecorators/my_decorator.py](http://python-3-patterns-idioms-test.readthedocs.io/en/latest/PythonDecorators.html#function-decorators)\n",
       "\n",
       "    class my_decorator(object):\n",
       "\n",
       "        def __init__(self, f):\n",
       "            print(\"inside my_decorator.__init__()\")\n",
       "            f() # Prove that function definition has completed\n",
       "\n",
       "        def __call__(self):\n",
       "            print(\"inside my_decorator.__call__()\")\n",
       "\n",
       "    @my_decorator\n",
       "    def aFunction():\n",
       "        print(\"inside aFunction()\")\n",
       "\n",
       "    print(\"Finished decorating aFunction()\")\n",
       "\n",
       "    aFunction()"
      ],
      "text/plain": [
       "<IPython.core.display.Markdown object>"
      ]
     },
     "metadata": {},
     "output_type": "display_data"
    },
    {
     "name": "stdout",
     "output_type": "stream",
     "text": [
      "inside my_decorator.__init__()\n",
      "inside aFunction()\n",
      "Finished decorating aFunction()\n",
      "inside my_decorator.__call__()\n"
     ]
    }
   ],
   "source": [
    "[# PythonDecorators/my_decorator.py](http://python-3-patterns-idioms-test.readthedocs.io/en/latest/PythonDecorators.html#function-decorators)\n",
    "\n",
    "    class my_decorator(object):\n",
    "\n",
    "        def __init__(self, f):\n",
    "            print(\"inside my_decorator.__init__()\")\n",
    "            f() # Prove that function definition has completed\n",
    "\n",
    "        def __call__(self):\n",
    "            print(\"inside my_decorator.__call__()\")\n",
    "\n",
    "    @my_decorator\n",
    "    def aFunction():\n",
    "        print(\"inside aFunction()\")\n",
    "\n",
    "    print(\"Finished decorating aFunction()\")\n",
    "\n",
    "    aFunction()"
   ]
  },
  {
   "cell_type": "code",
   "execution_count": 15,
   "metadata": {},
   "outputs": [
    {
     "data": {
      "text/markdown": [
       "* There is a decorator that does that following\n",
       "\n",
       " * Let's make a simple cell preprocessor that appends the cell index to the cell metadata.\n",
       "\n",
       " * Let's make a simple notebook preprocessor that capitalizes markdown cells."
      ],
      "text/plain": [
       "<IPython.core.display.Markdown object>"
      ]
     },
     "metadata": {},
     "output_type": "display_data"
    }
   ],
   "source": [
    "* There is a decorator that does that following\n",
    "\n",
    " * Let's make a simple cell preprocessor that appends the cell index to the cell metadata.\n",
    "\n",
    " * Let's make a simple notebook preprocessor that capitalizes markdown cells."
   ]
  },
  {
   "cell_type": "code",
   "execution_count": 15,
   "metadata": {},
   "outputs": [
    {
     "data": {
      "text/markdown": [
       "* There is a decorator that does that following\n",
       "\n",
       " * Let's make a simple cell preprocessor that appends the cell index to the cell metadata.\n",
       "\n",
       " * Let's make a simple notebook preprocessor that capitalizes markdown cells."
      ],
      "text/plain": [
       "<IPython.core.display.Markdown object>"
      ]
     },
     "metadata": {},
     "output_type": "display_data"
    }
   ],
   "source": [
    "* There is a decorator that does that following\n",
    "\n",
    " * Let's make a simple cell preprocessor that appends the cell index to the cell metadata.\n",
    "\n",
    " * Let's make a simple notebook preprocessor that capitalizes markdown cells."
   ]
  },
  {
   "cell_type": "code",
   "execution_count": 11,
   "metadata": {},
   "outputs": [
    {
     "data": {
      "text/markdown": [
       "        class SomeNewPreProcessor(Preprocessor): ...\n",
       "        exporter = get_exporter('markdown')(config={\n",
       "            'TemplateExporter': {\n",
       "                'preprocessors': []\n",
       "            }\n",
       "        })"
      ],
      "text/plain": [
       "<IPython.core.display.Markdown object>"
      ]
     },
     "metadata": {},
     "output_type": "display_data"
    }
   ],
   "source": [
    "        exporter = get_exporter('markdown')(config={\n",
    "            'TemplateExporter': {\n",
    "                'preprocessors': []\n",
    "            }\n",
    "        })"
   ]
  },
  {
   "cell_type": "code",
   "execution_count": 14,
   "metadata": {},
   "outputs": [
    {
     "data": {
      "text/markdown": [
       "        print(exporter.from_filename('Untitled55.ipynb')[0])\n",
       "    \n",
       "---"
      ],
      "text/plain": [
       "<IPython.core.display.Markdown object>"
      ]
     },
     "metadata": {},
     "output_type": "display_data"
    },
    {
     "name": "stdout",
     "output_type": "stream",
     "text": [
      "\n",
      "This notebook makes it easier to create preprocessors for __nbconvert__.  These should work on an existing exporter.\n",
      "\n",
      "\n",
      "```python\n",
      "    %load_ext literacy.template\n",
      "```\n",
      "\n",
      "\n",
      "```python\n",
      "        from nbconvert import export, get_exporter\n",
      "```\n",
      "\n",
      "\n",
      "        from nbconvert import export, get_exporter\n",
      "\n",
      "\n",
      "\n",
      "```python\n",
      "        class SomeNewPreProcessor(Preprocessor): ...\n",
      "        exporter = get_exporter('markdown')(config={\n",
      "            'TemplateExporter': {\n",
      "                'preprocessors': []\n",
      "            }\n",
      "        })\n",
      "```\n",
      "\n",
      "\n",
      "        class SomeNewPreProcessor(Preprocessor): ...\n",
      "        exporter = get_exporter('markdown')(config={\n",
      "            'TemplateExporter': {\n",
      "                'preprocessors': []\n",
      "            }\n",
      "        })\n",
      "\n",
      "\n",
      "\n",
      "```python\n",
      "        printexporter.from_filename('Untitled55.ipynb')[0]\n",
      "```\n",
      "\n",
      "\n",
      "        exporter.from_filename('Untitled55.ipynb')\n",
      "\n",
      "\n",
      "\n",
      "\n",
      "\n",
      "    (\"\\nThis notebook makes it easier to create preprocessors for __nbconvert__.  These should work on an existing exporter.\\n\\n\\n```python\\n    %load_ext literacy.template\\n```\\n\\n\\n```python\\n        from nbconvert import export, get_exporter\\n```\\n\\n\\n        from nbconvert import export, get_exporter\\n\\n\\n\\n```python\\n        class SomeNewPreProcessor(Preprocessor): ...\\n        exporter = get_exporter('markdown')(config={\\n            'TemplateExporter': {\\n                'preprocessors': [SomeNewPreProcessor]\\n            }\\n        })\\n```\\n\\n\\n        class SomeNewPreProcessor(Preprocessor): ...\\n        get_exporter('markdown')(config={\\n            'TemplateExporter': {\\n                'preprocessors': [SomeNewPreProcessor]\\n            }\\n        })\\n\\n\\n\\n\\n\\n    <nbconvert.exporters.markdown.MarkdownExporter at 0x112756dd8>\\n\\n\\n\\n\\n```python\\n\\n```\\n\",\n",
      "     ResourcesDict(None,\n",
      "                   {'global_content_filter': {'include_code': True,\n",
      "                     'include_input': True,\n",
      "                     'include_input_prompt': True,\n",
      "                     'include_markdown': True,\n",
      "                     'include_output': True,\n",
      "                     'include_output_prompt': True,\n",
      "                     'include_raw': True,\n",
      "                     'include_unknown': True,\n",
      "                     'no_prompt': False},\n",
      "                    'metadata': ResourcesDict(None,\n",
      "                                  {'modified_date': 'June 25, 2017',\n",
      "                                   'name': 'Untitled55',\n",
      "                                   'path': ''}),\n",
      "                    'output_extension': '.md',\n",
      "                    'outputs': {},\n",
      "                    'raw_mimetypes': ['text/markdown', 'text/html', '']}))\n",
      "\n",
      "\n",
      "\n",
      "\n",
      "```python\n",
      "\n",
      "```\n",
      "\n"
     ]
    }
   ],
   "source": [
    "        print(exporter.from_filename('Untitled55.ipynb')[0])\n",
    "    \n",
    "---"
   ]
  },
  {
   "cell_type": "code",
   "execution_count": null,
   "metadata": {
    "collapsed": true
   },
   "outputs": [],
   "source": []
  }
 ],
 "metadata": {
  "kernelspec": {
   "display_name": "Python 3",
   "language": "python",
   "name": "python3"
  },
  "language_info": {
   "codemirror_mode": {
    "name": "ipython",
    "version": 3
   },
   "file_extension": ".py",
   "mimetype": "text/x-python",
   "name": "python",
   "nbconvert_exporter": "python",
   "pygments_lexer": "ipython3",
   "version": "3.5.3"
  }
 },
 "nbformat": 4,
 "nbformat_minor": 2
}
