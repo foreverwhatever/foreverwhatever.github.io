{
 "cells": [
  {
   "cell_type": "markdown",
   "metadata": {},
   "source": [
    "I want to set multiple inputs in the Jupyter notebook.  \n",
    "\n",
    "### Resources\n",
    "\n",
    "* \"Creating a new notebook cell from within a widget does not work\""
   ]
  },
  {
   "cell_type": "code",
   "execution_count": 1,
   "metadata": {},
   "outputs": [],
   "source": [
    "        %load_ext literacy"
   ]
  },
  {
   "cell_type": "code",
   "execution_count": 4,
   "metadata": {},
   "outputs": [
    {
     "data": {
      "text/markdown": [
       "## Javascript\n",
       "\n",
       "* The <code>next_input</code> is created using the <code>Jupyter</code> Javascript API.\n",
       "\n",
       "        next_input = \"\"\"Jupyter.notebook.insert_cell_below(\n",
       "            \"code\", Jupyter.notebook.get_selected_cells_indices()[0]\n",
       "        ).set_text(atob(\"{}\"))\"\"\".format"
      ],
      "text/plain": [
       "<IPython.core.display.Markdown object>"
      ]
     },
     "metadata": {},
     "output_type": "display_data"
    }
   ],
   "source": [
    "## Javascript\n",
    "\n",
    "* The <code>next_input</code> is created using the <code>Jupyter</code> Javascript API.\n",
    "\n",
    "        next_input = \"\"\"Jupyter.notebook.insert_cell_below(\n",
    "            \"code\", Jupyter.notebook.get_selected_cells_indices()[0]\n",
    "        ).set_text(atob(\"{}\"))\"\"\".format"
   ]
  },
  {
   "cell_type": "code",
   "execution_count": 10,
   "metadata": {},
   "outputs": [
    {
     "data": {
      "text/markdown": [
       "## Python\n",
       "\n",
       "        from IPython.display import Javascript, display\n",
       "        from IPython.utils.py3compat import str_to_bytes, bytes_to_str\n",
       "        from base64 import b64encode\n",
       "\n",
       "Compose the <code>next_input</code> and display the Javascript.\n",
       "        \n",
       "        def display_input(code):\n",
       "            display(Javascript(next_input(bytes_to_str(b64encode(str_to_bytes(code))))))"
      ],
      "text/plain": [
       "<IPython.core.display.Markdown object>"
      ]
     },
     "metadata": {},
     "output_type": "display_data"
    }
   ],
   "source": [
    "## Python\n",
    "\n",
    "        from IPython.display import Javascript, display\n",
    "        from IPython.utils.py3compat import str_to_bytes, bytes_to_str\n",
    "        from base64 import b64encode\n",
    "\n",
    "Compose the <code>next_input</code> and display the Javascript.\n",
    "        \n",
    "        def display_input(code):\n",
    "            display(Javascript(next_input(bytes_to_str(b64encode(str_to_bytes(code))))))"
   ]
  },
  {
   "cell_type": "code",
   "execution_count": null,
   "metadata": {
    "collapsed": true
   },
   "outputs": [],
   "source": [
    "    cp Untitled61.ipynb foreverwhatever.github.io/_notebooks/2017-06-28-Ad"
   ]
  },
  {
   "cell_type": "code",
   "execution_count": 11,
   "metadata": {},
   "outputs": [
    {
     "data": {
      "text/markdown": [
       "        display_input('Set programmatically 💯')\n",
       "        display_input('The computer set this 🐢')"
      ],
      "text/plain": [
       "<IPython.core.display.Markdown object>"
      ]
     },
     "metadata": {},
     "output_type": "display_data"
    },
    {
     "data": {
      "application/javascript": [
       "Jupyter.notebook.insert_cell_below(\n",
       "    \"code\", Jupyter.notebook.get_selected_cells_indices()[0]\n",
       ").set_text(atob(\"U2V0IHByb2dyYW1tYXRpY2FsbHkg8J+Srw==\"))"
      ],
      "text/plain": [
       "<IPython.core.display.Javascript object>"
      ]
     },
     "metadata": {},
     "output_type": "display_data"
    },
    {
     "data": {
      "application/javascript": [
       "Jupyter.notebook.insert_cell_below(\n",
       "    \"code\", Jupyter.notebook.get_selected_cells_indices()[0]\n",
       ").set_text(atob(\"VGhlIGNvbXB1dGVyIHNldCB0aGlzIPCfkKI=\"))"
      ],
      "text/plain": [
       "<IPython.core.display.Javascript object>"
      ]
     },
     "metadata": {},
     "output_type": "display_data"
    }
   ],
   "source": [
    "        display_input('Set programmatically 💯')\n",
    "        display_input('The computer set this 🐢')"
   ]
  },
  {
   "cell_type": "code",
   "execution_count": null,
   "metadata": {
    "collapsed": true
   },
   "outputs": [],
   "source": [
    "The computer set this ð¢"
   ]
  },
  {
   "cell_type": "code",
   "execution_count": null,
   "metadata": {
    "collapsed": true
   },
   "outputs": [],
   "source": [
    "Set programmatically ð¯"
   ]
  }
 ],
 "metadata": {
  "kernelspec": {
   "display_name": "Python 3",
   "language": "python",
   "name": "python3"
  },
  "language_info": {
   "codemirror_mode": {
    "name": "ipython",
    "version": 3
   },
   "file_extension": ".py",
   "mimetype": "text/x-python",
   "name": "python",
   "nbconvert_exporter": "python",
   "pygments_lexer": "ipython3",
   "version": "3.5.3"
  }
 },
 "nbformat": 4,
 "nbformat_minor": 2
}
