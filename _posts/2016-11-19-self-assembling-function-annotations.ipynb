{
 "cells": [
  {
   "cell_type": "markdown",
   "metadata": {},
   "source": [
    "# Self Assembling Function Annotations\n",
    "\n",
    "[PEP 3107]() introduces functions annotations and [PEP 484](https://www.python.org/dev/peps/pep-0484/) discusses semantics for doing so."
   ]
  },
  {
   "cell_type": "code",
   "execution_count": 1,
   "metadata": {
    "collapsed": true
   },
   "outputs": [],
   "source": [
    "from whatever.automaton import build, nx\n",
    "%matplotlib inline"
   ]
  },
  {
   "cell_type": "markdown",
   "metadata": {},
   "source": [
    "## Simple example\n",
    "\n",
    "Below is a simple example of type annotations.  At runtime, an annotated function has a non-empty attribute `__annotations__`."
   ]
  },
  {
   "cell_type": "code",
   "execution_count": 2,
   "metadata": {
    "collapsed": false
   },
   "outputs": [
    {
     "data": {
      "text/plain": [
       "{'name': str, 'return': str}"
      ]
     },
     "execution_count": 2,
     "metadata": {},
     "output_type": "execute_result"
    }
   ],
   "source": [
    "def greeting(name: str) -> str:\n",
    "    return 'Hello ' + name\n",
    "greeting.__annotations__"
   ]
  },
  {
   "cell_type": "markdown",
   "metadata": {},
   "source": [
    "It doesn't seem that there are restrictions annotations."
   ]
  },
  {
   "cell_type": "code",
   "execution_count": 3,
   "metadata": {
    "collapsed": false
   },
   "outputs": [
    {
     "data": {
      "text/plain": [
       "{'name': <function __main__.<lambda>>, 'return': str}"
      ]
     },
     "execution_count": 3,
     "metadata": {},
     "output_type": "execute_result"
    }
   ],
   "source": [
    "def greeting2(name: (lambda x: str.upper(x) if len(x) < 5 else x)) -> str:\n",
    "    return 'Hello ' + name\n",
    "greeting2.__annotations__"
   ]
  },
  {
   "cell_type": "markdown",
   "metadata": {},
   "source": [
    "## Exploiting Annotations\n",
    "\n",
    "> A slick way to require functions.\n",
    "\n",
    "The annotations in the functions below indicate either:\n",
    "\n",
    "* user-provided parameters defined by strings\n",
    "* other function references that must complete before executing the function"
   ]
  },
  {
   "cell_type": "code",
   "execution_count": 4,
   "metadata": {
    "collapsed": true
   },
   "outputs": [],
   "source": [
    "def f(a: 'A'):\n",
    "    return a\n",
    "\n",
    "def g(a: f, b: 'B'):\n",
    "    return a+b\n",
    "\n",
    "def h(a: f, b: g):\n",
    "    return a*b"
   ]
  },
  {
   "cell_type": "markdown",
   "metadata": {},
   "source": [
    "* `f` requires a parameters named `A`\n",
    "* `g` requires `f` to complete and a parameter named `B`\n",
    "* `h` requires `g` and `h` complete before executing."
   ]
  },
  {
   "cell_type": "markdown",
   "metadata": {},
   "source": [
    "## `whatever.automaton`\n",
    "\n",
    "`whatever.automaton.build` composes an in-memory task graph that executes the functions in the appropriate order."
   ]
  },
  {
   "cell_type": "code",
   "execution_count": 5,
   "metadata": {
    "collapsed": true
   },
   "outputs": [],
   "source": [
    "# Compose the higher-order function\n",
    "F = build(f, h, globals()) # F = consume(f, h, IPython.get_ipython().user_ns)"
   ]
  },
  {
   "cell_type": "code",
   "execution_count": 6,
   "metadata": {
    "collapsed": false
   },
   "outputs": [
    {
     "data": {
      "text/plain": [
       "{'<lambda>': {'value': None},\n",
       " 'A': {'value': 32},\n",
       " 'B': {'value': 10},\n",
       " 'f': {'func': <function __main__.f>, 'value': 32},\n",
       " 'g': {'func': <function __main__.g>, 'value': 42},\n",
       " 'greeting': {'func': <function __main__.greeting>, 'value': None},\n",
       " 'greeting2': {'func': <function __main__.greeting2>, 'value': None},\n",
       " 'h': {'func': <function __main__.h>, 'value': 1344},\n",
       " 'str': {'value': None}}"
      ]
     },
     "execution_count": 6,
     "metadata": {},
     "output_type": "execute_result"
    }
   ],
   "source": [
    "F(A=32, B=10).node"
   ]
  },
  {
   "cell_type": "code",
   "execution_count": 7,
   "metadata": {
    "collapsed": false
   },
   "outputs": [
    {
     "data": {
      "text/plain": [
       "{'<lambda>': {'value': None},\n",
       " 'A': {'value': 10},\n",
       " 'B': {'value': 32},\n",
       " 'f': {'func': <function __main__.f>, 'value': 10},\n",
       " 'g': {'func': <function __main__.g>, 'value': 42},\n",
       " 'greeting': {'func': <function __main__.greeting>, 'value': None},\n",
       " 'greeting2': {'func': <function __main__.greeting2>, 'value': None},\n",
       " 'h': {'func': <function __main__.h>, 'value': 420},\n",
       " 'str': {'value': None}}"
      ]
     },
     "execution_count": 7,
     "metadata": {},
     "output_type": "execute_result"
    }
   ],
   "source": [
    "F(A=10, B=32).node"
   ]
  },
  {
   "cell_type": "code",
   "execution_count": 8,
   "metadata": {
    "collapsed": true
   },
   "outputs": [],
   "source": [
    "import IPython.display as display\n",
    "import sklearn.datasets, sklearn.discriminant_analysis, sklearn.metrics\n",
    "from whatever.harness import Harness"
   ]
  },
  {
   "cell_type": "code",
   "execution_count": 9,
   "metadata": {
    "collapsed": true
   },
   "outputs": [],
   "source": [
    "def load(alias: 'ALIAS'):\n",
    "    data = getattr(sklearn.datasets, 'load_'+alias)()\n",
    "    return Harness(\n",
    "        data=data['data'],\n",
    "        index=data['target'],\n",
    "    )"
   ]
  },
  {
   "cell_type": "code",
   "execution_count": 10,
   "metadata": {
    "collapsed": true
   },
   "outputs": [],
   "source": [
    "def model(df: load):\n",
    "    return df.set_params(\n",
    "        estimator=sklearn.discriminant_analysis.LinearDiscriminantAnalysis(),\n",
    "        feature_level=-1,\n",
    "    )"
   ]
  },
  {
   "cell_type": "code",
   "execution_count": 11,
   "metadata": {
    "collapsed": true
   },
   "outputs": [],
   "source": [
    "def fit(df: model, samples: 'SAMPLES'):\n",
    "    df.sample(samples).fit()\n",
    "    return df"
   ]
  },
  {
   "cell_type": "code",
   "execution_count": 12,
   "metadata": {
    "collapsed": true
   },
   "outputs": [],
   "source": [
    "def transform_and_predict(df: fit):\n",
    "    return df.transform().set_index(df.predict()[0].values, append=True)"
   ]
  },
  {
   "cell_type": "code",
   "execution_count": 13,
   "metadata": {
    "collapsed": false
   },
   "outputs": [],
   "source": [
    "def scorer(df: transform_and_predict):\n",
    "    ys = df.index.get_level_values(0), df.index.get_level_values(1)\n",
    "    return sklearn.metrics.classification.accuracy_score(*ys)"
   ]
  },
  {
   "cell_type": "code",
   "execution_count": 14,
   "metadata": {
    "collapsed": false
   },
   "outputs": [],
   "source": [
    "def confuser(df: transform_and_predict):\n",
    "    ys = df.index.get_level_values(0), df.index.get_level_values(1)\n",
    "    return Harness(sklearn.metrics.confusion_matrix(*ys))"
   ]
  },
  {
   "cell_type": "code",
   "execution_count": 15,
   "metadata": {
    "collapsed": false
   },
   "outputs": [],
   "source": [
    "def analyze(score: scorer, confusion: confuser):\n",
    "    return display.display(\n",
    "        display.Markdown(\n",
    "            \"\"\"The score is {}.\"\"\".format(score)\n",
    "        ),\n",
    "        display.Markdown(\n",
    "            \"\"\"### The confusion matrix\"\"\"\n",
    "        ),\n",
    "        display.HTML(confusion.to_html()),\n",
    "    )\n",
    "    "
   ]
  },
  {
   "cell_type": "code",
   "execution_count": 16,
   "metadata": {
    "collapsed": false
   },
   "outputs": [],
   "source": [
    "F = build(load, analyze)"
   ]
  },
  {
   "cell_type": "code",
   "execution_count": 17,
   "metadata": {
    "collapsed": false
   },
   "outputs": [
    {
     "data": {
      "text/markdown": [
       "The score is 0.9666666666666667."
      ],
      "text/plain": [
       "<IPython.core.display.Markdown object>"
      ]
     },
     "metadata": {},
     "output_type": "display_data"
    },
    {
     "data": {
      "text/markdown": [
       "### The confusion matrix"
      ],
      "text/plain": [
       "<IPython.core.display.Markdown object>"
      ]
     },
     "metadata": {},
     "output_type": "display_data"
    },
    {
     "data": {
      "text/html": [
       "<table border=\"1\" class=\"dataframe\">\n",
       "  <thead>\n",
       "    <tr style=\"text-align: right;\">\n",
       "      <th></th>\n",
       "      <th>0</th>\n",
       "      <th>1</th>\n",
       "      <th>2</th>\n",
       "    </tr>\n",
       "  </thead>\n",
       "  <tbody>\n",
       "    <tr>\n",
       "      <th>0</th>\n",
       "      <td>50</td>\n",
       "      <td>0</td>\n",
       "      <td>0</td>\n",
       "    </tr>\n",
       "    <tr>\n",
       "      <th>1</th>\n",
       "      <td>0</td>\n",
       "      <td>49</td>\n",
       "      <td>1</td>\n",
       "    </tr>\n",
       "    <tr>\n",
       "      <th>2</th>\n",
       "      <td>0</td>\n",
       "      <td>4</td>\n",
       "      <td>46</td>\n",
       "    </tr>\n",
       "  </tbody>\n",
       "</table>"
      ],
      "text/plain": [
       "<IPython.core.display.HTML object>"
      ]
     },
     "metadata": {},
     "output_type": "display_data"
    }
   ],
   "source": [
    "F(SAMPLES=20, ALIAS='iris');"
   ]
  },
  {
   "cell_type": "code",
   "execution_count": 18,
   "metadata": {
    "collapsed": false
   },
   "outputs": [
    {
     "data": {
      "text/markdown": [
       "The score is 0.98."
      ],
      "text/plain": [
       "<IPython.core.display.Markdown object>"
      ]
     },
     "metadata": {},
     "output_type": "display_data"
    },
    {
     "data": {
      "text/markdown": [
       "### The confusion matrix"
      ],
      "text/plain": [
       "<IPython.core.display.Markdown object>"
      ]
     },
     "metadata": {},
     "output_type": "display_data"
    },
    {
     "data": {
      "text/html": [
       "<table border=\"1\" class=\"dataframe\">\n",
       "  <thead>\n",
       "    <tr style=\"text-align: right;\">\n",
       "      <th></th>\n",
       "      <th>0</th>\n",
       "      <th>1</th>\n",
       "      <th>2</th>\n",
       "    </tr>\n",
       "  </thead>\n",
       "  <tbody>\n",
       "    <tr>\n",
       "      <th>0</th>\n",
       "      <td>50</td>\n",
       "      <td>0</td>\n",
       "      <td>0</td>\n",
       "    </tr>\n",
       "    <tr>\n",
       "      <th>1</th>\n",
       "      <td>0</td>\n",
       "      <td>48</td>\n",
       "      <td>2</td>\n",
       "    </tr>\n",
       "    <tr>\n",
       "      <th>2</th>\n",
       "      <td>0</td>\n",
       "      <td>1</td>\n",
       "      <td>49</td>\n",
       "    </tr>\n",
       "  </tbody>\n",
       "</table>"
      ],
      "text/plain": [
       "<IPython.core.display.HTML object>"
      ]
     },
     "metadata": {},
     "output_type": "display_data"
    }
   ],
   "source": [
    "F(SAMPLES=100, ALIAS='iris');"
   ]
  },
  {
   "cell_type": "code",
   "execution_count": 19,
   "metadata": {
    "collapsed": false
   },
   "outputs": [
    {
     "data": {
      "image/png": "[encoded data removed]",
      "text/plain": [
       "<matplotlib.figure.Figure at 0x120d84a90>"
      ]
     },
     "metadata": {},
     "output_type": "display_data"
    }
   ],
   "source": [
    "pos = nx.nx_pydot.graphviz_layout(F.args[0])\n",
    "nx.draw(F.args[0], pos)\n",
    "nx.draw_networkx_labels(F.args[0], pos)\n",
    "pass"
   ]
  },
  {
   "cell_type": "code",
   "execution_count": null,
   "metadata": {
    "collapsed": true
   },
   "outputs": [],
   "source": []
  }
 ],
 "metadata": {
  "anaconda-cloud": {},
  "kernelspec": {
   "display_name": "Python [default]",
   "language": "python",
   "name": "python3"
  },
  "language_info": {
   "codemirror_mode": {
    "name": "ipython",
    "version": 3
   },
   "file_extension": ".py",
   "mimetype": "text/x-python",
   "name": "python",
   "nbconvert_exporter": "python",
   "pygments_lexer": "ipython3",
   "version": "3.5.2"
  }
 },
 "nbformat": 4,
 "nbformat_minor": 1
}
