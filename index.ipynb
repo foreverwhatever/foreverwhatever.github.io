{
 "cells": [
  {
   "cell_type": "markdown",
   "metadata": {},
   "source": [
    "<h1 class=\"text-center\"><del><ins><code>forever whatever</code></ins></del><br/>\n",
    "<del><ins><code>whatever forever</code></ins></del></h1>\n",
    "\n",
    "<hr>"
   ]
  },
  {
   "cell_type": "markdown",
   "metadata": {},
   "source": [
    "<h2 class=\"text-center\"><del><code>code</code></del></h2>\n",
    "\n",
    "<hr>"
   ]
  },
  {
   "cell_type": "markdown",
   "metadata": {},
   "source": [
    "\n",
    "<div class=\"container\">\n",
    "<div class=\"row\">\n",
    "{% for post in site.posts %}{% capture post_ %}\n",
    "### [`{{post.title}}`]({{post.url}})\n",
    "\n",
    "<del>{{post.description}}</del>\n",
    "\n",
    "{% endcapture %}\n",
    "<div class=\"col col-md-6\">{{post_ | markdownify}}</div>\n",
    "{% endfor %}\n",
    "</div>\n",
    "</div>"
   ]
  },
  {
   "cell_type": "markdown",
   "metadata": {},
   "source": [
    "<h2 class=\"text-center\"><del><code>drawings</code></del></h2>\n",
    "\n",
    "<hr>"
   ]
  },
  {
   "cell_type": "raw",
   "metadata": {},
   "source": [
    "<style>\n",
    "del:hover {\n",
    "    text-decoration: none;\n",
    "}\n",
    "\n",
    "</style>"
   ]
  },
  {
   "cell_type": "markdown",
   "metadata": {},
   "source": [
    "---"
   ]
  },
  {
   "cell_type": "code",
   "execution_count": 2,
   "metadata": {},
   "outputs": [
    {
     "name": "stdout",
     "output_type": "stream",
     "text": [
      "made with 💙 by tonyfast on\n",
      "---\n",
      "Fri Apr 28 11:13:53 EDT 2017\n",
      "[NbConvertApp] Converting notebook index.ipynb to html\n",
      "Traceback (most recent call last):\n",
      "  File \"/Users/tonyfast/anaconda/bin/jupyter-nbconvert\", line 11, in <module>\n",
      "    load_entry_point('nbconvert==5.1.1', 'console_scripts', 'jupyter-nbconvert')()\n",
      "  File \"/Users/tonyfast/anaconda/lib/python3.5/site-packages/jupyter_core/application.py\", line 267, in launch_instance\n",
      "    return super(JupyterApp, cls).launch_instance(argv=argv, **kwargs)\n",
      "  File \"/Users/tonyfast/anaconda/lib/python3.5/site-packages/traitlets/config/application.py\", line 658, in launch_instance\n",
      "    app.start()\n",
      "  File \"/Users/tonyfast/anaconda/lib/python3.5/site-packages/nbconvert/nbconvertapp.py\", line 305, in start\n",
      "    self.convert_notebooks()\n",
      "  File \"/Users/tonyfast/anaconda/lib/python3.5/site-packages/nbconvert/nbconvertapp.py\", line 473, in convert_notebooks\n",
      "    self.convert_single_notebook(notebook_filename)\n",
      "  File \"/Users/tonyfast/anaconda/lib/python3.5/site-packages/nbconvert/nbconvertapp.py\", line 444, in convert_single_notebook\n",
      "    output, resources = self.export_single_notebook(notebook_filename, resources, input_buffer=input_buffer)\n",
      "  File \"/Users/tonyfast/anaconda/lib/python3.5/site-packages/nbconvert/nbconvertapp.py\", line 373, in export_single_notebook\n",
      "    output, resources = self.exporter.from_filename(notebook_filename, resources=resources)\n",
      "  File \"/Users/tonyfast/anaconda/lib/python3.5/site-packages/nbconvert/exporters/exporter.py\", line 171, in from_filename\n",
      "    return self.from_file(f, resources=resources, **kw)\n",
      "  File \"/Users/tonyfast/anaconda/lib/python3.5/site-packages/nbconvert/exporters/exporter.py\", line 189, in from_file\n",
      "    return self.from_notebook_node(nbformat.read(file_stream, as_version=4), resources=resources, **kw)\n",
      "  File \"/Users/tonyfast/anaconda/lib/python3.5/site-packages/nbconvert/exporters/html.py\", line 69, in from_notebook_node\n",
      "    return super(HTMLExporter, self).from_notebook_node(nb, resources, **kw)\n",
      "  File \"/Users/tonyfast/anaconda/lib/python3.5/site-packages/nbconvert/exporters/templateexporter.py\", line 239, in from_notebook_node\n",
      "    output = self.template.render(nb=nb_copy, resources=resources)\n",
      "  File \"/Users/tonyfast/anaconda/lib/python3.5/site-packages/nbconvert/exporters/templateexporter.py\", line 111, in template\n",
      "    self._template_cached = self._load_template()\n",
      "  File \"/Users/tonyfast/anaconda/lib/python3.5/site-packages/nbconvert/exporters/templateexporter.py\", line 222, in _load_template\n",
      "    return self.environment.get_template(template_file)\n",
      "  File \"/Users/tonyfast/anaconda/lib/python3.5/site-packages/jinja2/environment.py\", line 830, in get_template\n",
      "    return self._load_template(name, self.make_globals(globals))\n",
      "  File \"/Users/tonyfast/anaconda/lib/python3.5/site-packages/jinja2/environment.py\", line 804, in _load_template\n",
      "    template = self.loader.load(self, name, globals)\n",
      "  File \"/Users/tonyfast/anaconda/lib/python3.5/site-packages/jinja2/loaders.py\", line 408, in load\n",
      "    raise TemplateNotFound(name)\n",
      "jinja2.exceptions.TemplateNotFound: ../_includes/jekyll.tpl\n",
      "\n",
      "real\t0m0.930s\n",
      "user\t0m0.822s\n",
      "sys\t0m0.081s\n"
     ]
    }
   ],
   "source": [
    "if __name__ == '__main__':\n",
    "    from _pages.index import sign\n",
    "    sign()\n",
    "\n"
   ]
  }
 ],
 "metadata": {
  "anaconda-cloud": {},
  "kernelspec": {
   "display_name": "Python 3",
   "language": "python",
   "name": "python3"
  },
  "language_info": {
   "codemirror_mode": {
    "name": "ipython",
    "version": 3
   },
   "file_extension": ".py",
   "mimetype": "text/x-python",
   "name": "python",
   "nbconvert_exporter": "python",
   "pygments_lexer": "ipython3",
   "version": "3.5.3"
  },
  "layout": "post"
 },
 "nbformat": 4,
 "nbformat_minor": 1
}
