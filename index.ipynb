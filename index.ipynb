{
 "cells": [
  {
   "cell_type": "markdown",
   "metadata": {},
   "source": [
    "# <del><code>forever whatever</code></del><br/><ins><code>whatever forever</code></ins>\n",
    "\n",
    "<hr>\n",
    "\n",
    "> [github](https://github.com/tonyfast) 🕐 [gists](https://gist.github.com/tonyfast) 🕒\n",
    " [instagram](https://www.instagram.com/docfast/) 🕔  [linkedin](https://www.linkedin.com/in/tonyfast/) 🕣 [twitter](https://twitter.com/DocFast) 🕥 [website repo](https://foreverwhatever.github.io)\n",
    " \n",
    " <hr>"
   ]
  },
  {
   "cell_type": "raw",
   "metadata": {},
   "source": [
    "<div class=\"container\">\n",
    "<div class=\"row col-md-offset-1\">\n",
    "{% for post in site.posts %}{% capture post_ %}\n",
    "### [{{post.title}}]({{post.url}})\n",
    "\n",
    "> {{post.description | markdownify}}\n",
    "\n",
    "{% endcapture %}\n",
    "<div class=\"col col-md-6\">{{post_ | markdownify}}</div>\n",
    "{% endfor %}\n",
    "</div>\n",
    "</div>"
   ]
  },
  {
   "cell_type": "markdown",
   "metadata": {},
   "source": [
    "---"
   ]
  },
  {
   "cell_type": "markdown",
   "metadata": {},
   "source": [
    "        !jupyter nbconvert --to html index.ipynb\n",
    "        !echo \"---\\n---\\n$(cat index.html)\" > index.html"
   ]
  }
 ],
 "metadata": {
  "anaconda-cloud": {},
  "kernelspec": {
   "display_name": "Python 3",
   "language": "python",
   "name": "python3"
  },
  "language_info": {
   "codemirror_mode": {
    "name": "ipython",
    "version": 3
   },
   "file_extension": ".py",
   "mimetype": "text/x-python",
   "name": "python",
   "nbconvert_exporter": "python",
   "pygments_lexer": "ipython3",
   "version": "3.5.3"
  },
  "layout": "post"
 },
 "nbformat": 4,
 "nbformat_minor": 2
}
