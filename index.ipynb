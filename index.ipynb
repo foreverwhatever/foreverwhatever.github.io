{
 "cells": [
  {
   "cell_type": "markdown",
   "metadata": {},
   "source": [
    "<h1 class=\"text-center\"><del><ins><code>forever whatever</code></ins></del><br/>\n",
    "<del><ins><code>whatever forever</code></ins></del></h1>\n",
    "\n",
    "<hr>"
   ]
  },
  {
   "cell_type": "markdown",
   "metadata": {},
   "source": [
    "<h2 class=\"text-center\"><del><code>code</code></del></h2>\n",
    "\n",
    "<hr>"
   ]
  },
  {
   "cell_type": "markdown",
   "metadata": {},
   "source": [
    "\n",
    "<div class=\"container\">\n",
    "<div class=\"row\">\n",
    "{% for post in site.posts %}{% capture post_ %}\n",
    "### [{{post.title}}]({{post.url}})\n",
    "\n",
    "> {{post.description | markdownify}}\n",
    "\n",
    "{% endcapture %}\n",
    "<div class=\"col col-md-6\">{{post_ | markdownify}}</div>\n",
    "{% endfor %}\n",
    "</div>\n",
    "</div>"
   ]
  },
  {
   "cell_type": "raw",
   "metadata": {},
   "source": [
    "<!--style>\n",
    "del:hover {\n",
    "    text-decoration: none;\n",
    "}\n",
    "\n",
    "</style-->"
   ]
  }
 ],
 "metadata": {
  "anaconda-cloud": {},
  "kernelspec": {
   "display_name": "Python 3",
   "language": "python",
   "name": "python3"
  },
  "language_info": {
   "codemirror_mode": {
    "name": "ipython",
    "version": 3
   },
   "file_extension": ".py",
   "mimetype": "text/x-python",
   "name": "python",
   "nbconvert_exporter": "python",
   "pygments_lexer": "ipython3",
   "version": "3.5.3"
  },
  "layout": "post"
 },
 "nbformat": 4,
 "nbformat_minor": 1
}
