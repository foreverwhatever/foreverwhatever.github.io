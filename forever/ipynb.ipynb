{
 "cells": [
  {
   "cell_type": "code",
   "execution_count": 1,
   "metadata": {},
   "outputs": [
    {
     "data": {
      "text/plain": [
       "'> A set of tools for the notebook.  \\n\\n## Import notebooks with\\n\\n\\n        %reload_ext forever.notebook\\n'"
      ]
     },
     "execution_count": 1,
     "metadata": {},
     "output_type": "execute_result"
    }
   ],
   "source": [
    "\"\"\"> A set of tools for the notebook.  \n",
    "\n",
    "## Import notebooks with\n",
    "\n",
    "\n",
    "        %reload_ext forever.notebook\n",
    "\"\"\""
   ]
  },
  {
   "cell_type": "code",
   "execution_count": 2,
   "metadata": {
    "collapsed": true
   },
   "outputs": [],
   "source": [
    "from importlib.util import module_from_spec, spec_from_loader, LazyLoader\n",
    "from importlib.machinery import SourceFileLoader, FileFinder\n",
    "from os import curdir\n",
    "from os.path import exists, extsep, sep\n",
    "from nbconvert import export, get_exporter\n",
    "import nbformat, sys"
   ]
  },
  {
   "cell_type": "code",
   "execution_count": 3,
   "metadata": {
    "collapsed": true
   },
   "outputs": [],
   "source": [
    "class NotebookLoader(SourceFileLoader):\n",
    "    def get_code(self, path):\n",
    "        with open(self.path, 'r') as f:\n",
    "            nb = nbformat.read(f, 4)\n",
    "        return export(get_exporter('script'), nb)[0].encode('utf-8')\n",
    "_NotebookLoader_ = LazyLoader.factory(NotebookLoader)"
   ]
  },
  {
   "cell_type": "code",
   "execution_count": 4,
   "metadata": {
    "collapsed": true
   },
   "outputs": [],
   "source": [
    "class NotebookFinder(object):\n",
    "    def find_spec(self, name, paths, target=None):\n",
    "        \"\"\"Search paths for files matching `<name>.ipynb`.\n",
    "        \"\"\"\n",
    "        for path in paths or [curdir]:\n",
    "            notebook = extsep.join(\n",
    "                [sep.join([path or curdir, name.split('.')[-1]]), 'ipynb'])\n",
    "            if exists(notebook):\n",
    "                spec = spec_from_loader(name, NotebookLoader(name, notebook))\n",
    "                return spec\n",
    "        return None"
   ]
  },
  {
   "cell_type": "code",
   "execution_count": 5,
   "metadata": {
    "collapsed": true
   },
   "outputs": [],
   "source": [
    "def notebook_module(name, path=None, target=None):\n",
    "    path = name + '.ipynb' if not path else path\n",
    "    return module_from_spec(NotebookFinder().find_spec(name, path, target))"
   ]
  },
  {
   "cell_type": "code",
   "execution_count": 6,
   "metadata": {
    "collapsed": true
   },
   "outputs": [],
   "source": [
    "finder = NotebookFinder()\n",
    "hook = FileFinder.path_hook((NotebookLoader, ['.ipynb']))"
   ]
  },
  {
   "cell_type": "code",
   "execution_count": 7,
   "metadata": {
    "collapsed": true
   },
   "outputs": [],
   "source": [
    "def load_ipython_extension(ip=None):\n",
    "    sys.meta_path.append(finder)\n",
    "    sys.path_hooks.append(hook)\n",
    "    sys.path_importer_cache.clear()"
   ]
  },
  {
   "cell_type": "code",
   "execution_count": null,
   "metadata": {
    "collapsed": true
   },
   "outputs": [],
   "source": [
    "def unload_ipython_extension(ip=None):\n",
    "    sys.path_hooks = list(filter(lambda x: x is not hook, sys.path_hooks))\n",
    "    sys.meta_path = list(filter(lambda x: x is not finder, sys.meta_path))\n",
    "    ip.log.warning(sys.modules.keys())\n",
    "    sys.path_importer_cache.clear()"
   ]
  }
 ],
 "metadata": {
  "artifacts": [
   ".py"
  ],
  "kernelspec": {
   "display_name": "Python 3",
   "language": "python",
   "name": "python3"
  },
  "language_info": {
   "codemirror_mode": {
    "name": "ipython",
    "version": 3
   },
   "file_extension": ".py",
   "mimetype": "text/x-python",
   "name": "python",
   "nbconvert_exporter": "python",
   "pygments_lexer": "ipython3",
   "version": "3.5.3"
  },
  "nbconvert": {
   "script": {}
  }
 },
 "nbformat": 4,
 "nbformat_minor": 2
}
